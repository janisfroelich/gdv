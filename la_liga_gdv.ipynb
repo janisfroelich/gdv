{
 "cells": [
  {
   "cell_type": "code",
   "execution_count": 2,
   "metadata": {
    "collapsed": true
   },
   "outputs": [],
   "source": [
    "import pandas as pd\n",
    "import numpy as np\n",
    "import matplotlib.pyplot as plt\n",
    "import seaborn as sns"
   ]
  },
  {
   "cell_type": "code",
   "execution_count": 3,
   "outputs": [],
   "source": [
    "#read csv\n",
    "la_liga = pd.read_csv(\"combined_data_laliga.csv\")"
   ],
   "metadata": {
    "collapsed": false,
    "pycharm": {
     "name": "#%%\n"
    }
   }
  },
  {
   "cell_type": "code",
   "execution_count": 4,
   "outputs": [
    {
     "data": {
      "text/plain": "      Unnamed: 0    Home Team      Away Team Score Half Time Score  \\\n0              0       MÁLAGA       ATHLETIC   1-0             1-0   \n1              1   SEVILLA FC       VALENCIA   1-1             1-0   \n2              2      GRANADA      DEPORTIVO   2-1             0-1   \n3              3      ALMERÍA       ESPANYOL   1-1             0-0   \n4              4        EIBAR  REAL SOCIEDAD   1-0             1-0   \n...          ...          ...            ...   ...             ...   \n2655        2655        EIBAR      BARCELONA   0-1             0-0   \n2656        2656  REAL MADRID     VILLARREAL   2-1             0-1   \n2657        2657      OSASUNA  REAL SOCIEDAD   0-1             0-0   \n2658        2658      GRANADA         GETAFE   0-0             0-0   \n2659        2659   SEVILLA FC         ALAVÉS   1-0             0-0   \n\n      Match Excitement  Home Team Rating  Away Team Rating  \\\n0                  4.4               6.0               5.7   \n1                  4.7               6.5               6.8   \n2                  4.6               7.2               5.9   \n3                  5.6               6.9               5.5   \n4                  3.7               6.5               5.9   \n...                ...               ...               ...   \n2655               3.8               5.8               6.7   \n2656               5.9               6.8               6.0   \n2657               3.1               5.4               7.0   \n2658               2.3               5.6               6.2   \n2659               3.8               6.7               5.9   \n\n      Home Team Possession %  Away Team Possession %  ...  \\\n0                         40                      60  ...   \n1                         47                      53  ...   \n2                         53                      47  ...   \n3                         56                      44  ...   \n4                         41                      59  ...   \n...                      ...                     ...  ...   \n2655                      33                      67  ...   \n2656                      55                      45  ...   \n2657                      43                      57  ...   \n2658                      39                      61  ...   \n2659                      69                      31  ...   \n\n      Away Team Clearances  Away Team Fouls  Away Team Yellow Cards  \\\n0                     14.0              9.0                     3.0   \n1                     16.0              8.0                     2.0   \n2                     14.0             26.0                     3.0   \n3                     20.0              9.0                     3.0   \n4                     20.0             14.0                     1.0   \n...                    ...              ...                     ...   \n2655                  16.0             15.0                     3.0   \n2656                  26.0             13.0                     0.0   \n2657                  18.0              7.0                     0.0   \n2658                  22.0             13.0                     2.0   \n2659                  25.0              8.0                     0.0   \n\n      Away Team Second Yellow Cards  Away Team Red Cards  \\\n0                               0.0                  0.0   \n1                               0.0                  1.0   \n2                               0.0                  0.0   \n3                               1.0                  0.0   \n4                               0.0                  0.0   \n...                             ...                  ...   \n2655                            0.0                  0.0   \n2656                            0.0                  0.0   \n2657                            0.0                  0.0   \n2658                            0.0                  0.0   \n2659                            0.0                  0.0   \n\n      Home Team Goals Scored  Away Team Goals Scored  \\\n0                          1                       0   \n1                          1                       1   \n2                          2                       1   \n3                          1                       1   \n4                          1                       0   \n...                      ...                     ...   \n2655                       0                       1   \n2656                       2                       1   \n2657                       0                       1   \n2658                       0                       0   \n2659                       1                       0   \n\n      Home Team Goals Conceeded  Away Team Goals Conceeded  year  \n0                             0                          1  2014  \n1                             1                          1  2014  \n2                             1                          2  2014  \n3                             1                          1  2014  \n4                             0                          1  2014  \n...                         ...                        ...   ...  \n2655                          1                          0  2020  \n2656                          1                          2  2020  \n2657                          1                          0  2020  \n2658                          0                          0  2020  \n2659                          0                          1  2020  \n\n[2660 rows x 41 columns]",
      "text/html": "<div>\n<style scoped>\n    .dataframe tbody tr th:only-of-type {\n        vertical-align: middle;\n    }\n\n    .dataframe tbody tr th {\n        vertical-align: top;\n    }\n\n    .dataframe thead th {\n        text-align: right;\n    }\n</style>\n<table border=\"1\" class=\"dataframe\">\n  <thead>\n    <tr style=\"text-align: right;\">\n      <th></th>\n      <th>Unnamed: 0</th>\n      <th>Home Team</th>\n      <th>Away Team</th>\n      <th>Score</th>\n      <th>Half Time Score</th>\n      <th>Match Excitement</th>\n      <th>Home Team Rating</th>\n      <th>Away Team Rating</th>\n      <th>Home Team Possession %</th>\n      <th>Away Team Possession %</th>\n      <th>...</th>\n      <th>Away Team Clearances</th>\n      <th>Away Team Fouls</th>\n      <th>Away Team Yellow Cards</th>\n      <th>Away Team Second Yellow Cards</th>\n      <th>Away Team Red Cards</th>\n      <th>Home Team Goals Scored</th>\n      <th>Away Team Goals Scored</th>\n      <th>Home Team Goals Conceeded</th>\n      <th>Away Team Goals Conceeded</th>\n      <th>year</th>\n    </tr>\n  </thead>\n  <tbody>\n    <tr>\n      <th>0</th>\n      <td>0</td>\n      <td>MÁLAGA</td>\n      <td>ATHLETIC</td>\n      <td>1-0</td>\n      <td>1-0</td>\n      <td>4.4</td>\n      <td>6.0</td>\n      <td>5.7</td>\n      <td>40</td>\n      <td>60</td>\n      <td>...</td>\n      <td>14.0</td>\n      <td>9.0</td>\n      <td>3.0</td>\n      <td>0.0</td>\n      <td>0.0</td>\n      <td>1</td>\n      <td>0</td>\n      <td>0</td>\n      <td>1</td>\n      <td>2014</td>\n    </tr>\n    <tr>\n      <th>1</th>\n      <td>1</td>\n      <td>SEVILLA FC</td>\n      <td>VALENCIA</td>\n      <td>1-1</td>\n      <td>1-0</td>\n      <td>4.7</td>\n      <td>6.5</td>\n      <td>6.8</td>\n      <td>47</td>\n      <td>53</td>\n      <td>...</td>\n      <td>16.0</td>\n      <td>8.0</td>\n      <td>2.0</td>\n      <td>0.0</td>\n      <td>1.0</td>\n      <td>1</td>\n      <td>1</td>\n      <td>1</td>\n      <td>1</td>\n      <td>2014</td>\n    </tr>\n    <tr>\n      <th>2</th>\n      <td>2</td>\n      <td>GRANADA</td>\n      <td>DEPORTIVO</td>\n      <td>2-1</td>\n      <td>0-1</td>\n      <td>4.6</td>\n      <td>7.2</td>\n      <td>5.9</td>\n      <td>53</td>\n      <td>47</td>\n      <td>...</td>\n      <td>14.0</td>\n      <td>26.0</td>\n      <td>3.0</td>\n      <td>0.0</td>\n      <td>0.0</td>\n      <td>2</td>\n      <td>1</td>\n      <td>1</td>\n      <td>2</td>\n      <td>2014</td>\n    </tr>\n    <tr>\n      <th>3</th>\n      <td>3</td>\n      <td>ALMERÍA</td>\n      <td>ESPANYOL</td>\n      <td>1-1</td>\n      <td>0-0</td>\n      <td>5.6</td>\n      <td>6.9</td>\n      <td>5.5</td>\n      <td>56</td>\n      <td>44</td>\n      <td>...</td>\n      <td>20.0</td>\n      <td>9.0</td>\n      <td>3.0</td>\n      <td>1.0</td>\n      <td>0.0</td>\n      <td>1</td>\n      <td>1</td>\n      <td>1</td>\n      <td>1</td>\n      <td>2014</td>\n    </tr>\n    <tr>\n      <th>4</th>\n      <td>4</td>\n      <td>EIBAR</td>\n      <td>REAL SOCIEDAD</td>\n      <td>1-0</td>\n      <td>1-0</td>\n      <td>3.7</td>\n      <td>6.5</td>\n      <td>5.9</td>\n      <td>41</td>\n      <td>59</td>\n      <td>...</td>\n      <td>20.0</td>\n      <td>14.0</td>\n      <td>1.0</td>\n      <td>0.0</td>\n      <td>0.0</td>\n      <td>1</td>\n      <td>0</td>\n      <td>0</td>\n      <td>1</td>\n      <td>2014</td>\n    </tr>\n    <tr>\n      <th>...</th>\n      <td>...</td>\n      <td>...</td>\n      <td>...</td>\n      <td>...</td>\n      <td>...</td>\n      <td>...</td>\n      <td>...</td>\n      <td>...</td>\n      <td>...</td>\n      <td>...</td>\n      <td>...</td>\n      <td>...</td>\n      <td>...</td>\n      <td>...</td>\n      <td>...</td>\n      <td>...</td>\n      <td>...</td>\n      <td>...</td>\n      <td>...</td>\n      <td>...</td>\n      <td>...</td>\n    </tr>\n    <tr>\n      <th>2655</th>\n      <td>2655</td>\n      <td>EIBAR</td>\n      <td>BARCELONA</td>\n      <td>0-1</td>\n      <td>0-0</td>\n      <td>3.8</td>\n      <td>5.8</td>\n      <td>6.7</td>\n      <td>33</td>\n      <td>67</td>\n      <td>...</td>\n      <td>16.0</td>\n      <td>15.0</td>\n      <td>3.0</td>\n      <td>0.0</td>\n      <td>0.0</td>\n      <td>0</td>\n      <td>1</td>\n      <td>1</td>\n      <td>0</td>\n      <td>2020</td>\n    </tr>\n    <tr>\n      <th>2656</th>\n      <td>2656</td>\n      <td>REAL MADRID</td>\n      <td>VILLARREAL</td>\n      <td>2-1</td>\n      <td>0-1</td>\n      <td>5.9</td>\n      <td>6.8</td>\n      <td>6.0</td>\n      <td>55</td>\n      <td>45</td>\n      <td>...</td>\n      <td>26.0</td>\n      <td>13.0</td>\n      <td>0.0</td>\n      <td>0.0</td>\n      <td>0.0</td>\n      <td>2</td>\n      <td>1</td>\n      <td>1</td>\n      <td>2</td>\n      <td>2020</td>\n    </tr>\n    <tr>\n      <th>2657</th>\n      <td>2657</td>\n      <td>OSASUNA</td>\n      <td>REAL SOCIEDAD</td>\n      <td>0-1</td>\n      <td>0-0</td>\n      <td>3.1</td>\n      <td>5.4</td>\n      <td>7.0</td>\n      <td>43</td>\n      <td>57</td>\n      <td>...</td>\n      <td>18.0</td>\n      <td>7.0</td>\n      <td>0.0</td>\n      <td>0.0</td>\n      <td>0.0</td>\n      <td>0</td>\n      <td>1</td>\n      <td>1</td>\n      <td>0</td>\n      <td>2020</td>\n    </tr>\n    <tr>\n      <th>2658</th>\n      <td>2658</td>\n      <td>GRANADA</td>\n      <td>GETAFE</td>\n      <td>0-0</td>\n      <td>0-0</td>\n      <td>2.3</td>\n      <td>5.6</td>\n      <td>6.2</td>\n      <td>39</td>\n      <td>61</td>\n      <td>...</td>\n      <td>22.0</td>\n      <td>13.0</td>\n      <td>2.0</td>\n      <td>0.0</td>\n      <td>0.0</td>\n      <td>0</td>\n      <td>0</td>\n      <td>0</td>\n      <td>0</td>\n      <td>2020</td>\n    </tr>\n    <tr>\n      <th>2659</th>\n      <td>2659</td>\n      <td>SEVILLA FC</td>\n      <td>ALAVÉS</td>\n      <td>1-0</td>\n      <td>0-0</td>\n      <td>3.8</td>\n      <td>6.7</td>\n      <td>5.9</td>\n      <td>69</td>\n      <td>31</td>\n      <td>...</td>\n      <td>25.0</td>\n      <td>8.0</td>\n      <td>0.0</td>\n      <td>0.0</td>\n      <td>0.0</td>\n      <td>1</td>\n      <td>0</td>\n      <td>0</td>\n      <td>1</td>\n      <td>2020</td>\n    </tr>\n  </tbody>\n</table>\n<p>2660 rows × 41 columns</p>\n</div>"
     },
     "execution_count": 4,
     "metadata": {},
     "output_type": "execute_result"
    }
   ],
   "source": [
    "la_liga"
   ],
   "metadata": {
    "collapsed": false,
    "pycharm": {
     "name": "#%%\n"
    }
   }
  },
  {
   "cell_type": "code",
   "execution_count": 5,
   "outputs": [
    {
     "data": {
      "text/plain": "Unnamed: 0                         int64\nHome Team                         object\nAway Team                         object\nScore                             object\nHalf Time Score                   object\nMatch Excitement                 float64\nHome Team Rating                 float64\nAway Team Rating                 float64\nHome Team Possession %             int64\nAway Team Possession %             int64\nHome Team Off Target Shots       float64\nHome Team On Target Shots        float64\nHome Team Total Shots            float64\nHome Team Blocked Shots          float64\nHome Team Corners                float64\nHome Team Throw Ins              float64\nHome Team Pass Success %         float64\nHome Team Aerials Won            float64\nHome Team Clearances             float64\nHome Team Fouls                  float64\nHome Team Yellow Cards           float64\nHome Team Second Yellow Cards    float64\nHome Team Red Cards              float64\nAway Team Off Target Shots       float64\nAway Team On Target Shots        float64\nAway Team Total Shots            float64\nAway Team Blocked Shots          float64\nAway Team Corners                float64\nAway Team Throw Ins              float64\nAway Team Pass Success %         float64\nAway Team Aerials Won            float64\nAway Team Clearances             float64\nAway Team Fouls                  float64\nAway Team Yellow Cards           float64\nAway Team Second Yellow Cards    float64\nAway Team Red Cards              float64\nHome Team Goals Scored             int64\nAway Team Goals Scored             int64\nHome Team Goals Conceeded          int64\nAway Team Goals Conceeded          int64\nyear                               int64\ndtype: object"
     },
     "execution_count": 5,
     "metadata": {},
     "output_type": "execute_result"
    }
   ],
   "source": [
    "la_liga.dtypes"
   ],
   "metadata": {
    "collapsed": false,
    "pycharm": {
     "name": "#%%\n"
    }
   }
  },
  {
   "cell_type": "code",
   "execution_count": 6,
   "outputs": [],
   "source": [
    "#Remove score\n",
    "la_liga = la_liga.drop(columns=[\"Score\", \"Home Team Goals Conceeded\", \"Away Team Goals Conceeded\", \"Unnamed: 0\"])"
   ],
   "metadata": {
    "collapsed": false,
    "pycharm": {
     "name": "#%%\n"
    }
   }
  },
  {
   "cell_type": "code",
   "execution_count": 7,
   "outputs": [
    {
     "name": "stderr",
     "output_type": "stream",
     "text": [
      "/var/folders/f0/pqy2clvx0nv38xm_npv8fklm0000gn/T/ipykernel_3415/2555303837.py:6: SettingWithCopyWarning: \n",
      "A value is trying to be set on a copy of a slice from a DataFrame\n",
      "\n",
      "See the caveats in the documentation: https://pandas.pydata.org/pandas-docs/stable/user_guide/indexing.html#returning-a-view-versus-a-copy\n",
      "  la_liga[\"Half Time Score\"][i] = la_liga[\"Half Time Score\"][i].split(\"-\")\n",
      "/var/folders/f0/pqy2clvx0nv38xm_npv8fklm0000gn/T/ipykernel_3415/2555303837.py:7: SettingWithCopyWarning: \n",
      "A value is trying to be set on a copy of a slice from a DataFrame\n",
      "\n",
      "See the caveats in the documentation: https://pandas.pydata.org/pandas-docs/stable/user_guide/indexing.html#returning-a-view-versus-a-copy\n",
      "  la_liga[\"Home Team Goals ht\"][i] = int(la_liga[\"Half Time Score\"][i][0])\n",
      "/var/folders/f0/pqy2clvx0nv38xm_npv8fklm0000gn/T/ipykernel_3415/2555303837.py:8: SettingWithCopyWarning: \n",
      "A value is trying to be set on a copy of a slice from a DataFrame\n",
      "\n",
      "See the caveats in the documentation: https://pandas.pydata.org/pandas-docs/stable/user_guide/indexing.html#returning-a-view-versus-a-copy\n",
      "  la_liga[\"Away Team Goals ht\"][i] = int(la_liga[\"Half Time Score\"][i][1])\n"
     ]
    }
   ],
   "source": [
    "for i in range(len(la_liga)):\n",
    "    la_liga[\"Home Team Goals ht\"] = 0\n",
    "    la_liga[\"Away Team Goals ht\"] = 0\n",
    "\n",
    "for i in range(len(la_liga)):\n",
    "    la_liga[\"Half Time Score\"][i] = la_liga[\"Half Time Score\"][i].split(\"-\")\n",
    "    la_liga[\"Home Team Goals ht\"][i] = int(la_liga[\"Half Time Score\"][i][0])\n",
    "    la_liga[\"Away Team Goals ht\"][i] = int(la_liga[\"Half Time Score\"][i][1])"
   ],
   "metadata": {
    "collapsed": false,
    "pycharm": {
     "name": "#%%\n"
    }
   }
  },
  {
   "cell_type": "code",
   "execution_count": 8,
   "outputs": [
    {
     "data": {
      "text/plain": "    Home Team      Away Team Half Time Score  Match Excitement  \\\n0      MÁLAGA       ATHLETIC          [1, 0]               4.4   \n1  SEVILLA FC       VALENCIA          [1, 0]               4.7   \n2     GRANADA      DEPORTIVO          [0, 1]               4.6   \n3     ALMERÍA       ESPANYOL          [0, 0]               5.6   \n4       EIBAR  REAL SOCIEDAD          [1, 0]               3.7   \n\n   Home Team Rating  Away Team Rating  Home Team Possession %  \\\n0               6.0               5.7                      40   \n1               6.5               6.8                      47   \n2               7.2               5.9                      53   \n3               6.9               5.5                      56   \n4               6.5               5.9                      41   \n\n   Away Team Possession %  Home Team Off Target Shots  \\\n0                      60                         5.0   \n1                      53                         4.0   \n2                      47                         6.0   \n3                      44                         7.0   \n4                      59                         5.0   \n\n   Home Team On Target Shots  ...  Away Team Clearances  Away Team Fouls  \\\n0                        3.0  ...                  14.0              9.0   \n1                        3.0  ...                  16.0              8.0   \n2                        3.0  ...                  14.0             26.0   \n3                        6.0  ...                  20.0              9.0   \n4                        5.0  ...                  20.0             14.0   \n\n   Away Team Yellow Cards  Away Team Second Yellow Cards  Away Team Red Cards  \\\n0                     3.0                            0.0                  0.0   \n1                     2.0                            0.0                  1.0   \n2                     3.0                            0.0                  0.0   \n3                     3.0                            1.0                  0.0   \n4                     1.0                            0.0                  0.0   \n\n   Home Team Goals Scored  Away Team Goals Scored  year  Home Team Goals ht  \\\n0                       1                       0  2014                   1   \n1                       1                       1  2014                   1   \n2                       2                       1  2014                   0   \n3                       1                       1  2014                   0   \n4                       1                       0  2014                   1   \n\n   Away Team Goals ht  \n0                   0  \n1                   0  \n2                   1  \n3                   0  \n4                   0  \n\n[5 rows x 39 columns]",
      "text/html": "<div>\n<style scoped>\n    .dataframe tbody tr th:only-of-type {\n        vertical-align: middle;\n    }\n\n    .dataframe tbody tr th {\n        vertical-align: top;\n    }\n\n    .dataframe thead th {\n        text-align: right;\n    }\n</style>\n<table border=\"1\" class=\"dataframe\">\n  <thead>\n    <tr style=\"text-align: right;\">\n      <th></th>\n      <th>Home Team</th>\n      <th>Away Team</th>\n      <th>Half Time Score</th>\n      <th>Match Excitement</th>\n      <th>Home Team Rating</th>\n      <th>Away Team Rating</th>\n      <th>Home Team Possession %</th>\n      <th>Away Team Possession %</th>\n      <th>Home Team Off Target Shots</th>\n      <th>Home Team On Target Shots</th>\n      <th>...</th>\n      <th>Away Team Clearances</th>\n      <th>Away Team Fouls</th>\n      <th>Away Team Yellow Cards</th>\n      <th>Away Team Second Yellow Cards</th>\n      <th>Away Team Red Cards</th>\n      <th>Home Team Goals Scored</th>\n      <th>Away Team Goals Scored</th>\n      <th>year</th>\n      <th>Home Team Goals ht</th>\n      <th>Away Team Goals ht</th>\n    </tr>\n  </thead>\n  <tbody>\n    <tr>\n      <th>0</th>\n      <td>MÁLAGA</td>\n      <td>ATHLETIC</td>\n      <td>[1, 0]</td>\n      <td>4.4</td>\n      <td>6.0</td>\n      <td>5.7</td>\n      <td>40</td>\n      <td>60</td>\n      <td>5.0</td>\n      <td>3.0</td>\n      <td>...</td>\n      <td>14.0</td>\n      <td>9.0</td>\n      <td>3.0</td>\n      <td>0.0</td>\n      <td>0.0</td>\n      <td>1</td>\n      <td>0</td>\n      <td>2014</td>\n      <td>1</td>\n      <td>0</td>\n    </tr>\n    <tr>\n      <th>1</th>\n      <td>SEVILLA FC</td>\n      <td>VALENCIA</td>\n      <td>[1, 0]</td>\n      <td>4.7</td>\n      <td>6.5</td>\n      <td>6.8</td>\n      <td>47</td>\n      <td>53</td>\n      <td>4.0</td>\n      <td>3.0</td>\n      <td>...</td>\n      <td>16.0</td>\n      <td>8.0</td>\n      <td>2.0</td>\n      <td>0.0</td>\n      <td>1.0</td>\n      <td>1</td>\n      <td>1</td>\n      <td>2014</td>\n      <td>1</td>\n      <td>0</td>\n    </tr>\n    <tr>\n      <th>2</th>\n      <td>GRANADA</td>\n      <td>DEPORTIVO</td>\n      <td>[0, 1]</td>\n      <td>4.6</td>\n      <td>7.2</td>\n      <td>5.9</td>\n      <td>53</td>\n      <td>47</td>\n      <td>6.0</td>\n      <td>3.0</td>\n      <td>...</td>\n      <td>14.0</td>\n      <td>26.0</td>\n      <td>3.0</td>\n      <td>0.0</td>\n      <td>0.0</td>\n      <td>2</td>\n      <td>1</td>\n      <td>2014</td>\n      <td>0</td>\n      <td>1</td>\n    </tr>\n    <tr>\n      <th>3</th>\n      <td>ALMERÍA</td>\n      <td>ESPANYOL</td>\n      <td>[0, 0]</td>\n      <td>5.6</td>\n      <td>6.9</td>\n      <td>5.5</td>\n      <td>56</td>\n      <td>44</td>\n      <td>7.0</td>\n      <td>6.0</td>\n      <td>...</td>\n      <td>20.0</td>\n      <td>9.0</td>\n      <td>3.0</td>\n      <td>1.0</td>\n      <td>0.0</td>\n      <td>1</td>\n      <td>1</td>\n      <td>2014</td>\n      <td>0</td>\n      <td>0</td>\n    </tr>\n    <tr>\n      <th>4</th>\n      <td>EIBAR</td>\n      <td>REAL SOCIEDAD</td>\n      <td>[1, 0]</td>\n      <td>3.7</td>\n      <td>6.5</td>\n      <td>5.9</td>\n      <td>41</td>\n      <td>59</td>\n      <td>5.0</td>\n      <td>5.0</td>\n      <td>...</td>\n      <td>20.0</td>\n      <td>14.0</td>\n      <td>1.0</td>\n      <td>0.0</td>\n      <td>0.0</td>\n      <td>1</td>\n      <td>0</td>\n      <td>2014</td>\n      <td>1</td>\n      <td>0</td>\n    </tr>\n  </tbody>\n</table>\n<p>5 rows × 39 columns</p>\n</div>"
     },
     "execution_count": 8,
     "metadata": {},
     "output_type": "execute_result"
    }
   ],
   "source": [
    "la_liga.head()"
   ],
   "metadata": {
    "collapsed": false,
    "pycharm": {
     "name": "#%%\n"
    }
   }
  },
  {
   "cell_type": "code",
   "execution_count": 129,
   "outputs": [
    {
     "data": {
      "text/plain": "(0.0, 11.0)"
     },
     "execution_count": 129,
     "metadata": {},
     "output_type": "execute_result"
    },
    {
     "data": {
      "text/plain": "<Figure size 432x288 with 1 Axes>",
      "image/png": "[encoded data removed]"
     },
     "metadata": {
      "needs_background": "light"
     },
     "output_type": "display_data"
    }
   ],
   "source": [
    "sns.boxplot(x=\"Home Team Rating\", data=la_liga)\n",
    "plt.xlim(0, 11)"
   ],
   "metadata": {
    "collapsed": false,
    "pycharm": {
     "name": "#%%\n"
    }
   }
  },
  {
   "cell_type": "code",
   "execution_count": 127,
   "outputs": [
    {
     "name": "stderr",
     "output_type": "stream",
     "text": [
      "/Users/janisfrolich/opt/anaconda3/lib/python3.9/site-packages/seaborn/distributions.py:2619: FutureWarning: `distplot` is a deprecated function and will be removed in a future version. Please adapt your code to use either `displot` (a figure-level function with similar flexibility) or `histplot` (an axes-level function for histograms).\n",
      "  warnings.warn(msg, FutureWarning)\n"
     ]
    },
    {
     "data": {
      "text/plain": "<Figure size 432x288 with 1 Axes>",
      "image/png": "[encoded data removed]"
     },
     "metadata": {
      "needs_background": "light"
     },
     "output_type": "display_data"
    }
   ],
   "source": [
    "sns.distplot(la_liga[\"Home Team Rating\"])\n",
    "plt.show()"
   ],
   "metadata": {
    "collapsed": false,
    "pycharm": {
     "name": "#%%\n"
    }
   }
  },
  {
   "cell_type": "code",
   "execution_count": 10,
   "outputs": [],
   "source": [
    "la_liga = la_liga.drop(columns=\"Half Time Score\")"
   ],
   "metadata": {
    "collapsed": false,
    "pycharm": {
     "name": "#%%\n"
    }
   }
  },
  {
   "cell_type": "code",
   "execution_count": 11,
   "outputs": [
    {
     "data": {
      "text/plain": "    Home Team      Away Team  Match Excitement  Home Team Rating  \\\n0      MÁLAGA       ATHLETIC               4.4               6.0   \n1  SEVILLA FC       VALENCIA               4.7               6.5   \n2     GRANADA      DEPORTIVO               4.6               7.2   \n3     ALMERÍA       ESPANYOL               5.6               6.9   \n4       EIBAR  REAL SOCIEDAD               3.7               6.5   \n\n   Away Team Rating  Home Team Possession %  Away Team Possession %  \\\n0               5.7                      40                      60   \n1               6.8                      47                      53   \n2               5.9                      53                      47   \n3               5.5                      56                      44   \n4               5.9                      41                      59   \n\n   Home Team Off Target Shots  Home Team On Target Shots  \\\n0                         5.0                        3.0   \n1                         4.0                        3.0   \n2                         6.0                        3.0   \n3                         7.0                        6.0   \n4                         5.0                        5.0   \n\n   Home Team Total Shots  ...  Away Team Clearances  Away Team Fouls  \\\n0                   12.0  ...                  14.0              9.0   \n1                   12.0  ...                  16.0              8.0   \n2                   10.0  ...                  14.0             26.0   \n3                   19.0  ...                  20.0              9.0   \n4                   12.0  ...                  20.0             14.0   \n\n   Away Team Yellow Cards  Away Team Second Yellow Cards  Away Team Red Cards  \\\n0                     3.0                            0.0                  0.0   \n1                     2.0                            0.0                  1.0   \n2                     3.0                            0.0                  0.0   \n3                     3.0                            1.0                  0.0   \n4                     1.0                            0.0                  0.0   \n\n   Home Team Goals Scored  Away Team Goals Scored  year  Home Team Goals ht  \\\n0                       1                       0  2014                   1   \n1                       1                       1  2014                   1   \n2                       2                       1  2014                   0   \n3                       1                       1  2014                   0   \n4                       1                       0  2014                   1   \n\n   Away Team Goals ht  \n0                   0  \n1                   0  \n2                   1  \n3                   0  \n4                   0  \n\n[5 rows x 38 columns]",
      "text/html": "<div>\n<style scoped>\n    .dataframe tbody tr th:only-of-type {\n        vertical-align: middle;\n    }\n\n    .dataframe tbody tr th {\n        vertical-align: top;\n    }\n\n    .dataframe thead th {\n        text-align: right;\n    }\n</style>\n<table border=\"1\" class=\"dataframe\">\n  <thead>\n    <tr style=\"text-align: right;\">\n      <th></th>\n      <th>Home Team</th>\n      <th>Away Team</th>\n      <th>Match Excitement</th>\n      <th>Home Team Rating</th>\n      <th>Away Team Rating</th>\n      <th>Home Team Possession %</th>\n      <th>Away Team Possession %</th>\n      <th>Home Team Off Target Shots</th>\n      <th>Home Team On Target Shots</th>\n      <th>Home Team Total Shots</th>\n      <th>...</th>\n      <th>Away Team Clearances</th>\n      <th>Away Team Fouls</th>\n      <th>Away Team Yellow Cards</th>\n      <th>Away Team Second Yellow Cards</th>\n      <th>Away Team Red Cards</th>\n      <th>Home Team Goals Scored</th>\n      <th>Away Team Goals Scored</th>\n      <th>year</th>\n      <th>Home Team Goals ht</th>\n      <th>Away Team Goals ht</th>\n    </tr>\n  </thead>\n  <tbody>\n    <tr>\n      <th>0</th>\n      <td>MÁLAGA</td>\n      <td>ATHLETIC</td>\n      <td>4.4</td>\n      <td>6.0</td>\n      <td>5.7</td>\n      <td>40</td>\n      <td>60</td>\n      <td>5.0</td>\n      <td>3.0</td>\n      <td>12.0</td>\n      <td>...</td>\n      <td>14.0</td>\n      <td>9.0</td>\n      <td>3.0</td>\n      <td>0.0</td>\n      <td>0.0</td>\n      <td>1</td>\n      <td>0</td>\n      <td>2014</td>\n      <td>1</td>\n      <td>0</td>\n    </tr>\n    <tr>\n      <th>1</th>\n      <td>SEVILLA FC</td>\n      <td>VALENCIA</td>\n      <td>4.7</td>\n      <td>6.5</td>\n      <td>6.8</td>\n      <td>47</td>\n      <td>53</td>\n      <td>4.0</td>\n      <td>3.0</td>\n      <td>12.0</td>\n      <td>...</td>\n      <td>16.0</td>\n      <td>8.0</td>\n      <td>2.0</td>\n      <td>0.0</td>\n      <td>1.0</td>\n      <td>1</td>\n      <td>1</td>\n      <td>2014</td>\n      <td>1</td>\n      <td>0</td>\n    </tr>\n    <tr>\n      <th>2</th>\n      <td>GRANADA</td>\n      <td>DEPORTIVO</td>\n      <td>4.6</td>\n      <td>7.2</td>\n      <td>5.9</td>\n      <td>53</td>\n      <td>47</td>\n      <td>6.0</td>\n      <td>3.0</td>\n      <td>10.0</td>\n      <td>...</td>\n      <td>14.0</td>\n      <td>26.0</td>\n      <td>3.0</td>\n      <td>0.0</td>\n      <td>0.0</td>\n      <td>2</td>\n      <td>1</td>\n      <td>2014</td>\n      <td>0</td>\n      <td>1</td>\n    </tr>\n    <tr>\n      <th>3</th>\n      <td>ALMERÍA</td>\n      <td>ESPANYOL</td>\n      <td>5.6</td>\n      <td>6.9</td>\n      <td>5.5</td>\n      <td>56</td>\n      <td>44</td>\n      <td>7.0</td>\n      <td>6.0</td>\n      <td>19.0</td>\n      <td>...</td>\n      <td>20.0</td>\n      <td>9.0</td>\n      <td>3.0</td>\n      <td>1.0</td>\n      <td>0.0</td>\n      <td>1</td>\n      <td>1</td>\n      <td>2014</td>\n      <td>0</td>\n      <td>0</td>\n    </tr>\n    <tr>\n      <th>4</th>\n      <td>EIBAR</td>\n      <td>REAL SOCIEDAD</td>\n      <td>3.7</td>\n      <td>6.5</td>\n      <td>5.9</td>\n      <td>41</td>\n      <td>59</td>\n      <td>5.0</td>\n      <td>5.0</td>\n      <td>12.0</td>\n      <td>...</td>\n      <td>20.0</td>\n      <td>14.0</td>\n      <td>1.0</td>\n      <td>0.0</td>\n      <td>0.0</td>\n      <td>1</td>\n      <td>0</td>\n      <td>2014</td>\n      <td>1</td>\n      <td>0</td>\n    </tr>\n  </tbody>\n</table>\n<p>5 rows × 38 columns</p>\n</div>"
     },
     "execution_count": 11,
     "metadata": {},
     "output_type": "execute_result"
    }
   ],
   "source": [
    "la_liga.head()"
   ],
   "metadata": {
    "collapsed": false,
    "pycharm": {
     "name": "#%%\n"
    }
   }
  },
  {
   "cell_type": "code",
   "execution_count": 12,
   "outputs": [
    {
     "data": {
      "text/plain": "Home Team                        0\nAway Team                        0\nMatch Excitement                 0\nHome Team Rating                 0\nAway Team Rating                 0\nHome Team Possession %           0\nAway Team Possession %           0\nHome Team Off Target Shots       0\nHome Team On Target Shots        0\nHome Team Total Shots            0\nHome Team Blocked Shots          0\nHome Team Corners                0\nHome Team Throw Ins              0\nHome Team Pass Success %         0\nHome Team Aerials Won            0\nHome Team Clearances             0\nHome Team Fouls                  0\nHome Team Yellow Cards           0\nHome Team Second Yellow Cards    0\nHome Team Red Cards              0\nAway Team Off Target Shots       0\nAway Team On Target Shots        0\nAway Team Total Shots            0\nAway Team Blocked Shots          0\nAway Team Corners                0\nAway Team Throw Ins              0\nAway Team Pass Success %         0\nAway Team Aerials Won            0\nAway Team Clearances             0\nAway Team Fouls                  0\nAway Team Yellow Cards           0\nAway Team Second Yellow Cards    0\nAway Team Red Cards              0\nHome Team Goals Scored           0\nAway Team Goals Scored           0\nyear                             0\nHome Team Goals ht               0\nAway Team Goals ht               0\ndtype: int64"
     },
     "execution_count": 12,
     "metadata": {},
     "output_type": "execute_result"
    }
   ],
   "source": [
    "#check for NaN\n",
    "la_liga.isnull().sum()"
   ],
   "metadata": {
    "collapsed": false,
    "pycharm": {
     "name": "#%%\n"
    }
   }
  },
  {
   "cell_type": "code",
   "execution_count": 13,
   "outputs": [
    {
     "data": {
      "text/plain": "0"
     },
     "execution_count": 13,
     "metadata": {},
     "output_type": "execute_result"
    }
   ],
   "source": [
    "#check for duplicated\n",
    "la_liga.duplicated().sum()"
   ],
   "metadata": {
    "collapsed": false,
    "pycharm": {
     "name": "#%%\n"
    }
   }
  },
  {
   "cell_type": "code",
   "execution_count": 14,
   "outputs": [
    {
     "name": "stderr",
     "output_type": "stream",
     "text": [
      "/var/folders/f0/pqy2clvx0nv38xm_npv8fklm0000gn/T/ipykernel_3415/4090481898.py:12: SettingWithCopyWarning: \n",
      "A value is trying to be set on a copy of a slice from a DataFrame\n",
      "\n",
      "See the caveats in the documentation: https://pandas.pydata.org/pandas-docs/stable/user_guide/indexing.html#returning-a-view-versus-a-copy\n",
      "  la_liga[\"Home Team Result\"][i] += 3\n",
      "/var/folders/f0/pqy2clvx0nv38xm_npv8fklm0000gn/T/ipykernel_3415/4090481898.py:13: SettingWithCopyWarning: \n",
      "A value is trying to be set on a copy of a slice from a DataFrame\n",
      "\n",
      "See the caveats in the documentation: https://pandas.pydata.org/pandas-docs/stable/user_guide/indexing.html#returning-a-view-versus-a-copy\n",
      "  la_liga[\"Away Team Result\"][i] += 0\n",
      "/var/folders/f0/pqy2clvx0nv38xm_npv8fklm0000gn/T/ipykernel_3415/4090481898.py:9: SettingWithCopyWarning: \n",
      "A value is trying to be set on a copy of a slice from a DataFrame\n",
      "\n",
      "See the caveats in the documentation: https://pandas.pydata.org/pandas-docs/stable/user_guide/indexing.html#returning-a-view-versus-a-copy\n",
      "  la_liga[\"Home Team Result\"][i] += 1\n",
      "/var/folders/f0/pqy2clvx0nv38xm_npv8fklm0000gn/T/ipykernel_3415/4090481898.py:10: SettingWithCopyWarning: \n",
      "A value is trying to be set on a copy of a slice from a DataFrame\n",
      "\n",
      "See the caveats in the documentation: https://pandas.pydata.org/pandas-docs/stable/user_guide/indexing.html#returning-a-view-versus-a-copy\n",
      "  la_liga[\"Away Team Result\"][i] += 1\n",
      "/var/folders/f0/pqy2clvx0nv38xm_npv8fklm0000gn/T/ipykernel_3415/4090481898.py:6: SettingWithCopyWarning: \n",
      "A value is trying to be set on a copy of a slice from a DataFrame\n",
      "\n",
      "See the caveats in the documentation: https://pandas.pydata.org/pandas-docs/stable/user_guide/indexing.html#returning-a-view-versus-a-copy\n",
      "  la_liga[\"Home Team Result\"][i] += 0\n",
      "/var/folders/f0/pqy2clvx0nv38xm_npv8fklm0000gn/T/ipykernel_3415/4090481898.py:7: SettingWithCopyWarning: \n",
      "A value is trying to be set on a copy of a slice from a DataFrame\n",
      "\n",
      "See the caveats in the documentation: https://pandas.pydata.org/pandas-docs/stable/user_guide/indexing.html#returning-a-view-versus-a-copy\n",
      "  la_liga[\"Away Team Result\"][i] += 3\n"
     ]
    }
   ],
   "source": [
    "for n in range(len(la_liga)):\n",
    "    la_liga[\"Home Team Result\"] = 0\n",
    "    la_liga[\"Away Team Result\"] = 0\n",
    "for i in range(len(la_liga)):\n",
    "    if la_liga[\"Home Team Goals Scored\"][i] < la_liga[\"Away Team Goals Scored\"][i]:\n",
    "        la_liga[\"Home Team Result\"][i] += 0\n",
    "        la_liga[\"Away Team Result\"][i] += 3\n",
    "    elif la_liga[\"Home Team Goals Scored\"][i] == la_liga[\"Away Team Goals Scored\"][i]:\n",
    "        la_liga[\"Home Team Result\"][i] += 1\n",
    "        la_liga[\"Away Team Result\"][i] += 1\n",
    "    else:\n",
    "        la_liga[\"Home Team Result\"][i] += 3\n",
    "        la_liga[\"Away Team Result\"][i] += 0\n"
   ],
   "metadata": {
    "collapsed": false,
    "pycharm": {
     "name": "#%%\n"
    }
   }
  },
  {
   "cell_type": "code",
   "execution_count": 15,
   "outputs": [
    {
     "data": {
      "text/plain": "        Home Team      Away Team  Match Excitement  Home Team Rating  \\\n0          MÁLAGA       ATHLETIC               4.4               6.0   \n1      SEVILLA FC       VALENCIA               4.7               6.5   \n2         GRANADA      DEPORTIVO               4.6               7.2   \n3         ALMERÍA       ESPANYOL               5.6               6.9   \n4           EIBAR  REAL SOCIEDAD               3.7               6.5   \n...           ...            ...               ...               ...   \n2655        EIBAR      BARCELONA               3.8               5.8   \n2656  REAL MADRID     VILLARREAL               5.9               6.8   \n2657      OSASUNA  REAL SOCIEDAD               3.1               5.4   \n2658      GRANADA         GETAFE               2.3               5.6   \n2659   SEVILLA FC         ALAVÉS               3.8               6.7   \n\n      Away Team Rating  Home Team Possession %  Away Team Possession %  \\\n0                  5.7                      40                      60   \n1                  6.8                      47                      53   \n2                  5.9                      53                      47   \n3                  5.5                      56                      44   \n4                  5.9                      41                      59   \n...                ...                     ...                     ...   \n2655               6.7                      33                      67   \n2656               6.0                      55                      45   \n2657               7.0                      43                      57   \n2658               6.2                      39                      61   \n2659               5.9                      69                      31   \n\n      Home Team Off Target Shots  Home Team On Target Shots  \\\n0                            5.0                        3.0   \n1                            4.0                        3.0   \n2                            6.0                        3.0   \n3                            7.0                        6.0   \n4                            5.0                        5.0   \n...                          ...                        ...   \n2655                         8.0                        3.0   \n2656                         8.0                        4.0   \n2657                         3.0                        1.0   \n2658                         5.0                        3.0   \n2659                         6.0                        2.0   \n\n      Home Team Total Shots  ...  Away Team Yellow Cards  \\\n0                      12.0  ...                     3.0   \n1                      12.0  ...                     2.0   \n2                      10.0  ...                     3.0   \n3                      19.0  ...                     3.0   \n4                      12.0  ...                     1.0   \n...                     ...  ...                     ...   \n2655                   17.0  ...                     3.0   \n2656                   14.0  ...                     0.0   \n2657                    7.0  ...                     0.0   \n2658                    9.0  ...                     2.0   \n2659                   11.0  ...                     0.0   \n\n      Away Team Second Yellow Cards  Away Team Red Cards  \\\n0                               0.0                  0.0   \n1                               0.0                  1.0   \n2                               0.0                  0.0   \n3                               1.0                  0.0   \n4                               0.0                  0.0   \n...                             ...                  ...   \n2655                            0.0                  0.0   \n2656                            0.0                  0.0   \n2657                            0.0                  0.0   \n2658                            0.0                  0.0   \n2659                            0.0                  0.0   \n\n      Home Team Goals Scored  Away Team Goals Scored  year  \\\n0                          1                       0  2014   \n1                          1                       1  2014   \n2                          2                       1  2014   \n3                          1                       1  2014   \n4                          1                       0  2014   \n...                      ...                     ...   ...   \n2655                       0                       1  2020   \n2656                       2                       1  2020   \n2657                       0                       1  2020   \n2658                       0                       0  2020   \n2659                       1                       0  2020   \n\n      Home Team Goals ht  Away Team Goals ht  Home Team Result  \\\n0                      1                   0                 3   \n1                      1                   0                 1   \n2                      0                   1                 3   \n3                      0                   0                 1   \n4                      1                   0                 3   \n...                  ...                 ...               ...   \n2655                   0                   0                 0   \n2656                   0                   1                 3   \n2657                   0                   0                 0   \n2658                   0                   0                 1   \n2659                   0                   0                 3   \n\n      Away Team Result  \n0                    0  \n1                    1  \n2                    0  \n3                    1  \n4                    0  \n...                ...  \n2655                 3  \n2656                 0  \n2657                 3  \n2658                 1  \n2659                 0  \n\n[2660 rows x 40 columns]",
      "text/html": "<div>\n<style scoped>\n    .dataframe tbody tr th:only-of-type {\n        vertical-align: middle;\n    }\n\n    .dataframe tbody tr th {\n        vertical-align: top;\n    }\n\n    .dataframe thead th {\n        text-align: right;\n    }\n</style>\n<table border=\"1\" class=\"dataframe\">\n  <thead>\n    <tr style=\"text-align: right;\">\n      <th></th>\n      <th>Home Team</th>\n      <th>Away Team</th>\n      <th>Match Excitement</th>\n      <th>Home Team Rating</th>\n      <th>Away Team Rating</th>\n      <th>Home Team Possession %</th>\n      <th>Away Team Possession %</th>\n      <th>Home Team Off Target Shots</th>\n      <th>Home Team On Target Shots</th>\n      <th>Home Team Total Shots</th>\n      <th>...</th>\n      <th>Away Team Yellow Cards</th>\n      <th>Away Team Second Yellow Cards</th>\n      <th>Away Team Red Cards</th>\n      <th>Home Team Goals Scored</th>\n      <th>Away Team Goals Scored</th>\n      <th>year</th>\n      <th>Home Team Goals ht</th>\n      <th>Away Team Goals ht</th>\n      <th>Home Team Result</th>\n      <th>Away Team Result</th>\n    </tr>\n  </thead>\n  <tbody>\n    <tr>\n      <th>0</th>\n      <td>MÁLAGA</td>\n      <td>ATHLETIC</td>\n      <td>4.4</td>\n      <td>6.0</td>\n      <td>5.7</td>\n      <td>40</td>\n      <td>60</td>\n      <td>5.0</td>\n      <td>3.0</td>\n      <td>12.0</td>\n      <td>...</td>\n      <td>3.0</td>\n      <td>0.0</td>\n      <td>0.0</td>\n      <td>1</td>\n      <td>0</td>\n      <td>2014</td>\n      <td>1</td>\n      <td>0</td>\n      <td>3</td>\n      <td>0</td>\n    </tr>\n    <tr>\n      <th>1</th>\n      <td>SEVILLA FC</td>\n      <td>VALENCIA</td>\n      <td>4.7</td>\n      <td>6.5</td>\n      <td>6.8</td>\n      <td>47</td>\n      <td>53</td>\n      <td>4.0</td>\n      <td>3.0</td>\n      <td>12.0</td>\n      <td>...</td>\n      <td>2.0</td>\n      <td>0.0</td>\n      <td>1.0</td>\n      <td>1</td>\n      <td>1</td>\n      <td>2014</td>\n      <td>1</td>\n      <td>0</td>\n      <td>1</td>\n      <td>1</td>\n    </tr>\n    <tr>\n      <th>2</th>\n      <td>GRANADA</td>\n      <td>DEPORTIVO</td>\n      <td>4.6</td>\n      <td>7.2</td>\n      <td>5.9</td>\n      <td>53</td>\n      <td>47</td>\n      <td>6.0</td>\n      <td>3.0</td>\n      <td>10.0</td>\n      <td>...</td>\n      <td>3.0</td>\n      <td>0.0</td>\n      <td>0.0</td>\n      <td>2</td>\n      <td>1</td>\n      <td>2014</td>\n      <td>0</td>\n      <td>1</td>\n      <td>3</td>\n      <td>0</td>\n    </tr>\n    <tr>\n      <th>3</th>\n      <td>ALMERÍA</td>\n      <td>ESPANYOL</td>\n      <td>5.6</td>\n      <td>6.9</td>\n      <td>5.5</td>\n      <td>56</td>\n      <td>44</td>\n      <td>7.0</td>\n      <td>6.0</td>\n      <td>19.0</td>\n      <td>...</td>\n      <td>3.0</td>\n      <td>1.0</td>\n      <td>0.0</td>\n      <td>1</td>\n      <td>1</td>\n      <td>2014</td>\n      <td>0</td>\n      <td>0</td>\n      <td>1</td>\n      <td>1</td>\n    </tr>\n    <tr>\n      <th>4</th>\n      <td>EIBAR</td>\n      <td>REAL SOCIEDAD</td>\n      <td>3.7</td>\n      <td>6.5</td>\n      <td>5.9</td>\n      <td>41</td>\n      <td>59</td>\n      <td>5.0</td>\n      <td>5.0</td>\n      <td>12.0</td>\n      <td>...</td>\n      <td>1.0</td>\n      <td>0.0</td>\n      <td>0.0</td>\n      <td>1</td>\n      <td>0</td>\n      <td>2014</td>\n      <td>1</td>\n      <td>0</td>\n      <td>3</td>\n      <td>0</td>\n    </tr>\n    <tr>\n      <th>...</th>\n      <td>...</td>\n      <td>...</td>\n      <td>...</td>\n      <td>...</td>\n      <td>...</td>\n      <td>...</td>\n      <td>...</td>\n      <td>...</td>\n      <td>...</td>\n      <td>...</td>\n      <td>...</td>\n      <td>...</td>\n      <td>...</td>\n      <td>...</td>\n      <td>...</td>\n      <td>...</td>\n      <td>...</td>\n      <td>...</td>\n      <td>...</td>\n      <td>...</td>\n      <td>...</td>\n    </tr>\n    <tr>\n      <th>2655</th>\n      <td>EIBAR</td>\n      <td>BARCELONA</td>\n      <td>3.8</td>\n      <td>5.8</td>\n      <td>6.7</td>\n      <td>33</td>\n      <td>67</td>\n      <td>8.0</td>\n      <td>3.0</td>\n      <td>17.0</td>\n      <td>...</td>\n      <td>3.0</td>\n      <td>0.0</td>\n      <td>0.0</td>\n      <td>0</td>\n      <td>1</td>\n      <td>2020</td>\n      <td>0</td>\n      <td>0</td>\n      <td>0</td>\n      <td>3</td>\n    </tr>\n    <tr>\n      <th>2656</th>\n      <td>REAL MADRID</td>\n      <td>VILLARREAL</td>\n      <td>5.9</td>\n      <td>6.8</td>\n      <td>6.0</td>\n      <td>55</td>\n      <td>45</td>\n      <td>8.0</td>\n      <td>4.0</td>\n      <td>14.0</td>\n      <td>...</td>\n      <td>0.0</td>\n      <td>0.0</td>\n      <td>0.0</td>\n      <td>2</td>\n      <td>1</td>\n      <td>2020</td>\n      <td>0</td>\n      <td>1</td>\n      <td>3</td>\n      <td>0</td>\n    </tr>\n    <tr>\n      <th>2657</th>\n      <td>OSASUNA</td>\n      <td>REAL SOCIEDAD</td>\n      <td>3.1</td>\n      <td>5.4</td>\n      <td>7.0</td>\n      <td>43</td>\n      <td>57</td>\n      <td>3.0</td>\n      <td>1.0</td>\n      <td>7.0</td>\n      <td>...</td>\n      <td>0.0</td>\n      <td>0.0</td>\n      <td>0.0</td>\n      <td>0</td>\n      <td>1</td>\n      <td>2020</td>\n      <td>0</td>\n      <td>0</td>\n      <td>0</td>\n      <td>3</td>\n    </tr>\n    <tr>\n      <th>2658</th>\n      <td>GRANADA</td>\n      <td>GETAFE</td>\n      <td>2.3</td>\n      <td>5.6</td>\n      <td>6.2</td>\n      <td>39</td>\n      <td>61</td>\n      <td>5.0</td>\n      <td>3.0</td>\n      <td>9.0</td>\n      <td>...</td>\n      <td>2.0</td>\n      <td>0.0</td>\n      <td>0.0</td>\n      <td>0</td>\n      <td>0</td>\n      <td>2020</td>\n      <td>0</td>\n      <td>0</td>\n      <td>1</td>\n      <td>1</td>\n    </tr>\n    <tr>\n      <th>2659</th>\n      <td>SEVILLA FC</td>\n      <td>ALAVÉS</td>\n      <td>3.8</td>\n      <td>6.7</td>\n      <td>5.9</td>\n      <td>69</td>\n      <td>31</td>\n      <td>6.0</td>\n      <td>2.0</td>\n      <td>11.0</td>\n      <td>...</td>\n      <td>0.0</td>\n      <td>0.0</td>\n      <td>0.0</td>\n      <td>1</td>\n      <td>0</td>\n      <td>2020</td>\n      <td>0</td>\n      <td>0</td>\n      <td>3</td>\n      <td>0</td>\n    </tr>\n  </tbody>\n</table>\n<p>2660 rows × 40 columns</p>\n</div>"
     },
     "execution_count": 15,
     "metadata": {},
     "output_type": "execute_result"
    }
   ],
   "source": [
    "la_liga"
   ],
   "metadata": {
    "collapsed": false,
    "pycharm": {
     "name": "#%%\n"
    }
   }
  },
  {
   "cell_type": "code",
   "execution_count": 16,
   "outputs": [
    {
     "name": "stdout",
     "output_type": "stream",
     "text": [
      "       Home Team        Away Team  Match Excitement  Home Team Rating  \\\n",
      "5      BARCELONA            ELCHE               5.1               8.0   \n",
      "16    VILLARREAL        BARCELONA               5.2               5.5   \n",
      "21     BARCELONA         ATHLETIC               4.3               7.7   \n",
      "38       LEVANTE        BARCELONA               5.9               4.0   \n",
      "45        MÁLAGA        BARCELONA               2.2               6.9   \n",
      "...          ...              ...               ...               ...   \n",
      "2618    VALENCIA        BARCELONA               8.2               5.3   \n",
      "2622   BARCELONA  ATLETICO MADRID               3.6               6.8   \n",
      "2632     LEVANTE        BARCELONA               9.7               6.5   \n",
      "2640   BARCELONA            CELTA               6.4               5.6   \n",
      "2655       EIBAR        BARCELONA               3.8               5.8   \n",
      "\n",
      "      Away Team Rating  Home Team Possession %  Away Team Possession %  \\\n",
      "5                  5.3                      72                      28   \n",
      "16                 7.7                      28                      72   \n",
      "21                 5.7                      61                      39   \n",
      "38                 8.7                      25                      75   \n",
      "45                 5.9                      31                      69   \n",
      "...                ...                     ...                     ...   \n",
      "2618               6.9                      32                      68   \n",
      "2622               6.5                      59                      41   \n",
      "2632               6.5                      39                      61   \n",
      "2640               7.4                      64                      36   \n",
      "2655               6.7                      33                      67   \n",
      "\n",
      "      Home Team Off Target Shots  Home Team On Target Shots  \\\n",
      "5                            5.0                        6.0   \n",
      "16                           7.0                        0.0   \n",
      "21                           5.0                        8.0   \n",
      "38                           3.0                        2.0   \n",
      "45                           4.0                        2.0   \n",
      "...                          ...                        ...   \n",
      "2618                         3.0                        4.0   \n",
      "2622                         4.0                        7.0   \n",
      "2632                         4.0                        6.0   \n",
      "2640                        12.0                        4.0   \n",
      "2655                         8.0                        3.0   \n",
      "\n",
      "      Home Team Total Shots  ...  Away Team Yellow Cards  \\\n",
      "5                      12.0  ...                     1.0   \n",
      "16                      9.0  ...                     2.0   \n",
      "21                     14.0  ...                     1.0   \n",
      "38                      9.0  ...                     2.0   \n",
      "45                      6.0  ...                     2.0   \n",
      "...                     ...  ...                     ...   \n",
      "2618                    9.0  ...                     1.0   \n",
      "2622                   12.0  ...                     3.0   \n",
      "2632                   16.0  ...                     2.0   \n",
      "2640                   20.0  ...                     2.0   \n",
      "2655                   17.0  ...                     3.0   \n",
      "\n",
      "      Away Team Second Yellow Cards  Away Team Red Cards  \\\n",
      "5                               0.0                  0.0   \n",
      "16                              0.0                  0.0   \n",
      "21                              0.0                  0.0   \n",
      "38                              0.0                  0.0   \n",
      "45                              0.0                  0.0   \n",
      "...                             ...                  ...   \n",
      "2618                            0.0                  0.0   \n",
      "2622                            0.0                  0.0   \n",
      "2632                            0.0                  0.0   \n",
      "2640                            0.0                  0.0   \n",
      "2655                            0.0                  0.0   \n",
      "\n",
      "      Home Team Goals Scored  Away Team Goals Scored  year  \\\n",
      "5                          3                       0  2014   \n",
      "16                         0                       1  2014   \n",
      "21                         2                       0  2014   \n",
      "38                         0                       5  2014   \n",
      "45                         0                       0  2014   \n",
      "...                      ...                     ...   ...   \n",
      "2618                       2                       3  2020   \n",
      "2622                       0                       0  2020   \n",
      "2632                       3                       3  2020   \n",
      "2640                       1                       2  2020   \n",
      "2655                       0                       1  2020   \n",
      "\n",
      "      Home Team Goals ht  Away Team Goals ht  Home Team Result  \\\n",
      "5                      1                   0                 3   \n",
      "16                     0                   0                 0   \n",
      "21                     0                   0                 3   \n",
      "38                     0                   2                 0   \n",
      "45                     0                   0                 1   \n",
      "...                  ...                 ...               ...   \n",
      "2618                   0                   0                 0   \n",
      "2622                   0                   0                 1   \n",
      "2632                   0                   2                 1   \n",
      "2640                   1                   1                 0   \n",
      "2655                   0                   0                 0   \n",
      "\n",
      "      Away Team Result  \n",
      "5                    0  \n",
      "16                   3  \n",
      "21                   0  \n",
      "38                   3  \n",
      "45                   1  \n",
      "...                ...  \n",
      "2618                 3  \n",
      "2622                 1  \n",
      "2632                 1  \n",
      "2640                 3  \n",
      "2655                 3  \n",
      "\n",
      "[266 rows x 40 columns]\n"
     ]
    }
   ],
   "source": [
    "la_liga_Home = la_liga[\"Home Team\"] == \"BARCELONA\"\n",
    "la_liga_Away = la_liga[\"Away Team\"] == \"BARCELONA\"\n",
    "la_liga_only_Barcelona = la_liga[\"Away Team\"] == \"BARCELONA\"\n",
    "for i in range(len(la_liga_Home)):\n",
    "    if la_liga_Away[i] or la_liga_Home[i]:\n",
    "        la_liga_only_Barcelona[i] = True\n",
    "    else:\n",
    "        la_liga_only_Barcelona[i] = False\n",
    "la_liga_Barcelona = la_liga[la_liga_only_Barcelona]\n",
    "print(la_liga_Barcelona)"
   ],
   "metadata": {
    "collapsed": false,
    "pycharm": {
     "name": "#%%\n"
    }
   }
  },
  {
   "cell_type": "code",
   "execution_count": 17,
   "outputs": [],
   "source": [
    "#Filter year to analyze different years\n",
    "la_liga_2014 = la_liga_Barcelona.loc[la_liga[\"year\"]== 2014]\n",
    "la_liga_2015 = la_liga_Barcelona.loc[la_liga[\"year\"]== 2015]\n",
    "la_liga_2016 = la_liga_Barcelona.loc[la_liga[\"year\"]== 2016]\n",
    "la_liga_2017 = la_liga_Barcelona.loc[la_liga[\"year\"]== 2017]\n",
    "la_liga_2018 = la_liga_Barcelona.loc[la_liga[\"year\"]== 2018]\n",
    "la_liga_2019 = la_liga_Barcelona.loc[la_liga[\"year\"]== 2019]\n",
    "la_liga_2020 = la_liga_Barcelona.loc[la_liga[\"year\"]== 2020]"
   ],
   "metadata": {
    "collapsed": false,
    "pycharm": {
     "name": "#%%\n"
    }
   }
  },
  {
   "cell_type": "markdown",
   "source": [
    "# Wie hat sich die Spielweise des FC Barcelona verändert unter Valverde (Trainer 2017-2020) im Vergleich zu Enrique (Trainer 2014-2017)"
   ],
   "metadata": {
    "collapsed": false,
    "pycharm": {
     "name": "#%% md\n"
    }
   }
  },
  {
   "cell_type": "markdown",
   "source": [
    "## Prepare Data"
   ],
   "metadata": {
    "collapsed": false,
    "pycharm": {
     "name": "#%% md\n"
    }
   }
  },
  {
   "cell_type": "code",
   "execution_count": 18,
   "outputs": [
    {
     "data": {
      "text/plain": "           Home Team        Away Team  Match Excitement  Home Team Rating  \\\n5          BARCELONA            ELCHE               5.1               8.0   \n16        VILLARREAL        BARCELONA               5.2               5.5   \n21         BARCELONA         ATHLETIC               4.3               7.7   \n38           LEVANTE        BARCELONA               5.9               4.0   \n45            MÁLAGA        BARCELONA               2.2               6.9   \n52         BARCELONA          GRANADA               7.0              10.0   \n62    RAYO VALLECANO        BARCELONA               5.3               4.7   \n73         BARCELONA            EIBAR               6.0               8.7   \n82       REAL MADRID        BARCELONA               7.4               7.4   \n93         BARCELONA            CELTA               5.4               6.5   \n101          ALMERÍA        BARCELONA               6.1               5.3   \n113        BARCELONA       SEVILLA FC               5.7               9.1   \n128         VALENCIA        BARCELONA               4.1               6.3   \n135        BARCELONA         ESPANYOL               5.9               8.8   \n141           GETAFE        BARCELONA               2.6               6.5   \n151        BARCELONA          CÓRDOBA               6.5               8.7   \n168    REAL SOCIEDAD        BARCELONA               3.4               6.5   \n178        BARCELONA  ATLETICO MADRID               6.5               7.0   \n187        DEPORTIVO        BARCELONA               5.4               4.8   \n191            ELCHE        BARCELONA               6.6               3.3   \n208        BARCELONA       VILLARREAL               7.7               6.9   \n218         ATHLETIC        BARCELONA               9.1               4.4   \n226        BARCELONA          LEVANTE               5.5               9.3   \n231        BARCELONA           MÁLAGA               3.6               5.8   \n241          GRANADA        BARCELONA               6.2               4.9   \n255        BARCELONA   RAYO VALLECANO               7.8               8.2   \n262            EIBAR        BARCELONA               4.3               5.8   \n279        BARCELONA      REAL MADRID               6.6               7.1   \n288            CELTA        BARCELONA               3.1               5.7   \n293        BARCELONA          ALMERÍA               6.5               8.6   \n302       SEVILLA FC        BARCELONA               7.8               6.1   \n311        BARCELONA         VALENCIA               5.7               6.9   \n321         ESPANYOL        BARCELONA               5.0               5.2   \n330        BARCELONA           GETAFE               6.6               9.6   \n341          CÓRDOBA        BARCELONA               7.0               2.8   \n352        BARCELONA    REAL SOCIEDAD               4.6               7.9   \n361  ATLETICO MADRID        BARCELONA               3.9               5.7   \n371        BARCELONA        DEPORTIVO               7.8               6.3   \n\n     Away Team Rating  Home Team Possession %  Away Team Possession %  \\\n5                 5.3                      72                      28   \n16                7.7                      28                      72   \n21                5.7                      61                      39   \n38                8.7                      25                      75   \n45                5.9                      31                      69   \n52                3.7                      69                      31   \n62                6.8                      41                      59   \n73                5.2                      75                      25   \n82                5.6                      42                      58   \n93                6.7                      67                      33   \n101               6.9                      27                      73   \n113               4.7                      70                      30   \n128               6.8                      29                      71   \n135               4.8                      79                      21   \n141               6.6                      24                      76   \n151               4.7                      75                      25   \n168               6.0                      27                      73   \n178               5.2                      68                      32   \n187               8.3                      32                      68   \n191               9.0                      28                      72   \n208               5.8                      69                      31   \n218               8.2                      27                      73   \n226               3.8                      76                      24   \n231               7.7                      73                      27   \n241               7.5                      33                      67   \n255               3.9                      57                      43   \n262               7.7                      30                      70   \n279               6.0                      52                      48   \n288               7.4                      38                      62   \n293               4.5                      72                      28   \n302               6.7                      30                      70   \n311               5.4                      69                      31   \n321               7.2                      28                      72   \n330               4.1                      73                      27   \n341              10.0                      25                      75   \n352               5.1                      65                      35   \n361               6.9                      23                      77   \n371               7.2                      78                      22   \n\n     Home Team Off Target Shots  Home Team On Target Shots  \\\n5                           5.0                        6.0   \n16                          7.0                        0.0   \n21                          5.0                        8.0   \n38                          3.0                        2.0   \n45                          4.0                        2.0   \n52                          5.0                       12.0   \n62                          8.0                        4.0   \n73                          9.0                       12.0   \n82                          5.0                        6.0   \n93                         10.0                        9.0   \n101                         3.0                        2.0   \n113                         3.0                       10.0   \n128                         6.0                        4.0   \n135                         5.0                        7.0   \n141                         1.0                        2.0   \n151                         5.0                        9.0   \n168                         3.0                        1.0   \n178                         5.0                        7.0   \n187                         4.0                        2.0   \n191                         2.0                        3.0   \n208                         8.0                        7.0   \n218                         4.0                        6.0   \n226                         6.0                       10.0   \n231                         5.0                        4.0   \n241                         4.0                        4.0   \n255                         5.0                       12.0   \n262                         5.0                        2.0   \n279                         9.0                        5.0   \n288                         6.0                        1.0   \n293                         4.0                       12.0   \n302                         5.0                        2.0   \n311                         6.0                        5.0   \n321                         3.0                        2.0   \n330                         7.0                       12.0   \n341                         4.0                        1.0   \n352                         5.0                        8.0   \n361                         4.0                        3.0   \n371                         8.0                        7.0   \n\n     Home Team Total Shots  ...  Away Team Yellow Cards  \\\n5                     12.0  ...                     1.0   \n16                     9.0  ...                     2.0   \n21                    14.0  ...                     1.0   \n38                     9.0  ...                     2.0   \n45                     6.0  ...                     2.0   \n52                    19.0  ...                     3.0   \n62                    14.0  ...                     2.0   \n73                    27.0  ...                     2.0   \n82                    18.0  ...                     4.0   \n93                    19.0  ...                     2.0   \n101                    6.0  ...                     0.0   \n113                   16.0  ...                     2.0   \n128                   12.0  ...                     4.0   \n135                   15.0  ...                     4.0   \n141                    4.0  ...                     0.0   \n151                   16.0  ...                     0.0   \n168                    6.0  ...                     4.0   \n178                   17.0  ...                     6.0   \n187                    7.0  ...                     2.0   \n191                    6.0  ...                     2.0   \n208                   19.0  ...                     2.0   \n218                   15.0  ...                     1.0   \n226                   18.0  ...                     2.0   \n231                   11.0  ...                     3.0   \n241                   10.0  ...                     3.0   \n255                   19.0  ...                     3.0   \n262                   13.0  ...                     0.0   \n279                   17.0  ...                     6.0   \n288                    7.0  ...                     2.0   \n293                   19.0  ...                     3.0   \n302                   11.0  ...                     2.0   \n311                   11.0  ...                     4.0   \n321                    7.0  ...                     2.0   \n330                   21.0  ...                     0.0   \n341                    5.0  ...                     0.0   \n352                   15.0  ...                     5.0   \n361                   10.0  ...                     3.0   \n371                   17.0  ...                     3.0   \n\n     Away Team Second Yellow Cards  Away Team Red Cards  \\\n5                              0.0                  0.0   \n16                             0.0                  0.0   \n21                             0.0                  0.0   \n38                             0.0                  0.0   \n45                             0.0                  0.0   \n52                             0.0                  0.0   \n62                             0.0                  0.0   \n73                             0.0                  0.0   \n82                             0.0                  0.0   \n93                             0.0                  0.0   \n101                            0.0                  0.0   \n113                            0.0                  0.0   \n128                            0.0                  0.0   \n135                            0.0                  0.0   \n141                            0.0                  0.0   \n151                            0.0                  0.0   \n168                            0.0                  0.0   \n178                            0.0                  0.0   \n187                            0.0                  0.0   \n191                            0.0                  0.0   \n208                            0.0                  0.0   \n218                            0.0                  0.0   \n226                            0.0                  0.0   \n231                            0.0                  0.0   \n241                            0.0                  0.0   \n255                            1.0                  0.0   \n262                            0.0                  0.0   \n279                            0.0                  0.0   \n288                            0.0                  0.0   \n293                            0.0                  0.0   \n302                            0.0                  0.0   \n311                            0.0                  0.0   \n321                            1.0                  0.0   \n330                            0.0                  0.0   \n341                            0.0                  0.0   \n352                            0.0                  0.0   \n361                            0.0                  0.0   \n371                            0.0                  0.0   \n\n     Home Team Goals Scored  Away Team Goals Scored  year  Home Team Goals ht  \\\n5                         3                       0  2014                   1   \n16                        0                       1  2014                   0   \n21                        2                       0  2014                   0   \n38                        0                       5  2014                   0   \n45                        0                       0  2014                   0   \n52                        6                       0  2014                   3   \n62                        0                       2  2014                   0   \n73                        3                       0  2014                   0   \n82                        3                       1  2014                   1   \n93                        0                       1  2014                   0   \n101                       1                       2  2014                   1   \n113                       5                       1  2014                   1   \n128                       0                       1  2014                   0   \n135                       5                       1  2014                   1   \n141                       0                       0  2014                   0   \n151                       5                       0  2014                   1   \n168                       1                       0  2014                   1   \n178                       3                       1  2014                   2   \n187                       0                       4  2014                   0   \n191                       0                       6  2014                   0   \n208                       3                       2  2014                   1   \n218                       2                       5  2014                   0   \n226                       5                       0  2014                   2   \n231                       0                       1  2014                   0   \n241                       1                       3  2014                   0   \n255                       6                       1  2014                   1   \n262                       0                       2  2014                   0   \n279                       2                       1  2014                   1   \n288                       0                       1  2014                   0   \n293                       4                       0  2014                   1   \n302                       2                       2  2014                   1   \n311                       2                       0  2014                   1   \n321                       0                       2  2014                   0   \n330                       6                       0  2014                   5   \n341                       0                       8  2014                   0   \n352                       2                       0  2014                   0   \n361                       0                       1  2014                   0   \n371                       2                       2  2014                   1   \n\n     Away Team Goals ht  Home Team Result  Away Team Result  \n5                     0                 3                 0  \n16                    0                 0                 3  \n21                    0                 3                 0  \n38                    2                 0                 3  \n45                    0                 1                 1  \n52                    0                 3                 0  \n62                    2                 0                 3  \n73                    0                 3                 0  \n82                    1                 3                 0  \n93                    0                 0                 3  \n101                   0                 0                 3  \n113                   0                 3                 0  \n128                   0                 0                 3  \n135                   1                 3                 0  \n141                   0                 1                 1  \n151                   0                 3                 0  \n168                   0                 3                 0  \n178                   0                 3                 0  \n187                   2                 0                 3  \n191                   1                 0                 3  \n208                   1                 3                 0  \n218                   2                 0                 3  \n226                   0                 3                 0  \n231                   1                 0                 3  \n241                   1                 0                 3  \n255                   0                 3                 0  \n262                   1                 0                 3  \n279                   1                 3                 0  \n288                   0                 0                 3  \n293                   0                 3                 0  \n302                   2                 1                 1  \n311                   0                 3                 0  \n321                   2                 0                 3  \n330                   0                 3                 0  \n341                   2                 0                 3  \n352                   0                 3                 0  \n361                   0                 0                 3  \n371                   0                 1                 1  \n\n[38 rows x 40 columns]",
      "text/html": "<div>\n<style scoped>\n    .dataframe tbody tr th:only-of-type {\n        vertical-align: middle;\n    }\n\n    .dataframe tbody tr th {\n        vertical-align: top;\n    }\n\n    .dataframe thead th {\n        text-align: right;\n    }\n</style>\n<table border=\"1\" class=\"dataframe\">\n  <thead>\n    <tr style=\"text-align: right;\">\n      <th></th>\n      <th>Home Team</th>\n      <th>Away Team</th>\n      <th>Match Excitement</th>\n      <th>Home Team Rating</th>\n      <th>Away Team Rating</th>\n      <th>Home Team Possession %</th>\n      <th>Away Team Possession %</th>\n      <th>Home Team Off Target Shots</th>\n      <th>Home Team On Target Shots</th>\n      <th>Home Team Total Shots</th>\n      <th>...</th>\n      <th>Away Team Yellow Cards</th>\n      <th>Away Team Second Yellow Cards</th>\n      <th>Away Team Red Cards</th>\n      <th>Home Team Goals Scored</th>\n      <th>Away Team Goals Scored</th>\n      <th>year</th>\n      <th>Home Team Goals ht</th>\n      <th>Away Team Goals ht</th>\n      <th>Home Team Result</th>\n      <th>Away Team Result</th>\n    </tr>\n  </thead>\n  <tbody>\n    <tr>\n      <th>5</th>\n      <td>BARCELONA</td>\n      <td>ELCHE</td>\n      <td>5.1</td>\n      <td>8.0</td>\n      <td>5.3</td>\n      <td>72</td>\n      <td>28</td>\n      <td>5.0</td>\n      <td>6.0</td>\n      <td>12.0</td>\n      <td>...</td>\n      <td>1.0</td>\n      <td>0.0</td>\n      <td>0.0</td>\n      <td>3</td>\n      <td>0</td>\n      <td>2014</td>\n      <td>1</td>\n      <td>0</td>\n      <td>3</td>\n      <td>0</td>\n    </tr>\n    <tr>\n      <th>16</th>\n      <td>VILLARREAL</td>\n      <td>BARCELONA</td>\n      <td>5.2</td>\n      <td>5.5</td>\n      <td>7.7</td>\n      <td>28</td>\n      <td>72</td>\n      <td>7.0</td>\n      <td>0.0</td>\n      <td>9.0</td>\n      <td>...</td>\n      <td>2.0</td>\n      <td>0.0</td>\n      <td>0.0</td>\n      <td>0</td>\n      <td>1</td>\n      <td>2014</td>\n      <td>0</td>\n      <td>0</td>\n      <td>0</td>\n      <td>3</td>\n    </tr>\n    <tr>\n      <th>21</th>\n      <td>BARCELONA</td>\n      <td>ATHLETIC</td>\n      <td>4.3</td>\n      <td>7.7</td>\n      <td>5.7</td>\n      <td>61</td>\n      <td>39</td>\n      <td>5.0</td>\n      <td>8.0</td>\n      <td>14.0</td>\n      <td>...</td>\n      <td>1.0</td>\n      <td>0.0</td>\n      <td>0.0</td>\n      <td>2</td>\n      <td>0</td>\n      <td>2014</td>\n      <td>0</td>\n      <td>0</td>\n      <td>3</td>\n      <td>0</td>\n    </tr>\n    <tr>\n      <th>38</th>\n      <td>LEVANTE</td>\n      <td>BARCELONA</td>\n      <td>5.9</td>\n      <td>4.0</td>\n      <td>8.7</td>\n      <td>25</td>\n      <td>75</td>\n      <td>3.0</td>\n      <td>2.0</td>\n      <td>9.0</td>\n      <td>...</td>\n      <td>2.0</td>\n      <td>0.0</td>\n      <td>0.0</td>\n      <td>0</td>\n      <td>5</td>\n      <td>2014</td>\n      <td>0</td>\n      <td>2</td>\n      <td>0</td>\n      <td>3</td>\n    </tr>\n    <tr>\n      <th>45</th>\n      <td>MÁLAGA</td>\n      <td>BARCELONA</td>\n      <td>2.2</td>\n      <td>6.9</td>\n      <td>5.9</td>\n      <td>31</td>\n      <td>69</td>\n      <td>4.0</td>\n      <td>2.0</td>\n      <td>6.0</td>\n      <td>...</td>\n      <td>2.0</td>\n      <td>0.0</td>\n      <td>0.0</td>\n      <td>0</td>\n      <td>0</td>\n      <td>2014</td>\n      <td>0</td>\n      <td>0</td>\n      <td>1</td>\n      <td>1</td>\n    </tr>\n    <tr>\n      <th>52</th>\n      <td>BARCELONA</td>\n      <td>GRANADA</td>\n      <td>7.0</td>\n      <td>10.0</td>\n      <td>3.7</td>\n      <td>69</td>\n      <td>31</td>\n      <td>5.0</td>\n      <td>12.0</td>\n      <td>19.0</td>\n      <td>...</td>\n      <td>3.0</td>\n      <td>0.0</td>\n      <td>0.0</td>\n      <td>6</td>\n      <td>0</td>\n      <td>2014</td>\n      <td>3</td>\n      <td>0</td>\n      <td>3</td>\n      <td>0</td>\n    </tr>\n    <tr>\n      <th>62</th>\n      <td>RAYO VALLECANO</td>\n      <td>BARCELONA</td>\n      <td>5.3</td>\n      <td>4.7</td>\n      <td>6.8</td>\n      <td>41</td>\n      <td>59</td>\n      <td>8.0</td>\n      <td>4.0</td>\n      <td>14.0</td>\n      <td>...</td>\n      <td>2.0</td>\n      <td>0.0</td>\n      <td>0.0</td>\n      <td>0</td>\n      <td>2</td>\n      <td>2014</td>\n      <td>0</td>\n      <td>2</td>\n      <td>0</td>\n      <td>3</td>\n    </tr>\n    <tr>\n      <th>73</th>\n      <td>BARCELONA</td>\n      <td>EIBAR</td>\n      <td>6.0</td>\n      <td>8.7</td>\n      <td>5.2</td>\n      <td>75</td>\n      <td>25</td>\n      <td>9.0</td>\n      <td>12.0</td>\n      <td>27.0</td>\n      <td>...</td>\n      <td>2.0</td>\n      <td>0.0</td>\n      <td>0.0</td>\n      <td>3</td>\n      <td>0</td>\n      <td>2014</td>\n      <td>0</td>\n      <td>0</td>\n      <td>3</td>\n      <td>0</td>\n    </tr>\n    <tr>\n      <th>82</th>\n      <td>REAL MADRID</td>\n      <td>BARCELONA</td>\n      <td>7.4</td>\n      <td>7.4</td>\n      <td>5.6</td>\n      <td>42</td>\n      <td>58</td>\n      <td>5.0</td>\n      <td>6.0</td>\n      <td>18.0</td>\n      <td>...</td>\n      <td>4.0</td>\n      <td>0.0</td>\n      <td>0.0</td>\n      <td>3</td>\n      <td>1</td>\n      <td>2014</td>\n      <td>1</td>\n      <td>1</td>\n      <td>3</td>\n      <td>0</td>\n    </tr>\n    <tr>\n      <th>93</th>\n      <td>BARCELONA</td>\n      <td>CELTA</td>\n      <td>5.4</td>\n      <td>6.5</td>\n      <td>6.7</td>\n      <td>67</td>\n      <td>33</td>\n      <td>10.0</td>\n      <td>9.0</td>\n      <td>19.0</td>\n      <td>...</td>\n      <td>2.0</td>\n      <td>0.0</td>\n      <td>0.0</td>\n      <td>0</td>\n      <td>1</td>\n      <td>2014</td>\n      <td>0</td>\n      <td>0</td>\n      <td>0</td>\n      <td>3</td>\n    </tr>\n    <tr>\n      <th>101</th>\n      <td>ALMERÍA</td>\n      <td>BARCELONA</td>\n      <td>6.1</td>\n      <td>5.3</td>\n      <td>6.9</td>\n      <td>27</td>\n      <td>73</td>\n      <td>3.0</td>\n      <td>2.0</td>\n      <td>6.0</td>\n      <td>...</td>\n      <td>0.0</td>\n      <td>0.0</td>\n      <td>0.0</td>\n      <td>1</td>\n      <td>2</td>\n      <td>2014</td>\n      <td>1</td>\n      <td>0</td>\n      <td>0</td>\n      <td>3</td>\n    </tr>\n    <tr>\n      <th>113</th>\n      <td>BARCELONA</td>\n      <td>SEVILLA FC</td>\n      <td>5.7</td>\n      <td>9.1</td>\n      <td>4.7</td>\n      <td>70</td>\n      <td>30</td>\n      <td>3.0</td>\n      <td>10.0</td>\n      <td>16.0</td>\n      <td>...</td>\n      <td>2.0</td>\n      <td>0.0</td>\n      <td>0.0</td>\n      <td>5</td>\n      <td>1</td>\n      <td>2014</td>\n      <td>1</td>\n      <td>0</td>\n      <td>3</td>\n      <td>0</td>\n    </tr>\n    <tr>\n      <th>128</th>\n      <td>VALENCIA</td>\n      <td>BARCELONA</td>\n      <td>4.1</td>\n      <td>6.3</td>\n      <td>6.8</td>\n      <td>29</td>\n      <td>71</td>\n      <td>6.0</td>\n      <td>4.0</td>\n      <td>12.0</td>\n      <td>...</td>\n      <td>4.0</td>\n      <td>0.0</td>\n      <td>0.0</td>\n      <td>0</td>\n      <td>1</td>\n      <td>2014</td>\n      <td>0</td>\n      <td>0</td>\n      <td>0</td>\n      <td>3</td>\n    </tr>\n    <tr>\n      <th>135</th>\n      <td>BARCELONA</td>\n      <td>ESPANYOL</td>\n      <td>5.9</td>\n      <td>8.8</td>\n      <td>4.8</td>\n      <td>79</td>\n      <td>21</td>\n      <td>5.0</td>\n      <td>7.0</td>\n      <td>15.0</td>\n      <td>...</td>\n      <td>4.0</td>\n      <td>0.0</td>\n      <td>0.0</td>\n      <td>5</td>\n      <td>1</td>\n      <td>2014</td>\n      <td>1</td>\n      <td>1</td>\n      <td>3</td>\n      <td>0</td>\n    </tr>\n    <tr>\n      <th>141</th>\n      <td>GETAFE</td>\n      <td>BARCELONA</td>\n      <td>2.6</td>\n      <td>6.5</td>\n      <td>6.6</td>\n      <td>24</td>\n      <td>76</td>\n      <td>1.0</td>\n      <td>2.0</td>\n      <td>4.0</td>\n      <td>...</td>\n      <td>0.0</td>\n      <td>0.0</td>\n      <td>0.0</td>\n      <td>0</td>\n      <td>0</td>\n      <td>2014</td>\n      <td>0</td>\n      <td>0</td>\n      <td>1</td>\n      <td>1</td>\n    </tr>\n    <tr>\n      <th>151</th>\n      <td>BARCELONA</td>\n      <td>CÓRDOBA</td>\n      <td>6.5</td>\n      <td>8.7</td>\n      <td>4.7</td>\n      <td>75</td>\n      <td>25</td>\n      <td>5.0</td>\n      <td>9.0</td>\n      <td>16.0</td>\n      <td>...</td>\n      <td>0.0</td>\n      <td>0.0</td>\n      <td>0.0</td>\n      <td>5</td>\n      <td>0</td>\n      <td>2014</td>\n      <td>1</td>\n      <td>0</td>\n      <td>3</td>\n      <td>0</td>\n    </tr>\n    <tr>\n      <th>168</th>\n      <td>REAL SOCIEDAD</td>\n      <td>BARCELONA</td>\n      <td>3.4</td>\n      <td>6.5</td>\n      <td>6.0</td>\n      <td>27</td>\n      <td>73</td>\n      <td>3.0</td>\n      <td>1.0</td>\n      <td>6.0</td>\n      <td>...</td>\n      <td>4.0</td>\n      <td>0.0</td>\n      <td>0.0</td>\n      <td>1</td>\n      <td>0</td>\n      <td>2014</td>\n      <td>1</td>\n      <td>0</td>\n      <td>3</td>\n      <td>0</td>\n    </tr>\n    <tr>\n      <th>178</th>\n      <td>BARCELONA</td>\n      <td>ATLETICO MADRID</td>\n      <td>6.5</td>\n      <td>7.0</td>\n      <td>5.2</td>\n      <td>68</td>\n      <td>32</td>\n      <td>5.0</td>\n      <td>7.0</td>\n      <td>17.0</td>\n      <td>...</td>\n      <td>6.0</td>\n      <td>0.0</td>\n      <td>0.0</td>\n      <td>3</td>\n      <td>1</td>\n      <td>2014</td>\n      <td>2</td>\n      <td>0</td>\n      <td>3</td>\n      <td>0</td>\n    </tr>\n    <tr>\n      <th>187</th>\n      <td>DEPORTIVO</td>\n      <td>BARCELONA</td>\n      <td>5.4</td>\n      <td>4.8</td>\n      <td>8.3</td>\n      <td>32</td>\n      <td>68</td>\n      <td>4.0</td>\n      <td>2.0</td>\n      <td>7.0</td>\n      <td>...</td>\n      <td>2.0</td>\n      <td>0.0</td>\n      <td>0.0</td>\n      <td>0</td>\n      <td>4</td>\n      <td>2014</td>\n      <td>0</td>\n      <td>2</td>\n      <td>0</td>\n      <td>3</td>\n    </tr>\n    <tr>\n      <th>191</th>\n      <td>ELCHE</td>\n      <td>BARCELONA</td>\n      <td>6.6</td>\n      <td>3.3</td>\n      <td>9.0</td>\n      <td>28</td>\n      <td>72</td>\n      <td>2.0</td>\n      <td>3.0</td>\n      <td>6.0</td>\n      <td>...</td>\n      <td>2.0</td>\n      <td>0.0</td>\n      <td>0.0</td>\n      <td>0</td>\n      <td>6</td>\n      <td>2014</td>\n      <td>0</td>\n      <td>1</td>\n      <td>0</td>\n      <td>3</td>\n    </tr>\n    <tr>\n      <th>208</th>\n      <td>BARCELONA</td>\n      <td>VILLARREAL</td>\n      <td>7.7</td>\n      <td>6.9</td>\n      <td>5.8</td>\n      <td>69</td>\n      <td>31</td>\n      <td>8.0</td>\n      <td>7.0</td>\n      <td>19.0</td>\n      <td>...</td>\n      <td>2.0</td>\n      <td>0.0</td>\n      <td>0.0</td>\n      <td>3</td>\n      <td>2</td>\n      <td>2014</td>\n      <td>1</td>\n      <td>1</td>\n      <td>3</td>\n      <td>0</td>\n    </tr>\n    <tr>\n      <th>218</th>\n      <td>ATHLETIC</td>\n      <td>BARCELONA</td>\n      <td>9.1</td>\n      <td>4.4</td>\n      <td>8.2</td>\n      <td>27</td>\n      <td>73</td>\n      <td>4.0</td>\n      <td>6.0</td>\n      <td>15.0</td>\n      <td>...</td>\n      <td>1.0</td>\n      <td>0.0</td>\n      <td>0.0</td>\n      <td>2</td>\n      <td>5</td>\n      <td>2014</td>\n      <td>0</td>\n      <td>2</td>\n      <td>0</td>\n      <td>3</td>\n    </tr>\n    <tr>\n      <th>226</th>\n      <td>BARCELONA</td>\n      <td>LEVANTE</td>\n      <td>5.5</td>\n      <td>9.3</td>\n      <td>3.8</td>\n      <td>76</td>\n      <td>24</td>\n      <td>6.0</td>\n      <td>10.0</td>\n      <td>18.0</td>\n      <td>...</td>\n      <td>2.0</td>\n      <td>0.0</td>\n      <td>0.0</td>\n      <td>5</td>\n      <td>0</td>\n      <td>2014</td>\n      <td>2</td>\n      <td>0</td>\n      <td>3</td>\n      <td>0</td>\n    </tr>\n    <tr>\n      <th>231</th>\n      <td>BARCELONA</td>\n      <td>MÁLAGA</td>\n      <td>3.6</td>\n      <td>5.8</td>\n      <td>7.7</td>\n      <td>73</td>\n      <td>27</td>\n      <td>5.0</td>\n      <td>4.0</td>\n      <td>11.0</td>\n      <td>...</td>\n      <td>3.0</td>\n      <td>0.0</td>\n      <td>0.0</td>\n      <td>0</td>\n      <td>1</td>\n      <td>2014</td>\n      <td>0</td>\n      <td>1</td>\n      <td>0</td>\n      <td>3</td>\n    </tr>\n    <tr>\n      <th>241</th>\n      <td>GRANADA</td>\n      <td>BARCELONA</td>\n      <td>6.2</td>\n      <td>4.9</td>\n      <td>7.5</td>\n      <td>33</td>\n      <td>67</td>\n      <td>4.0</td>\n      <td>4.0</td>\n      <td>10.0</td>\n      <td>...</td>\n      <td>3.0</td>\n      <td>0.0</td>\n      <td>0.0</td>\n      <td>1</td>\n      <td>3</td>\n      <td>2014</td>\n      <td>0</td>\n      <td>1</td>\n      <td>0</td>\n      <td>3</td>\n    </tr>\n    <tr>\n      <th>255</th>\n      <td>BARCELONA</td>\n      <td>RAYO VALLECANO</td>\n      <td>7.8</td>\n      <td>8.2</td>\n      <td>3.9</td>\n      <td>57</td>\n      <td>43</td>\n      <td>5.0</td>\n      <td>12.0</td>\n      <td>19.0</td>\n      <td>...</td>\n      <td>3.0</td>\n      <td>1.0</td>\n      <td>0.0</td>\n      <td>6</td>\n      <td>1</td>\n      <td>2014</td>\n      <td>1</td>\n      <td>0</td>\n      <td>3</td>\n      <td>0</td>\n    </tr>\n    <tr>\n      <th>262</th>\n      <td>EIBAR</td>\n      <td>BARCELONA</td>\n      <td>4.3</td>\n      <td>5.8</td>\n      <td>7.7</td>\n      <td>30</td>\n      <td>70</td>\n      <td>5.0</td>\n      <td>2.0</td>\n      <td>13.0</td>\n      <td>...</td>\n      <td>0.0</td>\n      <td>0.0</td>\n      <td>0.0</td>\n      <td>0</td>\n      <td>2</td>\n      <td>2014</td>\n      <td>0</td>\n      <td>1</td>\n      <td>0</td>\n      <td>3</td>\n    </tr>\n    <tr>\n      <th>279</th>\n      <td>BARCELONA</td>\n      <td>REAL MADRID</td>\n      <td>6.6</td>\n      <td>7.1</td>\n      <td>6.0</td>\n      <td>52</td>\n      <td>48</td>\n      <td>9.0</td>\n      <td>5.0</td>\n      <td>17.0</td>\n      <td>...</td>\n      <td>6.0</td>\n      <td>0.0</td>\n      <td>0.0</td>\n      <td>2</td>\n      <td>1</td>\n      <td>2014</td>\n      <td>1</td>\n      <td>1</td>\n      <td>3</td>\n      <td>0</td>\n    </tr>\n    <tr>\n      <th>288</th>\n      <td>CELTA</td>\n      <td>BARCELONA</td>\n      <td>3.1</td>\n      <td>5.7</td>\n      <td>7.4</td>\n      <td>38</td>\n      <td>62</td>\n      <td>6.0</td>\n      <td>1.0</td>\n      <td>7.0</td>\n      <td>...</td>\n      <td>2.0</td>\n      <td>0.0</td>\n      <td>0.0</td>\n      <td>0</td>\n      <td>1</td>\n      <td>2014</td>\n      <td>0</td>\n      <td>0</td>\n      <td>0</td>\n      <td>3</td>\n    </tr>\n    <tr>\n      <th>293</th>\n      <td>BARCELONA</td>\n      <td>ALMERÍA</td>\n      <td>6.5</td>\n      <td>8.6</td>\n      <td>4.5</td>\n      <td>72</td>\n      <td>28</td>\n      <td>4.0</td>\n      <td>12.0</td>\n      <td>19.0</td>\n      <td>...</td>\n      <td>3.0</td>\n      <td>0.0</td>\n      <td>0.0</td>\n      <td>4</td>\n      <td>0</td>\n      <td>2014</td>\n      <td>1</td>\n      <td>0</td>\n      <td>3</td>\n      <td>0</td>\n    </tr>\n    <tr>\n      <th>302</th>\n      <td>SEVILLA FC</td>\n      <td>BARCELONA</td>\n      <td>7.8</td>\n      <td>6.1</td>\n      <td>6.7</td>\n      <td>30</td>\n      <td>70</td>\n      <td>5.0</td>\n      <td>2.0</td>\n      <td>11.0</td>\n      <td>...</td>\n      <td>2.0</td>\n      <td>0.0</td>\n      <td>0.0</td>\n      <td>2</td>\n      <td>2</td>\n      <td>2014</td>\n      <td>1</td>\n      <td>2</td>\n      <td>1</td>\n      <td>1</td>\n    </tr>\n    <tr>\n      <th>311</th>\n      <td>BARCELONA</td>\n      <td>VALENCIA</td>\n      <td>5.7</td>\n      <td>6.9</td>\n      <td>5.4</td>\n      <td>69</td>\n      <td>31</td>\n      <td>6.0</td>\n      <td>5.0</td>\n      <td>11.0</td>\n      <td>...</td>\n      <td>4.0</td>\n      <td>0.0</td>\n      <td>0.0</td>\n      <td>2</td>\n      <td>0</td>\n      <td>2014</td>\n      <td>1</td>\n      <td>0</td>\n      <td>3</td>\n      <td>0</td>\n    </tr>\n    <tr>\n      <th>321</th>\n      <td>ESPANYOL</td>\n      <td>BARCELONA</td>\n      <td>5.0</td>\n      <td>5.2</td>\n      <td>7.2</td>\n      <td>28</td>\n      <td>72</td>\n      <td>3.0</td>\n      <td>2.0</td>\n      <td>7.0</td>\n      <td>...</td>\n      <td>2.0</td>\n      <td>1.0</td>\n      <td>0.0</td>\n      <td>0</td>\n      <td>2</td>\n      <td>2014</td>\n      <td>0</td>\n      <td>2</td>\n      <td>0</td>\n      <td>3</td>\n    </tr>\n    <tr>\n      <th>330</th>\n      <td>BARCELONA</td>\n      <td>GETAFE</td>\n      <td>6.6</td>\n      <td>9.6</td>\n      <td>4.1</td>\n      <td>73</td>\n      <td>27</td>\n      <td>7.0</td>\n      <td>12.0</td>\n      <td>21.0</td>\n      <td>...</td>\n      <td>0.0</td>\n      <td>0.0</td>\n      <td>0.0</td>\n      <td>6</td>\n      <td>0</td>\n      <td>2014</td>\n      <td>5</td>\n      <td>0</td>\n      <td>3</td>\n      <td>0</td>\n    </tr>\n    <tr>\n      <th>341</th>\n      <td>CÓRDOBA</td>\n      <td>BARCELONA</td>\n      <td>7.0</td>\n      <td>2.8</td>\n      <td>10.0</td>\n      <td>25</td>\n      <td>75</td>\n      <td>4.0</td>\n      <td>1.0</td>\n      <td>5.0</td>\n      <td>...</td>\n      <td>0.0</td>\n      <td>0.0</td>\n      <td>0.0</td>\n      <td>0</td>\n      <td>8</td>\n      <td>2014</td>\n      <td>0</td>\n      <td>2</td>\n      <td>0</td>\n      <td>3</td>\n    </tr>\n    <tr>\n      <th>352</th>\n      <td>BARCELONA</td>\n      <td>REAL SOCIEDAD</td>\n      <td>4.6</td>\n      <td>7.9</td>\n      <td>5.1</td>\n      <td>65</td>\n      <td>35</td>\n      <td>5.0</td>\n      <td>8.0</td>\n      <td>15.0</td>\n      <td>...</td>\n      <td>5.0</td>\n      <td>0.0</td>\n      <td>0.0</td>\n      <td>2</td>\n      <td>0</td>\n      <td>2014</td>\n      <td>0</td>\n      <td>0</td>\n      <td>3</td>\n      <td>0</td>\n    </tr>\n    <tr>\n      <th>361</th>\n      <td>ATLETICO MADRID</td>\n      <td>BARCELONA</td>\n      <td>3.9</td>\n      <td>5.7</td>\n      <td>6.9</td>\n      <td>23</td>\n      <td>77</td>\n      <td>4.0</td>\n      <td>3.0</td>\n      <td>10.0</td>\n      <td>...</td>\n      <td>3.0</td>\n      <td>0.0</td>\n      <td>0.0</td>\n      <td>0</td>\n      <td>1</td>\n      <td>2014</td>\n      <td>0</td>\n      <td>0</td>\n      <td>0</td>\n      <td>3</td>\n    </tr>\n    <tr>\n      <th>371</th>\n      <td>BARCELONA</td>\n      <td>DEPORTIVO</td>\n      <td>7.8</td>\n      <td>6.3</td>\n      <td>7.2</td>\n      <td>78</td>\n      <td>22</td>\n      <td>8.0</td>\n      <td>7.0</td>\n      <td>17.0</td>\n      <td>...</td>\n      <td>3.0</td>\n      <td>0.0</td>\n      <td>0.0</td>\n      <td>2</td>\n      <td>2</td>\n      <td>2014</td>\n      <td>1</td>\n      <td>0</td>\n      <td>1</td>\n      <td>1</td>\n    </tr>\n  </tbody>\n</table>\n<p>38 rows × 40 columns</p>\n</div>"
     },
     "execution_count": 18,
     "metadata": {},
     "output_type": "execute_result"
    }
   ],
   "source": [
    "la_liga_2014"
   ],
   "metadata": {
    "collapsed": false,
    "pycharm": {
     "name": "#%%\n"
    }
   }
  },
  {
   "cell_type": "code",
   "execution_count": 19,
   "outputs": [
    {
     "data": {
      "text/plain": "           Home Team        Away Team  Match Excitement  Home Team Rating  \\\n5          BARCELONA            ELCHE               5.1               8.0   \n16        VILLARREAL        BARCELONA               5.2               5.5   \n21         BARCELONA         ATHLETIC               4.3               7.7   \n38           LEVANTE        BARCELONA               5.9               4.0   \n45            MÁLAGA        BARCELONA               2.2               6.9   \n52         BARCELONA          GRANADA               7.0              10.0   \n62    RAYO VALLECANO        BARCELONA               5.3               4.7   \n73         BARCELONA            EIBAR               6.0               8.7   \n82       REAL MADRID        BARCELONA               7.4               7.4   \n93         BARCELONA            CELTA               5.4               6.5   \n101          ALMERÍA        BARCELONA               6.1               5.3   \n113        BARCELONA       SEVILLA FC               5.7               9.1   \n128         VALENCIA        BARCELONA               4.1               6.3   \n135        BARCELONA         ESPANYOL               5.9               8.8   \n141           GETAFE        BARCELONA               2.6               6.5   \n151        BARCELONA          CÓRDOBA               6.5               8.7   \n168    REAL SOCIEDAD        BARCELONA               3.4               6.5   \n178        BARCELONA  ATLETICO MADRID               6.5               7.0   \n187        DEPORTIVO        BARCELONA               5.4               4.8   \n191            ELCHE        BARCELONA               6.6               3.3   \n208        BARCELONA       VILLARREAL               7.7               6.9   \n218         ATHLETIC        BARCELONA               9.1               4.4   \n226        BARCELONA          LEVANTE               5.5               9.3   \n231        BARCELONA           MÁLAGA               3.6               5.8   \n241          GRANADA        BARCELONA               6.2               4.9   \n255        BARCELONA   RAYO VALLECANO               7.8               8.2   \n262            EIBAR        BARCELONA               4.3               5.8   \n279        BARCELONA      REAL MADRID               6.6               7.1   \n288            CELTA        BARCELONA               3.1               5.7   \n293        BARCELONA          ALMERÍA               6.5               8.6   \n302       SEVILLA FC        BARCELONA               7.8               6.1   \n311        BARCELONA         VALENCIA               5.7               6.9   \n321         ESPANYOL        BARCELONA               5.0               5.2   \n330        BARCELONA           GETAFE               6.6               9.6   \n341          CÓRDOBA        BARCELONA               7.0               2.8   \n352        BARCELONA    REAL SOCIEDAD               4.6               7.9   \n361  ATLETICO MADRID        BARCELONA               3.9               5.7   \n371        BARCELONA        DEPORTIVO               7.8               6.3   \n\n     Away Team Rating  Home Team Possession %  Away Team Possession %  \\\n5                 5.3                      72                      28   \n16                7.7                      28                      72   \n21                5.7                      61                      39   \n38                8.7                      25                      75   \n45                5.9                      31                      69   \n52                3.7                      69                      31   \n62                6.8                      41                      59   \n73                5.2                      75                      25   \n82                5.6                      42                      58   \n93                6.7                      67                      33   \n101               6.9                      27                      73   \n113               4.7                      70                      30   \n128               6.8                      29                      71   \n135               4.8                      79                      21   \n141               6.6                      24                      76   \n151               4.7                      75                      25   \n168               6.0                      27                      73   \n178               5.2                      68                      32   \n187               8.3                      32                      68   \n191               9.0                      28                      72   \n208               5.8                      69                      31   \n218               8.2                      27                      73   \n226               3.8                      76                      24   \n231               7.7                      73                      27   \n241               7.5                      33                      67   \n255               3.9                      57                      43   \n262               7.7                      30                      70   \n279               6.0                      52                      48   \n288               7.4                      38                      62   \n293               4.5                      72                      28   \n302               6.7                      30                      70   \n311               5.4                      69                      31   \n321               7.2                      28                      72   \n330               4.1                      73                      27   \n341              10.0                      25                      75   \n352               5.1                      65                      35   \n361               6.9                      23                      77   \n371               7.2                      78                      22   \n\n     Home Team Off Target Shots  Home Team On Target Shots  \\\n5                           5.0                        6.0   \n16                          7.0                        0.0   \n21                          5.0                        8.0   \n38                          3.0                        2.0   \n45                          4.0                        2.0   \n52                          5.0                       12.0   \n62                          8.0                        4.0   \n73                          9.0                       12.0   \n82                          5.0                        6.0   \n93                         10.0                        9.0   \n101                         3.0                        2.0   \n113                         3.0                       10.0   \n128                         6.0                        4.0   \n135                         5.0                        7.0   \n141                         1.0                        2.0   \n151                         5.0                        9.0   \n168                         3.0                        1.0   \n178                         5.0                        7.0   \n187                         4.0                        2.0   \n191                         2.0                        3.0   \n208                         8.0                        7.0   \n218                         4.0                        6.0   \n226                         6.0                       10.0   \n231                         5.0                        4.0   \n241                         4.0                        4.0   \n255                         5.0                       12.0   \n262                         5.0                        2.0   \n279                         9.0                        5.0   \n288                         6.0                        1.0   \n293                         4.0                       12.0   \n302                         5.0                        2.0   \n311                         6.0                        5.0   \n321                         3.0                        2.0   \n330                         7.0                       12.0   \n341                         4.0                        1.0   \n352                         5.0                        8.0   \n361                         4.0                        3.0   \n371                         8.0                        7.0   \n\n     Home Team Total Shots  ...  Away Team Yellow Cards  \\\n5                     12.0  ...                     1.0   \n16                     9.0  ...                     2.0   \n21                    14.0  ...                     1.0   \n38                     9.0  ...                     2.0   \n45                     6.0  ...                     2.0   \n52                    19.0  ...                     3.0   \n62                    14.0  ...                     2.0   \n73                    27.0  ...                     2.0   \n82                    18.0  ...                     4.0   \n93                    19.0  ...                     2.0   \n101                    6.0  ...                     0.0   \n113                   16.0  ...                     2.0   \n128                   12.0  ...                     4.0   \n135                   15.0  ...                     4.0   \n141                    4.0  ...                     0.0   \n151                   16.0  ...                     0.0   \n168                    6.0  ...                     4.0   \n178                   17.0  ...                     6.0   \n187                    7.0  ...                     2.0   \n191                    6.0  ...                     2.0   \n208                   19.0  ...                     2.0   \n218                   15.0  ...                     1.0   \n226                   18.0  ...                     2.0   \n231                   11.0  ...                     3.0   \n241                   10.0  ...                     3.0   \n255                   19.0  ...                     3.0   \n262                   13.0  ...                     0.0   \n279                   17.0  ...                     6.0   \n288                    7.0  ...                     2.0   \n293                   19.0  ...                     3.0   \n302                   11.0  ...                     2.0   \n311                   11.0  ...                     4.0   \n321                    7.0  ...                     2.0   \n330                   21.0  ...                     0.0   \n341                    5.0  ...                     0.0   \n352                   15.0  ...                     5.0   \n361                   10.0  ...                     3.0   \n371                   17.0  ...                     3.0   \n\n     Away Team Second Yellow Cards  Away Team Red Cards  \\\n5                              0.0                  0.0   \n16                             0.0                  0.0   \n21                             0.0                  0.0   \n38                             0.0                  0.0   \n45                             0.0                  0.0   \n52                             0.0                  0.0   \n62                             0.0                  0.0   \n73                             0.0                  0.0   \n82                             0.0                  0.0   \n93                             0.0                  0.0   \n101                            0.0                  0.0   \n113                            0.0                  0.0   \n128                            0.0                  0.0   \n135                            0.0                  0.0   \n141                            0.0                  0.0   \n151                            0.0                  0.0   \n168                            0.0                  0.0   \n178                            0.0                  0.0   \n187                            0.0                  0.0   \n191                            0.0                  0.0   \n208                            0.0                  0.0   \n218                            0.0                  0.0   \n226                            0.0                  0.0   \n231                            0.0                  0.0   \n241                            0.0                  0.0   \n255                            1.0                  0.0   \n262                            0.0                  0.0   \n279                            0.0                  0.0   \n288                            0.0                  0.0   \n293                            0.0                  0.0   \n302                            0.0                  0.0   \n311                            0.0                  0.0   \n321                            1.0                  0.0   \n330                            0.0                  0.0   \n341                            0.0                  0.0   \n352                            0.0                  0.0   \n361                            0.0                  0.0   \n371                            0.0                  0.0   \n\n     Home Team Goals Scored  Away Team Goals Scored  year  Home Team Goals ht  \\\n5                         3                       0  2014                   1   \n16                        0                       1  2014                   0   \n21                        2                       0  2014                   0   \n38                        0                       5  2014                   0   \n45                        0                       0  2014                   0   \n52                        6                       0  2014                   3   \n62                        0                       2  2014                   0   \n73                        3                       0  2014                   0   \n82                        3                       1  2014                   1   \n93                        0                       1  2014                   0   \n101                       1                       2  2014                   1   \n113                       5                       1  2014                   1   \n128                       0                       1  2014                   0   \n135                       5                       1  2014                   1   \n141                       0                       0  2014                   0   \n151                       5                       0  2014                   1   \n168                       1                       0  2014                   1   \n178                       3                       1  2014                   2   \n187                       0                       4  2014                   0   \n191                       0                       6  2014                   0   \n208                       3                       2  2014                   1   \n218                       2                       5  2014                   0   \n226                       5                       0  2014                   2   \n231                       0                       1  2014                   0   \n241                       1                       3  2014                   0   \n255                       6                       1  2014                   1   \n262                       0                       2  2014                   0   \n279                       2                       1  2014                   1   \n288                       0                       1  2014                   0   \n293                       4                       0  2014                   1   \n302                       2                       2  2014                   1   \n311                       2                       0  2014                   1   \n321                       0                       2  2014                   0   \n330                       6                       0  2014                   5   \n341                       0                       8  2014                   0   \n352                       2                       0  2014                   0   \n361                       0                       1  2014                   0   \n371                       2                       2  2014                   1   \n\n     Away Team Goals ht  Home Team Result  Away Team Result  \n5                     0                 3                 0  \n16                    0                 0                 3  \n21                    0                 3                 0  \n38                    2                 0                 3  \n45                    0                 1                 1  \n52                    0                 3                 0  \n62                    2                 0                 3  \n73                    0                 3                 0  \n82                    1                 3                 0  \n93                    0                 0                 3  \n101                   0                 0                 3  \n113                   0                 3                 0  \n128                   0                 0                 3  \n135                   1                 3                 0  \n141                   0                 1                 1  \n151                   0                 3                 0  \n168                   0                 3                 0  \n178                   0                 3                 0  \n187                   2                 0                 3  \n191                   1                 0                 3  \n208                   1                 3                 0  \n218                   2                 0                 3  \n226                   0                 3                 0  \n231                   1                 0                 3  \n241                   1                 0                 3  \n255                   0                 3                 0  \n262                   1                 0                 3  \n279                   1                 3                 0  \n288                   0                 0                 3  \n293                   0                 3                 0  \n302                   2                 1                 1  \n311                   0                 3                 0  \n321                   2                 0                 3  \n330                   0                 3                 0  \n341                   2                 0                 3  \n352                   0                 3                 0  \n361                   0                 0                 3  \n371                   0                 1                 1  \n\n[38 rows x 40 columns]",
      "text/html": "<div>\n<style scoped>\n    .dataframe tbody tr th:only-of-type {\n        vertical-align: middle;\n    }\n\n    .dataframe tbody tr th {\n        vertical-align: top;\n    }\n\n    .dataframe thead th {\n        text-align: right;\n    }\n</style>\n<table border=\"1\" class=\"dataframe\">\n  <thead>\n    <tr style=\"text-align: right;\">\n      <th></th>\n      <th>Home Team</th>\n      <th>Away Team</th>\n      <th>Match Excitement</th>\n      <th>Home Team Rating</th>\n      <th>Away Team Rating</th>\n      <th>Home Team Possession %</th>\n      <th>Away Team Possession %</th>\n      <th>Home Team Off Target Shots</th>\n      <th>Home Team On Target Shots</th>\n      <th>Home Team Total Shots</th>\n      <th>...</th>\n      <th>Away Team Yellow Cards</th>\n      <th>Away Team Second Yellow Cards</th>\n      <th>Away Team Red Cards</th>\n      <th>Home Team Goals Scored</th>\n      <th>Away Team Goals Scored</th>\n      <th>year</th>\n      <th>Home Team Goals ht</th>\n      <th>Away Team Goals ht</th>\n      <th>Home Team Result</th>\n      <th>Away Team Result</th>\n    </tr>\n  </thead>\n  <tbody>\n    <tr>\n      <th>5</th>\n      <td>BARCELONA</td>\n      <td>ELCHE</td>\n      <td>5.1</td>\n      <td>8.0</td>\n      <td>5.3</td>\n      <td>72</td>\n      <td>28</td>\n      <td>5.0</td>\n      <td>6.0</td>\n      <td>12.0</td>\n      <td>...</td>\n      <td>1.0</td>\n      <td>0.0</td>\n      <td>0.0</td>\n      <td>3</td>\n      <td>0</td>\n      <td>2014</td>\n      <td>1</td>\n      <td>0</td>\n      <td>3</td>\n      <td>0</td>\n    </tr>\n    <tr>\n      <th>16</th>\n      <td>VILLARREAL</td>\n      <td>BARCELONA</td>\n      <td>5.2</td>\n      <td>5.5</td>\n      <td>7.7</td>\n      <td>28</td>\n      <td>72</td>\n      <td>7.0</td>\n      <td>0.0</td>\n      <td>9.0</td>\n      <td>...</td>\n      <td>2.0</td>\n      <td>0.0</td>\n      <td>0.0</td>\n      <td>0</td>\n      <td>1</td>\n      <td>2014</td>\n      <td>0</td>\n      <td>0</td>\n      <td>0</td>\n      <td>3</td>\n    </tr>\n    <tr>\n      <th>21</th>\n      <td>BARCELONA</td>\n      <td>ATHLETIC</td>\n      <td>4.3</td>\n      <td>7.7</td>\n      <td>5.7</td>\n      <td>61</td>\n      <td>39</td>\n      <td>5.0</td>\n      <td>8.0</td>\n      <td>14.0</td>\n      <td>...</td>\n      <td>1.0</td>\n      <td>0.0</td>\n      <td>0.0</td>\n      <td>2</td>\n      <td>0</td>\n      <td>2014</td>\n      <td>0</td>\n      <td>0</td>\n      <td>3</td>\n      <td>0</td>\n    </tr>\n    <tr>\n      <th>38</th>\n      <td>LEVANTE</td>\n      <td>BARCELONA</td>\n      <td>5.9</td>\n      <td>4.0</td>\n      <td>8.7</td>\n      <td>25</td>\n      <td>75</td>\n      <td>3.0</td>\n      <td>2.0</td>\n      <td>9.0</td>\n      <td>...</td>\n      <td>2.0</td>\n      <td>0.0</td>\n      <td>0.0</td>\n      <td>0</td>\n      <td>5</td>\n      <td>2014</td>\n      <td>0</td>\n      <td>2</td>\n      <td>0</td>\n      <td>3</td>\n    </tr>\n    <tr>\n      <th>45</th>\n      <td>MÁLAGA</td>\n      <td>BARCELONA</td>\n      <td>2.2</td>\n      <td>6.9</td>\n      <td>5.9</td>\n      <td>31</td>\n      <td>69</td>\n      <td>4.0</td>\n      <td>2.0</td>\n      <td>6.0</td>\n      <td>...</td>\n      <td>2.0</td>\n      <td>0.0</td>\n      <td>0.0</td>\n      <td>0</td>\n      <td>0</td>\n      <td>2014</td>\n      <td>0</td>\n      <td>0</td>\n      <td>1</td>\n      <td>1</td>\n    </tr>\n    <tr>\n      <th>52</th>\n      <td>BARCELONA</td>\n      <td>GRANADA</td>\n      <td>7.0</td>\n      <td>10.0</td>\n      <td>3.7</td>\n      <td>69</td>\n      <td>31</td>\n      <td>5.0</td>\n      <td>12.0</td>\n      <td>19.0</td>\n      <td>...</td>\n      <td>3.0</td>\n      <td>0.0</td>\n      <td>0.0</td>\n      <td>6</td>\n      <td>0</td>\n      <td>2014</td>\n      <td>3</td>\n      <td>0</td>\n      <td>3</td>\n      <td>0</td>\n    </tr>\n    <tr>\n      <th>62</th>\n      <td>RAYO VALLECANO</td>\n      <td>BARCELONA</td>\n      <td>5.3</td>\n      <td>4.7</td>\n      <td>6.8</td>\n      <td>41</td>\n      <td>59</td>\n      <td>8.0</td>\n      <td>4.0</td>\n      <td>14.0</td>\n      <td>...</td>\n      <td>2.0</td>\n      <td>0.0</td>\n      <td>0.0</td>\n      <td>0</td>\n      <td>2</td>\n      <td>2014</td>\n      <td>0</td>\n      <td>2</td>\n      <td>0</td>\n      <td>3</td>\n    </tr>\n    <tr>\n      <th>73</th>\n      <td>BARCELONA</td>\n      <td>EIBAR</td>\n      <td>6.0</td>\n      <td>8.7</td>\n      <td>5.2</td>\n      <td>75</td>\n      <td>25</td>\n      <td>9.0</td>\n      <td>12.0</td>\n      <td>27.0</td>\n      <td>...</td>\n      <td>2.0</td>\n      <td>0.0</td>\n      <td>0.0</td>\n      <td>3</td>\n      <td>0</td>\n      <td>2014</td>\n      <td>0</td>\n      <td>0</td>\n      <td>3</td>\n      <td>0</td>\n    </tr>\n    <tr>\n      <th>82</th>\n      <td>REAL MADRID</td>\n      <td>BARCELONA</td>\n      <td>7.4</td>\n      <td>7.4</td>\n      <td>5.6</td>\n      <td>42</td>\n      <td>58</td>\n      <td>5.0</td>\n      <td>6.0</td>\n      <td>18.0</td>\n      <td>...</td>\n      <td>4.0</td>\n      <td>0.0</td>\n      <td>0.0</td>\n      <td>3</td>\n      <td>1</td>\n      <td>2014</td>\n      <td>1</td>\n      <td>1</td>\n      <td>3</td>\n      <td>0</td>\n    </tr>\n    <tr>\n      <th>93</th>\n      <td>BARCELONA</td>\n      <td>CELTA</td>\n      <td>5.4</td>\n      <td>6.5</td>\n      <td>6.7</td>\n      <td>67</td>\n      <td>33</td>\n      <td>10.0</td>\n      <td>9.0</td>\n      <td>19.0</td>\n      <td>...</td>\n      <td>2.0</td>\n      <td>0.0</td>\n      <td>0.0</td>\n      <td>0</td>\n      <td>1</td>\n      <td>2014</td>\n      <td>0</td>\n      <td>0</td>\n      <td>0</td>\n      <td>3</td>\n    </tr>\n    <tr>\n      <th>101</th>\n      <td>ALMERÍA</td>\n      <td>BARCELONA</td>\n      <td>6.1</td>\n      <td>5.3</td>\n      <td>6.9</td>\n      <td>27</td>\n      <td>73</td>\n      <td>3.0</td>\n      <td>2.0</td>\n      <td>6.0</td>\n      <td>...</td>\n      <td>0.0</td>\n      <td>0.0</td>\n      <td>0.0</td>\n      <td>1</td>\n      <td>2</td>\n      <td>2014</td>\n      <td>1</td>\n      <td>0</td>\n      <td>0</td>\n      <td>3</td>\n    </tr>\n    <tr>\n      <th>113</th>\n      <td>BARCELONA</td>\n      <td>SEVILLA FC</td>\n      <td>5.7</td>\n      <td>9.1</td>\n      <td>4.7</td>\n      <td>70</td>\n      <td>30</td>\n      <td>3.0</td>\n      <td>10.0</td>\n      <td>16.0</td>\n      <td>...</td>\n      <td>2.0</td>\n      <td>0.0</td>\n      <td>0.0</td>\n      <td>5</td>\n      <td>1</td>\n      <td>2014</td>\n      <td>1</td>\n      <td>0</td>\n      <td>3</td>\n      <td>0</td>\n    </tr>\n    <tr>\n      <th>128</th>\n      <td>VALENCIA</td>\n      <td>BARCELONA</td>\n      <td>4.1</td>\n      <td>6.3</td>\n      <td>6.8</td>\n      <td>29</td>\n      <td>71</td>\n      <td>6.0</td>\n      <td>4.0</td>\n      <td>12.0</td>\n      <td>...</td>\n      <td>4.0</td>\n      <td>0.0</td>\n      <td>0.0</td>\n      <td>0</td>\n      <td>1</td>\n      <td>2014</td>\n      <td>0</td>\n      <td>0</td>\n      <td>0</td>\n      <td>3</td>\n    </tr>\n    <tr>\n      <th>135</th>\n      <td>BARCELONA</td>\n      <td>ESPANYOL</td>\n      <td>5.9</td>\n      <td>8.8</td>\n      <td>4.8</td>\n      <td>79</td>\n      <td>21</td>\n      <td>5.0</td>\n      <td>7.0</td>\n      <td>15.0</td>\n      <td>...</td>\n      <td>4.0</td>\n      <td>0.0</td>\n      <td>0.0</td>\n      <td>5</td>\n      <td>1</td>\n      <td>2014</td>\n      <td>1</td>\n      <td>1</td>\n      <td>3</td>\n      <td>0</td>\n    </tr>\n    <tr>\n      <th>141</th>\n      <td>GETAFE</td>\n      <td>BARCELONA</td>\n      <td>2.6</td>\n      <td>6.5</td>\n      <td>6.6</td>\n      <td>24</td>\n      <td>76</td>\n      <td>1.0</td>\n      <td>2.0</td>\n      <td>4.0</td>\n      <td>...</td>\n      <td>0.0</td>\n      <td>0.0</td>\n      <td>0.0</td>\n      <td>0</td>\n      <td>0</td>\n      <td>2014</td>\n      <td>0</td>\n      <td>0</td>\n      <td>1</td>\n      <td>1</td>\n    </tr>\n    <tr>\n      <th>151</th>\n      <td>BARCELONA</td>\n      <td>CÓRDOBA</td>\n      <td>6.5</td>\n      <td>8.7</td>\n      <td>4.7</td>\n      <td>75</td>\n      <td>25</td>\n      <td>5.0</td>\n      <td>9.0</td>\n      <td>16.0</td>\n      <td>...</td>\n      <td>0.0</td>\n      <td>0.0</td>\n      <td>0.0</td>\n      <td>5</td>\n      <td>0</td>\n      <td>2014</td>\n      <td>1</td>\n      <td>0</td>\n      <td>3</td>\n      <td>0</td>\n    </tr>\n    <tr>\n      <th>168</th>\n      <td>REAL SOCIEDAD</td>\n      <td>BARCELONA</td>\n      <td>3.4</td>\n      <td>6.5</td>\n      <td>6.0</td>\n      <td>27</td>\n      <td>73</td>\n      <td>3.0</td>\n      <td>1.0</td>\n      <td>6.0</td>\n      <td>...</td>\n      <td>4.0</td>\n      <td>0.0</td>\n      <td>0.0</td>\n      <td>1</td>\n      <td>0</td>\n      <td>2014</td>\n      <td>1</td>\n      <td>0</td>\n      <td>3</td>\n      <td>0</td>\n    </tr>\n    <tr>\n      <th>178</th>\n      <td>BARCELONA</td>\n      <td>ATLETICO MADRID</td>\n      <td>6.5</td>\n      <td>7.0</td>\n      <td>5.2</td>\n      <td>68</td>\n      <td>32</td>\n      <td>5.0</td>\n      <td>7.0</td>\n      <td>17.0</td>\n      <td>...</td>\n      <td>6.0</td>\n      <td>0.0</td>\n      <td>0.0</td>\n      <td>3</td>\n      <td>1</td>\n      <td>2014</td>\n      <td>2</td>\n      <td>0</td>\n      <td>3</td>\n      <td>0</td>\n    </tr>\n    <tr>\n      <th>187</th>\n      <td>DEPORTIVO</td>\n      <td>BARCELONA</td>\n      <td>5.4</td>\n      <td>4.8</td>\n      <td>8.3</td>\n      <td>32</td>\n      <td>68</td>\n      <td>4.0</td>\n      <td>2.0</td>\n      <td>7.0</td>\n      <td>...</td>\n      <td>2.0</td>\n      <td>0.0</td>\n      <td>0.0</td>\n      <td>0</td>\n      <td>4</td>\n      <td>2014</td>\n      <td>0</td>\n      <td>2</td>\n      <td>0</td>\n      <td>3</td>\n    </tr>\n    <tr>\n      <th>191</th>\n      <td>ELCHE</td>\n      <td>BARCELONA</td>\n      <td>6.6</td>\n      <td>3.3</td>\n      <td>9.0</td>\n      <td>28</td>\n      <td>72</td>\n      <td>2.0</td>\n      <td>3.0</td>\n      <td>6.0</td>\n      <td>...</td>\n      <td>2.0</td>\n      <td>0.0</td>\n      <td>0.0</td>\n      <td>0</td>\n      <td>6</td>\n      <td>2014</td>\n      <td>0</td>\n      <td>1</td>\n      <td>0</td>\n      <td>3</td>\n    </tr>\n    <tr>\n      <th>208</th>\n      <td>BARCELONA</td>\n      <td>VILLARREAL</td>\n      <td>7.7</td>\n      <td>6.9</td>\n      <td>5.8</td>\n      <td>69</td>\n      <td>31</td>\n      <td>8.0</td>\n      <td>7.0</td>\n      <td>19.0</td>\n      <td>...</td>\n      <td>2.0</td>\n      <td>0.0</td>\n      <td>0.0</td>\n      <td>3</td>\n      <td>2</td>\n      <td>2014</td>\n      <td>1</td>\n      <td>1</td>\n      <td>3</td>\n      <td>0</td>\n    </tr>\n    <tr>\n      <th>218</th>\n      <td>ATHLETIC</td>\n      <td>BARCELONA</td>\n      <td>9.1</td>\n      <td>4.4</td>\n      <td>8.2</td>\n      <td>27</td>\n      <td>73</td>\n      <td>4.0</td>\n      <td>6.0</td>\n      <td>15.0</td>\n      <td>...</td>\n      <td>1.0</td>\n      <td>0.0</td>\n      <td>0.0</td>\n      <td>2</td>\n      <td>5</td>\n      <td>2014</td>\n      <td>0</td>\n      <td>2</td>\n      <td>0</td>\n      <td>3</td>\n    </tr>\n    <tr>\n      <th>226</th>\n      <td>BARCELONA</td>\n      <td>LEVANTE</td>\n      <td>5.5</td>\n      <td>9.3</td>\n      <td>3.8</td>\n      <td>76</td>\n      <td>24</td>\n      <td>6.0</td>\n      <td>10.0</td>\n      <td>18.0</td>\n      <td>...</td>\n      <td>2.0</td>\n      <td>0.0</td>\n      <td>0.0</td>\n      <td>5</td>\n      <td>0</td>\n      <td>2014</td>\n      <td>2</td>\n      <td>0</td>\n      <td>3</td>\n      <td>0</td>\n    </tr>\n    <tr>\n      <th>231</th>\n      <td>BARCELONA</td>\n      <td>MÁLAGA</td>\n      <td>3.6</td>\n      <td>5.8</td>\n      <td>7.7</td>\n      <td>73</td>\n      <td>27</td>\n      <td>5.0</td>\n      <td>4.0</td>\n      <td>11.0</td>\n      <td>...</td>\n      <td>3.0</td>\n      <td>0.0</td>\n      <td>0.0</td>\n      <td>0</td>\n      <td>1</td>\n      <td>2014</td>\n      <td>0</td>\n      <td>1</td>\n      <td>0</td>\n      <td>3</td>\n    </tr>\n    <tr>\n      <th>241</th>\n      <td>GRANADA</td>\n      <td>BARCELONA</td>\n      <td>6.2</td>\n      <td>4.9</td>\n      <td>7.5</td>\n      <td>33</td>\n      <td>67</td>\n      <td>4.0</td>\n      <td>4.0</td>\n      <td>10.0</td>\n      <td>...</td>\n      <td>3.0</td>\n      <td>0.0</td>\n      <td>0.0</td>\n      <td>1</td>\n      <td>3</td>\n      <td>2014</td>\n      <td>0</td>\n      <td>1</td>\n      <td>0</td>\n      <td>3</td>\n    </tr>\n    <tr>\n      <th>255</th>\n      <td>BARCELONA</td>\n      <td>RAYO VALLECANO</td>\n      <td>7.8</td>\n      <td>8.2</td>\n      <td>3.9</td>\n      <td>57</td>\n      <td>43</td>\n      <td>5.0</td>\n      <td>12.0</td>\n      <td>19.0</td>\n      <td>...</td>\n      <td>3.0</td>\n      <td>1.0</td>\n      <td>0.0</td>\n      <td>6</td>\n      <td>1</td>\n      <td>2014</td>\n      <td>1</td>\n      <td>0</td>\n      <td>3</td>\n      <td>0</td>\n    </tr>\n    <tr>\n      <th>262</th>\n      <td>EIBAR</td>\n      <td>BARCELONA</td>\n      <td>4.3</td>\n      <td>5.8</td>\n      <td>7.7</td>\n      <td>30</td>\n      <td>70</td>\n      <td>5.0</td>\n      <td>2.0</td>\n      <td>13.0</td>\n      <td>...</td>\n      <td>0.0</td>\n      <td>0.0</td>\n      <td>0.0</td>\n      <td>0</td>\n      <td>2</td>\n      <td>2014</td>\n      <td>0</td>\n      <td>1</td>\n      <td>0</td>\n      <td>3</td>\n    </tr>\n    <tr>\n      <th>279</th>\n      <td>BARCELONA</td>\n      <td>REAL MADRID</td>\n      <td>6.6</td>\n      <td>7.1</td>\n      <td>6.0</td>\n      <td>52</td>\n      <td>48</td>\n      <td>9.0</td>\n      <td>5.0</td>\n      <td>17.0</td>\n      <td>...</td>\n      <td>6.0</td>\n      <td>0.0</td>\n      <td>0.0</td>\n      <td>2</td>\n      <td>1</td>\n      <td>2014</td>\n      <td>1</td>\n      <td>1</td>\n      <td>3</td>\n      <td>0</td>\n    </tr>\n    <tr>\n      <th>288</th>\n      <td>CELTA</td>\n      <td>BARCELONA</td>\n      <td>3.1</td>\n      <td>5.7</td>\n      <td>7.4</td>\n      <td>38</td>\n      <td>62</td>\n      <td>6.0</td>\n      <td>1.0</td>\n      <td>7.0</td>\n      <td>...</td>\n      <td>2.0</td>\n      <td>0.0</td>\n      <td>0.0</td>\n      <td>0</td>\n      <td>1</td>\n      <td>2014</td>\n      <td>0</td>\n      <td>0</td>\n      <td>0</td>\n      <td>3</td>\n    </tr>\n    <tr>\n      <th>293</th>\n      <td>BARCELONA</td>\n      <td>ALMERÍA</td>\n      <td>6.5</td>\n      <td>8.6</td>\n      <td>4.5</td>\n      <td>72</td>\n      <td>28</td>\n      <td>4.0</td>\n      <td>12.0</td>\n      <td>19.0</td>\n      <td>...</td>\n      <td>3.0</td>\n      <td>0.0</td>\n      <td>0.0</td>\n      <td>4</td>\n      <td>0</td>\n      <td>2014</td>\n      <td>1</td>\n      <td>0</td>\n      <td>3</td>\n      <td>0</td>\n    </tr>\n    <tr>\n      <th>302</th>\n      <td>SEVILLA FC</td>\n      <td>BARCELONA</td>\n      <td>7.8</td>\n      <td>6.1</td>\n      <td>6.7</td>\n      <td>30</td>\n      <td>70</td>\n      <td>5.0</td>\n      <td>2.0</td>\n      <td>11.0</td>\n      <td>...</td>\n      <td>2.0</td>\n      <td>0.0</td>\n      <td>0.0</td>\n      <td>2</td>\n      <td>2</td>\n      <td>2014</td>\n      <td>1</td>\n      <td>2</td>\n      <td>1</td>\n      <td>1</td>\n    </tr>\n    <tr>\n      <th>311</th>\n      <td>BARCELONA</td>\n      <td>VALENCIA</td>\n      <td>5.7</td>\n      <td>6.9</td>\n      <td>5.4</td>\n      <td>69</td>\n      <td>31</td>\n      <td>6.0</td>\n      <td>5.0</td>\n      <td>11.0</td>\n      <td>...</td>\n      <td>4.0</td>\n      <td>0.0</td>\n      <td>0.0</td>\n      <td>2</td>\n      <td>0</td>\n      <td>2014</td>\n      <td>1</td>\n      <td>0</td>\n      <td>3</td>\n      <td>0</td>\n    </tr>\n    <tr>\n      <th>321</th>\n      <td>ESPANYOL</td>\n      <td>BARCELONA</td>\n      <td>5.0</td>\n      <td>5.2</td>\n      <td>7.2</td>\n      <td>28</td>\n      <td>72</td>\n      <td>3.0</td>\n      <td>2.0</td>\n      <td>7.0</td>\n      <td>...</td>\n      <td>2.0</td>\n      <td>1.0</td>\n      <td>0.0</td>\n      <td>0</td>\n      <td>2</td>\n      <td>2014</td>\n      <td>0</td>\n      <td>2</td>\n      <td>0</td>\n      <td>3</td>\n    </tr>\n    <tr>\n      <th>330</th>\n      <td>BARCELONA</td>\n      <td>GETAFE</td>\n      <td>6.6</td>\n      <td>9.6</td>\n      <td>4.1</td>\n      <td>73</td>\n      <td>27</td>\n      <td>7.0</td>\n      <td>12.0</td>\n      <td>21.0</td>\n      <td>...</td>\n      <td>0.0</td>\n      <td>0.0</td>\n      <td>0.0</td>\n      <td>6</td>\n      <td>0</td>\n      <td>2014</td>\n      <td>5</td>\n      <td>0</td>\n      <td>3</td>\n      <td>0</td>\n    </tr>\n    <tr>\n      <th>341</th>\n      <td>CÓRDOBA</td>\n      <td>BARCELONA</td>\n      <td>7.0</td>\n      <td>2.8</td>\n      <td>10.0</td>\n      <td>25</td>\n      <td>75</td>\n      <td>4.0</td>\n      <td>1.0</td>\n      <td>5.0</td>\n      <td>...</td>\n      <td>0.0</td>\n      <td>0.0</td>\n      <td>0.0</td>\n      <td>0</td>\n      <td>8</td>\n      <td>2014</td>\n      <td>0</td>\n      <td>2</td>\n      <td>0</td>\n      <td>3</td>\n    </tr>\n    <tr>\n      <th>352</th>\n      <td>BARCELONA</td>\n      <td>REAL SOCIEDAD</td>\n      <td>4.6</td>\n      <td>7.9</td>\n      <td>5.1</td>\n      <td>65</td>\n      <td>35</td>\n      <td>5.0</td>\n      <td>8.0</td>\n      <td>15.0</td>\n      <td>...</td>\n      <td>5.0</td>\n      <td>0.0</td>\n      <td>0.0</td>\n      <td>2</td>\n      <td>0</td>\n      <td>2014</td>\n      <td>0</td>\n      <td>0</td>\n      <td>3</td>\n      <td>0</td>\n    </tr>\n    <tr>\n      <th>361</th>\n      <td>ATLETICO MADRID</td>\n      <td>BARCELONA</td>\n      <td>3.9</td>\n      <td>5.7</td>\n      <td>6.9</td>\n      <td>23</td>\n      <td>77</td>\n      <td>4.0</td>\n      <td>3.0</td>\n      <td>10.0</td>\n      <td>...</td>\n      <td>3.0</td>\n      <td>0.0</td>\n      <td>0.0</td>\n      <td>0</td>\n      <td>1</td>\n      <td>2014</td>\n      <td>0</td>\n      <td>0</td>\n      <td>0</td>\n      <td>3</td>\n    </tr>\n    <tr>\n      <th>371</th>\n      <td>BARCELONA</td>\n      <td>DEPORTIVO</td>\n      <td>7.8</td>\n      <td>6.3</td>\n      <td>7.2</td>\n      <td>78</td>\n      <td>22</td>\n      <td>8.0</td>\n      <td>7.0</td>\n      <td>17.0</td>\n      <td>...</td>\n      <td>3.0</td>\n      <td>0.0</td>\n      <td>0.0</td>\n      <td>2</td>\n      <td>2</td>\n      <td>2014</td>\n      <td>1</td>\n      <td>0</td>\n      <td>1</td>\n      <td>1</td>\n    </tr>\n  </tbody>\n</table>\n<p>38 rows × 40 columns</p>\n</div>"
     },
     "execution_count": 19,
     "metadata": {},
     "output_type": "execute_result"
    }
   ],
   "source": [
    "la_liga_2014"
   ],
   "metadata": {
    "collapsed": false,
    "pycharm": {
     "name": "#%%\n"
    }
   }
  },
  {
   "cell_type": "code",
   "execution_count": 20,
   "outputs": [
    {
     "name": "stderr",
     "output_type": "stream",
     "text": [
      "/var/folders/f0/pqy2clvx0nv38xm_npv8fklm0000gn/T/ipykernel_3415/1108315237.py:2: FutureWarning: Indexing with multiple keys (implicitly converted to a tuple of keys) will be deprecated, use a list instead.\n",
      "  la_liga_2014_home_gb = la_liga_2014.groupby([\"Home Team\"])[\"Home Team Goals Scored\", \"Away Team Goals Scored\", \"Home Team Goals ht\", \"Away Team Goals ht\", \"Home Team Result\", \"Home Team Rating\", \"Home Team Off Target Shots\", \"Home Team On Target Shots\", \"Home Team Total Shots\", \"Home Team Blocked Shots\", \"Home Team Corners\", \"Home Team Pass Success %\", \"Home Team Fouls\", \"Home Team Yellow Cards\", \"Home Team Second Yellow Cards\", \"Home Team Red Cards\"].sum()\n"
     ]
    }
   ],
   "source": [
    "#Groupby Home Team\n",
    "la_liga_2014_home_gb = la_liga_2014.groupby([\"Home Team\"])[\"Home Team Goals Scored\", \"Away Team Goals Scored\", \"Home Team Goals ht\", \"Away Team Goals ht\", \"Home Team Result\", \"Home Team Rating\", \"Home Team Off Target Shots\", \"Home Team On Target Shots\", \"Home Team Total Shots\", \"Home Team Blocked Shots\", \"Home Team Corners\", \"Home Team Pass Success %\", \"Home Team Fouls\", \"Home Team Yellow Cards\", \"Home Team Second Yellow Cards\", \"Home Team Red Cards\"].sum()"
   ],
   "metadata": {
    "collapsed": false,
    "pycharm": {
     "name": "#%%\n"
    }
   }
  },
  {
   "cell_type": "code",
   "execution_count": 21,
   "outputs": [
    {
     "name": "stderr",
     "output_type": "stream",
     "text": [
      "/var/folders/f0/pqy2clvx0nv38xm_npv8fklm0000gn/T/ipykernel_3415/3171837015.py:2: FutureWarning: Indexing with multiple keys (implicitly converted to a tuple of keys) will be deprecated, use a list instead.\n",
      "  la_liga_2014_away_gb = la_liga_2014.groupby([\"Away Team\"])[\"Home Team Goals Scored\",\"Away Team Goals Scored\",\"Home Team Goals ht\",\"Away Team Goals ht\",\"Away Team Result\",\"Away Team Rating\",\"Away Team Off Target Shots\",\"Away Team On Target Shots\",\"Away Team Total Shots\",\"Away Team Blocked Shots\",\"Away Team Corners\",\"Away Team Pass Success %\",\"Away Team Fouls\",\"Away Team Yellow Cards\",\"Away Team Second Yellow Cards\",\"Away Team Red Cards\"].sum()\n"
     ]
    }
   ],
   "source": [
    "#Groupby Away Team\n",
    "la_liga_2014_away_gb = la_liga_2014.groupby([\"Away Team\"])[\"Home Team Goals Scored\",\"Away Team Goals Scored\",\"Home Team Goals ht\",\"Away Team Goals ht\",\"Away Team Result\",\"Away Team Rating\",\"Away Team Off Target Shots\",\"Away Team On Target Shots\",\"Away Team Total Shots\",\"Away Team Blocked Shots\",\"Away Team Corners\",\"Away Team Pass Success %\",\"Away Team Fouls\",\"Away Team Yellow Cards\",\"Away Team Second Yellow Cards\",\"Away Team Red Cards\"].sum()"
   ],
   "metadata": {
    "collapsed": false,
    "pycharm": {
     "name": "#%%\n"
    }
   }
  },
  {
   "cell_type": "code",
   "execution_count": 22,
   "outputs": [],
   "source": [
    "#Reanme all columns to join the dataframes\n",
    "la_liga_2014_home_gb = la_liga_2014_home_gb.rename(columns={\"Home Team Goals Scored\":\"Home Goals Scored\", \"Away Team Goals Scored\": \"Home Goals received\", \"Home Team Goals ht\": \"Home Goals ht\", \"Away Team Goals ht\": \"Home Goals received ht\", \"Home Team Result\": \"Home Points\", \"Home Team Rating\": \"Home Rating\", \"Home Team Off Target Shots\": \"Home Off Target Shots\", \"Home Team On Target Shots\": \"Home On Target Shots\",\"Home Team Total Shots\":\"Home Total Shots\", \"Home Team Blocked Shots\": \"Home Blocked Shots\", \"Home Team Corners\": \"Home Corners\", \"Home Team Pass Success %\": \"Home Pass Success %\", \"Home Team Fouls\": \"Home Fouls\", \"Home Team Yellow Cards\": \"Home Yellow Cards\", \"Home Team Second Yellow Cards\": \"Home Second Yellow Cards\", \"Home Team Red Cards\": \"Home Red Cards\"})"
   ],
   "metadata": {
    "collapsed": false,
    "pycharm": {
     "name": "#%%\n"
    }
   }
  },
  {
   "cell_type": "code",
   "execution_count": 23,
   "outputs": [],
   "source": [
    "#Reanme all columns to join the dataframes\n",
    "la_liga_2014_away_gb = la_liga_2014_away_gb.rename(columns={\"Home Team Goals Scored\": \"Away Goals received\",\"Away Team Goals Scored\": \"Away Goals Scored\", \"Home Team Goals ht\": \"Away Goals received ht\",\"Away Team Goals ht\": \"Away Goals ht\",\"Away Team Result\": \"Away Points\",\"Away Team Rating\": \"Away Rating\",\"Away Team Off Target Shots\": \"Away Off Target Shots\",\"Away Team On Target Shots\": \"Away On Target Shots\",\"Away Team Total Shots\": \"Away Total Shots\", \"Away Team Blocked Shots\": \"Away Blocked Shots\",\"Away Team Corners\": \"Away Corners\",\"Away Team Pass Success %\": \"Away Pass Success %\",\"Away Team Fouls\": \"Away Fouls\",\"Away Team Yellow Cards\": \"Away Yellow Cards\",\"Away Team Second Yellow Cards\": \"Away Second Yellow Cards\",\"Away Team Red Cards\": \"Away Red Cards\"})"
   ],
   "metadata": {
    "collapsed": false,
    "pycharm": {
     "name": "#%%\n"
    }
   }
  },
  {
   "cell_type": "code",
   "execution_count": 24,
   "outputs": [
    {
     "data": {
      "text/plain": "                 Away Goals received  Away Goals Scored  \\\nAway Team                                                 \nALMERÍA                            4                  0   \nATHLETIC                           2                  0   \nATLETICO MADRID                    3                  1   \nBARCELONA                         10                 46   \nCELTA                              0                  1   \nCÓRDOBA                            5                  0   \nDEPORTIVO                          2                  2   \nEIBAR                              3                  0   \nELCHE                              3                  0   \nESPANYOL                           5                  1   \nGETAFE                             6                  0   \nGRANADA                            6                  0   \nLEVANTE                            5                  0   \nMÁLAGA                             0                  1   \nRAYO VALLECANO                     6                  1   \nREAL MADRID                        2                  1   \nREAL SOCIEDAD                      2                  0   \nSEVILLA FC                         5                  1   \nVALENCIA                           2                  0   \nVILLARREAL                         3                  2   \n\n                 Away Goals received ht  Away Goals ht  Away Points  \\\nAway Team                                                             \nALMERÍA                               1              0            0   \nATHLETIC                              0              0            0   \nATLETICO MADRID                       2              0            0   \nBARCELONA                             4             18           45   \nCELTA                                 0              0            3   \nCÓRDOBA                               1              0            0   \nDEPORTIVO                             1              0            1   \nEIBAR                                 0              0            0   \nELCHE                                 1              0            0   \nESPANYOL                              1              1            0   \nGETAFE                                5              0            0   \nGRANADA                               3              0            0   \nLEVANTE                               2              0            0   \nMÁLAGA                                0              1            3   \nRAYO VALLECANO                        1              0            0   \nREAL MADRID                           1              1            0   \nREAL SOCIEDAD                         0              0            0   \nSEVILLA FC                            1              0            0   \nVALENCIA                              1              0            0   \nVILLARREAL                            1              1            0   \n\n                 Away Rating  Away Off Target Shots  Away On Target Shots  \\\nAway Team                                                                   \nALMERÍA                  4.5                    2.0                   3.0   \nATHLETIC                 5.7                    1.0                   2.0   \nATLETICO MADRID          5.2                    2.0                   3.0   \nBARCELONA              139.9                  122.0                 111.0   \nCELTA                    6.7                    2.0                   4.0   \nCÓRDOBA                  4.7                    4.0                   2.0   \nDEPORTIVO                7.2                    3.0                   2.0   \nEIBAR                    5.2                    2.0                   2.0   \nELCHE                    5.3                    3.0                   0.0   \nESPANYOL                 4.8                    1.0                   2.0   \nGETAFE                   4.1                    3.0                   3.0   \nGRANADA                  3.7                    6.0                   1.0   \nLEVANTE                  3.8                    2.0                   1.0   \nMÁLAGA                   7.7                    5.0                   3.0   \nRAYO VALLECANO           3.9                    3.0                   3.0   \nREAL MADRID              6.0                    6.0                   4.0   \nREAL SOCIEDAD            5.1                    2.0                   1.0   \nSEVILLA FC               4.7                    1.0                   0.0   \nVALENCIA                 5.4                    5.0                   3.0   \nVILLARREAL               5.8                    6.0                   3.0   \n\n                 Away Total Shots  Away Blocked Shots  Away Corners  \\\nAway Team                                                             \nALMERÍA                       6.0                 1.0           5.0   \nATHLETIC                      3.0                 0.0           1.0   \nATLETICO MADRID               5.0                 0.0           3.0   \nBARCELONA                   303.0                70.0         108.0   \nCELTA                        10.0                 4.0           5.0   \nCÓRDOBA                       7.0                 1.0           0.0   \nDEPORTIVO                    10.0                 5.0           4.0   \nEIBAR                         4.0                 0.0           3.0   \nELCHE                         3.0                 0.0           1.0   \nESPANYOL                      3.0                 0.0           2.0   \nGETAFE                        7.0                 1.0           6.0   \nGRANADA                       9.0                 2.0           1.0   \nLEVANTE                       5.0                 2.0           4.0   \nMÁLAGA                       11.0                 3.0           3.0   \nRAYO VALLECANO                7.0                 1.0           1.0   \nREAL MADRID                  13.0                 3.0          10.0   \nREAL SOCIEDAD                 5.0                 2.0           3.0   \nSEVILLA FC                    2.0                 1.0           4.0   \nVALENCIA                     11.0                 3.0           3.0   \nVILLARREAL                    9.0                 0.0           2.0   \n\n                 Away Pass Success %  Away Fouls  Away Yellow Cards  \\\nAway Team                                                             \nALMERÍA                         73.0        14.0                3.0   \nATHLETIC                        74.0        11.0                1.0   \nATLETICO MADRID                 69.0        18.0                6.0   \nBARCELONA                     1661.0       173.0               37.0   \nCELTA                           63.0        29.0                2.0   \nCÓRDOBA                         75.0         5.0                0.0   \nDEPORTIVO                       72.0         9.0                3.0   \nEIBAR                           69.0        13.0                2.0   \nELCHE                           81.0        13.0                1.0   \nESPANYOL                        65.0        11.0                4.0   \nGETAFE                          75.0         5.0                0.0   \nGRANADA                         79.0        11.0                3.0   \nLEVANTE                         64.0        13.0                2.0   \nMÁLAGA                          57.0        11.0                3.0   \nRAYO VALLECANO                  80.0        11.0                3.0   \nREAL MADRID                     85.0        14.0                6.0   \nREAL SOCIEDAD                   75.0        13.0                5.0   \nSEVILLA FC                      77.0        21.0                2.0   \nVALENCIA                        78.0        18.0                4.0   \nVILLARREAL                      71.0        20.0                2.0   \n\n                 Away Second Yellow Cards  Away Red Cards  \nAway Team                                                  \nALMERÍA                               0.0             0.0  \nATHLETIC                              0.0             0.0  \nATLETICO MADRID                       0.0             0.0  \nBARCELONA                             1.0             0.0  \nCELTA                                 0.0             0.0  \nCÓRDOBA                               0.0             0.0  \nDEPORTIVO                             0.0             0.0  \nEIBAR                                 0.0             0.0  \nELCHE                                 0.0             0.0  \nESPANYOL                              0.0             0.0  \nGETAFE                                0.0             0.0  \nGRANADA                               0.0             0.0  \nLEVANTE                               0.0             0.0  \nMÁLAGA                                0.0             0.0  \nRAYO VALLECANO                        1.0             0.0  \nREAL MADRID                           0.0             0.0  \nREAL SOCIEDAD                         0.0             0.0  \nSEVILLA FC                            0.0             0.0  \nVALENCIA                              0.0             0.0  \nVILLARREAL                            0.0             0.0  ",
      "text/html": "<div>\n<style scoped>\n    .dataframe tbody tr th:only-of-type {\n        vertical-align: middle;\n    }\n\n    .dataframe tbody tr th {\n        vertical-align: top;\n    }\n\n    .dataframe thead th {\n        text-align: right;\n    }\n</style>\n<table border=\"1\" class=\"dataframe\">\n  <thead>\n    <tr style=\"text-align: right;\">\n      <th></th>\n      <th>Away Goals received</th>\n      <th>Away Goals Scored</th>\n      <th>Away Goals received ht</th>\n      <th>Away Goals ht</th>\n      <th>Away Points</th>\n      <th>Away Rating</th>\n      <th>Away Off Target Shots</th>\n      <th>Away On Target Shots</th>\n      <th>Away Total Shots</th>\n      <th>Away Blocked Shots</th>\n      <th>Away Corners</th>\n      <th>Away Pass Success %</th>\n      <th>Away Fouls</th>\n      <th>Away Yellow Cards</th>\n      <th>Away Second Yellow Cards</th>\n      <th>Away Red Cards</th>\n    </tr>\n    <tr>\n      <th>Away Team</th>\n      <th></th>\n      <th></th>\n      <th></th>\n      <th></th>\n      <th></th>\n      <th></th>\n      <th></th>\n      <th></th>\n      <th></th>\n      <th></th>\n      <th></th>\n      <th></th>\n      <th></th>\n      <th></th>\n      <th></th>\n      <th></th>\n    </tr>\n  </thead>\n  <tbody>\n    <tr>\n      <th>ALMERÍA</th>\n      <td>4</td>\n      <td>0</td>\n      <td>1</td>\n      <td>0</td>\n      <td>0</td>\n      <td>4.5</td>\n      <td>2.0</td>\n      <td>3.0</td>\n      <td>6.0</td>\n      <td>1.0</td>\n      <td>5.0</td>\n      <td>73.0</td>\n      <td>14.0</td>\n      <td>3.0</td>\n      <td>0.0</td>\n      <td>0.0</td>\n    </tr>\n    <tr>\n      <th>ATHLETIC</th>\n      <td>2</td>\n      <td>0</td>\n      <td>0</td>\n      <td>0</td>\n      <td>0</td>\n      <td>5.7</td>\n      <td>1.0</td>\n      <td>2.0</td>\n      <td>3.0</td>\n      <td>0.0</td>\n      <td>1.0</td>\n      <td>74.0</td>\n      <td>11.0</td>\n      <td>1.0</td>\n      <td>0.0</td>\n      <td>0.0</td>\n    </tr>\n    <tr>\n      <th>ATLETICO MADRID</th>\n      <td>3</td>\n      <td>1</td>\n      <td>2</td>\n      <td>0</td>\n      <td>0</td>\n      <td>5.2</td>\n      <td>2.0</td>\n      <td>3.0</td>\n      <td>5.0</td>\n      <td>0.0</td>\n      <td>3.0</td>\n      <td>69.0</td>\n      <td>18.0</td>\n      <td>6.0</td>\n      <td>0.0</td>\n      <td>0.0</td>\n    </tr>\n    <tr>\n      <th>BARCELONA</th>\n      <td>10</td>\n      <td>46</td>\n      <td>4</td>\n      <td>18</td>\n      <td>45</td>\n      <td>139.9</td>\n      <td>122.0</td>\n      <td>111.0</td>\n      <td>303.0</td>\n      <td>70.0</td>\n      <td>108.0</td>\n      <td>1661.0</td>\n      <td>173.0</td>\n      <td>37.0</td>\n      <td>1.0</td>\n      <td>0.0</td>\n    </tr>\n    <tr>\n      <th>CELTA</th>\n      <td>0</td>\n      <td>1</td>\n      <td>0</td>\n      <td>0</td>\n      <td>3</td>\n      <td>6.7</td>\n      <td>2.0</td>\n      <td>4.0</td>\n      <td>10.0</td>\n      <td>4.0</td>\n      <td>5.0</td>\n      <td>63.0</td>\n      <td>29.0</td>\n      <td>2.0</td>\n      <td>0.0</td>\n      <td>0.0</td>\n    </tr>\n    <tr>\n      <th>CÓRDOBA</th>\n      <td>5</td>\n      <td>0</td>\n      <td>1</td>\n      <td>0</td>\n      <td>0</td>\n      <td>4.7</td>\n      <td>4.0</td>\n      <td>2.0</td>\n      <td>7.0</td>\n      <td>1.0</td>\n      <td>0.0</td>\n      <td>75.0</td>\n      <td>5.0</td>\n      <td>0.0</td>\n      <td>0.0</td>\n      <td>0.0</td>\n    </tr>\n    <tr>\n      <th>DEPORTIVO</th>\n      <td>2</td>\n      <td>2</td>\n      <td>1</td>\n      <td>0</td>\n      <td>1</td>\n      <td>7.2</td>\n      <td>3.0</td>\n      <td>2.0</td>\n      <td>10.0</td>\n      <td>5.0</td>\n      <td>4.0</td>\n      <td>72.0</td>\n      <td>9.0</td>\n      <td>3.0</td>\n      <td>0.0</td>\n      <td>0.0</td>\n    </tr>\n    <tr>\n      <th>EIBAR</th>\n      <td>3</td>\n      <td>0</td>\n      <td>0</td>\n      <td>0</td>\n      <td>0</td>\n      <td>5.2</td>\n      <td>2.0</td>\n      <td>2.0</td>\n      <td>4.0</td>\n      <td>0.0</td>\n      <td>3.0</td>\n      <td>69.0</td>\n      <td>13.0</td>\n      <td>2.0</td>\n      <td>0.0</td>\n      <td>0.0</td>\n    </tr>\n    <tr>\n      <th>ELCHE</th>\n      <td>3</td>\n      <td>0</td>\n      <td>1</td>\n      <td>0</td>\n      <td>0</td>\n      <td>5.3</td>\n      <td>3.0</td>\n      <td>0.0</td>\n      <td>3.0</td>\n      <td>0.0</td>\n      <td>1.0</td>\n      <td>81.0</td>\n      <td>13.0</td>\n      <td>1.0</td>\n      <td>0.0</td>\n      <td>0.0</td>\n    </tr>\n    <tr>\n      <th>ESPANYOL</th>\n      <td>5</td>\n      <td>1</td>\n      <td>1</td>\n      <td>1</td>\n      <td>0</td>\n      <td>4.8</td>\n      <td>1.0</td>\n      <td>2.0</td>\n      <td>3.0</td>\n      <td>0.0</td>\n      <td>2.0</td>\n      <td>65.0</td>\n      <td>11.0</td>\n      <td>4.0</td>\n      <td>0.0</td>\n      <td>0.0</td>\n    </tr>\n    <tr>\n      <th>GETAFE</th>\n      <td>6</td>\n      <td>0</td>\n      <td>5</td>\n      <td>0</td>\n      <td>0</td>\n      <td>4.1</td>\n      <td>3.0</td>\n      <td>3.0</td>\n      <td>7.0</td>\n      <td>1.0</td>\n      <td>6.0</td>\n      <td>75.0</td>\n      <td>5.0</td>\n      <td>0.0</td>\n      <td>0.0</td>\n      <td>0.0</td>\n    </tr>\n    <tr>\n      <th>GRANADA</th>\n      <td>6</td>\n      <td>0</td>\n      <td>3</td>\n      <td>0</td>\n      <td>0</td>\n      <td>3.7</td>\n      <td>6.0</td>\n      <td>1.0</td>\n      <td>9.0</td>\n      <td>2.0</td>\n      <td>1.0</td>\n      <td>79.0</td>\n      <td>11.0</td>\n      <td>3.0</td>\n      <td>0.0</td>\n      <td>0.0</td>\n    </tr>\n    <tr>\n      <th>LEVANTE</th>\n      <td>5</td>\n      <td>0</td>\n      <td>2</td>\n      <td>0</td>\n      <td>0</td>\n      <td>3.8</td>\n      <td>2.0</td>\n      <td>1.0</td>\n      <td>5.0</td>\n      <td>2.0</td>\n      <td>4.0</td>\n      <td>64.0</td>\n      <td>13.0</td>\n      <td>2.0</td>\n      <td>0.0</td>\n      <td>0.0</td>\n    </tr>\n    <tr>\n      <th>MÁLAGA</th>\n      <td>0</td>\n      <td>1</td>\n      <td>0</td>\n      <td>1</td>\n      <td>3</td>\n      <td>7.7</td>\n      <td>5.0</td>\n      <td>3.0</td>\n      <td>11.0</td>\n      <td>3.0</td>\n      <td>3.0</td>\n      <td>57.0</td>\n      <td>11.0</td>\n      <td>3.0</td>\n      <td>0.0</td>\n      <td>0.0</td>\n    </tr>\n    <tr>\n      <th>RAYO VALLECANO</th>\n      <td>6</td>\n      <td>1</td>\n      <td>1</td>\n      <td>0</td>\n      <td>0</td>\n      <td>3.9</td>\n      <td>3.0</td>\n      <td>3.0</td>\n      <td>7.0</td>\n      <td>1.0</td>\n      <td>1.0</td>\n      <td>80.0</td>\n      <td>11.0</td>\n      <td>3.0</td>\n      <td>1.0</td>\n      <td>0.0</td>\n    </tr>\n    <tr>\n      <th>REAL MADRID</th>\n      <td>2</td>\n      <td>1</td>\n      <td>1</td>\n      <td>1</td>\n      <td>0</td>\n      <td>6.0</td>\n      <td>6.0</td>\n      <td>4.0</td>\n      <td>13.0</td>\n      <td>3.0</td>\n      <td>10.0</td>\n      <td>85.0</td>\n      <td>14.0</td>\n      <td>6.0</td>\n      <td>0.0</td>\n      <td>0.0</td>\n    </tr>\n    <tr>\n      <th>REAL SOCIEDAD</th>\n      <td>2</td>\n      <td>0</td>\n      <td>0</td>\n      <td>0</td>\n      <td>0</td>\n      <td>5.1</td>\n      <td>2.0</td>\n      <td>1.0</td>\n      <td>5.0</td>\n      <td>2.0</td>\n      <td>3.0</td>\n      <td>75.0</td>\n      <td>13.0</td>\n      <td>5.0</td>\n      <td>0.0</td>\n      <td>0.0</td>\n    </tr>\n    <tr>\n      <th>SEVILLA FC</th>\n      <td>5</td>\n      <td>1</td>\n      <td>1</td>\n      <td>0</td>\n      <td>0</td>\n      <td>4.7</td>\n      <td>1.0</td>\n      <td>0.0</td>\n      <td>2.0</td>\n      <td>1.0</td>\n      <td>4.0</td>\n      <td>77.0</td>\n      <td>21.0</td>\n      <td>2.0</td>\n      <td>0.0</td>\n      <td>0.0</td>\n    </tr>\n    <tr>\n      <th>VALENCIA</th>\n      <td>2</td>\n      <td>0</td>\n      <td>1</td>\n      <td>0</td>\n      <td>0</td>\n      <td>5.4</td>\n      <td>5.0</td>\n      <td>3.0</td>\n      <td>11.0</td>\n      <td>3.0</td>\n      <td>3.0</td>\n      <td>78.0</td>\n      <td>18.0</td>\n      <td>4.0</td>\n      <td>0.0</td>\n      <td>0.0</td>\n    </tr>\n    <tr>\n      <th>VILLARREAL</th>\n      <td>3</td>\n      <td>2</td>\n      <td>1</td>\n      <td>1</td>\n      <td>0</td>\n      <td>5.8</td>\n      <td>6.0</td>\n      <td>3.0</td>\n      <td>9.0</td>\n      <td>0.0</td>\n      <td>2.0</td>\n      <td>71.0</td>\n      <td>20.0</td>\n      <td>2.0</td>\n      <td>0.0</td>\n      <td>0.0</td>\n    </tr>\n  </tbody>\n</table>\n</div>"
     },
     "execution_count": 24,
     "metadata": {},
     "output_type": "execute_result"
    }
   ],
   "source": [
    "la_liga_2014_away_gb"
   ],
   "metadata": {
    "collapsed": false,
    "pycharm": {
     "name": "#%%\n"
    }
   }
  },
  {
   "cell_type": "code",
   "execution_count": 25,
   "outputs": [],
   "source": [
    "#Concat the two dataframes for analyze the season\n",
    "la_liga_2014_concat = pd.concat([la_liga_2014_away_gb, la_liga_2014_home_gb],axis=1, join=\"inner\")"
   ],
   "metadata": {
    "collapsed": false,
    "pycharm": {
     "name": "#%%\n"
    }
   }
  },
  {
   "cell_type": "code",
   "execution_count": 26,
   "outputs": [
    {
     "data": {
      "text/plain": "                 Away Goals received  Away Goals Scored  \\\nALMERÍA                            4                  0   \nATHLETIC                           2                  0   \nATLETICO MADRID                    3                  1   \nBARCELONA                         10                 46   \nCELTA                              0                  1   \nCÓRDOBA                            5                  0   \nDEPORTIVO                          2                  2   \nEIBAR                              3                  0   \nELCHE                              3                  0   \nESPANYOL                           5                  1   \nGETAFE                             6                  0   \nGRANADA                            6                  0   \nLEVANTE                            5                  0   \nMÁLAGA                             0                  1   \nRAYO VALLECANO                     6                  1   \nREAL MADRID                        2                  1   \nREAL SOCIEDAD                      2                  0   \nSEVILLA FC                         5                  1   \nVALENCIA                           2                  0   \nVILLARREAL                         3                  2   \n\n                 Away Goals received ht  Away Goals ht  Away Points  \\\nALMERÍA                               1              0            0   \nATHLETIC                              0              0            0   \nATLETICO MADRID                       2              0            0   \nBARCELONA                             4             18           45   \nCELTA                                 0              0            3   \nCÓRDOBA                               1              0            0   \nDEPORTIVO                             1              0            1   \nEIBAR                                 0              0            0   \nELCHE                                 1              0            0   \nESPANYOL                              1              1            0   \nGETAFE                                5              0            0   \nGRANADA                               3              0            0   \nLEVANTE                               2              0            0   \nMÁLAGA                                0              1            3   \nRAYO VALLECANO                        1              0            0   \nREAL MADRID                           1              1            0   \nREAL SOCIEDAD                         0              0            0   \nSEVILLA FC                            1              0            0   \nVALENCIA                              1              0            0   \nVILLARREAL                            1              1            0   \n\n                 Away Rating  Away Off Target Shots  Away On Target Shots  \\\nALMERÍA                  4.5                    2.0                   3.0   \nATHLETIC                 5.7                    1.0                   2.0   \nATLETICO MADRID          5.2                    2.0                   3.0   \nBARCELONA              139.9                  122.0                 111.0   \nCELTA                    6.7                    2.0                   4.0   \nCÓRDOBA                  4.7                    4.0                   2.0   \nDEPORTIVO                7.2                    3.0                   2.0   \nEIBAR                    5.2                    2.0                   2.0   \nELCHE                    5.3                    3.0                   0.0   \nESPANYOL                 4.8                    1.0                   2.0   \nGETAFE                   4.1                    3.0                   3.0   \nGRANADA                  3.7                    6.0                   1.0   \nLEVANTE                  3.8                    2.0                   1.0   \nMÁLAGA                   7.7                    5.0                   3.0   \nRAYO VALLECANO           3.9                    3.0                   3.0   \nREAL MADRID              6.0                    6.0                   4.0   \nREAL SOCIEDAD            5.1                    2.0                   1.0   \nSEVILLA FC               4.7                    1.0                   0.0   \nVALENCIA                 5.4                    5.0                   3.0   \nVILLARREAL               5.8                    6.0                   3.0   \n\n                 Away Total Shots  Away Blocked Shots  ...  \\\nALMERÍA                       6.0                 1.0  ...   \nATHLETIC                      3.0                 0.0  ...   \nATLETICO MADRID               5.0                 0.0  ...   \nBARCELONA                   303.0                70.0  ...   \nCELTA                        10.0                 4.0  ...   \nCÓRDOBA                       7.0                 1.0  ...   \nDEPORTIVO                    10.0                 5.0  ...   \nEIBAR                         4.0                 0.0  ...   \nELCHE                         3.0                 0.0  ...   \nESPANYOL                      3.0                 0.0  ...   \nGETAFE                        7.0                 1.0  ...   \nGRANADA                       9.0                 2.0  ...   \nLEVANTE                       5.0                 2.0  ...   \nMÁLAGA                       11.0                 3.0  ...   \nRAYO VALLECANO                7.0                 1.0  ...   \nREAL MADRID                  13.0                 3.0  ...   \nREAL SOCIEDAD                 5.0                 2.0  ...   \nSEVILLA FC                    2.0                 1.0  ...   \nVALENCIA                     11.0                 3.0  ...   \nVILLARREAL                    9.0                 0.0  ...   \n\n                 Home Off Target Shots  Home On Target Shots  \\\nALMERÍA                            3.0                   2.0   \nATHLETIC                           4.0                   6.0   \nATLETICO MADRID                    4.0                   3.0   \nBARCELONA                        115.0                 162.0   \nCELTA                              6.0                   1.0   \nCÓRDOBA                            4.0                   1.0   \nDEPORTIVO                          4.0                   2.0   \nEIBAR                              5.0                   2.0   \nELCHE                              2.0                   3.0   \nESPANYOL                           3.0                   2.0   \nGETAFE                             1.0                   2.0   \nGRANADA                            4.0                   4.0   \nLEVANTE                            3.0                   2.0   \nMÁLAGA                             4.0                   2.0   \nRAYO VALLECANO                     8.0                   4.0   \nREAL MADRID                        5.0                   6.0   \nREAL SOCIEDAD                      3.0                   1.0   \nSEVILLA FC                         5.0                   2.0   \nVALENCIA                           6.0                   4.0   \nVILLARREAL                         7.0                   0.0   \n\n                 Home Total Shots  Home Blocked Shots  Home Corners  \\\nALMERÍA                       6.0                 1.0           4.0   \nATHLETIC                     15.0                 5.0           4.0   \nATLETICO MADRID              10.0                 3.0           6.0   \nBARCELONA                   322.0                45.0         128.0   \nCELTA                         7.0                 0.0           4.0   \nCÓRDOBA                       5.0                 0.0           5.0   \nDEPORTIVO                     7.0                 1.0           2.0   \nEIBAR                        13.0                 6.0           6.0   \nELCHE                         6.0                 1.0           2.0   \nESPANYOL                      7.0                 2.0           5.0   \nGETAFE                        4.0                 1.0           4.0   \nGRANADA                      10.0                 2.0           4.0   \nLEVANTE                       9.0                 4.0           3.0   \nMÁLAGA                        6.0                 0.0           2.0   \nRAYO VALLECANO               14.0                 2.0           6.0   \nREAL MADRID                  18.0                 7.0           3.0   \nREAL SOCIEDAD                 6.0                 2.0           6.0   \nSEVILLA FC                   11.0                 4.0           2.0   \nVALENCIA                     12.0                 2.0           5.0   \nVILLARREAL                    9.0                 2.0           3.0   \n\n                 Home Pass Success %  Home Fouls  Home Yellow Cards  \\\nALMERÍA                         60.0        16.0                2.0   \nATHLETIC                        65.0        15.0                3.0   \nATLETICO MADRID                 62.0        23.0                5.0   \nBARCELONA                     1681.0       197.0               31.0   \nCELTA                           72.0        26.0                2.0   \nCÓRDOBA                         69.0        11.0                2.0   \nDEPORTIVO                       73.0        14.0                2.0   \nEIBAR                           66.0        14.0                1.0   \nELCHE                           71.0        18.0                6.0   \nESPANYOL                        78.0        21.0                6.0   \nGETAFE                          62.0        24.0                2.0   \nGRANADA                         67.0        18.0                2.0   \nLEVANTE                         70.0        13.0                1.0   \nMÁLAGA                          61.0        15.0                2.0   \nRAYO VALLECANO                  77.0        19.0                4.0   \nREAL MADRID                     85.0        11.0                2.0   \nREAL SOCIEDAD                   59.0        21.0                5.0   \nSEVILLA FC                      74.0        23.0                5.0   \nVALENCIA                        74.0        10.0                4.0   \nVILLARREAL                      69.0        12.0                0.0   \n\n                 Home Second Yellow Cards  Home Red Cards  \nALMERÍA                               0.0             0.0  \nATHLETIC                              0.0             1.0  \nATLETICO MADRID                       0.0             0.0  \nBARCELONA                             0.0             2.0  \nCELTA                                 0.0             1.0  \nCÓRDOBA                               0.0             0.0  \nDEPORTIVO                             0.0             0.0  \nEIBAR                                 0.0             0.0  \nELCHE                                 1.0             0.0  \nESPANYOL                              1.0             0.0  \nGETAFE                                0.0             0.0  \nGRANADA                               0.0             0.0  \nLEVANTE                               0.0             1.0  \nMÁLAGA                                0.0             0.0  \nRAYO VALLECANO                        2.0             0.0  \nREAL MADRID                           0.0             0.0  \nREAL SOCIEDAD                         0.0             0.0  \nSEVILLA FC                            0.0             0.0  \nVALENCIA                              0.0             0.0  \nVILLARREAL                            0.0             0.0  \n\n[20 rows x 32 columns]",
      "text/html": "<div>\n<style scoped>\n    .dataframe tbody tr th:only-of-type {\n        vertical-align: middle;\n    }\n\n    .dataframe tbody tr th {\n        vertical-align: top;\n    }\n\n    .dataframe thead th {\n        text-align: right;\n    }\n</style>\n<table border=\"1\" class=\"dataframe\">\n  <thead>\n    <tr style=\"text-align: right;\">\n      <th></th>\n      <th>Away Goals received</th>\n      <th>Away Goals Scored</th>\n      <th>Away Goals received ht</th>\n      <th>Away Goals ht</th>\n      <th>Away Points</th>\n      <th>Away Rating</th>\n      <th>Away Off Target Shots</th>\n      <th>Away On Target Shots</th>\n      <th>Away Total Shots</th>\n      <th>Away Blocked Shots</th>\n      <th>...</th>\n      <th>Home Off Target Shots</th>\n      <th>Home On Target Shots</th>\n      <th>Home Total Shots</th>\n      <th>Home Blocked Shots</th>\n      <th>Home Corners</th>\n      <th>Home Pass Success %</th>\n      <th>Home Fouls</th>\n      <th>Home Yellow Cards</th>\n      <th>Home Second Yellow Cards</th>\n      <th>Home Red Cards</th>\n    </tr>\n  </thead>\n  <tbody>\n    <tr>\n      <th>ALMERÍA</th>\n      <td>4</td>\n      <td>0</td>\n      <td>1</td>\n      <td>0</td>\n      <td>0</td>\n      <td>4.5</td>\n      <td>2.0</td>\n      <td>3.0</td>\n      <td>6.0</td>\n      <td>1.0</td>\n      <td>...</td>\n      <td>3.0</td>\n      <td>2.0</td>\n      <td>6.0</td>\n      <td>1.0</td>\n      <td>4.0</td>\n      <td>60.0</td>\n      <td>16.0</td>\n      <td>2.0</td>\n      <td>0.0</td>\n      <td>0.0</td>\n    </tr>\n    <tr>\n      <th>ATHLETIC</th>\n      <td>2</td>\n      <td>0</td>\n      <td>0</td>\n      <td>0</td>\n      <td>0</td>\n      <td>5.7</td>\n      <td>1.0</td>\n      <td>2.0</td>\n      <td>3.0</td>\n      <td>0.0</td>\n      <td>...</td>\n      <td>4.0</td>\n      <td>6.0</td>\n      <td>15.0</td>\n      <td>5.0</td>\n      <td>4.0</td>\n      <td>65.0</td>\n      <td>15.0</td>\n      <td>3.0</td>\n      <td>0.0</td>\n      <td>1.0</td>\n    </tr>\n    <tr>\n      <th>ATLETICO MADRID</th>\n      <td>3</td>\n      <td>1</td>\n      <td>2</td>\n      <td>0</td>\n      <td>0</td>\n      <td>5.2</td>\n      <td>2.0</td>\n      <td>3.0</td>\n      <td>5.0</td>\n      <td>0.0</td>\n      <td>...</td>\n      <td>4.0</td>\n      <td>3.0</td>\n      <td>10.0</td>\n      <td>3.0</td>\n      <td>6.0</td>\n      <td>62.0</td>\n      <td>23.0</td>\n      <td>5.0</td>\n      <td>0.0</td>\n      <td>0.0</td>\n    </tr>\n    <tr>\n      <th>BARCELONA</th>\n      <td>10</td>\n      <td>46</td>\n      <td>4</td>\n      <td>18</td>\n      <td>45</td>\n      <td>139.9</td>\n      <td>122.0</td>\n      <td>111.0</td>\n      <td>303.0</td>\n      <td>70.0</td>\n      <td>...</td>\n      <td>115.0</td>\n      <td>162.0</td>\n      <td>322.0</td>\n      <td>45.0</td>\n      <td>128.0</td>\n      <td>1681.0</td>\n      <td>197.0</td>\n      <td>31.0</td>\n      <td>0.0</td>\n      <td>2.0</td>\n    </tr>\n    <tr>\n      <th>CELTA</th>\n      <td>0</td>\n      <td>1</td>\n      <td>0</td>\n      <td>0</td>\n      <td>3</td>\n      <td>6.7</td>\n      <td>2.0</td>\n      <td>4.0</td>\n      <td>10.0</td>\n      <td>4.0</td>\n      <td>...</td>\n      <td>6.0</td>\n      <td>1.0</td>\n      <td>7.0</td>\n      <td>0.0</td>\n      <td>4.0</td>\n      <td>72.0</td>\n      <td>26.0</td>\n      <td>2.0</td>\n      <td>0.0</td>\n      <td>1.0</td>\n    </tr>\n    <tr>\n      <th>CÓRDOBA</th>\n      <td>5</td>\n      <td>0</td>\n      <td>1</td>\n      <td>0</td>\n      <td>0</td>\n      <td>4.7</td>\n      <td>4.0</td>\n      <td>2.0</td>\n      <td>7.0</td>\n      <td>1.0</td>\n      <td>...</td>\n      <td>4.0</td>\n      <td>1.0</td>\n      <td>5.0</td>\n      <td>0.0</td>\n      <td>5.0</td>\n      <td>69.0</td>\n      <td>11.0</td>\n      <td>2.0</td>\n      <td>0.0</td>\n      <td>0.0</td>\n    </tr>\n    <tr>\n      <th>DEPORTIVO</th>\n      <td>2</td>\n      <td>2</td>\n      <td>1</td>\n      <td>0</td>\n      <td>1</td>\n      <td>7.2</td>\n      <td>3.0</td>\n      <td>2.0</td>\n      <td>10.0</td>\n      <td>5.0</td>\n      <td>...</td>\n      <td>4.0</td>\n      <td>2.0</td>\n      <td>7.0</td>\n      <td>1.0</td>\n      <td>2.0</td>\n      <td>73.0</td>\n      <td>14.0</td>\n      <td>2.0</td>\n      <td>0.0</td>\n      <td>0.0</td>\n    </tr>\n    <tr>\n      <th>EIBAR</th>\n      <td>3</td>\n      <td>0</td>\n      <td>0</td>\n      <td>0</td>\n      <td>0</td>\n      <td>5.2</td>\n      <td>2.0</td>\n      <td>2.0</td>\n      <td>4.0</td>\n      <td>0.0</td>\n      <td>...</td>\n      <td>5.0</td>\n      <td>2.0</td>\n      <td>13.0</td>\n      <td>6.0</td>\n      <td>6.0</td>\n      <td>66.0</td>\n      <td>14.0</td>\n      <td>1.0</td>\n      <td>0.0</td>\n      <td>0.0</td>\n    </tr>\n    <tr>\n      <th>ELCHE</th>\n      <td>3</td>\n      <td>0</td>\n      <td>1</td>\n      <td>0</td>\n      <td>0</td>\n      <td>5.3</td>\n      <td>3.0</td>\n      <td>0.0</td>\n      <td>3.0</td>\n      <td>0.0</td>\n      <td>...</td>\n      <td>2.0</td>\n      <td>3.0</td>\n      <td>6.0</td>\n      <td>1.0</td>\n      <td>2.0</td>\n      <td>71.0</td>\n      <td>18.0</td>\n      <td>6.0</td>\n      <td>1.0</td>\n      <td>0.0</td>\n    </tr>\n    <tr>\n      <th>ESPANYOL</th>\n      <td>5</td>\n      <td>1</td>\n      <td>1</td>\n      <td>1</td>\n      <td>0</td>\n      <td>4.8</td>\n      <td>1.0</td>\n      <td>2.0</td>\n      <td>3.0</td>\n      <td>0.0</td>\n      <td>...</td>\n      <td>3.0</td>\n      <td>2.0</td>\n      <td>7.0</td>\n      <td>2.0</td>\n      <td>5.0</td>\n      <td>78.0</td>\n      <td>21.0</td>\n      <td>6.0</td>\n      <td>1.0</td>\n      <td>0.0</td>\n    </tr>\n    <tr>\n      <th>GETAFE</th>\n      <td>6</td>\n      <td>0</td>\n      <td>5</td>\n      <td>0</td>\n      <td>0</td>\n      <td>4.1</td>\n      <td>3.0</td>\n      <td>3.0</td>\n      <td>7.0</td>\n      <td>1.0</td>\n      <td>...</td>\n      <td>1.0</td>\n      <td>2.0</td>\n      <td>4.0</td>\n      <td>1.0</td>\n      <td>4.0</td>\n      <td>62.0</td>\n      <td>24.0</td>\n      <td>2.0</td>\n      <td>0.0</td>\n      <td>0.0</td>\n    </tr>\n    <tr>\n      <th>GRANADA</th>\n      <td>6</td>\n      <td>0</td>\n      <td>3</td>\n      <td>0</td>\n      <td>0</td>\n      <td>3.7</td>\n      <td>6.0</td>\n      <td>1.0</td>\n      <td>9.0</td>\n      <td>2.0</td>\n      <td>...</td>\n      <td>4.0</td>\n      <td>4.0</td>\n      <td>10.0</td>\n      <td>2.0</td>\n      <td>4.0</td>\n      <td>67.0</td>\n      <td>18.0</td>\n      <td>2.0</td>\n      <td>0.0</td>\n      <td>0.0</td>\n    </tr>\n    <tr>\n      <th>LEVANTE</th>\n      <td>5</td>\n      <td>0</td>\n      <td>2</td>\n      <td>0</td>\n      <td>0</td>\n      <td>3.8</td>\n      <td>2.0</td>\n      <td>1.0</td>\n      <td>5.0</td>\n      <td>2.0</td>\n      <td>...</td>\n      <td>3.0</td>\n      <td>2.0</td>\n      <td>9.0</td>\n      <td>4.0</td>\n      <td>3.0</td>\n      <td>70.0</td>\n      <td>13.0</td>\n      <td>1.0</td>\n      <td>0.0</td>\n      <td>1.0</td>\n    </tr>\n    <tr>\n      <th>MÁLAGA</th>\n      <td>0</td>\n      <td>1</td>\n      <td>0</td>\n      <td>1</td>\n      <td>3</td>\n      <td>7.7</td>\n      <td>5.0</td>\n      <td>3.0</td>\n      <td>11.0</td>\n      <td>3.0</td>\n      <td>...</td>\n      <td>4.0</td>\n      <td>2.0</td>\n      <td>6.0</td>\n      <td>0.0</td>\n      <td>2.0</td>\n      <td>61.0</td>\n      <td>15.0</td>\n      <td>2.0</td>\n      <td>0.0</td>\n      <td>0.0</td>\n    </tr>\n    <tr>\n      <th>RAYO VALLECANO</th>\n      <td>6</td>\n      <td>1</td>\n      <td>1</td>\n      <td>0</td>\n      <td>0</td>\n      <td>3.9</td>\n      <td>3.0</td>\n      <td>3.0</td>\n      <td>7.0</td>\n      <td>1.0</td>\n      <td>...</td>\n      <td>8.0</td>\n      <td>4.0</td>\n      <td>14.0</td>\n      <td>2.0</td>\n      <td>6.0</td>\n      <td>77.0</td>\n      <td>19.0</td>\n      <td>4.0</td>\n      <td>2.0</td>\n      <td>0.0</td>\n    </tr>\n    <tr>\n      <th>REAL MADRID</th>\n      <td>2</td>\n      <td>1</td>\n      <td>1</td>\n      <td>1</td>\n      <td>0</td>\n      <td>6.0</td>\n      <td>6.0</td>\n      <td>4.0</td>\n      <td>13.0</td>\n      <td>3.0</td>\n      <td>...</td>\n      <td>5.0</td>\n      <td>6.0</td>\n      <td>18.0</td>\n      <td>7.0</td>\n      <td>3.0</td>\n      <td>85.0</td>\n      <td>11.0</td>\n      <td>2.0</td>\n      <td>0.0</td>\n      <td>0.0</td>\n    </tr>\n    <tr>\n      <th>REAL SOCIEDAD</th>\n      <td>2</td>\n      <td>0</td>\n      <td>0</td>\n      <td>0</td>\n      <td>0</td>\n      <td>5.1</td>\n      <td>2.0</td>\n      <td>1.0</td>\n      <td>5.0</td>\n      <td>2.0</td>\n      <td>...</td>\n      <td>3.0</td>\n      <td>1.0</td>\n      <td>6.0</td>\n      <td>2.0</td>\n      <td>6.0</td>\n      <td>59.0</td>\n      <td>21.0</td>\n      <td>5.0</td>\n      <td>0.0</td>\n      <td>0.0</td>\n    </tr>\n    <tr>\n      <th>SEVILLA FC</th>\n      <td>5</td>\n      <td>1</td>\n      <td>1</td>\n      <td>0</td>\n      <td>0</td>\n      <td>4.7</td>\n      <td>1.0</td>\n      <td>0.0</td>\n      <td>2.0</td>\n      <td>1.0</td>\n      <td>...</td>\n      <td>5.0</td>\n      <td>2.0</td>\n      <td>11.0</td>\n      <td>4.0</td>\n      <td>2.0</td>\n      <td>74.0</td>\n      <td>23.0</td>\n      <td>5.0</td>\n      <td>0.0</td>\n      <td>0.0</td>\n    </tr>\n    <tr>\n      <th>VALENCIA</th>\n      <td>2</td>\n      <td>0</td>\n      <td>1</td>\n      <td>0</td>\n      <td>0</td>\n      <td>5.4</td>\n      <td>5.0</td>\n      <td>3.0</td>\n      <td>11.0</td>\n      <td>3.0</td>\n      <td>...</td>\n      <td>6.0</td>\n      <td>4.0</td>\n      <td>12.0</td>\n      <td>2.0</td>\n      <td>5.0</td>\n      <td>74.0</td>\n      <td>10.0</td>\n      <td>4.0</td>\n      <td>0.0</td>\n      <td>0.0</td>\n    </tr>\n    <tr>\n      <th>VILLARREAL</th>\n      <td>3</td>\n      <td>2</td>\n      <td>1</td>\n      <td>1</td>\n      <td>0</td>\n      <td>5.8</td>\n      <td>6.0</td>\n      <td>3.0</td>\n      <td>9.0</td>\n      <td>0.0</td>\n      <td>...</td>\n      <td>7.0</td>\n      <td>0.0</td>\n      <td>9.0</td>\n      <td>2.0</td>\n      <td>3.0</td>\n      <td>69.0</td>\n      <td>12.0</td>\n      <td>0.0</td>\n      <td>0.0</td>\n      <td>0.0</td>\n    </tr>\n  </tbody>\n</table>\n<p>20 rows × 32 columns</p>\n</div>"
     },
     "execution_count": 26,
     "metadata": {},
     "output_type": "execute_result"
    }
   ],
   "source": [
    "la_liga_2014_concat"
   ],
   "metadata": {
    "collapsed": false,
    "pycharm": {
     "name": "#%%\n"
    }
   }
  },
  {
   "cell_type": "code",
   "execution_count": 27,
   "outputs": [
    {
     "data": {
      "text/plain": "0"
     },
     "execution_count": 27,
     "metadata": {},
     "output_type": "execute_result"
    }
   ],
   "source": [
    "for i in range(len(la_liga_2014_concat)):\n",
    "    la_liga_2014_concat[\"Points\"] = 0\n",
    "    la_liga_2014_concat[\"Goals Scored\"] = 0\n",
    "    la_liga_2014_concat[\"Goals received\"] = 0\n",
    "    la_liga_2014_concat[\"Goals ht\"] = 0\n",
    "    la_liga_2014_concat[\"Goals received ht\"] = 0\n",
    "    la_liga_2014_concat[\"Rating mean\"] = 0\n",
    "    la_liga_2014_concat[\"On Target Shots\"] = 0\n",
    "    la_liga_2014_concat[\"Off Target Shots\"] = 0\n",
    "    la_liga_2014_concat[\"Blocked Shots\"] = 0\n",
    "    la_liga_2014_concat[\"Corners\"] = 0\n",
    "    la_liga_2014_concat[\"Fouls\"] = 0\n",
    "    la_liga_2014_concat[\"First Yellow Cards\"] = 0\n",
    "    la_liga_2014_concat[\"Second Yellow Cards\"] = 0\n",
    "    la_liga_2014_concat[\"Yellow Cards\"] = 0\n",
    "    la_liga_2014_concat[\"Red Cards\"] = 0\n",
    "    la_liga_2014_concat[\"Pass Success mean\"] = 0\n",
    "\n",
    "\n",
    "la_liga_2014_concat[\"Home Points\"][0]"
   ],
   "metadata": {
    "collapsed": false,
    "pycharm": {
     "name": "#%%\n"
    }
   }
  },
  {
   "cell_type": "code",
   "execution_count": 28,
   "outputs": [
    {
     "name": "stderr",
     "output_type": "stream",
     "text": [
      "/var/folders/f0/pqy2clvx0nv38xm_npv8fklm0000gn/T/ipykernel_3415/4218982426.py:2: SettingWithCopyWarning: \n",
      "A value is trying to be set on a copy of a slice from a DataFrame\n",
      "\n",
      "See the caveats in the documentation: https://pandas.pydata.org/pandas-docs/stable/user_guide/indexing.html#returning-a-view-versus-a-copy\n",
      "  la_liga_2014_concat[\"Points\"][i] = la_liga_2014_concat[\"Home Points\"][i] + la_liga_2014_concat[\"Away Points\"][i]\n",
      "/var/folders/f0/pqy2clvx0nv38xm_npv8fklm0000gn/T/ipykernel_3415/4218982426.py:3: SettingWithCopyWarning: \n",
      "A value is trying to be set on a copy of a slice from a DataFrame\n",
      "\n",
      "See the caveats in the documentation: https://pandas.pydata.org/pandas-docs/stable/user_guide/indexing.html#returning-a-view-versus-a-copy\n",
      "  la_liga_2014_concat[\"Goals Scored\"][i] = la_liga_2014_concat[\"Home Goals Scored\"][i] + la_liga_2014_concat[\"Away Goals Scored\"][i]\n",
      "/var/folders/f0/pqy2clvx0nv38xm_npv8fklm0000gn/T/ipykernel_3415/4218982426.py:4: SettingWithCopyWarning: \n",
      "A value is trying to be set on a copy of a slice from a DataFrame\n",
      "\n",
      "See the caveats in the documentation: https://pandas.pydata.org/pandas-docs/stable/user_guide/indexing.html#returning-a-view-versus-a-copy\n",
      "  la_liga_2014_concat[\"Goals received\"][i] = la_liga_2014_concat[\"Home Goals received\"][i] + la_liga_2014_concat[\"Away Goals received\"][i]\n",
      "/var/folders/f0/pqy2clvx0nv38xm_npv8fklm0000gn/T/ipykernel_3415/4218982426.py:5: SettingWithCopyWarning: \n",
      "A value is trying to be set on a copy of a slice from a DataFrame\n",
      "\n",
      "See the caveats in the documentation: https://pandas.pydata.org/pandas-docs/stable/user_guide/indexing.html#returning-a-view-versus-a-copy\n",
      "  la_liga_2014_concat[\"Goals ht\"][i] = la_liga_2014_concat[\"Home Goals ht\"][i] + la_liga_2014_concat[\"Away Goals ht\"][i]\n",
      "/var/folders/f0/pqy2clvx0nv38xm_npv8fklm0000gn/T/ipykernel_3415/4218982426.py:6: SettingWithCopyWarning: \n",
      "A value is trying to be set on a copy of a slice from a DataFrame\n",
      "\n",
      "See the caveats in the documentation: https://pandas.pydata.org/pandas-docs/stable/user_guide/indexing.html#returning-a-view-versus-a-copy\n",
      "  la_liga_2014_concat[\"Goals received ht\"][i] = la_liga_2014_concat[\"Home Goals received ht\"][i] + la_liga_2014_concat[\"Away Goals received ht\"][i]\n",
      "/var/folders/f0/pqy2clvx0nv38xm_npv8fklm0000gn/T/ipykernel_3415/4218982426.py:7: SettingWithCopyWarning: \n",
      "A value is trying to be set on a copy of a slice from a DataFrame\n",
      "\n",
      "See the caveats in the documentation: https://pandas.pydata.org/pandas-docs/stable/user_guide/indexing.html#returning-a-view-versus-a-copy\n",
      "  la_liga_2014_concat[\"Rating mean\"][i] = la_liga_2014_concat[\"Home Rating\"][i] + la_liga_2014_concat[\"Away Rating\"][i] / 38\n",
      "/var/folders/f0/pqy2clvx0nv38xm_npv8fklm0000gn/T/ipykernel_3415/4218982426.py:8: SettingWithCopyWarning: \n",
      "A value is trying to be set on a copy of a slice from a DataFrame\n",
      "\n",
      "See the caveats in the documentation: https://pandas.pydata.org/pandas-docs/stable/user_guide/indexing.html#returning-a-view-versus-a-copy\n",
      "  la_liga_2014_concat[\"On Target Shots\"][i] = la_liga_2014_concat[\"Home On Target Shots\"][i] + la_liga_2014_concat[\"Away On Target Shots\"][i]\n",
      "/var/folders/f0/pqy2clvx0nv38xm_npv8fklm0000gn/T/ipykernel_3415/4218982426.py:9: SettingWithCopyWarning: \n",
      "A value is trying to be set on a copy of a slice from a DataFrame\n",
      "\n",
      "See the caveats in the documentation: https://pandas.pydata.org/pandas-docs/stable/user_guide/indexing.html#returning-a-view-versus-a-copy\n",
      "  la_liga_2014_concat[\"Off Target Shots\"][i] = la_liga_2014_concat[\"Home Off Target Shots\"][i] + la_liga_2014_concat[\"Away Off Target Shots\"][i]\n",
      "/var/folders/f0/pqy2clvx0nv38xm_npv8fklm0000gn/T/ipykernel_3415/4218982426.py:10: SettingWithCopyWarning: \n",
      "A value is trying to be set on a copy of a slice from a DataFrame\n",
      "\n",
      "See the caveats in the documentation: https://pandas.pydata.org/pandas-docs/stable/user_guide/indexing.html#returning-a-view-versus-a-copy\n",
      "  la_liga_2014_concat[\"Blocked Shots\"][i] = la_liga_2014_concat[\"Home Blocked Shots\"][i] + la_liga_2014_concat[\"Away Blocked Shots\"][i]\n",
      "/var/folders/f0/pqy2clvx0nv38xm_npv8fklm0000gn/T/ipykernel_3415/4218982426.py:11: SettingWithCopyWarning: \n",
      "A value is trying to be set on a copy of a slice from a DataFrame\n",
      "\n",
      "See the caveats in the documentation: https://pandas.pydata.org/pandas-docs/stable/user_guide/indexing.html#returning-a-view-versus-a-copy\n",
      "  la_liga_2014_concat[\"Corners\"][i] = la_liga_2014_concat[\"Home Corners\"][i] + la_liga_2014_concat[\"Away Corners\"][i]\n",
      "/var/folders/f0/pqy2clvx0nv38xm_npv8fklm0000gn/T/ipykernel_3415/4218982426.py:12: SettingWithCopyWarning: \n",
      "A value is trying to be set on a copy of a slice from a DataFrame\n",
      "\n",
      "See the caveats in the documentation: https://pandas.pydata.org/pandas-docs/stable/user_guide/indexing.html#returning-a-view-versus-a-copy\n",
      "  la_liga_2014_concat[\"Fouls\"][i] = la_liga_2014_concat[\"Home Fouls\"][i] + la_liga_2014_concat[\"Away Fouls\"][i]\n",
      "/var/folders/f0/pqy2clvx0nv38xm_npv8fklm0000gn/T/ipykernel_3415/4218982426.py:13: SettingWithCopyWarning: \n",
      "A value is trying to be set on a copy of a slice from a DataFrame\n",
      "\n",
      "See the caveats in the documentation: https://pandas.pydata.org/pandas-docs/stable/user_guide/indexing.html#returning-a-view-versus-a-copy\n",
      "  la_liga_2014_concat[\"First Yellow Cards\"][i] = la_liga_2014_concat[\"Home Yellow Cards\"][i] + la_liga_2014_concat[\"Away Yellow Cards\"][i]\n",
      "/var/folders/f0/pqy2clvx0nv38xm_npv8fklm0000gn/T/ipykernel_3415/4218982426.py:14: SettingWithCopyWarning: \n",
      "A value is trying to be set on a copy of a slice from a DataFrame\n",
      "\n",
      "See the caveats in the documentation: https://pandas.pydata.org/pandas-docs/stable/user_guide/indexing.html#returning-a-view-versus-a-copy\n",
      "  la_liga_2014_concat[\"Second Yellow Cards\"][i] = la_liga_2014_concat[\"Home Second Yellow Cards\"][i] + la_liga_2014_concat[\"Away Second Yellow Cards\"][i]\n",
      "/var/folders/f0/pqy2clvx0nv38xm_npv8fklm0000gn/T/ipykernel_3415/4218982426.py:15: SettingWithCopyWarning: \n",
      "A value is trying to be set on a copy of a slice from a DataFrame\n",
      "\n",
      "See the caveats in the documentation: https://pandas.pydata.org/pandas-docs/stable/user_guide/indexing.html#returning-a-view-versus-a-copy\n",
      "  la_liga_2014_concat[\"Yellow Cards\"][i] = la_liga_2014_concat[\"Home Yellow Cards\"][i] + la_liga_2014_concat[\"Away Yellow Cards\"][i] + la_liga_2014_concat[\"Home Second Yellow Cards\"][i] + la_liga_2014_concat[\"Away Second Yellow Cards\"][i]\n",
      "/var/folders/f0/pqy2clvx0nv38xm_npv8fklm0000gn/T/ipykernel_3415/4218982426.py:16: SettingWithCopyWarning: \n",
      "A value is trying to be set on a copy of a slice from a DataFrame\n",
      "\n",
      "See the caveats in the documentation: https://pandas.pydata.org/pandas-docs/stable/user_guide/indexing.html#returning-a-view-versus-a-copy\n",
      "  la_liga_2014_concat[\"Red Cards\"][i] = la_liga_2014_concat[\"Home Red Cards\"][i] + la_liga_2014_concat[\"Away Red Cards\"][i]\n",
      "/var/folders/f0/pqy2clvx0nv38xm_npv8fklm0000gn/T/ipykernel_3415/4218982426.py:17: SettingWithCopyWarning: \n",
      "A value is trying to be set on a copy of a slice from a DataFrame\n",
      "\n",
      "See the caveats in the documentation: https://pandas.pydata.org/pandas-docs/stable/user_guide/indexing.html#returning-a-view-versus-a-copy\n",
      "  la_liga_2014_concat[\"Pass Success mean\"][i] = (la_liga_2014_concat[\"Home Pass Success %\"][i] + la_liga_2014_concat[\"Away Pass Success %\"][i]) / 38\n"
     ]
    }
   ],
   "source": [
    "for i in range(len(la_liga_2014_concat)):\n",
    "    la_liga_2014_concat[\"Points\"][i] = la_liga_2014_concat[\"Home Points\"][i] + la_liga_2014_concat[\"Away Points\"][i]\n",
    "    la_liga_2014_concat[\"Goals Scored\"][i] = la_liga_2014_concat[\"Home Goals Scored\"][i] + la_liga_2014_concat[\"Away Goals Scored\"][i]\n",
    "    la_liga_2014_concat[\"Goals received\"][i] = la_liga_2014_concat[\"Home Goals received\"][i] + la_liga_2014_concat[\"Away Goals received\"][i]\n",
    "    la_liga_2014_concat[\"Goals ht\"][i] = la_liga_2014_concat[\"Home Goals ht\"][i] + la_liga_2014_concat[\"Away Goals ht\"][i]\n",
    "    la_liga_2014_concat[\"Goals received ht\"][i] = la_liga_2014_concat[\"Home Goals received ht\"][i] + la_liga_2014_concat[\"Away Goals received ht\"][i]\n",
    "    la_liga_2014_concat[\"Rating mean\"][i] = la_liga_2014_concat[\"Home Rating\"][i] + la_liga_2014_concat[\"Away Rating\"][i] / 38\n",
    "    la_liga_2014_concat[\"On Target Shots\"][i] = la_liga_2014_concat[\"Home On Target Shots\"][i] + la_liga_2014_concat[\"Away On Target Shots\"][i]\n",
    "    la_liga_2014_concat[\"Off Target Shots\"][i] = la_liga_2014_concat[\"Home Off Target Shots\"][i] + la_liga_2014_concat[\"Away Off Target Shots\"][i]\n",
    "    la_liga_2014_concat[\"Blocked Shots\"][i] = la_liga_2014_concat[\"Home Blocked Shots\"][i] + la_liga_2014_concat[\"Away Blocked Shots\"][i]\n",
    "    la_liga_2014_concat[\"Corners\"][i] = la_liga_2014_concat[\"Home Corners\"][i] + la_liga_2014_concat[\"Away Corners\"][i]\n",
    "    la_liga_2014_concat[\"Fouls\"][i] = la_liga_2014_concat[\"Home Fouls\"][i] + la_liga_2014_concat[\"Away Fouls\"][i]\n",
    "    la_liga_2014_concat[\"First Yellow Cards\"][i] = la_liga_2014_concat[\"Home Yellow Cards\"][i] + la_liga_2014_concat[\"Away Yellow Cards\"][i]\n",
    "    la_liga_2014_concat[\"Second Yellow Cards\"][i] = la_liga_2014_concat[\"Home Second Yellow Cards\"][i] + la_liga_2014_concat[\"Away Second Yellow Cards\"][i]\n",
    "    la_liga_2014_concat[\"Yellow Cards\"][i] = la_liga_2014_concat[\"Home Yellow Cards\"][i] + la_liga_2014_concat[\"Away Yellow Cards\"][i] + la_liga_2014_concat[\"Home Second Yellow Cards\"][i] + la_liga_2014_concat[\"Away Second Yellow Cards\"][i]\n",
    "    la_liga_2014_concat[\"Red Cards\"][i] = la_liga_2014_concat[\"Home Red Cards\"][i] + la_liga_2014_concat[\"Away Red Cards\"][i]\n",
    "    la_liga_2014_concat[\"Pass Success mean\"][i] = (la_liga_2014_concat[\"Home Pass Success %\"][i] + la_liga_2014_concat[\"Away Pass Success %\"][i]) / 38"
   ],
   "metadata": {
    "collapsed": false,
    "pycharm": {
     "name": "#%%\n"
    }
   }
  },
  {
   "cell_type": "code",
   "execution_count": 29,
   "outputs": [],
   "source": [
    "la_liga_2014_concat = la_liga_2014_concat.filter([\"Points\", \"Goals Scored\", \"Goals received\", \"Goals ht\", \"Goals received ht\", \"Rating mean\", \"On Target Shots\", \"Off Target Shots\", \"Blocked Shots\", \"Corners\", \"Fouls\", \"First Yellow Cards\", \"Second Yellow Cards\", \"Red Cards\", \"Pass Success mean\"])"
   ],
   "metadata": {
    "collapsed": false,
    "pycharm": {
     "name": "#%%\n"
    }
   }
  },
  {
   "cell_type": "code",
   "execution_count": 30,
   "outputs": [
    {
     "data": {
      "text/plain": "                 Points  Goals Scored  Goals received  Goals ht  \\\nALMERÍA               0             1               6         1   \nATHLETIC              0             2               7         0   \nATLETICO MADRID       0             1               4         0   \nBARCELONA            94           110              21        40   \nCELTA                 3             1               1         0   \nCÓRDOBA               0             0              13         0   \nDEPORTIVO             1             2               6         0   \nEIBAR                 0             0               5         0   \nELCHE                 0             0               9         0   \nESPANYOL              0             1               7         1   \nGETAFE                1             0               6         0   \nGRANADA               0             1               9         0   \nLEVANTE               0             0              10         0   \nMÁLAGA                4             1               0         1   \nRAYO VALLECANO        0             1               8         0   \nREAL MADRID           3             4               3         2   \nREAL SOCIEDAD         3             1               2         1   \nSEVILLA FC            1             3               7         1   \nVALENCIA              0             0               3         0   \nVILLARREAL            0             2               4         1   \n\n                 Goals received ht  Rating mean  On Target Shots  \\\nALMERÍA                          1            5                5   \nATHLETIC                         2            4                8   \nATLETICO MADRID                  2            5                6   \nBARCELONA                        8          154              273   \nCELTA                            0            5                5   \nCÓRDOBA                          3            2                3   \nDEPORTIVO                        3            4                4   \nEIBAR                            1            5                4   \nELCHE                            2            3                3   \nESPANYOL                         3            5                4   \nGETAFE                           5            6                5   \nGRANADA                          4            4                5   \nLEVANTE                          4            4                3   \nMÁLAGA                           0            7                5   \nRAYO VALLECANO                   3            4                7   \nREAL MADRID                      2            7               10   \nREAL SOCIEDAD                    0            6                2   \nSEVILLA FC                       3            6                2   \nVALENCIA                         1            6                7   \nVILLARREAL                       1            5                3   \n\n                 Off Target Shots  Blocked Shots  Corners  Fouls  \\\nALMERÍA                         5              2        9     30   \nATHLETIC                        5              5        5     26   \nATLETICO MADRID                 6              3        9     41   \nBARCELONA                     237            115      236    370   \nCELTA                           8              4        9     55   \nCÓRDOBA                         8              1        5     16   \nDEPORTIVO                       7              6        6     23   \nEIBAR                           7              6        9     27   \nELCHE                           5              1        3     31   \nESPANYOL                        4              2        7     32   \nGETAFE                          4              2       10     29   \nGRANADA                        10              4        5     29   \nLEVANTE                         5              6        7     26   \nMÁLAGA                          9              3        5     26   \nRAYO VALLECANO                 11              3        7     30   \nREAL MADRID                    11             10       13     25   \nREAL SOCIEDAD                   5              4        9     34   \nSEVILLA FC                      6              5        6     44   \nVALENCIA                       11              5        8     28   \nVILLARREAL                     13              2        5     32   \n\n                 First Yellow Cards  Second Yellow Cards  Red Cards  \\\nALMERÍA                           5                    0          0   \nATHLETIC                          4                    0          1   \nATLETICO MADRID                  11                    0          0   \nBARCELONA                        68                    1          2   \nCELTA                             4                    0          1   \nCÓRDOBA                           2                    0          0   \nDEPORTIVO                         5                    0          0   \nEIBAR                             3                    0          0   \nELCHE                             7                    1          0   \nESPANYOL                         10                    1          0   \nGETAFE                            2                    0          0   \nGRANADA                           5                    0          0   \nLEVANTE                           3                    0          1   \nMÁLAGA                            5                    0          0   \nRAYO VALLECANO                    7                    3          0   \nREAL MADRID                       8                    0          0   \nREAL SOCIEDAD                    10                    0          0   \nSEVILLA FC                        7                    0          0   \nVALENCIA                          8                    0          0   \nVILLARREAL                        2                    0          0   \n\n                 Pass Success mean  \nALMERÍA                          3  \nATHLETIC                         3  \nATLETICO MADRID                  3  \nBARCELONA                       87  \nCELTA                            3  \nCÓRDOBA                          3  \nDEPORTIVO                        3  \nEIBAR                            3  \nELCHE                            4  \nESPANYOL                         3  \nGETAFE                           3  \nGRANADA                          3  \nLEVANTE                          3  \nMÁLAGA                           3  \nRAYO VALLECANO                   4  \nREAL MADRID                      4  \nREAL SOCIEDAD                    3  \nSEVILLA FC                       3  \nVALENCIA                         4  \nVILLARREAL                       3  ",
      "text/html": "<div>\n<style scoped>\n    .dataframe tbody tr th:only-of-type {\n        vertical-align: middle;\n    }\n\n    .dataframe tbody tr th {\n        vertical-align: top;\n    }\n\n    .dataframe thead th {\n        text-align: right;\n    }\n</style>\n<table border=\"1\" class=\"dataframe\">\n  <thead>\n    <tr style=\"text-align: right;\">\n      <th></th>\n      <th>Points</th>\n      <th>Goals Scored</th>\n      <th>Goals received</th>\n      <th>Goals ht</th>\n      <th>Goals received ht</th>\n      <th>Rating mean</th>\n      <th>On Target Shots</th>\n      <th>Off Target Shots</th>\n      <th>Blocked Shots</th>\n      <th>Corners</th>\n      <th>Fouls</th>\n      <th>First Yellow Cards</th>\n      <th>Second Yellow Cards</th>\n      <th>Red Cards</th>\n      <th>Pass Success mean</th>\n    </tr>\n  </thead>\n  <tbody>\n    <tr>\n      <th>ALMERÍA</th>\n      <td>0</td>\n      <td>1</td>\n      <td>6</td>\n      <td>1</td>\n      <td>1</td>\n      <td>5</td>\n      <td>5</td>\n      <td>5</td>\n      <td>2</td>\n      <td>9</td>\n      <td>30</td>\n      <td>5</td>\n      <td>0</td>\n      <td>0</td>\n      <td>3</td>\n    </tr>\n    <tr>\n      <th>ATHLETIC</th>\n      <td>0</td>\n      <td>2</td>\n      <td>7</td>\n      <td>0</td>\n      <td>2</td>\n      <td>4</td>\n      <td>8</td>\n      <td>5</td>\n      <td>5</td>\n      <td>5</td>\n      <td>26</td>\n      <td>4</td>\n      <td>0</td>\n      <td>1</td>\n      <td>3</td>\n    </tr>\n    <tr>\n      <th>ATLETICO MADRID</th>\n      <td>0</td>\n      <td>1</td>\n      <td>4</td>\n      <td>0</td>\n      <td>2</td>\n      <td>5</td>\n      <td>6</td>\n      <td>6</td>\n      <td>3</td>\n      <td>9</td>\n      <td>41</td>\n      <td>11</td>\n      <td>0</td>\n      <td>0</td>\n      <td>3</td>\n    </tr>\n    <tr>\n      <th>BARCELONA</th>\n      <td>94</td>\n      <td>110</td>\n      <td>21</td>\n      <td>40</td>\n      <td>8</td>\n      <td>154</td>\n      <td>273</td>\n      <td>237</td>\n      <td>115</td>\n      <td>236</td>\n      <td>370</td>\n      <td>68</td>\n      <td>1</td>\n      <td>2</td>\n      <td>87</td>\n    </tr>\n    <tr>\n      <th>CELTA</th>\n      <td>3</td>\n      <td>1</td>\n      <td>1</td>\n      <td>0</td>\n      <td>0</td>\n      <td>5</td>\n      <td>5</td>\n      <td>8</td>\n      <td>4</td>\n      <td>9</td>\n      <td>55</td>\n      <td>4</td>\n      <td>0</td>\n      <td>1</td>\n      <td>3</td>\n    </tr>\n    <tr>\n      <th>CÓRDOBA</th>\n      <td>0</td>\n      <td>0</td>\n      <td>13</td>\n      <td>0</td>\n      <td>3</td>\n      <td>2</td>\n      <td>3</td>\n      <td>8</td>\n      <td>1</td>\n      <td>5</td>\n      <td>16</td>\n      <td>2</td>\n      <td>0</td>\n      <td>0</td>\n      <td>3</td>\n    </tr>\n    <tr>\n      <th>DEPORTIVO</th>\n      <td>1</td>\n      <td>2</td>\n      <td>6</td>\n      <td>0</td>\n      <td>3</td>\n      <td>4</td>\n      <td>4</td>\n      <td>7</td>\n      <td>6</td>\n      <td>6</td>\n      <td>23</td>\n      <td>5</td>\n      <td>0</td>\n      <td>0</td>\n      <td>3</td>\n    </tr>\n    <tr>\n      <th>EIBAR</th>\n      <td>0</td>\n      <td>0</td>\n      <td>5</td>\n      <td>0</td>\n      <td>1</td>\n      <td>5</td>\n      <td>4</td>\n      <td>7</td>\n      <td>6</td>\n      <td>9</td>\n      <td>27</td>\n      <td>3</td>\n      <td>0</td>\n      <td>0</td>\n      <td>3</td>\n    </tr>\n    <tr>\n      <th>ELCHE</th>\n      <td>0</td>\n      <td>0</td>\n      <td>9</td>\n      <td>0</td>\n      <td>2</td>\n      <td>3</td>\n      <td>3</td>\n      <td>5</td>\n      <td>1</td>\n      <td>3</td>\n      <td>31</td>\n      <td>7</td>\n      <td>1</td>\n      <td>0</td>\n      <td>4</td>\n    </tr>\n    <tr>\n      <th>ESPANYOL</th>\n      <td>0</td>\n      <td>1</td>\n      <td>7</td>\n      <td>1</td>\n      <td>3</td>\n      <td>5</td>\n      <td>4</td>\n      <td>4</td>\n      <td>2</td>\n      <td>7</td>\n      <td>32</td>\n      <td>10</td>\n      <td>1</td>\n      <td>0</td>\n      <td>3</td>\n    </tr>\n    <tr>\n      <th>GETAFE</th>\n      <td>1</td>\n      <td>0</td>\n      <td>6</td>\n      <td>0</td>\n      <td>5</td>\n      <td>6</td>\n      <td>5</td>\n      <td>4</td>\n      <td>2</td>\n      <td>10</td>\n      <td>29</td>\n      <td>2</td>\n      <td>0</td>\n      <td>0</td>\n      <td>3</td>\n    </tr>\n    <tr>\n      <th>GRANADA</th>\n      <td>0</td>\n      <td>1</td>\n      <td>9</td>\n      <td>0</td>\n      <td>4</td>\n      <td>4</td>\n      <td>5</td>\n      <td>10</td>\n      <td>4</td>\n      <td>5</td>\n      <td>29</td>\n      <td>5</td>\n      <td>0</td>\n      <td>0</td>\n      <td>3</td>\n    </tr>\n    <tr>\n      <th>LEVANTE</th>\n      <td>0</td>\n      <td>0</td>\n      <td>10</td>\n      <td>0</td>\n      <td>4</td>\n      <td>4</td>\n      <td>3</td>\n      <td>5</td>\n      <td>6</td>\n      <td>7</td>\n      <td>26</td>\n      <td>3</td>\n      <td>0</td>\n      <td>1</td>\n      <td>3</td>\n    </tr>\n    <tr>\n      <th>MÁLAGA</th>\n      <td>4</td>\n      <td>1</td>\n      <td>0</td>\n      <td>1</td>\n      <td>0</td>\n      <td>7</td>\n      <td>5</td>\n      <td>9</td>\n      <td>3</td>\n      <td>5</td>\n      <td>26</td>\n      <td>5</td>\n      <td>0</td>\n      <td>0</td>\n      <td>3</td>\n    </tr>\n    <tr>\n      <th>RAYO VALLECANO</th>\n      <td>0</td>\n      <td>1</td>\n      <td>8</td>\n      <td>0</td>\n      <td>3</td>\n      <td>4</td>\n      <td>7</td>\n      <td>11</td>\n      <td>3</td>\n      <td>7</td>\n      <td>30</td>\n      <td>7</td>\n      <td>3</td>\n      <td>0</td>\n      <td>4</td>\n    </tr>\n    <tr>\n      <th>REAL MADRID</th>\n      <td>3</td>\n      <td>4</td>\n      <td>3</td>\n      <td>2</td>\n      <td>2</td>\n      <td>7</td>\n      <td>10</td>\n      <td>11</td>\n      <td>10</td>\n      <td>13</td>\n      <td>25</td>\n      <td>8</td>\n      <td>0</td>\n      <td>0</td>\n      <td>4</td>\n    </tr>\n    <tr>\n      <th>REAL SOCIEDAD</th>\n      <td>3</td>\n      <td>1</td>\n      <td>2</td>\n      <td>1</td>\n      <td>0</td>\n      <td>6</td>\n      <td>2</td>\n      <td>5</td>\n      <td>4</td>\n      <td>9</td>\n      <td>34</td>\n      <td>10</td>\n      <td>0</td>\n      <td>0</td>\n      <td>3</td>\n    </tr>\n    <tr>\n      <th>SEVILLA FC</th>\n      <td>1</td>\n      <td>3</td>\n      <td>7</td>\n      <td>1</td>\n      <td>3</td>\n      <td>6</td>\n      <td>2</td>\n      <td>6</td>\n      <td>5</td>\n      <td>6</td>\n      <td>44</td>\n      <td>7</td>\n      <td>0</td>\n      <td>0</td>\n      <td>3</td>\n    </tr>\n    <tr>\n      <th>VALENCIA</th>\n      <td>0</td>\n      <td>0</td>\n      <td>3</td>\n      <td>0</td>\n      <td>1</td>\n      <td>6</td>\n      <td>7</td>\n      <td>11</td>\n      <td>5</td>\n      <td>8</td>\n      <td>28</td>\n      <td>8</td>\n      <td>0</td>\n      <td>0</td>\n      <td>4</td>\n    </tr>\n    <tr>\n      <th>VILLARREAL</th>\n      <td>0</td>\n      <td>2</td>\n      <td>4</td>\n      <td>1</td>\n      <td>1</td>\n      <td>5</td>\n      <td>3</td>\n      <td>13</td>\n      <td>2</td>\n      <td>5</td>\n      <td>32</td>\n      <td>2</td>\n      <td>0</td>\n      <td>0</td>\n      <td>3</td>\n    </tr>\n  </tbody>\n</table>\n</div>"
     },
     "execution_count": 30,
     "metadata": {},
     "output_type": "execute_result"
    }
   ],
   "source": [
    "la_liga_2014_concat"
   ],
   "metadata": {
    "collapsed": false,
    "pycharm": {
     "name": "#%%\n"
    }
   }
  },
  {
   "cell_type": "code",
   "execution_count": 31,
   "outputs": [],
   "source": [
    "la_liga_2014_concat_max = la_liga_2014_concat.max()"
   ],
   "metadata": {
    "collapsed": false,
    "pycharm": {
     "name": "#%%\n"
    }
   }
  },
  {
   "cell_type": "code",
   "execution_count": 32,
   "outputs": [
    {
     "data": {
      "text/plain": "Points                  94\nGoals Scored           110\nGoals received          21\nGoals ht                40\nGoals received ht        8\nRating mean            154\nOn Target Shots        273\nOff Target Shots       237\nBlocked Shots          115\nCorners                236\nFouls                  370\nFirst Yellow Cards      68\nSecond Yellow Cards      3\nRed Cards                2\nPass Success mean       87\ndtype: int64"
     },
     "execution_count": 32,
     "metadata": {},
     "output_type": "execute_result"
    }
   ],
   "source": [
    "la_liga_2014_concat_max"
   ],
   "metadata": {
    "collapsed": false,
    "pycharm": {
     "name": "#%%\n"
    }
   }
  },
  {
   "cell_type": "markdown",
   "source": [
    "## Prepare Data 2015"
   ],
   "metadata": {
    "collapsed": false,
    "pycharm": {
     "name": "#%% md\n"
    }
   }
  },
  {
   "cell_type": "code",
   "execution_count": 33,
   "outputs": [
    {
     "name": "stderr",
     "output_type": "stream",
     "text": [
      "/var/folders/f0/pqy2clvx0nv38xm_npv8fklm0000gn/T/ipykernel_3415/824876337.py:2: FutureWarning: Indexing with multiple keys (implicitly converted to a tuple of keys) will be deprecated, use a list instead.\n",
      "  la_liga_2015_home_gb = la_liga_2015.groupby([\"Home Team\"])[\"Home Team\", \"Home Team Goals Scored\", \"Away Team Goals Scored\", \"Home Team Goals ht\", \"Away Team Goals ht\", \"Home Team Result\", \"Home Team Rating\", \"Home Team Off Target Shots\", \"Home Team On Target Shots\", \"Home Team Total Shots\", \"Home Team Blocked Shots\", \"Home Team Corners\", \"Home Team Pass Success %\", \"Home Team Fouls\", \"Home Team Yellow Cards\", \"Home Team Second Yellow Cards\", \"Home Team Red Cards\"].sum()\n"
     ]
    }
   ],
   "source": [
    "#Groupby Home Team\n",
    "la_liga_2015_home_gb = la_liga_2015.groupby([\"Home Team\"])[\"Home Team\", \"Home Team Goals Scored\", \"Away Team Goals Scored\", \"Home Team Goals ht\", \"Away Team Goals ht\", \"Home Team Result\", \"Home Team Rating\", \"Home Team Off Target Shots\", \"Home Team On Target Shots\", \"Home Team Total Shots\", \"Home Team Blocked Shots\", \"Home Team Corners\", \"Home Team Pass Success %\", \"Home Team Fouls\", \"Home Team Yellow Cards\", \"Home Team Second Yellow Cards\", \"Home Team Red Cards\"].sum()"
   ],
   "metadata": {
    "collapsed": false,
    "pycharm": {
     "name": "#%%\n"
    }
   }
  },
  {
   "cell_type": "code",
   "execution_count": 34,
   "outputs": [
    {
     "name": "stderr",
     "output_type": "stream",
     "text": [
      "/var/folders/f0/pqy2clvx0nv38xm_npv8fklm0000gn/T/ipykernel_3415/2347900123.py:2: FutureWarning: Indexing with multiple keys (implicitly converted to a tuple of keys) will be deprecated, use a list instead.\n",
      "  la_liga_2015_away_gb = la_liga_2015.groupby([\"Away Team\"])[\"Away Team\", \"Home Team Goals Scored\",\"Away Team Goals Scored\",\"Home Team Goals ht\",\"Away Team Goals ht\",\"Away Team Result\",\"Away Team Rating\",\"Away Team Off Target Shots\",\"Away Team On Target Shots\",\"Away Team Total Shots\",\"Away Team Blocked Shots\",\"Away Team Corners\",\"Away Team Pass Success %\",\"Away Team Fouls\",\"Away Team Yellow Cards\",\"Away Team Second Yellow Cards\",\"Away Team Red Cards\"].sum()\n"
     ]
    }
   ],
   "source": [
    "#Groupby Away Team\n",
    "la_liga_2015_away_gb = la_liga_2015.groupby([\"Away Team\"])[\"Away Team\", \"Home Team Goals Scored\",\"Away Team Goals Scored\",\"Home Team Goals ht\",\"Away Team Goals ht\",\"Away Team Result\",\"Away Team Rating\",\"Away Team Off Target Shots\",\"Away Team On Target Shots\",\"Away Team Total Shots\",\"Away Team Blocked Shots\",\"Away Team Corners\",\"Away Team Pass Success %\",\"Away Team Fouls\",\"Away Team Yellow Cards\",\"Away Team Second Yellow Cards\",\"Away Team Red Cards\"].sum()"
   ],
   "metadata": {
    "collapsed": false,
    "pycharm": {
     "name": "#%%\n"
    }
   }
  },
  {
   "cell_type": "code",
   "execution_count": 35,
   "outputs": [],
   "source": [
    "#Reanme all columns to join the dataframes\n",
    "la_liga_2015_home_gb = la_liga_2015_home_gb.rename(columns={\"Home Team Goals Scored\":\"Home Goals Scored\", \"Away Team Goals Scored\": \"Home Goals received\", \"Home Team Goals ht\": \"Home Goals ht\", \"Away Team Goals ht\": \"Home Goals received ht\", \"Home Team Result\": \"Home Points\", \"Home Team Rating\": \"Home Rating\", \"Home Team Off Target Shots\": \"Home Off Target Shots\", \"Home Team On Target Shots\": \"Home On Target Shots\",\"Home Team Total Shots\":\"Home Total Shots\", \"Home Team Blocked Shots\": \"Home Blocked Shots\", \"Home Team Corners\": \"Home Corners\", \"Home Team Pass Success %\": \"Home Pass Success %\", \"Home Team Fouls\": \"Home Fouls\", \"Home Team Yellow Cards\": \"Home Yellow Cards\", \"Home Team Second Yellow Cards\": \"Home Second Yellow Cards\", \"Home Team Red Cards\": \"Home Red Cards\"})"
   ],
   "metadata": {
    "collapsed": false,
    "pycharm": {
     "name": "#%%\n"
    }
   }
  },
  {
   "cell_type": "code",
   "execution_count": 36,
   "outputs": [],
   "source": [
    "#Reanme all columns to join the dataframes\n",
    "la_liga_2015_away_gb = la_liga_2015_away_gb.rename(columns={\"Home Team Goals Scored\": \"Away Goals received\",\"Away Team Goals Scored\": \"Away Goals Scored\", \"Home Team Goals ht\": \"Away Goals received ht\",\"Away Team Goals ht\": \"Away Goals ht\",\"Away Team Result\": \"Away Points\",\"Away Team Rating\": \"Away Rating\",\"Away Team Off Target Shots\": \"Away Off Target Shots\",\"Away Team On Target Shots\": \"Away On Target Shots\",\"Away Team Total Shots\": \"Away Total Shots\", \"Away Team Blocked Shots\": \"Away Blocked Shots\",\"Away Team Corners\": \"Away Corners\",\"Away Team Pass Success %\": \"Away Pass Success %\",\"Away Team Fouls\": \"Away Fouls\",\"Away Team Yellow Cards\": \"Away Yellow Cards\",\"Away Team Second Yellow Cards\": \"Away Second Yellow Cards\",\"Away Team Red Cards\": \"Away Red Cards\"})"
   ],
   "metadata": {
    "collapsed": false,
    "pycharm": {
     "name": "#%%\n"
    }
   }
  },
  {
   "cell_type": "code",
   "execution_count": 37,
   "outputs": [],
   "source": [
    "#Concat the two dataframes for analyze the season\n",
    "la_liga_2015_concat = pd.concat([la_liga_2015_away_gb, la_liga_2015_home_gb],axis=1, join=\"inner\")"
   ],
   "metadata": {
    "collapsed": false,
    "pycharm": {
     "name": "#%%\n"
    }
   }
  },
  {
   "cell_type": "code",
   "execution_count": 38,
   "outputs": [
    {
     "data": {
      "text/plain": "0"
     },
     "execution_count": 38,
     "metadata": {},
     "output_type": "execute_result"
    }
   ],
   "source": [
    "for i in range(len(la_liga_2015_concat)):\n",
    "    la_liga_2015_concat[\"Points\"] = 0\n",
    "    la_liga_2015_concat[\"Goals Scored\"] = 0\n",
    "    la_liga_2015_concat[\"Goals received\"] = 0\n",
    "    la_liga_2015_concat[\"Goals ht\"] = 0\n",
    "    la_liga_2015_concat[\"Goals received ht\"] = 0\n",
    "    la_liga_2015_concat[\"Rating mean\"] = 0\n",
    "    la_liga_2015_concat[\"On Target Shots\"] = 0\n",
    "    la_liga_2015_concat[\"Off Target Shots\"] = 0\n",
    "    la_liga_2015_concat[\"Blocked Shots\"] = 0\n",
    "    la_liga_2015_concat[\"Corners\"] = 0\n",
    "    la_liga_2015_concat[\"Fouls\"] = 0\n",
    "    la_liga_2015_concat[\"First Yellow Cards\"] = 0\n",
    "    la_liga_2015_concat[\"Second Yellow Cards\"] = 0\n",
    "    la_liga_2015_concat[\"Yellow Cards\"] = 0\n",
    "    la_liga_2015_concat[\"Red Cards\"] = 0\n",
    "    la_liga_2015_concat[\"Pass Success mean\"] = 0\n",
    "\n",
    "\n",
    "la_liga_2015_concat[\"Home Points\"][0]"
   ],
   "metadata": {
    "collapsed": false,
    "pycharm": {
     "name": "#%%\n"
    }
   }
  },
  {
   "cell_type": "code",
   "execution_count": 39,
   "outputs": [
    {
     "name": "stderr",
     "output_type": "stream",
     "text": [
      "/var/folders/f0/pqy2clvx0nv38xm_npv8fklm0000gn/T/ipykernel_3415/2787208830.py:2: SettingWithCopyWarning: \n",
      "A value is trying to be set on a copy of a slice from a DataFrame\n",
      "\n",
      "See the caveats in the documentation: https://pandas.pydata.org/pandas-docs/stable/user_guide/indexing.html#returning-a-view-versus-a-copy\n",
      "  la_liga_2015_concat[\"Points\"][i] = la_liga_2015_concat[\"Home Points\"][i] + la_liga_2015_concat[\"Away Points\"][i]\n",
      "/var/folders/f0/pqy2clvx0nv38xm_npv8fklm0000gn/T/ipykernel_3415/2787208830.py:3: SettingWithCopyWarning: \n",
      "A value is trying to be set on a copy of a slice from a DataFrame\n",
      "\n",
      "See the caveats in the documentation: https://pandas.pydata.org/pandas-docs/stable/user_guide/indexing.html#returning-a-view-versus-a-copy\n",
      "  la_liga_2015_concat[\"Goals Scored\"][i] = la_liga_2015_concat[\"Home Goals Scored\"][i] + la_liga_2015_concat[\"Away Goals Scored\"][i]\n",
      "/var/folders/f0/pqy2clvx0nv38xm_npv8fklm0000gn/T/ipykernel_3415/2787208830.py:4: SettingWithCopyWarning: \n",
      "A value is trying to be set on a copy of a slice from a DataFrame\n",
      "\n",
      "See the caveats in the documentation: https://pandas.pydata.org/pandas-docs/stable/user_guide/indexing.html#returning-a-view-versus-a-copy\n",
      "  la_liga_2015_concat[\"Goals received\"][i] = la_liga_2015_concat[\"Home Goals received\"][i] + la_liga_2015_concat[\"Away Goals received\"][i]\n",
      "/var/folders/f0/pqy2clvx0nv38xm_npv8fklm0000gn/T/ipykernel_3415/2787208830.py:5: SettingWithCopyWarning: \n",
      "A value is trying to be set on a copy of a slice from a DataFrame\n",
      "\n",
      "See the caveats in the documentation: https://pandas.pydata.org/pandas-docs/stable/user_guide/indexing.html#returning-a-view-versus-a-copy\n",
      "  la_liga_2015_concat[\"Goals ht\"][i] = la_liga_2015_concat[\"Home Goals ht\"][i] + la_liga_2015_concat[\"Away Goals ht\"][i]\n",
      "/var/folders/f0/pqy2clvx0nv38xm_npv8fklm0000gn/T/ipykernel_3415/2787208830.py:6: SettingWithCopyWarning: \n",
      "A value is trying to be set on a copy of a slice from a DataFrame\n",
      "\n",
      "See the caveats in the documentation: https://pandas.pydata.org/pandas-docs/stable/user_guide/indexing.html#returning-a-view-versus-a-copy\n",
      "  la_liga_2015_concat[\"Goals received ht\"][i] = la_liga_2015_concat[\"Home Goals received ht\"][i] + la_liga_2015_concat[\"Away Goals received ht\"][i]\n",
      "/var/folders/f0/pqy2clvx0nv38xm_npv8fklm0000gn/T/ipykernel_3415/2787208830.py:7: SettingWithCopyWarning: \n",
      "A value is trying to be set on a copy of a slice from a DataFrame\n",
      "\n",
      "See the caveats in the documentation: https://pandas.pydata.org/pandas-docs/stable/user_guide/indexing.html#returning-a-view-versus-a-copy\n",
      "  la_liga_2015_concat[\"Rating mean\"][i] = la_liga_2015_concat[\"Home Rating\"][i] + la_liga_2015_concat[\"Away Rating\"][i] / 38\n",
      "/var/folders/f0/pqy2clvx0nv38xm_npv8fklm0000gn/T/ipykernel_3415/2787208830.py:8: SettingWithCopyWarning: \n",
      "A value is trying to be set on a copy of a slice from a DataFrame\n",
      "\n",
      "See the caveats in the documentation: https://pandas.pydata.org/pandas-docs/stable/user_guide/indexing.html#returning-a-view-versus-a-copy\n",
      "  la_liga_2015_concat[\"On Target Shots\"][i] = la_liga_2015_concat[\"Home On Target Shots\"][i] + la_liga_2015_concat[\"Away On Target Shots\"][i]\n",
      "/var/folders/f0/pqy2clvx0nv38xm_npv8fklm0000gn/T/ipykernel_3415/2787208830.py:9: SettingWithCopyWarning: \n",
      "A value is trying to be set on a copy of a slice from a DataFrame\n",
      "\n",
      "See the caveats in the documentation: https://pandas.pydata.org/pandas-docs/stable/user_guide/indexing.html#returning-a-view-versus-a-copy\n",
      "  la_liga_2015_concat[\"Off Target Shots\"][i] = la_liga_2015_concat[\"Home Off Target Shots\"][i] + la_liga_2015_concat[\"Away Off Target Shots\"][i]\n",
      "/var/folders/f0/pqy2clvx0nv38xm_npv8fklm0000gn/T/ipykernel_3415/2787208830.py:10: SettingWithCopyWarning: \n",
      "A value is trying to be set on a copy of a slice from a DataFrame\n",
      "\n",
      "See the caveats in the documentation: https://pandas.pydata.org/pandas-docs/stable/user_guide/indexing.html#returning-a-view-versus-a-copy\n",
      "  la_liga_2015_concat[\"Blocked Shots\"][i] = la_liga_2015_concat[\"Home Blocked Shots\"][i] + la_liga_2015_concat[\"Away Blocked Shots\"][i]\n",
      "/var/folders/f0/pqy2clvx0nv38xm_npv8fklm0000gn/T/ipykernel_3415/2787208830.py:11: SettingWithCopyWarning: \n",
      "A value is trying to be set on a copy of a slice from a DataFrame\n",
      "\n",
      "See the caveats in the documentation: https://pandas.pydata.org/pandas-docs/stable/user_guide/indexing.html#returning-a-view-versus-a-copy\n",
      "  la_liga_2015_concat[\"Corners\"][i] = la_liga_2015_concat[\"Home Corners\"][i] + la_liga_2015_concat[\"Away Corners\"][i]\n",
      "/var/folders/f0/pqy2clvx0nv38xm_npv8fklm0000gn/T/ipykernel_3415/2787208830.py:12: SettingWithCopyWarning: \n",
      "A value is trying to be set on a copy of a slice from a DataFrame\n",
      "\n",
      "See the caveats in the documentation: https://pandas.pydata.org/pandas-docs/stable/user_guide/indexing.html#returning-a-view-versus-a-copy\n",
      "  la_liga_2015_concat[\"Fouls\"][i] = la_liga_2015_concat[\"Home Fouls\"][i] + la_liga_2015_concat[\"Away Fouls\"][i]\n",
      "/var/folders/f0/pqy2clvx0nv38xm_npv8fklm0000gn/T/ipykernel_3415/2787208830.py:13: SettingWithCopyWarning: \n",
      "A value is trying to be set on a copy of a slice from a DataFrame\n",
      "\n",
      "See the caveats in the documentation: https://pandas.pydata.org/pandas-docs/stable/user_guide/indexing.html#returning-a-view-versus-a-copy\n",
      "  la_liga_2015_concat[\"First Yellow Cards\"][i] = la_liga_2015_concat[\"Home Yellow Cards\"][i] + la_liga_2015_concat[\"Away Yellow Cards\"][i]\n",
      "/var/folders/f0/pqy2clvx0nv38xm_npv8fklm0000gn/T/ipykernel_3415/2787208830.py:14: SettingWithCopyWarning: \n",
      "A value is trying to be set on a copy of a slice from a DataFrame\n",
      "\n",
      "See the caveats in the documentation: https://pandas.pydata.org/pandas-docs/stable/user_guide/indexing.html#returning-a-view-versus-a-copy\n",
      "  la_liga_2015_concat[\"Second Yellow Cards\"][i] = la_liga_2015_concat[\"Home Second Yellow Cards\"][i] + la_liga_2015_concat[\"Away Second Yellow Cards\"][i]\n",
      "/var/folders/f0/pqy2clvx0nv38xm_npv8fklm0000gn/T/ipykernel_3415/2787208830.py:15: SettingWithCopyWarning: \n",
      "A value is trying to be set on a copy of a slice from a DataFrame\n",
      "\n",
      "See the caveats in the documentation: https://pandas.pydata.org/pandas-docs/stable/user_guide/indexing.html#returning-a-view-versus-a-copy\n",
      "  la_liga_2015_concat[\"Yellow Cards\"][i] = la_liga_2015_concat[\"Home Yellow Cards\"][i] + la_liga_2015_concat[\"Away Yellow Cards\"][i] + la_liga_2015_concat[\"Home Second Yellow Cards\"][i] + la_liga_2015_concat[\"Away Second Yellow Cards\"][i]\n",
      "/var/folders/f0/pqy2clvx0nv38xm_npv8fklm0000gn/T/ipykernel_3415/2787208830.py:16: SettingWithCopyWarning: \n",
      "A value is trying to be set on a copy of a slice from a DataFrame\n",
      "\n",
      "See the caveats in the documentation: https://pandas.pydata.org/pandas-docs/stable/user_guide/indexing.html#returning-a-view-versus-a-copy\n",
      "  la_liga_2015_concat[\"Red Cards\"][i] = la_liga_2015_concat[\"Home Red Cards\"][i] + la_liga_2015_concat[\"Away Red Cards\"][i]\n",
      "/var/folders/f0/pqy2clvx0nv38xm_npv8fklm0000gn/T/ipykernel_3415/2787208830.py:17: SettingWithCopyWarning: \n",
      "A value is trying to be set on a copy of a slice from a DataFrame\n",
      "\n",
      "See the caveats in the documentation: https://pandas.pydata.org/pandas-docs/stable/user_guide/indexing.html#returning-a-view-versus-a-copy\n",
      "  la_liga_2015_concat[\"Pass Success mean\"][i] = (la_liga_2015_concat[\"Home Pass Success %\"][i] + la_liga_2015_concat[\"Away Pass Success %\"][i]) / 38\n"
     ]
    }
   ],
   "source": [
    "for i in range(len(la_liga_2015_concat)):\n",
    "    la_liga_2015_concat[\"Points\"][i] = la_liga_2015_concat[\"Home Points\"][i] + la_liga_2015_concat[\"Away Points\"][i]\n",
    "    la_liga_2015_concat[\"Goals Scored\"][i] = la_liga_2015_concat[\"Home Goals Scored\"][i] + la_liga_2015_concat[\"Away Goals Scored\"][i]\n",
    "    la_liga_2015_concat[\"Goals received\"][i] = la_liga_2015_concat[\"Home Goals received\"][i] + la_liga_2015_concat[\"Away Goals received\"][i]\n",
    "    la_liga_2015_concat[\"Goals ht\"][i] = la_liga_2015_concat[\"Home Goals ht\"][i] + la_liga_2015_concat[\"Away Goals ht\"][i]\n",
    "    la_liga_2015_concat[\"Goals received ht\"][i] = la_liga_2015_concat[\"Home Goals received ht\"][i] + la_liga_2015_concat[\"Away Goals received ht\"][i]\n",
    "    la_liga_2015_concat[\"Rating mean\"][i] = la_liga_2015_concat[\"Home Rating\"][i] + la_liga_2015_concat[\"Away Rating\"][i] / 38\n",
    "    la_liga_2015_concat[\"On Target Shots\"][i] = la_liga_2015_concat[\"Home On Target Shots\"][i] + la_liga_2015_concat[\"Away On Target Shots\"][i]\n",
    "    la_liga_2015_concat[\"Off Target Shots\"][i] = la_liga_2015_concat[\"Home Off Target Shots\"][i] + la_liga_2015_concat[\"Away Off Target Shots\"][i]\n",
    "    la_liga_2015_concat[\"Blocked Shots\"][i] = la_liga_2015_concat[\"Home Blocked Shots\"][i] + la_liga_2015_concat[\"Away Blocked Shots\"][i]\n",
    "    la_liga_2015_concat[\"Corners\"][i] = la_liga_2015_concat[\"Home Corners\"][i] + la_liga_2015_concat[\"Away Corners\"][i]\n",
    "    la_liga_2015_concat[\"Fouls\"][i] = la_liga_2015_concat[\"Home Fouls\"][i] + la_liga_2015_concat[\"Away Fouls\"][i]\n",
    "    la_liga_2015_concat[\"First Yellow Cards\"][i] = la_liga_2015_concat[\"Home Yellow Cards\"][i] + la_liga_2015_concat[\"Away Yellow Cards\"][i]\n",
    "    la_liga_2015_concat[\"Second Yellow Cards\"][i] = la_liga_2015_concat[\"Home Second Yellow Cards\"][i] + la_liga_2015_concat[\"Away Second Yellow Cards\"][i]\n",
    "    la_liga_2015_concat[\"Yellow Cards\"][i] = la_liga_2015_concat[\"Home Yellow Cards\"][i] + la_liga_2015_concat[\"Away Yellow Cards\"][i] + la_liga_2015_concat[\"Home Second Yellow Cards\"][i] + la_liga_2015_concat[\"Away Second Yellow Cards\"][i]\n",
    "    la_liga_2015_concat[\"Red Cards\"][i] = la_liga_2015_concat[\"Home Red Cards\"][i] + la_liga_2015_concat[\"Away Red Cards\"][i]\n",
    "    la_liga_2015_concat[\"Pass Success mean\"][i] = (la_liga_2015_concat[\"Home Pass Success %\"][i] + la_liga_2015_concat[\"Away Pass Success %\"][i]) / 38"
   ],
   "metadata": {
    "collapsed": false,
    "pycharm": {
     "name": "#%%\n"
    }
   }
  },
  {
   "cell_type": "code",
   "execution_count": 40,
   "outputs": [],
   "source": [
    "la_liga_2015_concat = la_liga_2015_concat.filter([\"Points\", \"Goals Scored\", \"Goals received\", \"Goals ht\", \"Goals received ht\", \"Rating mean\", \"On Target Shots\", \"Off Target Shots\", \"Blocked Shots\", \"Corners\", \"Fouls\", \"First Yellow Cards\", \"Second Yellow Cards\", \"Red Cards\", \"Pass Success mean\"])"
   ],
   "metadata": {
    "collapsed": false,
    "pycharm": {
     "name": "#%%\n"
    }
   }
  },
  {
   "cell_type": "code",
   "execution_count": 41,
   "outputs": [
    {
     "data": {
      "text/plain": "                 Points  Goals Scored  Goals received  Goals ht  \\\nATHLETIC              0             0               7         0   \nATLETICO MADRID       0             2               4         1   \nBARCELONA            91           112              29        42   \nCELTA                 3             5               7         3   \nDEPORTIVO             1             2              10         0   \nEIBAR                 0             1               7         1   \nESPANYOL              1             0               5         0   \nGETAFE                0             0               8         0   \nGIJÓN                 0             1               9         1   \nGRANADA               0             0               7         0   \nLAS PALMAS            0             2               4         1   \nLEVANTE               0             1               6         0   \nMÁLAGA                0             1               3         1   \nRAYO VALLECANO        0             3              10         1   \nREAL BETIS            0             0               6         0   \nREAL MADRID           3             2               5         0   \nREAL SOCIEDAD         3             1               4         1   \nSEVILLA FC            3             3               3         1   \nVALENCIA              4             3               2         2   \nVILLARREAL            1             2               5         0   \n\n                 Goals received ht  Rating mean  On Target Shots  \\\nATHLETIC                         2            5                5   \nATLETICO MADRID                  2            6                7   \nBARCELONA                       13          148              266   \nCELTA                            1            7                9   \nDEPORTIVO                        3            3               10   \nEIBAR                            3            4                5   \nESPANYOL                         1            6                3   \nGETAFE                           5            5                1   \nGIJÓN                            3            4                5   \nGRANADA                          4            4                6   \nLAS PALMAS                       3            5                9   \nLEVANTE                          1            5                7   \nMÁLAGA                           1            6               10   \nRAYO VALLECANO                   4            3               12   \nREAL BETIS                       2            5                5   \nREAL MADRID                      2            5               13   \nREAL SOCIEDAD                    2            7                3   \nSEVILLA FC                       1            6                8   \nVALENCIA                         0            6                5   \nVILLARREAL                       2            6                8   \n\n                 Off Target Shots  Blocked Shots  Corners  Fouls  \\\nATHLETIC                        6              6        4     23   \nATLETICO MADRID                 8              3        7     35   \nBARCELONA                     230            109      221    383   \nCELTA                          14              5        6     35   \nDEPORTIVO                      14              5        8     22   \nEIBAR                           7              2        8     36   \nESPANYOL                        4              1        6     47   \nGETAFE                          8              3        6     23   \nGIJÓN                           4              2        2     22   \nGRANADA                         8              2        5     31   \nLAS PALMAS                     12              5        7     33   \nLEVANTE                        10              5        6     30   \nMÁLAGA                          7              2        6     37   \nRAYO VALLECANO                 10              8       13     32   \nREAL BETIS                      6              2        5     29   \nREAL MADRID                     7              8       13     28   \nREAL SOCIEDAD                   9              3        9     28   \nSEVILLA FC                     11              4       14     26   \nVALENCIA                        7              5        2     28   \nVILLARREAL                      7              4        6     36   \n\n                 First Yellow Cards  Second Yellow Cards  Red Cards  \\\nATHLETIC                          5                    0          1   \nATLETICO MADRID                   7                    1          1   \nBARCELONA                        67                    0          1   \nCELTA                             6                    0          0   \nDEPORTIVO                         3                    0          0   \nEIBAR                             8                    0          0   \nESPANYOL                         12                    0          0   \nGETAFE                            6                    0          0   \nGIJÓN                             5                    1          0   \nGRANADA                           9                    0          0   \nLAS PALMAS                        5                    0          0   \nLEVANTE                           5                    0          0   \nMÁLAGA                            6                    0          0   \nRAYO VALLECANO                    2                    0          2   \nREAL BETIS                        7                    1          0   \nREAL MADRID                       6                    1          1   \nREAL SOCIEDAD                     6                    0          0   \nSEVILLA FC                        7                    0          0   \nVALENCIA                          6                    0          0   \nVILLARREAL                       11                    0          0   \n\n                 Pass Success mean  \nATHLETIC                         3  \nATLETICO MADRID                  4  \nBARCELONA                       86  \nCELTA                            3  \nDEPORTIVO                        4  \nEIBAR                            3  \nESPANYOL                         3  \nGETAFE                           3  \nGIJÓN                            3  \nGRANADA                          4  \nLAS PALMAS                       4  \nLEVANTE                          3  \nMÁLAGA                           3  \nRAYO VALLECANO                   4  \nREAL BETIS                       3  \nREAL MADRID                      4  \nREAL SOCIEDAD                    3  \nSEVILLA FC                       3  \nVALENCIA                         3  \nVILLARREAL                       3  ",
      "text/html": "<div>\n<style scoped>\n    .dataframe tbody tr th:only-of-type {\n        vertical-align: middle;\n    }\n\n    .dataframe tbody tr th {\n        vertical-align: top;\n    }\n\n    .dataframe thead th {\n        text-align: right;\n    }\n</style>\n<table border=\"1\" class=\"dataframe\">\n  <thead>\n    <tr style=\"text-align: right;\">\n      <th></th>\n      <th>Points</th>\n      <th>Goals Scored</th>\n      <th>Goals received</th>\n      <th>Goals ht</th>\n      <th>Goals received ht</th>\n      <th>Rating mean</th>\n      <th>On Target Shots</th>\n      <th>Off Target Shots</th>\n      <th>Blocked Shots</th>\n      <th>Corners</th>\n      <th>Fouls</th>\n      <th>First Yellow Cards</th>\n      <th>Second Yellow Cards</th>\n      <th>Red Cards</th>\n      <th>Pass Success mean</th>\n    </tr>\n  </thead>\n  <tbody>\n    <tr>\n      <th>ATHLETIC</th>\n      <td>0</td>\n      <td>0</td>\n      <td>7</td>\n      <td>0</td>\n      <td>2</td>\n      <td>5</td>\n      <td>5</td>\n      <td>6</td>\n      <td>6</td>\n      <td>4</td>\n      <td>23</td>\n      <td>5</td>\n      <td>0</td>\n      <td>1</td>\n      <td>3</td>\n    </tr>\n    <tr>\n      <th>ATLETICO MADRID</th>\n      <td>0</td>\n      <td>2</td>\n      <td>4</td>\n      <td>1</td>\n      <td>2</td>\n      <td>6</td>\n      <td>7</td>\n      <td>8</td>\n      <td>3</td>\n      <td>7</td>\n      <td>35</td>\n      <td>7</td>\n      <td>1</td>\n      <td>1</td>\n      <td>4</td>\n    </tr>\n    <tr>\n      <th>BARCELONA</th>\n      <td>91</td>\n      <td>112</td>\n      <td>29</td>\n      <td>42</td>\n      <td>13</td>\n      <td>148</td>\n      <td>266</td>\n      <td>230</td>\n      <td>109</td>\n      <td>221</td>\n      <td>383</td>\n      <td>67</td>\n      <td>0</td>\n      <td>1</td>\n      <td>86</td>\n    </tr>\n    <tr>\n      <th>CELTA</th>\n      <td>3</td>\n      <td>5</td>\n      <td>7</td>\n      <td>3</td>\n      <td>1</td>\n      <td>7</td>\n      <td>9</td>\n      <td>14</td>\n      <td>5</td>\n      <td>6</td>\n      <td>35</td>\n      <td>6</td>\n      <td>0</td>\n      <td>0</td>\n      <td>3</td>\n    </tr>\n    <tr>\n      <th>DEPORTIVO</th>\n      <td>1</td>\n      <td>2</td>\n      <td>10</td>\n      <td>0</td>\n      <td>3</td>\n      <td>3</td>\n      <td>10</td>\n      <td>14</td>\n      <td>5</td>\n      <td>8</td>\n      <td>22</td>\n      <td>3</td>\n      <td>0</td>\n      <td>0</td>\n      <td>4</td>\n    </tr>\n    <tr>\n      <th>EIBAR</th>\n      <td>0</td>\n      <td>1</td>\n      <td>7</td>\n      <td>1</td>\n      <td>3</td>\n      <td>4</td>\n      <td>5</td>\n      <td>7</td>\n      <td>2</td>\n      <td>8</td>\n      <td>36</td>\n      <td>8</td>\n      <td>0</td>\n      <td>0</td>\n      <td>3</td>\n    </tr>\n    <tr>\n      <th>ESPANYOL</th>\n      <td>1</td>\n      <td>0</td>\n      <td>5</td>\n      <td>0</td>\n      <td>1</td>\n      <td>6</td>\n      <td>3</td>\n      <td>4</td>\n      <td>1</td>\n      <td>6</td>\n      <td>47</td>\n      <td>12</td>\n      <td>0</td>\n      <td>0</td>\n      <td>3</td>\n    </tr>\n    <tr>\n      <th>GETAFE</th>\n      <td>0</td>\n      <td>0</td>\n      <td>8</td>\n      <td>0</td>\n      <td>5</td>\n      <td>5</td>\n      <td>1</td>\n      <td>8</td>\n      <td>3</td>\n      <td>6</td>\n      <td>23</td>\n      <td>6</td>\n      <td>0</td>\n      <td>0</td>\n      <td>3</td>\n    </tr>\n    <tr>\n      <th>GIJÓN</th>\n      <td>0</td>\n      <td>1</td>\n      <td>9</td>\n      <td>1</td>\n      <td>3</td>\n      <td>4</td>\n      <td>5</td>\n      <td>4</td>\n      <td>2</td>\n      <td>2</td>\n      <td>22</td>\n      <td>5</td>\n      <td>1</td>\n      <td>0</td>\n      <td>3</td>\n    </tr>\n    <tr>\n      <th>GRANADA</th>\n      <td>0</td>\n      <td>0</td>\n      <td>7</td>\n      <td>0</td>\n      <td>4</td>\n      <td>4</td>\n      <td>6</td>\n      <td>8</td>\n      <td>2</td>\n      <td>5</td>\n      <td>31</td>\n      <td>9</td>\n      <td>0</td>\n      <td>0</td>\n      <td>4</td>\n    </tr>\n    <tr>\n      <th>LAS PALMAS</th>\n      <td>0</td>\n      <td>2</td>\n      <td>4</td>\n      <td>1</td>\n      <td>3</td>\n      <td>5</td>\n      <td>9</td>\n      <td>12</td>\n      <td>5</td>\n      <td>7</td>\n      <td>33</td>\n      <td>5</td>\n      <td>0</td>\n      <td>0</td>\n      <td>4</td>\n    </tr>\n    <tr>\n      <th>LEVANTE</th>\n      <td>0</td>\n      <td>1</td>\n      <td>6</td>\n      <td>0</td>\n      <td>1</td>\n      <td>5</td>\n      <td>7</td>\n      <td>10</td>\n      <td>5</td>\n      <td>6</td>\n      <td>30</td>\n      <td>5</td>\n      <td>0</td>\n      <td>0</td>\n      <td>3</td>\n    </tr>\n    <tr>\n      <th>MÁLAGA</th>\n      <td>0</td>\n      <td>1</td>\n      <td>3</td>\n      <td>1</td>\n      <td>1</td>\n      <td>6</td>\n      <td>10</td>\n      <td>7</td>\n      <td>2</td>\n      <td>6</td>\n      <td>37</td>\n      <td>6</td>\n      <td>0</td>\n      <td>0</td>\n      <td>3</td>\n    </tr>\n    <tr>\n      <th>RAYO VALLECANO</th>\n      <td>0</td>\n      <td>3</td>\n      <td>10</td>\n      <td>1</td>\n      <td>4</td>\n      <td>3</td>\n      <td>12</td>\n      <td>10</td>\n      <td>8</td>\n      <td>13</td>\n      <td>32</td>\n      <td>2</td>\n      <td>0</td>\n      <td>2</td>\n      <td>4</td>\n    </tr>\n    <tr>\n      <th>REAL BETIS</th>\n      <td>0</td>\n      <td>0</td>\n      <td>6</td>\n      <td>0</td>\n      <td>2</td>\n      <td>5</td>\n      <td>5</td>\n      <td>6</td>\n      <td>2</td>\n      <td>5</td>\n      <td>29</td>\n      <td>7</td>\n      <td>1</td>\n      <td>0</td>\n      <td>3</td>\n    </tr>\n    <tr>\n      <th>REAL MADRID</th>\n      <td>3</td>\n      <td>2</td>\n      <td>5</td>\n      <td>0</td>\n      <td>2</td>\n      <td>5</td>\n      <td>13</td>\n      <td>7</td>\n      <td>8</td>\n      <td>13</td>\n      <td>28</td>\n      <td>6</td>\n      <td>1</td>\n      <td>1</td>\n      <td>4</td>\n    </tr>\n    <tr>\n      <th>REAL SOCIEDAD</th>\n      <td>3</td>\n      <td>1</td>\n      <td>4</td>\n      <td>1</td>\n      <td>2</td>\n      <td>7</td>\n      <td>3</td>\n      <td>9</td>\n      <td>3</td>\n      <td>9</td>\n      <td>28</td>\n      <td>6</td>\n      <td>0</td>\n      <td>0</td>\n      <td>3</td>\n    </tr>\n    <tr>\n      <th>SEVILLA FC</th>\n      <td>3</td>\n      <td>3</td>\n      <td>3</td>\n      <td>1</td>\n      <td>1</td>\n      <td>6</td>\n      <td>8</td>\n      <td>11</td>\n      <td>4</td>\n      <td>14</td>\n      <td>26</td>\n      <td>7</td>\n      <td>0</td>\n      <td>0</td>\n      <td>3</td>\n    </tr>\n    <tr>\n      <th>VALENCIA</th>\n      <td>4</td>\n      <td>3</td>\n      <td>2</td>\n      <td>2</td>\n      <td>0</td>\n      <td>6</td>\n      <td>5</td>\n      <td>7</td>\n      <td>5</td>\n      <td>2</td>\n      <td>28</td>\n      <td>6</td>\n      <td>0</td>\n      <td>0</td>\n      <td>3</td>\n    </tr>\n    <tr>\n      <th>VILLARREAL</th>\n      <td>1</td>\n      <td>2</td>\n      <td>5</td>\n      <td>0</td>\n      <td>2</td>\n      <td>6</td>\n      <td>8</td>\n      <td>7</td>\n      <td>4</td>\n      <td>6</td>\n      <td>36</td>\n      <td>11</td>\n      <td>0</td>\n      <td>0</td>\n      <td>3</td>\n    </tr>\n  </tbody>\n</table>\n</div>"
     },
     "execution_count": 41,
     "metadata": {},
     "output_type": "execute_result"
    }
   ],
   "source": [
    "la_liga_2015_concat"
   ],
   "metadata": {
    "collapsed": false,
    "pycharm": {
     "name": "#%%\n"
    }
   }
  },
  {
   "cell_type": "code",
   "execution_count": 42,
   "outputs": [],
   "source": [
    "la_liga_2015_concat_max = la_liga_2015_concat.max()"
   ],
   "metadata": {
    "collapsed": false,
    "pycharm": {
     "name": "#%%\n"
    }
   }
  },
  {
   "cell_type": "code",
   "execution_count": 43,
   "outputs": [
    {
     "data": {
      "text/plain": "Points                  91\nGoals Scored           112\nGoals received          29\nGoals ht                42\nGoals received ht       13\nRating mean            148\nOn Target Shots        266\nOff Target Shots       230\nBlocked Shots          109\nCorners                221\nFouls                  383\nFirst Yellow Cards      67\nSecond Yellow Cards      1\nRed Cards                2\nPass Success mean       86\ndtype: int64"
     },
     "execution_count": 43,
     "metadata": {},
     "output_type": "execute_result"
    }
   ],
   "source": [
    "la_liga_2015_concat_max"
   ],
   "metadata": {
    "collapsed": false,
    "pycharm": {
     "name": "#%%\n"
    }
   }
  },
  {
   "cell_type": "markdown",
   "source": [
    "## Prepare Data 2016"
   ],
   "metadata": {
    "collapsed": false,
    "pycharm": {
     "name": "#%% md\n"
    }
   }
  },
  {
   "cell_type": "code",
   "execution_count": 44,
   "outputs": [
    {
     "name": "stderr",
     "output_type": "stream",
     "text": [
      "/var/folders/f0/pqy2clvx0nv38xm_npv8fklm0000gn/T/ipykernel_3415/4223108563.py:2: FutureWarning: Indexing with multiple keys (implicitly converted to a tuple of keys) will be deprecated, use a list instead.\n",
      "  la_liga_2016_home_gb = la_liga_2016.groupby([\"Home Team\"])[\"Home Team\", \"Home Team Goals Scored\", \"Away Team Goals Scored\", \"Home Team Goals ht\", \"Away Team Goals ht\", \"Home Team Result\", \"Home Team Rating\", \"Home Team Off Target Shots\", \"Home Team On Target Shots\", \"Home Team Total Shots\", \"Home Team Blocked Shots\", \"Home Team Corners\", \"Home Team Pass Success %\", \"Home Team Fouls\", \"Home Team Yellow Cards\", \"Home Team Second Yellow Cards\", \"Home Team Red Cards\"].sum()\n"
     ]
    }
   ],
   "source": [
    "#Groupby Home Team\n",
    "la_liga_2016_home_gb = la_liga_2016.groupby([\"Home Team\"])[\"Home Team\", \"Home Team Goals Scored\", \"Away Team Goals Scored\", \"Home Team Goals ht\", \"Away Team Goals ht\", \"Home Team Result\", \"Home Team Rating\", \"Home Team Off Target Shots\", \"Home Team On Target Shots\", \"Home Team Total Shots\", \"Home Team Blocked Shots\", \"Home Team Corners\", \"Home Team Pass Success %\", \"Home Team Fouls\", \"Home Team Yellow Cards\", \"Home Team Second Yellow Cards\", \"Home Team Red Cards\"].sum()"
   ],
   "metadata": {
    "collapsed": false,
    "pycharm": {
     "name": "#%%\n"
    }
   }
  },
  {
   "cell_type": "code",
   "execution_count": 45,
   "outputs": [
    {
     "name": "stderr",
     "output_type": "stream",
     "text": [
      "/var/folders/f0/pqy2clvx0nv38xm_npv8fklm0000gn/T/ipykernel_3415/255767970.py:2: FutureWarning: Indexing with multiple keys (implicitly converted to a tuple of keys) will be deprecated, use a list instead.\n",
      "  la_liga_2016_away_gb = la_liga_2016.groupby([\"Away Team\"])[\"Away Team\", \"Home Team Goals Scored\",\"Away Team Goals Scored\",\"Home Team Goals ht\",\"Away Team Goals ht\",\"Away Team Result\",\"Away Team Rating\",\"Away Team Off Target Shots\",\"Away Team On Target Shots\",\"Away Team Total Shots\",\"Away Team Blocked Shots\",\"Away Team Corners\",\"Away Team Pass Success %\",\"Away Team Fouls\",\"Away Team Yellow Cards\",\"Away Team Second Yellow Cards\",\"Away Team Red Cards\"].sum()\n"
     ]
    }
   ],
   "source": [
    "#Groupby Away Team\n",
    "la_liga_2016_away_gb = la_liga_2016.groupby([\"Away Team\"])[\"Away Team\", \"Home Team Goals Scored\",\"Away Team Goals Scored\",\"Home Team Goals ht\",\"Away Team Goals ht\",\"Away Team Result\",\"Away Team Rating\",\"Away Team Off Target Shots\",\"Away Team On Target Shots\",\"Away Team Total Shots\",\"Away Team Blocked Shots\",\"Away Team Corners\",\"Away Team Pass Success %\",\"Away Team Fouls\",\"Away Team Yellow Cards\",\"Away Team Second Yellow Cards\",\"Away Team Red Cards\"].sum()"
   ],
   "metadata": {
    "collapsed": false,
    "pycharm": {
     "name": "#%%\n"
    }
   }
  },
  {
   "cell_type": "code",
   "execution_count": 46,
   "outputs": [],
   "source": [
    "#Reanme all columns to join the dataframes\n",
    "la_liga_2016_home_gb = la_liga_2016_home_gb.rename(columns={\"Home Team Goals Scored\":\"Home Goals Scored\", \"Away Team Goals Scored\": \"Home Goals received\", \"Home Team Goals ht\": \"Home Goals ht\", \"Away Team Goals ht\": \"Home Goals received ht\", \"Home Team Result\": \"Home Points\", \"Home Team Rating\": \"Home Rating\", \"Home Team Off Target Shots\": \"Home Off Target Shots\", \"Home Team On Target Shots\": \"Home On Target Shots\",\"Home Team Total Shots\":\"Home Total Shots\", \"Home Team Blocked Shots\": \"Home Blocked Shots\", \"Home Team Corners\": \"Home Corners\", \"Home Team Pass Success %\": \"Home Pass Success %\", \"Home Team Fouls\": \"Home Fouls\", \"Home Team Yellow Cards\": \"Home Yellow Cards\", \"Home Team Second Yellow Cards\": \"Home Second Yellow Cards\", \"Home Team Red Cards\": \"Home Red Cards\"})"
   ],
   "metadata": {
    "collapsed": false,
    "pycharm": {
     "name": "#%%\n"
    }
   }
  },
  {
   "cell_type": "code",
   "execution_count": 47,
   "outputs": [],
   "source": [
    "#Reanme all columns to join the dataframes\n",
    "la_liga_2016_away_gb = la_liga_2016_away_gb.rename(columns={\"Home Team Goals Scored\": \"Away Goals received\",\"Away Team Goals Scored\": \"Away Goals Scored\", \"Home Team Goals ht\": \"Away Goals received ht\",\"Away Team Goals ht\": \"Away Goals ht\",\"Away Team Result\": \"Away Points\",\"Away Team Rating\": \"Away Rating\",\"Away Team Off Target Shots\": \"Away Off Target Shots\",\"Away Team On Target Shots\": \"Away On Target Shots\",\"Away Team Total Shots\": \"Away Total Shots\", \"Away Team Blocked Shots\": \"Away Blocked Shots\",\"Away Team Corners\": \"Away Corners\",\"Away Team Pass Success %\": \"Away Pass Success %\",\"Away Team Fouls\": \"Away Fouls\",\"Away Team Yellow Cards\": \"Away Yellow Cards\",\"Away Team Second Yellow Cards\": \"Away Second Yellow Cards\",\"Away Team Red Cards\": \"Away Red Cards\"})"
   ],
   "metadata": {
    "collapsed": false,
    "pycharm": {
     "name": "#%%\n"
    }
   }
  },
  {
   "cell_type": "code",
   "execution_count": 48,
   "outputs": [],
   "source": [
    "#Concat the two dataframes for analyze the season\n",
    "la_liga_2016_concat = pd.concat([la_liga_2016_away_gb, la_liga_2016_home_gb],axis=1, join=\"inner\")"
   ],
   "metadata": {
    "collapsed": false,
    "pycharm": {
     "name": "#%%\n"
    }
   }
  },
  {
   "cell_type": "code",
   "execution_count": 49,
   "outputs": [
    {
     "data": {
      "text/plain": "0"
     },
     "execution_count": 49,
     "metadata": {},
     "output_type": "execute_result"
    }
   ],
   "source": [
    "for i in range(len(la_liga_2016_concat)):\n",
    "    la_liga_2016_concat[\"Points\"] = 0\n",
    "    la_liga_2016_concat[\"Goals Scored\"] = 0\n",
    "    la_liga_2016_concat[\"Goals received\"] = 0\n",
    "    la_liga_2016_concat[\"Goals ht\"] = 0\n",
    "    la_liga_2016_concat[\"Goals received ht\"] = 0\n",
    "    la_liga_2016_concat[\"Rating mean\"] = 0\n",
    "    la_liga_2016_concat[\"On Target Shots\"] = 0\n",
    "    la_liga_2016_concat[\"Off Target Shots\"] = 0\n",
    "    la_liga_2016_concat[\"Blocked Shots\"] = 0\n",
    "    la_liga_2016_concat[\"Corners\"] = 0\n",
    "    la_liga_2016_concat[\"Fouls\"] = 0\n",
    "    la_liga_2016_concat[\"First Yellow Cards\"] = 0\n",
    "    la_liga_2016_concat[\"Second Yellow Cards\"] = 0\n",
    "    la_liga_2016_concat[\"Yellow Cards\"] = 0\n",
    "    la_liga_2016_concat[\"Red Cards\"] = 0\n",
    "    la_liga_2016_concat[\"Pass Success mean\"] = 0\n",
    "\n",
    "\n",
    "la_liga_2016_concat[\"Home Points\"][0]"
   ],
   "metadata": {
    "collapsed": false,
    "pycharm": {
     "name": "#%%\n"
    }
   }
  },
  {
   "cell_type": "code",
   "execution_count": 50,
   "outputs": [
    {
     "name": "stderr",
     "output_type": "stream",
     "text": [
      "/var/folders/f0/pqy2clvx0nv38xm_npv8fklm0000gn/T/ipykernel_3415/3614487637.py:2: SettingWithCopyWarning: \n",
      "A value is trying to be set on a copy of a slice from a DataFrame\n",
      "\n",
      "See the caveats in the documentation: https://pandas.pydata.org/pandas-docs/stable/user_guide/indexing.html#returning-a-view-versus-a-copy\n",
      "  la_liga_2016_concat[\"Points\"][i] = la_liga_2016_concat[\"Home Points\"][i] + la_liga_2016_concat[\"Away Points\"][i]\n",
      "/var/folders/f0/pqy2clvx0nv38xm_npv8fklm0000gn/T/ipykernel_3415/3614487637.py:3: SettingWithCopyWarning: \n",
      "A value is trying to be set on a copy of a slice from a DataFrame\n",
      "\n",
      "See the caveats in the documentation: https://pandas.pydata.org/pandas-docs/stable/user_guide/indexing.html#returning-a-view-versus-a-copy\n",
      "  la_liga_2016_concat[\"Goals Scored\"][i] = la_liga_2016_concat[\"Home Goals Scored\"][i] + la_liga_2016_concat[\"Away Goals Scored\"][i]\n",
      "/var/folders/f0/pqy2clvx0nv38xm_npv8fklm0000gn/T/ipykernel_3415/3614487637.py:4: SettingWithCopyWarning: \n",
      "A value is trying to be set on a copy of a slice from a DataFrame\n",
      "\n",
      "See the caveats in the documentation: https://pandas.pydata.org/pandas-docs/stable/user_guide/indexing.html#returning-a-view-versus-a-copy\n",
      "  la_liga_2016_concat[\"Goals received\"][i] = la_liga_2016_concat[\"Home Goals received\"][i] + la_liga_2016_concat[\"Away Goals received\"][i]\n",
      "/var/folders/f0/pqy2clvx0nv38xm_npv8fklm0000gn/T/ipykernel_3415/3614487637.py:5: SettingWithCopyWarning: \n",
      "A value is trying to be set on a copy of a slice from a DataFrame\n",
      "\n",
      "See the caveats in the documentation: https://pandas.pydata.org/pandas-docs/stable/user_guide/indexing.html#returning-a-view-versus-a-copy\n",
      "  la_liga_2016_concat[\"Goals ht\"][i] = la_liga_2016_concat[\"Home Goals ht\"][i] + la_liga_2016_concat[\"Away Goals ht\"][i]\n",
      "/var/folders/f0/pqy2clvx0nv38xm_npv8fklm0000gn/T/ipykernel_3415/3614487637.py:6: SettingWithCopyWarning: \n",
      "A value is trying to be set on a copy of a slice from a DataFrame\n",
      "\n",
      "See the caveats in the documentation: https://pandas.pydata.org/pandas-docs/stable/user_guide/indexing.html#returning-a-view-versus-a-copy\n",
      "  la_liga_2016_concat[\"Goals received ht\"][i] = la_liga_2016_concat[\"Home Goals received ht\"][i] + la_liga_2016_concat[\"Away Goals received ht\"][i]\n",
      "/var/folders/f0/pqy2clvx0nv38xm_npv8fklm0000gn/T/ipykernel_3415/3614487637.py:7: SettingWithCopyWarning: \n",
      "A value is trying to be set on a copy of a slice from a DataFrame\n",
      "\n",
      "See the caveats in the documentation: https://pandas.pydata.org/pandas-docs/stable/user_guide/indexing.html#returning-a-view-versus-a-copy\n",
      "  la_liga_2016_concat[\"Rating mean\"][i] = la_liga_2016_concat[\"Home Rating\"][i] + la_liga_2016_concat[\"Away Rating\"][i] / 38\n",
      "/var/folders/f0/pqy2clvx0nv38xm_npv8fklm0000gn/T/ipykernel_3415/3614487637.py:8: SettingWithCopyWarning: \n",
      "A value is trying to be set on a copy of a slice from a DataFrame\n",
      "\n",
      "See the caveats in the documentation: https://pandas.pydata.org/pandas-docs/stable/user_guide/indexing.html#returning-a-view-versus-a-copy\n",
      "  la_liga_2016_concat[\"On Target Shots\"][i] = la_liga_2016_concat[\"Home On Target Shots\"][i] + la_liga_2016_concat[\"Away On Target Shots\"][i]\n",
      "/var/folders/f0/pqy2clvx0nv38xm_npv8fklm0000gn/T/ipykernel_3415/3614487637.py:9: SettingWithCopyWarning: \n",
      "A value is trying to be set on a copy of a slice from a DataFrame\n",
      "\n",
      "See the caveats in the documentation: https://pandas.pydata.org/pandas-docs/stable/user_guide/indexing.html#returning-a-view-versus-a-copy\n",
      "  la_liga_2016_concat[\"Off Target Shots\"][i] = la_liga_2016_concat[\"Home Off Target Shots\"][i] + la_liga_2016_concat[\"Away Off Target Shots\"][i]\n",
      "/var/folders/f0/pqy2clvx0nv38xm_npv8fklm0000gn/T/ipykernel_3415/3614487637.py:10: SettingWithCopyWarning: \n",
      "A value is trying to be set on a copy of a slice from a DataFrame\n",
      "\n",
      "See the caveats in the documentation: https://pandas.pydata.org/pandas-docs/stable/user_guide/indexing.html#returning-a-view-versus-a-copy\n",
      "  la_liga_2016_concat[\"Blocked Shots\"][i] = la_liga_2016_concat[\"Home Blocked Shots\"][i] + la_liga_2016_concat[\"Away Blocked Shots\"][i]\n",
      "/var/folders/f0/pqy2clvx0nv38xm_npv8fklm0000gn/T/ipykernel_3415/3614487637.py:11: SettingWithCopyWarning: \n",
      "A value is trying to be set on a copy of a slice from a DataFrame\n",
      "\n",
      "See the caveats in the documentation: https://pandas.pydata.org/pandas-docs/stable/user_guide/indexing.html#returning-a-view-versus-a-copy\n",
      "  la_liga_2016_concat[\"Corners\"][i] = la_liga_2016_concat[\"Home Corners\"][i] + la_liga_2016_concat[\"Away Corners\"][i]\n",
      "/var/folders/f0/pqy2clvx0nv38xm_npv8fklm0000gn/T/ipykernel_3415/3614487637.py:12: SettingWithCopyWarning: \n",
      "A value is trying to be set on a copy of a slice from a DataFrame\n",
      "\n",
      "See the caveats in the documentation: https://pandas.pydata.org/pandas-docs/stable/user_guide/indexing.html#returning-a-view-versus-a-copy\n",
      "  la_liga_2016_concat[\"Fouls\"][i] = la_liga_2016_concat[\"Home Fouls\"][i] + la_liga_2016_concat[\"Away Fouls\"][i]\n",
      "/var/folders/f0/pqy2clvx0nv38xm_npv8fklm0000gn/T/ipykernel_3415/3614487637.py:13: SettingWithCopyWarning: \n",
      "A value is trying to be set on a copy of a slice from a DataFrame\n",
      "\n",
      "See the caveats in the documentation: https://pandas.pydata.org/pandas-docs/stable/user_guide/indexing.html#returning-a-view-versus-a-copy\n",
      "  la_liga_2016_concat[\"First Yellow Cards\"][i] = la_liga_2016_concat[\"Home Yellow Cards\"][i] + la_liga_2016_concat[\"Away Yellow Cards\"][i]\n",
      "/var/folders/f0/pqy2clvx0nv38xm_npv8fklm0000gn/T/ipykernel_3415/3614487637.py:14: SettingWithCopyWarning: \n",
      "A value is trying to be set on a copy of a slice from a DataFrame\n",
      "\n",
      "See the caveats in the documentation: https://pandas.pydata.org/pandas-docs/stable/user_guide/indexing.html#returning-a-view-versus-a-copy\n",
      "  la_liga_2016_concat[\"Second Yellow Cards\"][i] = la_liga_2016_concat[\"Home Second Yellow Cards\"][i] + la_liga_2016_concat[\"Away Second Yellow Cards\"][i]\n",
      "/var/folders/f0/pqy2clvx0nv38xm_npv8fklm0000gn/T/ipykernel_3415/3614487637.py:15: SettingWithCopyWarning: \n",
      "A value is trying to be set on a copy of a slice from a DataFrame\n",
      "\n",
      "See the caveats in the documentation: https://pandas.pydata.org/pandas-docs/stable/user_guide/indexing.html#returning-a-view-versus-a-copy\n",
      "  la_liga_2016_concat[\"Yellow Cards\"][i] = la_liga_2016_concat[\"Home Yellow Cards\"][i] + la_liga_2016_concat[\"Away Yellow Cards\"][i] + la_liga_2016_concat[\"Home Second Yellow Cards\"][i] + la_liga_2016_concat[\"Away Second Yellow Cards\"][i]\n",
      "/var/folders/f0/pqy2clvx0nv38xm_npv8fklm0000gn/T/ipykernel_3415/3614487637.py:16: SettingWithCopyWarning: \n",
      "A value is trying to be set on a copy of a slice from a DataFrame\n",
      "\n",
      "See the caveats in the documentation: https://pandas.pydata.org/pandas-docs/stable/user_guide/indexing.html#returning-a-view-versus-a-copy\n",
      "  la_liga_2016_concat[\"Red Cards\"][i] = la_liga_2016_concat[\"Home Red Cards\"][i] + la_liga_2016_concat[\"Away Red Cards\"][i]\n",
      "/var/folders/f0/pqy2clvx0nv38xm_npv8fklm0000gn/T/ipykernel_3415/3614487637.py:17: SettingWithCopyWarning: \n",
      "A value is trying to be set on a copy of a slice from a DataFrame\n",
      "\n",
      "See the caveats in the documentation: https://pandas.pydata.org/pandas-docs/stable/user_guide/indexing.html#returning-a-view-versus-a-copy\n",
      "  la_liga_2016_concat[\"Pass Success mean\"][i] = (la_liga_2016_concat[\"Home Pass Success %\"][i] + la_liga_2016_concat[\"Away Pass Success %\"][i]) / 38\n"
     ]
    }
   ],
   "source": [
    "for i in range(len(la_liga_2016_concat)):\n",
    "    la_liga_2016_concat[\"Points\"][i] = la_liga_2016_concat[\"Home Points\"][i] + la_liga_2016_concat[\"Away Points\"][i]\n",
    "    la_liga_2016_concat[\"Goals Scored\"][i] = la_liga_2016_concat[\"Home Goals Scored\"][i] + la_liga_2016_concat[\"Away Goals Scored\"][i]\n",
    "    la_liga_2016_concat[\"Goals received\"][i] = la_liga_2016_concat[\"Home Goals received\"][i] + la_liga_2016_concat[\"Away Goals received\"][i]\n",
    "    la_liga_2016_concat[\"Goals ht\"][i] = la_liga_2016_concat[\"Home Goals ht\"][i] + la_liga_2016_concat[\"Away Goals ht\"][i]\n",
    "    la_liga_2016_concat[\"Goals received ht\"][i] = la_liga_2016_concat[\"Home Goals received ht\"][i] + la_liga_2016_concat[\"Away Goals received ht\"][i]\n",
    "    la_liga_2016_concat[\"Rating mean\"][i] = la_liga_2016_concat[\"Home Rating\"][i] + la_liga_2016_concat[\"Away Rating\"][i] / 38\n",
    "    la_liga_2016_concat[\"On Target Shots\"][i] = la_liga_2016_concat[\"Home On Target Shots\"][i] + la_liga_2016_concat[\"Away On Target Shots\"][i]\n",
    "    la_liga_2016_concat[\"Off Target Shots\"][i] = la_liga_2016_concat[\"Home Off Target Shots\"][i] + la_liga_2016_concat[\"Away Off Target Shots\"][i]\n",
    "    la_liga_2016_concat[\"Blocked Shots\"][i] = la_liga_2016_concat[\"Home Blocked Shots\"][i] + la_liga_2016_concat[\"Away Blocked Shots\"][i]\n",
    "    la_liga_2016_concat[\"Corners\"][i] = la_liga_2016_concat[\"Home Corners\"][i] + la_liga_2016_concat[\"Away Corners\"][i]\n",
    "    la_liga_2016_concat[\"Fouls\"][i] = la_liga_2016_concat[\"Home Fouls\"][i] + la_liga_2016_concat[\"Away Fouls\"][i]\n",
    "    la_liga_2016_concat[\"First Yellow Cards\"][i] = la_liga_2016_concat[\"Home Yellow Cards\"][i] + la_liga_2016_concat[\"Away Yellow Cards\"][i]\n",
    "    la_liga_2016_concat[\"Second Yellow Cards\"][i] = la_liga_2016_concat[\"Home Second Yellow Cards\"][i] + la_liga_2016_concat[\"Away Second Yellow Cards\"][i]\n",
    "    la_liga_2016_concat[\"Yellow Cards\"][i] = la_liga_2016_concat[\"Home Yellow Cards\"][i] + la_liga_2016_concat[\"Away Yellow Cards\"][i] + la_liga_2016_concat[\"Home Second Yellow Cards\"][i] + la_liga_2016_concat[\"Away Second Yellow Cards\"][i]\n",
    "    la_liga_2016_concat[\"Red Cards\"][i] = la_liga_2016_concat[\"Home Red Cards\"][i] + la_liga_2016_concat[\"Away Red Cards\"][i]\n",
    "    la_liga_2016_concat[\"Pass Success mean\"][i] = (la_liga_2016_concat[\"Home Pass Success %\"][i] + la_liga_2016_concat[\"Away Pass Success %\"][i]) / 38"
   ],
   "metadata": {
    "collapsed": false,
    "pycharm": {
     "name": "#%%\n"
    }
   }
  },
  {
   "cell_type": "code",
   "execution_count": 51,
   "outputs": [],
   "source": [
    "la_liga_2016_concat = la_liga_2016_concat.filter([\"Points\", \"Goals Scored\", \"Goals received\", \"Goals ht\", \"Goals received ht\", \"Rating mean\", \"On Target Shots\", \"Off Target Shots\", \"Blocked Shots\", \"Corners\", \"Fouls\", \"First Yellow Cards\", \"Second Yellow Cards\", \"Red Cards\", \"Pass Success mean\"])"
   ],
   "metadata": {
    "collapsed": false,
    "pycharm": {
     "name": "#%%\n"
    }
   }
  },
  {
   "cell_type": "code",
   "execution_count": 52,
   "outputs": [
    {
     "data": {
      "text/plain": "                 Points  Goals Scored  Goals received  Goals ht  \\\nALAVÉS                3             2               7         1   \nATHLETIC              0             0               4         0   \nATLETICO MADRID       1             2               3         0   \nBARCELONA            90           116              37        44   \nCELTA                 3             4               8         3   \nDEPORTIVO             3             2               5         1   \nEIBAR                 0             2               8         1   \nESPANYOL              0             1               7         0   \nGIJÓN                 0             1              11         1   \nGRANADA               0             1               5         0   \nLAS PALMAS            0             1               9         0   \nLEGANÉS               0             2               7         0   \nMÁLAGA                4             2               0         1   \nOSASUNA               0             1              10         0   \nREAL BETIS            1             3               7         1   \nREAL MADRID           1             3               4         1   \nREAL SOCIEDAD         1             3               4         2   \nSEVILLA FC            0             1               5         1   \nVALENCIA              0             4               7         2   \nVILLARREAL            1             2               5         1   \n\n                 Goals received ht  Rating mean  On Target Shots  \\\nALAVÉS                           2            3                8   \nATHLETIC                         3            6               10   \nATLETICO MADRID                  1            5                8   \nBARCELONA                       16          148              270   \nCELTA                            2            7               11   \nDEPORTIVO                        3            8                9   \nEIBAR                            1            5               10   \nESPANYOL                         1            5                4   \nGIJÓN                            5            4                5   \nGRANADA                          1            4                5   \nLAS PALMAS                       3            5                6   \nLEGANÉS                          4            4               12   \nMÁLAGA                           0            7                5   \nOSASUNA                          2            4                3   \nREAL BETIS                       3            7                9   \nREAL MADRID                      1            6               19   \nREAL SOCIEDAD                    3            6               13   \nSEVILLA FC                       4            5                7   \nVALENCIA                         3            5                9   \nVILLARREAL                       2            5                7   \n\n                 Off Target Shots  Blocked Shots  Corners  Fouls  \\\nALAVÉS                          5              1        3     28   \nATHLETIC                        9              1        6     38   \nATLETICO MADRID                10             10        8     45   \nBARCELONA                     236            143      241    421   \nCELTA                           8              2        4     32   \nDEPORTIVO                       6              6        6     22   \nEIBAR                           8              2       12     28   \nESPANYOL                        4              2        6     35   \nGIJÓN                           4              6        7     27   \nGRANADA                         1              2        2     32   \nLAS PALMAS                     10              2        4     24   \nLEGANÉS                        10              4        6     46   \nMÁLAGA                          6              1        3     38   \nOSASUNA                         2              2        3     25   \nREAL BETIS                     11              3       10     30   \nREAL MADRID                    14              3       14     29   \nREAL SOCIEDAD                  15              4       12     33   \nSEVILLA FC                     11              5        7     31   \nVALENCIA                        2              2        6     27   \nVILLARREAL                      4              4        5     29   \n\n                 First Yellow Cards  Second Yellow Cards  Red Cards  \\\nALAVÉS                            2                    0          0   \nATHLETIC                          8                    0          0   \nATLETICO MADRID                   8                    0          0   \nBARCELONA                        74                    1          0   \nCELTA                             4                    0          0   \nDEPORTIVO                         4                    0          1   \nEIBAR                             6                    1          0   \nESPANYOL                          6                    0          0   \nGIJÓN                             5                    1          0   \nGRANADA                           6                    1          0   \nLAS PALMAS                        4                    0          0   \nLEGANÉS                           7                    0          0   \nMÁLAGA                            6                    0          2   \nOSASUNA                           3                    0          0   \nREAL BETIS                        5                    0          0   \nREAL MADRID                       5                    0          1   \nREAL SOCIEDAD                     4                    0          0   \nSEVILLA FC                        6                    1          0   \nVALENCIA                          9                    0          1   \nVILLARREAL                        6                    1          0   \n\n                 Pass Success mean  \nALAVÉS                           3  \nATHLETIC                         4  \nATLETICO MADRID                  3  \nBARCELONA                       86  \nCELTA                            3  \nDEPORTIVO                        3  \nEIBAR                            3  \nESPANYOL                         3  \nGIJÓN                            3  \nGRANADA                          3  \nLAS PALMAS                       4  \nLEGANÉS                          3  \nMÁLAGA                           3  \nOSASUNA                          3  \nREAL BETIS                       3  \nREAL MADRID                      4  \nREAL SOCIEDAD                    4  \nSEVILLA FC                       4  \nVALENCIA                         3  \nVILLARREAL                       4  ",
      "text/html": "<div>\n<style scoped>\n    .dataframe tbody tr th:only-of-type {\n        vertical-align: middle;\n    }\n\n    .dataframe tbody tr th {\n        vertical-align: top;\n    }\n\n    .dataframe thead th {\n        text-align: right;\n    }\n</style>\n<table border=\"1\" class=\"dataframe\">\n  <thead>\n    <tr style=\"text-align: right;\">\n      <th></th>\n      <th>Points</th>\n      <th>Goals Scored</th>\n      <th>Goals received</th>\n      <th>Goals ht</th>\n      <th>Goals received ht</th>\n      <th>Rating mean</th>\n      <th>On Target Shots</th>\n      <th>Off Target Shots</th>\n      <th>Blocked Shots</th>\n      <th>Corners</th>\n      <th>Fouls</th>\n      <th>First Yellow Cards</th>\n      <th>Second Yellow Cards</th>\n      <th>Red Cards</th>\n      <th>Pass Success mean</th>\n    </tr>\n  </thead>\n  <tbody>\n    <tr>\n      <th>ALAVÉS</th>\n      <td>3</td>\n      <td>2</td>\n      <td>7</td>\n      <td>1</td>\n      <td>2</td>\n      <td>3</td>\n      <td>8</td>\n      <td>5</td>\n      <td>1</td>\n      <td>3</td>\n      <td>28</td>\n      <td>2</td>\n      <td>0</td>\n      <td>0</td>\n      <td>3</td>\n    </tr>\n    <tr>\n      <th>ATHLETIC</th>\n      <td>0</td>\n      <td>0</td>\n      <td>4</td>\n      <td>0</td>\n      <td>3</td>\n      <td>6</td>\n      <td>10</td>\n      <td>9</td>\n      <td>1</td>\n      <td>6</td>\n      <td>38</td>\n      <td>8</td>\n      <td>0</td>\n      <td>0</td>\n      <td>4</td>\n    </tr>\n    <tr>\n      <th>ATLETICO MADRID</th>\n      <td>1</td>\n      <td>2</td>\n      <td>3</td>\n      <td>0</td>\n      <td>1</td>\n      <td>5</td>\n      <td>8</td>\n      <td>10</td>\n      <td>10</td>\n      <td>8</td>\n      <td>45</td>\n      <td>8</td>\n      <td>0</td>\n      <td>0</td>\n      <td>3</td>\n    </tr>\n    <tr>\n      <th>BARCELONA</th>\n      <td>90</td>\n      <td>116</td>\n      <td>37</td>\n      <td>44</td>\n      <td>16</td>\n      <td>148</td>\n      <td>270</td>\n      <td>236</td>\n      <td>143</td>\n      <td>241</td>\n      <td>421</td>\n      <td>74</td>\n      <td>1</td>\n      <td>0</td>\n      <td>86</td>\n    </tr>\n    <tr>\n      <th>CELTA</th>\n      <td>3</td>\n      <td>4</td>\n      <td>8</td>\n      <td>3</td>\n      <td>2</td>\n      <td>7</td>\n      <td>11</td>\n      <td>8</td>\n      <td>2</td>\n      <td>4</td>\n      <td>32</td>\n      <td>4</td>\n      <td>0</td>\n      <td>0</td>\n      <td>3</td>\n    </tr>\n    <tr>\n      <th>DEPORTIVO</th>\n      <td>3</td>\n      <td>2</td>\n      <td>5</td>\n      <td>1</td>\n      <td>3</td>\n      <td>8</td>\n      <td>9</td>\n      <td>6</td>\n      <td>6</td>\n      <td>6</td>\n      <td>22</td>\n      <td>4</td>\n      <td>0</td>\n      <td>1</td>\n      <td>3</td>\n    </tr>\n    <tr>\n      <th>EIBAR</th>\n      <td>0</td>\n      <td>2</td>\n      <td>8</td>\n      <td>1</td>\n      <td>1</td>\n      <td>5</td>\n      <td>10</td>\n      <td>8</td>\n      <td>2</td>\n      <td>12</td>\n      <td>28</td>\n      <td>6</td>\n      <td>1</td>\n      <td>0</td>\n      <td>3</td>\n    </tr>\n    <tr>\n      <th>ESPANYOL</th>\n      <td>0</td>\n      <td>1</td>\n      <td>7</td>\n      <td>0</td>\n      <td>1</td>\n      <td>5</td>\n      <td>4</td>\n      <td>4</td>\n      <td>2</td>\n      <td>6</td>\n      <td>35</td>\n      <td>6</td>\n      <td>0</td>\n      <td>0</td>\n      <td>3</td>\n    </tr>\n    <tr>\n      <th>GIJÓN</th>\n      <td>0</td>\n      <td>1</td>\n      <td>11</td>\n      <td>1</td>\n      <td>5</td>\n      <td>4</td>\n      <td>5</td>\n      <td>4</td>\n      <td>6</td>\n      <td>7</td>\n      <td>27</td>\n      <td>5</td>\n      <td>1</td>\n      <td>0</td>\n      <td>3</td>\n    </tr>\n    <tr>\n      <th>GRANADA</th>\n      <td>0</td>\n      <td>1</td>\n      <td>5</td>\n      <td>0</td>\n      <td>1</td>\n      <td>4</td>\n      <td>5</td>\n      <td>1</td>\n      <td>2</td>\n      <td>2</td>\n      <td>32</td>\n      <td>6</td>\n      <td>1</td>\n      <td>0</td>\n      <td>3</td>\n    </tr>\n    <tr>\n      <th>LAS PALMAS</th>\n      <td>0</td>\n      <td>1</td>\n      <td>9</td>\n      <td>0</td>\n      <td>3</td>\n      <td>5</td>\n      <td>6</td>\n      <td>10</td>\n      <td>2</td>\n      <td>4</td>\n      <td>24</td>\n      <td>4</td>\n      <td>0</td>\n      <td>0</td>\n      <td>4</td>\n    </tr>\n    <tr>\n      <th>LEGANÉS</th>\n      <td>0</td>\n      <td>2</td>\n      <td>7</td>\n      <td>0</td>\n      <td>4</td>\n      <td>4</td>\n      <td>12</td>\n      <td>10</td>\n      <td>4</td>\n      <td>6</td>\n      <td>46</td>\n      <td>7</td>\n      <td>0</td>\n      <td>0</td>\n      <td>3</td>\n    </tr>\n    <tr>\n      <th>MÁLAGA</th>\n      <td>4</td>\n      <td>2</td>\n      <td>0</td>\n      <td>1</td>\n      <td>0</td>\n      <td>7</td>\n      <td>5</td>\n      <td>6</td>\n      <td>1</td>\n      <td>3</td>\n      <td>38</td>\n      <td>6</td>\n      <td>0</td>\n      <td>2</td>\n      <td>3</td>\n    </tr>\n    <tr>\n      <th>OSASUNA</th>\n      <td>0</td>\n      <td>1</td>\n      <td>10</td>\n      <td>0</td>\n      <td>2</td>\n      <td>4</td>\n      <td>3</td>\n      <td>2</td>\n      <td>2</td>\n      <td>3</td>\n      <td>25</td>\n      <td>3</td>\n      <td>0</td>\n      <td>0</td>\n      <td>3</td>\n    </tr>\n    <tr>\n      <th>REAL BETIS</th>\n      <td>1</td>\n      <td>3</td>\n      <td>7</td>\n      <td>1</td>\n      <td>3</td>\n      <td>7</td>\n      <td>9</td>\n      <td>11</td>\n      <td>3</td>\n      <td>10</td>\n      <td>30</td>\n      <td>5</td>\n      <td>0</td>\n      <td>0</td>\n      <td>3</td>\n    </tr>\n    <tr>\n      <th>REAL MADRID</th>\n      <td>1</td>\n      <td>3</td>\n      <td>4</td>\n      <td>1</td>\n      <td>1</td>\n      <td>6</td>\n      <td>19</td>\n      <td>14</td>\n      <td>3</td>\n      <td>14</td>\n      <td>29</td>\n      <td>5</td>\n      <td>0</td>\n      <td>1</td>\n      <td>4</td>\n    </tr>\n    <tr>\n      <th>REAL SOCIEDAD</th>\n      <td>1</td>\n      <td>3</td>\n      <td>4</td>\n      <td>2</td>\n      <td>3</td>\n      <td>6</td>\n      <td>13</td>\n      <td>15</td>\n      <td>4</td>\n      <td>12</td>\n      <td>33</td>\n      <td>4</td>\n      <td>0</td>\n      <td>0</td>\n      <td>4</td>\n    </tr>\n    <tr>\n      <th>SEVILLA FC</th>\n      <td>0</td>\n      <td>1</td>\n      <td>5</td>\n      <td>1</td>\n      <td>4</td>\n      <td>5</td>\n      <td>7</td>\n      <td>11</td>\n      <td>5</td>\n      <td>7</td>\n      <td>31</td>\n      <td>6</td>\n      <td>1</td>\n      <td>0</td>\n      <td>4</td>\n    </tr>\n    <tr>\n      <th>VALENCIA</th>\n      <td>0</td>\n      <td>4</td>\n      <td>7</td>\n      <td>2</td>\n      <td>3</td>\n      <td>5</td>\n      <td>9</td>\n      <td>2</td>\n      <td>2</td>\n      <td>6</td>\n      <td>27</td>\n      <td>9</td>\n      <td>0</td>\n      <td>1</td>\n      <td>3</td>\n    </tr>\n    <tr>\n      <th>VILLARREAL</th>\n      <td>1</td>\n      <td>2</td>\n      <td>5</td>\n      <td>1</td>\n      <td>2</td>\n      <td>5</td>\n      <td>7</td>\n      <td>4</td>\n      <td>4</td>\n      <td>5</td>\n      <td>29</td>\n      <td>6</td>\n      <td>1</td>\n      <td>0</td>\n      <td>4</td>\n    </tr>\n  </tbody>\n</table>\n</div>"
     },
     "execution_count": 52,
     "metadata": {},
     "output_type": "execute_result"
    }
   ],
   "source": [
    "la_liga_2016_concat"
   ],
   "metadata": {
    "collapsed": false,
    "pycharm": {
     "name": "#%%\n"
    }
   }
  },
  {
   "cell_type": "code",
   "execution_count": 53,
   "outputs": [],
   "source": [
    "la_liga_2016_concat_max = la_liga_2016_concat.max()"
   ],
   "metadata": {
    "collapsed": false,
    "pycharm": {
     "name": "#%%\n"
    }
   }
  },
  {
   "cell_type": "code",
   "execution_count": 54,
   "outputs": [
    {
     "data": {
      "text/plain": "Points                  90\nGoals Scored           116\nGoals received          37\nGoals ht                44\nGoals received ht       16\nRating mean            148\nOn Target Shots        270\nOff Target Shots       236\nBlocked Shots          143\nCorners                241\nFouls                  421\nFirst Yellow Cards      74\nSecond Yellow Cards      1\nRed Cards                2\nPass Success mean       86\ndtype: int64"
     },
     "execution_count": 54,
     "metadata": {},
     "output_type": "execute_result"
    }
   ],
   "source": [
    "la_liga_2016_concat_max"
   ],
   "metadata": {
    "collapsed": false,
    "pycharm": {
     "name": "#%%\n"
    }
   }
  },
  {
   "cell_type": "markdown",
   "source": [
    "## Prepare Data 2017"
   ],
   "metadata": {
    "collapsed": false,
    "pycharm": {
     "name": "#%% md\n"
    }
   }
  },
  {
   "cell_type": "code",
   "execution_count": 55,
   "outputs": [
    {
     "name": "stderr",
     "output_type": "stream",
     "text": [
      "/var/folders/f0/pqy2clvx0nv38xm_npv8fklm0000gn/T/ipykernel_3415/3495525629.py:2: FutureWarning: Indexing with multiple keys (implicitly converted to a tuple of keys) will be deprecated, use a list instead.\n",
      "  la_liga_2017_home_gb = la_liga_2017.groupby([\"Home Team\"])[\"Home Team\", \"Home Team Goals Scored\", \"Away Team Goals Scored\", \"Home Team Goals ht\", \"Away Team Goals ht\", \"Home Team Result\", \"Home Team Rating\", \"Home Team Off Target Shots\", \"Home Team On Target Shots\", \"Home Team Total Shots\", \"Home Team Blocked Shots\", \"Home Team Corners\", \"Home Team Pass Success %\", \"Home Team Fouls\", \"Home Team Yellow Cards\", \"Home Team Second Yellow Cards\", \"Home Team Red Cards\"].sum()\n"
     ]
    }
   ],
   "source": [
    "#Groupby Home Team\n",
    "la_liga_2017_home_gb = la_liga_2017.groupby([\"Home Team\"])[\"Home Team\", \"Home Team Goals Scored\", \"Away Team Goals Scored\", \"Home Team Goals ht\", \"Away Team Goals ht\", \"Home Team Result\", \"Home Team Rating\", \"Home Team Off Target Shots\", \"Home Team On Target Shots\", \"Home Team Total Shots\", \"Home Team Blocked Shots\", \"Home Team Corners\", \"Home Team Pass Success %\", \"Home Team Fouls\", \"Home Team Yellow Cards\", \"Home Team Second Yellow Cards\", \"Home Team Red Cards\"].sum()"
   ],
   "metadata": {
    "collapsed": false,
    "pycharm": {
     "name": "#%%\n"
    }
   }
  },
  {
   "cell_type": "code",
   "execution_count": 56,
   "outputs": [
    {
     "name": "stderr",
     "output_type": "stream",
     "text": [
      "/var/folders/f0/pqy2clvx0nv38xm_npv8fklm0000gn/T/ipykernel_3415/4112016507.py:2: FutureWarning: Indexing with multiple keys (implicitly converted to a tuple of keys) will be deprecated, use a list instead.\n",
      "  la_liga_2017_away_gb = la_liga_2017.groupby([\"Away Team\"])[\"Away Team\", \"Home Team Goals Scored\",\"Away Team Goals Scored\",\"Home Team Goals ht\",\"Away Team Goals ht\",\"Away Team Result\",\"Away Team Rating\",\"Away Team Off Target Shots\",\"Away Team On Target Shots\",\"Away Team Total Shots\",\"Away Team Blocked Shots\",\"Away Team Corners\",\"Away Team Pass Success %\",\"Away Team Fouls\",\"Away Team Yellow Cards\",\"Away Team Second Yellow Cards\",\"Away Team Red Cards\"].sum()\n"
     ]
    }
   ],
   "source": [
    "#Groupby Away Team\n",
    "la_liga_2017_away_gb = la_liga_2017.groupby([\"Away Team\"])[\"Away Team\", \"Home Team Goals Scored\",\"Away Team Goals Scored\",\"Home Team Goals ht\",\"Away Team Goals ht\",\"Away Team Result\",\"Away Team Rating\",\"Away Team Off Target Shots\",\"Away Team On Target Shots\",\"Away Team Total Shots\",\"Away Team Blocked Shots\",\"Away Team Corners\",\"Away Team Pass Success %\",\"Away Team Fouls\",\"Away Team Yellow Cards\",\"Away Team Second Yellow Cards\",\"Away Team Red Cards\"].sum()"
   ],
   "metadata": {
    "collapsed": false,
    "pycharm": {
     "name": "#%%\n"
    }
   }
  },
  {
   "cell_type": "code",
   "execution_count": 57,
   "outputs": [],
   "source": [
    "#Reanme all columns to join the dataframes\n",
    "la_liga_2017_home_gb = la_liga_2017_home_gb.rename(columns={\"Home Team Goals Scored\":\"Home Goals Scored\", \"Away Team Goals Scored\": \"Home Goals received\", \"Home Team Goals ht\": \"Home Goals ht\", \"Away Team Goals ht\": \"Home Goals received ht\", \"Home Team Result\": \"Home Points\", \"Home Team Rating\": \"Home Rating\", \"Home Team Off Target Shots\": \"Home Off Target Shots\", \"Home Team On Target Shots\": \"Home On Target Shots\",\"Home Team Total Shots\":\"Home Total Shots\", \"Home Team Blocked Shots\": \"Home Blocked Shots\", \"Home Team Corners\": \"Home Corners\", \"Home Team Pass Success %\": \"Home Pass Success %\", \"Home Team Fouls\": \"Home Fouls\", \"Home Team Yellow Cards\": \"Home Yellow Cards\", \"Home Team Second Yellow Cards\": \"Home Second Yellow Cards\", \"Home Team Red Cards\": \"Home Red Cards\"})"
   ],
   "metadata": {
    "collapsed": false,
    "pycharm": {
     "name": "#%%\n"
    }
   }
  },
  {
   "cell_type": "code",
   "execution_count": 58,
   "outputs": [],
   "source": [
    "#Reanme all columns to join the dataframes\n",
    "la_liga_2017_away_gb = la_liga_2017_away_gb.rename(columns={\"Home Team Goals Scored\": \"Away Goals received\",\"Away Team Goals Scored\": \"Away Goals Scored\", \"Home Team Goals ht\": \"Away Goals received ht\",\"Away Team Goals ht\": \"Away Goals ht\",\"Away Team Result\": \"Away Points\",\"Away Team Rating\": \"Away Rating\",\"Away Team Off Target Shots\": \"Away Off Target Shots\",\"Away Team On Target Shots\": \"Away On Target Shots\",\"Away Team Total Shots\": \"Away Total Shots\", \"Away Team Blocked Shots\": \"Away Blocked Shots\",\"Away Team Corners\": \"Away Corners\",\"Away Team Pass Success %\": \"Away Pass Success %\",\"Away Team Fouls\": \"Away Fouls\",\"Away Team Yellow Cards\": \"Away Yellow Cards\",\"Away Team Second Yellow Cards\": \"Away Second Yellow Cards\",\"Away Team Red Cards\": \"Away Red Cards\"})"
   ],
   "metadata": {
    "collapsed": false,
    "pycharm": {
     "name": "#%%\n"
    }
   }
  },
  {
   "cell_type": "code",
   "execution_count": 59,
   "outputs": [],
   "source": [
    "#Concat the two dataframes for analyze the season\n",
    "la_liga_2017_concat = pd.concat([la_liga_2017_away_gb, la_liga_2017_home_gb],axis=1, join=\"inner\")"
   ],
   "metadata": {
    "collapsed": false,
    "pycharm": {
     "name": "#%%\n"
    }
   }
  },
  {
   "cell_type": "code",
   "execution_count": 60,
   "outputs": [
    {
     "data": {
      "text/plain": "0"
     },
     "execution_count": 60,
     "metadata": {},
     "output_type": "execute_result"
    }
   ],
   "source": [
    "for i in range(len(la_liga_2017_concat)):\n",
    "    la_liga_2017_concat[\"Points\"] = 0\n",
    "    la_liga_2017_concat[\"Goals Scored\"] = 0\n",
    "    la_liga_2017_concat[\"Goals received\"] = 0\n",
    "    la_liga_2017_concat[\"Goals ht\"] = 0\n",
    "    la_liga_2017_concat[\"Goals received ht\"] = 0\n",
    "    la_liga_2017_concat[\"Rating mean\"] = 0\n",
    "    la_liga_2017_concat[\"On Target Shots\"] = 0\n",
    "    la_liga_2017_concat[\"Off Target Shots\"] = 0\n",
    "    la_liga_2017_concat[\"Blocked Shots\"] = 0\n",
    "    la_liga_2017_concat[\"Corners\"] = 0\n",
    "    la_liga_2017_concat[\"Fouls\"] = 0\n",
    "    la_liga_2017_concat[\"First Yellow Cards\"] = 0\n",
    "    la_liga_2017_concat[\"Second Yellow Cards\"] = 0\n",
    "    la_liga_2017_concat[\"Yellow Cards\"] = 0\n",
    "    la_liga_2017_concat[\"Red Cards\"] = 0\n",
    "    la_liga_2017_concat[\"Pass Success mean\"] = 0\n",
    "\n",
    "\n",
    "la_liga_2017_concat[\"Home Points\"][0]"
   ],
   "metadata": {
    "collapsed": false,
    "pycharm": {
     "name": "#%%\n"
    }
   }
  },
  {
   "cell_type": "code",
   "execution_count": 61,
   "outputs": [
    {
     "name": "stderr",
     "output_type": "stream",
     "text": [
      "/var/folders/f0/pqy2clvx0nv38xm_npv8fklm0000gn/T/ipykernel_3415/2019742888.py:2: SettingWithCopyWarning: \n",
      "A value is trying to be set on a copy of a slice from a DataFrame\n",
      "\n",
      "See the caveats in the documentation: https://pandas.pydata.org/pandas-docs/stable/user_guide/indexing.html#returning-a-view-versus-a-copy\n",
      "  la_liga_2017_concat[\"Points\"][i] = la_liga_2017_concat[\"Home Points\"][i] + la_liga_2017_concat[\"Away Points\"][i]\n",
      "/var/folders/f0/pqy2clvx0nv38xm_npv8fklm0000gn/T/ipykernel_3415/2019742888.py:3: SettingWithCopyWarning: \n",
      "A value is trying to be set on a copy of a slice from a DataFrame\n",
      "\n",
      "See the caveats in the documentation: https://pandas.pydata.org/pandas-docs/stable/user_guide/indexing.html#returning-a-view-versus-a-copy\n",
      "  la_liga_2017_concat[\"Goals Scored\"][i] = la_liga_2017_concat[\"Home Goals Scored\"][i] + la_liga_2017_concat[\"Away Goals Scored\"][i]\n",
      "/var/folders/f0/pqy2clvx0nv38xm_npv8fklm0000gn/T/ipykernel_3415/2019742888.py:4: SettingWithCopyWarning: \n",
      "A value is trying to be set on a copy of a slice from a DataFrame\n",
      "\n",
      "See the caveats in the documentation: https://pandas.pydata.org/pandas-docs/stable/user_guide/indexing.html#returning-a-view-versus-a-copy\n",
      "  la_liga_2017_concat[\"Goals received\"][i] = la_liga_2017_concat[\"Home Goals received\"][i] + la_liga_2017_concat[\"Away Goals received\"][i]\n",
      "/var/folders/f0/pqy2clvx0nv38xm_npv8fklm0000gn/T/ipykernel_3415/2019742888.py:5: SettingWithCopyWarning: \n",
      "A value is trying to be set on a copy of a slice from a DataFrame\n",
      "\n",
      "See the caveats in the documentation: https://pandas.pydata.org/pandas-docs/stable/user_guide/indexing.html#returning-a-view-versus-a-copy\n",
      "  la_liga_2017_concat[\"Goals ht\"][i] = la_liga_2017_concat[\"Home Goals ht\"][i] + la_liga_2017_concat[\"Away Goals ht\"][i]\n",
      "/var/folders/f0/pqy2clvx0nv38xm_npv8fklm0000gn/T/ipykernel_3415/2019742888.py:6: SettingWithCopyWarning: \n",
      "A value is trying to be set on a copy of a slice from a DataFrame\n",
      "\n",
      "See the caveats in the documentation: https://pandas.pydata.org/pandas-docs/stable/user_guide/indexing.html#returning-a-view-versus-a-copy\n",
      "  la_liga_2017_concat[\"Goals received ht\"][i] = la_liga_2017_concat[\"Home Goals received ht\"][i] + la_liga_2017_concat[\"Away Goals received ht\"][i]\n",
      "/var/folders/f0/pqy2clvx0nv38xm_npv8fklm0000gn/T/ipykernel_3415/2019742888.py:7: SettingWithCopyWarning: \n",
      "A value is trying to be set on a copy of a slice from a DataFrame\n",
      "\n",
      "See the caveats in the documentation: https://pandas.pydata.org/pandas-docs/stable/user_guide/indexing.html#returning-a-view-versus-a-copy\n",
      "  la_liga_2017_concat[\"Rating mean\"][i] = la_liga_2017_concat[\"Home Rating\"][i] + la_liga_2017_concat[\"Away Rating\"][i] / 38\n",
      "/var/folders/f0/pqy2clvx0nv38xm_npv8fklm0000gn/T/ipykernel_3415/2019742888.py:8: SettingWithCopyWarning: \n",
      "A value is trying to be set on a copy of a slice from a DataFrame\n",
      "\n",
      "See the caveats in the documentation: https://pandas.pydata.org/pandas-docs/stable/user_guide/indexing.html#returning-a-view-versus-a-copy\n",
      "  la_liga_2017_concat[\"On Target Shots\"][i] = la_liga_2017_concat[\"Home On Target Shots\"][i] + la_liga_2017_concat[\"Away On Target Shots\"][i]\n",
      "/var/folders/f0/pqy2clvx0nv38xm_npv8fklm0000gn/T/ipykernel_3415/2019742888.py:9: SettingWithCopyWarning: \n",
      "A value is trying to be set on a copy of a slice from a DataFrame\n",
      "\n",
      "See the caveats in the documentation: https://pandas.pydata.org/pandas-docs/stable/user_guide/indexing.html#returning-a-view-versus-a-copy\n",
      "  la_liga_2017_concat[\"Off Target Shots\"][i] = la_liga_2017_concat[\"Home Off Target Shots\"][i] + la_liga_2017_concat[\"Away Off Target Shots\"][i]\n",
      "/var/folders/f0/pqy2clvx0nv38xm_npv8fklm0000gn/T/ipykernel_3415/2019742888.py:10: SettingWithCopyWarning: \n",
      "A value is trying to be set on a copy of a slice from a DataFrame\n",
      "\n",
      "See the caveats in the documentation: https://pandas.pydata.org/pandas-docs/stable/user_guide/indexing.html#returning-a-view-versus-a-copy\n",
      "  la_liga_2017_concat[\"Blocked Shots\"][i] = la_liga_2017_concat[\"Home Blocked Shots\"][i] + la_liga_2017_concat[\"Away Blocked Shots\"][i]\n",
      "/var/folders/f0/pqy2clvx0nv38xm_npv8fklm0000gn/T/ipykernel_3415/2019742888.py:11: SettingWithCopyWarning: \n",
      "A value is trying to be set on a copy of a slice from a DataFrame\n",
      "\n",
      "See the caveats in the documentation: https://pandas.pydata.org/pandas-docs/stable/user_guide/indexing.html#returning-a-view-versus-a-copy\n",
      "  la_liga_2017_concat[\"Corners\"][i] = la_liga_2017_concat[\"Home Corners\"][i] + la_liga_2017_concat[\"Away Corners\"][i]\n",
      "/var/folders/f0/pqy2clvx0nv38xm_npv8fklm0000gn/T/ipykernel_3415/2019742888.py:12: SettingWithCopyWarning: \n",
      "A value is trying to be set on a copy of a slice from a DataFrame\n",
      "\n",
      "See the caveats in the documentation: https://pandas.pydata.org/pandas-docs/stable/user_guide/indexing.html#returning-a-view-versus-a-copy\n",
      "  la_liga_2017_concat[\"Fouls\"][i] = la_liga_2017_concat[\"Home Fouls\"][i] + la_liga_2017_concat[\"Away Fouls\"][i]\n",
      "/var/folders/f0/pqy2clvx0nv38xm_npv8fklm0000gn/T/ipykernel_3415/2019742888.py:13: SettingWithCopyWarning: \n",
      "A value is trying to be set on a copy of a slice from a DataFrame\n",
      "\n",
      "See the caveats in the documentation: https://pandas.pydata.org/pandas-docs/stable/user_guide/indexing.html#returning-a-view-versus-a-copy\n",
      "  la_liga_2017_concat[\"First Yellow Cards\"][i] = la_liga_2017_concat[\"Home Yellow Cards\"][i] + la_liga_2017_concat[\"Away Yellow Cards\"][i]\n",
      "/var/folders/f0/pqy2clvx0nv38xm_npv8fklm0000gn/T/ipykernel_3415/2019742888.py:14: SettingWithCopyWarning: \n",
      "A value is trying to be set on a copy of a slice from a DataFrame\n",
      "\n",
      "See the caveats in the documentation: https://pandas.pydata.org/pandas-docs/stable/user_guide/indexing.html#returning-a-view-versus-a-copy\n",
      "  la_liga_2017_concat[\"Second Yellow Cards\"][i] = la_liga_2017_concat[\"Home Second Yellow Cards\"][i] + la_liga_2017_concat[\"Away Second Yellow Cards\"][i]\n",
      "/var/folders/f0/pqy2clvx0nv38xm_npv8fklm0000gn/T/ipykernel_3415/2019742888.py:15: SettingWithCopyWarning: \n",
      "A value is trying to be set on a copy of a slice from a DataFrame\n",
      "\n",
      "See the caveats in the documentation: https://pandas.pydata.org/pandas-docs/stable/user_guide/indexing.html#returning-a-view-versus-a-copy\n",
      "  la_liga_2017_concat[\"Yellow Cards\"][i] = la_liga_2017_concat[\"Home Yellow Cards\"][i] + la_liga_2017_concat[\"Away Yellow Cards\"][i] + la_liga_2017_concat[\"Home Second Yellow Cards\"][i] + la_liga_2017_concat[\"Away Second Yellow Cards\"][i]\n",
      "/var/folders/f0/pqy2clvx0nv38xm_npv8fklm0000gn/T/ipykernel_3415/2019742888.py:16: SettingWithCopyWarning: \n",
      "A value is trying to be set on a copy of a slice from a DataFrame\n",
      "\n",
      "See the caveats in the documentation: https://pandas.pydata.org/pandas-docs/stable/user_guide/indexing.html#returning-a-view-versus-a-copy\n",
      "  la_liga_2017_concat[\"Red Cards\"][i] = la_liga_2017_concat[\"Home Red Cards\"][i] + la_liga_2017_concat[\"Away Red Cards\"][i]\n",
      "/var/folders/f0/pqy2clvx0nv38xm_npv8fklm0000gn/T/ipykernel_3415/2019742888.py:17: SettingWithCopyWarning: \n",
      "A value is trying to be set on a copy of a slice from a DataFrame\n",
      "\n",
      "See the caveats in the documentation: https://pandas.pydata.org/pandas-docs/stable/user_guide/indexing.html#returning-a-view-versus-a-copy\n",
      "  la_liga_2017_concat[\"Pass Success mean\"][i] = (la_liga_2017_concat[\"Home Pass Success %\"][i] + la_liga_2017_concat[\"Away Pass Success %\"][i]) / 38\n"
     ]
    }
   ],
   "source": [
    "for i in range(len(la_liga_2017_concat)):\n",
    "    la_liga_2017_concat[\"Points\"][i] = la_liga_2017_concat[\"Home Points\"][i] + la_liga_2017_concat[\"Away Points\"][i]\n",
    "    la_liga_2017_concat[\"Goals Scored\"][i] = la_liga_2017_concat[\"Home Goals Scored\"][i] + la_liga_2017_concat[\"Away Goals Scored\"][i]\n",
    "    la_liga_2017_concat[\"Goals received\"][i] = la_liga_2017_concat[\"Home Goals received\"][i] + la_liga_2017_concat[\"Away Goals received\"][i]\n",
    "    la_liga_2017_concat[\"Goals ht\"][i] = la_liga_2017_concat[\"Home Goals ht\"][i] + la_liga_2017_concat[\"Away Goals ht\"][i]\n",
    "    la_liga_2017_concat[\"Goals received ht\"][i] = la_liga_2017_concat[\"Home Goals received ht\"][i] + la_liga_2017_concat[\"Away Goals received ht\"][i]\n",
    "    la_liga_2017_concat[\"Rating mean\"][i] = la_liga_2017_concat[\"Home Rating\"][i] + la_liga_2017_concat[\"Away Rating\"][i] / 38\n",
    "    la_liga_2017_concat[\"On Target Shots\"][i] = la_liga_2017_concat[\"Home On Target Shots\"][i] + la_liga_2017_concat[\"Away On Target Shots\"][i]\n",
    "    la_liga_2017_concat[\"Off Target Shots\"][i] = la_liga_2017_concat[\"Home Off Target Shots\"][i] + la_liga_2017_concat[\"Away Off Target Shots\"][i]\n",
    "    la_liga_2017_concat[\"Blocked Shots\"][i] = la_liga_2017_concat[\"Home Blocked Shots\"][i] + la_liga_2017_concat[\"Away Blocked Shots\"][i]\n",
    "    la_liga_2017_concat[\"Corners\"][i] = la_liga_2017_concat[\"Home Corners\"][i] + la_liga_2017_concat[\"Away Corners\"][i]\n",
    "    la_liga_2017_concat[\"Fouls\"][i] = la_liga_2017_concat[\"Home Fouls\"][i] + la_liga_2017_concat[\"Away Fouls\"][i]\n",
    "    la_liga_2017_concat[\"First Yellow Cards\"][i] = la_liga_2017_concat[\"Home Yellow Cards\"][i] + la_liga_2017_concat[\"Away Yellow Cards\"][i]\n",
    "    la_liga_2017_concat[\"Second Yellow Cards\"][i] = la_liga_2017_concat[\"Home Second Yellow Cards\"][i] + la_liga_2017_concat[\"Away Second Yellow Cards\"][i]\n",
    "    la_liga_2017_concat[\"Yellow Cards\"][i] = la_liga_2017_concat[\"Home Yellow Cards\"][i] + la_liga_2017_concat[\"Away Yellow Cards\"][i] + la_liga_2017_concat[\"Home Second Yellow Cards\"][i] + la_liga_2017_concat[\"Away Second Yellow Cards\"][i]\n",
    "    la_liga_2017_concat[\"Red Cards\"][i] = la_liga_2017_concat[\"Home Red Cards\"][i] + la_liga_2017_concat[\"Away Red Cards\"][i]\n",
    "    la_liga_2017_concat[\"Pass Success mean\"][i] = (la_liga_2017_concat[\"Home Pass Success %\"][i] + la_liga_2017_concat[\"Away Pass Success %\"][i]) / 38"
   ],
   "metadata": {
    "collapsed": false,
    "pycharm": {
     "name": "#%%\n"
    }
   }
  },
  {
   "cell_type": "code",
   "execution_count": 62,
   "outputs": [],
   "source": [
    "la_liga_2017_concat = la_liga_2017_concat.filter([\"Points\", \"Goals Scored\", \"Goals received\", \"Goals ht\", \"Goals received ht\", \"Rating mean\", \"On Target Shots\", \"Off Target Shots\", \"Blocked Shots\", \"Corners\", \"Fouls\", \"First Yellow Cards\", \"Second Yellow Cards\", \"Red Cards\", \"Pass Success mean\"])"
   ],
   "metadata": {
    "collapsed": false,
    "pycharm": {
     "name": "#%%\n"
    }
   }
  },
  {
   "cell_type": "code",
   "execution_count": 63,
   "outputs": [
    {
     "data": {
      "text/plain": "                 Points  Goals Scored  Goals received  Goals ht  \\\nALAVÉS                0             1               4         1   \nATHLETIC              0             0               4         0   \nATLETICO MADRID       1             1               2         1   \nBARCELONA            93            99              29        39   \nCELTA                 2             4               4         2   \nDEPORTIVO             0             2               8         1   \nEIBAR                 0             1               8         0   \nESPANYOL              1             1               6         0   \nGETAFE                1             1               2         1   \nGIRONA                0             1               9         1   \nLAS PALMAS            1             1               4         0   \nLEGANÉS               0             1               6         0   \nLEVANTE               3             5               7         2   \nMÁLAGA                0             0               4         0   \nREAL BETIS            0             0               7         0   \nREAL MADRID           1             2               5         1   \nREAL SOCIEDAD         0             2               5         2   \nSEVILLA FC            1             3               4         1   \nVALENCIA              1             2               3         0   \nVILLARREAL            0             1               7         0   \n\n                 Goals received ht  Rating mean  On Target Shots  \\\nALAVÉS                           0            5                6   \nATHLETIC                         3            5                8   \nATLETICO MADRID                  1            6                5   \nBARCELONA                       13          145              272   \nCELTA                            2            6               13   \nDEPORTIVO                        4            5                8   \nEIBAR                            3            5                7   \nESPANYOL                         2            6                3   \nGETAFE                           0            5                5   \nGIRONA                           5            4                6   \nLAS PALMAS                       1            6                2   \nLEGANÉS                          3            5                8   \nLEVANTE                          3            7                9   \nMÁLAGA                           3            4                7   \nREAL BETIS                       2            4                2   \nREAL MADRID                      1            4               10   \nREAL SOCIEDAD                    1            5                8   \nSEVILLA FC                       1            6                9   \nVALENCIA                         1            6                7   \nVILLARREAL                       3            5               12   \n\n                 Off Target Shots  Blocked Shots  Corners  Fouls  \\\nALAVÉS                          4              8        2     31   \nATHLETIC                       12              7       11     29   \nATLETICO MADRID                 4              2        3     32   \nBARCELONA                     179            129      215    383   \nCELTA                          12              3        7     21   \nDEPORTIVO                      13              6        9     19   \nEIBAR                          14              5       13     22   \nESPANYOL                        7              6        7     33   \nGETAFE                         13              5        6     28   \nGIRONA                         12              5       12     32   \nLAS PALMAS                     17              4        9     29   \nLEGANÉS                        11             10        9     37   \nLEVANTE                         9              3        9     40   \nMÁLAGA                          9              3        5     26   \nREAL BETIS                      6              2        4     28   \nREAL MADRID                    14              7       12     34   \nREAL SOCIEDAD                  12              8       15     27   \nSEVILLA FC                     13              7        8     23   \nVALENCIA                       12              7        8     23   \nVILLARREAL                     11              6        6     33   \n\n                 First Yellow Cards  Second Yellow Cards  Red Cards  \\\nALAVÉS                            4                    0          0   \nATHLETIC                          3                    0          0   \nATLETICO MADRID                   5                    0          0   \nBARCELONA                        67                    0          2   \nCELTA                             9                    0          0   \nDEPORTIVO                         2                    0          0   \nEIBAR                             4                    1          0   \nESPANYOL                          9                    0          0   \nGETAFE                            5                    0          0   \nGIRONA                            4                    0          0   \nLAS PALMAS                        7                    0          0   \nLEGANÉS                           5                    0          0   \nLEVANTE                          10                    0          0   \nMÁLAGA                            5                    0          1   \nREAL BETIS                        3                    0          0   \nREAL MADRID                       7                    0          1   \nREAL SOCIEDAD                     4                    0          0   \nSEVILLA FC                        2                    0          0   \nVALENCIA                          6                    0          0   \nVILLARREAL                        5                    0          1   \n\n                 Pass Success mean  \nALAVÉS                           3  \nATHLETIC                         4  \nATLETICO MADRID                  4  \nBARCELONA                       87  \nCELTA                            4  \nDEPORTIVO                        4  \nEIBAR                            4  \nESPANYOL                         3  \nGETAFE                           3  \nGIRONA                           4  \nLAS PALMAS                       4  \nLEGANÉS                          3  \nLEVANTE                          3  \nMÁLAGA                           3  \nREAL BETIS                       4  \nREAL MADRID                      4  \nREAL SOCIEDAD                    4  \nSEVILLA FC                       4  \nVALENCIA                         4  \nVILLARREAL                       4  ",
      "text/html": "<div>\n<style scoped>\n    .dataframe tbody tr th:only-of-type {\n        vertical-align: middle;\n    }\n\n    .dataframe tbody tr th {\n        vertical-align: top;\n    }\n\n    .dataframe thead th {\n        text-align: right;\n    }\n</style>\n<table border=\"1\" class=\"dataframe\">\n  <thead>\n    <tr style=\"text-align: right;\">\n      <th></th>\n      <th>Points</th>\n      <th>Goals Scored</th>\n      <th>Goals received</th>\n      <th>Goals ht</th>\n      <th>Goals received ht</th>\n      <th>Rating mean</th>\n      <th>On Target Shots</th>\n      <th>Off Target Shots</th>\n      <th>Blocked Shots</th>\n      <th>Corners</th>\n      <th>Fouls</th>\n      <th>First Yellow Cards</th>\n      <th>Second Yellow Cards</th>\n      <th>Red Cards</th>\n      <th>Pass Success mean</th>\n    </tr>\n  </thead>\n  <tbody>\n    <tr>\n      <th>ALAVÉS</th>\n      <td>0</td>\n      <td>1</td>\n      <td>4</td>\n      <td>1</td>\n      <td>0</td>\n      <td>5</td>\n      <td>6</td>\n      <td>4</td>\n      <td>8</td>\n      <td>2</td>\n      <td>31</td>\n      <td>4</td>\n      <td>0</td>\n      <td>0</td>\n      <td>3</td>\n    </tr>\n    <tr>\n      <th>ATHLETIC</th>\n      <td>0</td>\n      <td>0</td>\n      <td>4</td>\n      <td>0</td>\n      <td>3</td>\n      <td>5</td>\n      <td>8</td>\n      <td>12</td>\n      <td>7</td>\n      <td>11</td>\n      <td>29</td>\n      <td>3</td>\n      <td>0</td>\n      <td>0</td>\n      <td>4</td>\n    </tr>\n    <tr>\n      <th>ATLETICO MADRID</th>\n      <td>1</td>\n      <td>1</td>\n      <td>2</td>\n      <td>1</td>\n      <td>1</td>\n      <td>6</td>\n      <td>5</td>\n      <td>4</td>\n      <td>2</td>\n      <td>3</td>\n      <td>32</td>\n      <td>5</td>\n      <td>0</td>\n      <td>0</td>\n      <td>4</td>\n    </tr>\n    <tr>\n      <th>BARCELONA</th>\n      <td>93</td>\n      <td>99</td>\n      <td>29</td>\n      <td>39</td>\n      <td>13</td>\n      <td>145</td>\n      <td>272</td>\n      <td>179</td>\n      <td>129</td>\n      <td>215</td>\n      <td>383</td>\n      <td>67</td>\n      <td>0</td>\n      <td>2</td>\n      <td>87</td>\n    </tr>\n    <tr>\n      <th>CELTA</th>\n      <td>2</td>\n      <td>4</td>\n      <td>4</td>\n      <td>2</td>\n      <td>2</td>\n      <td>6</td>\n      <td>13</td>\n      <td>12</td>\n      <td>3</td>\n      <td>7</td>\n      <td>21</td>\n      <td>9</td>\n      <td>0</td>\n      <td>0</td>\n      <td>4</td>\n    </tr>\n    <tr>\n      <th>DEPORTIVO</th>\n      <td>0</td>\n      <td>2</td>\n      <td>8</td>\n      <td>1</td>\n      <td>4</td>\n      <td>5</td>\n      <td>8</td>\n      <td>13</td>\n      <td>6</td>\n      <td>9</td>\n      <td>19</td>\n      <td>2</td>\n      <td>0</td>\n      <td>0</td>\n      <td>4</td>\n    </tr>\n    <tr>\n      <th>EIBAR</th>\n      <td>0</td>\n      <td>1</td>\n      <td>8</td>\n      <td>0</td>\n      <td>3</td>\n      <td>5</td>\n      <td>7</td>\n      <td>14</td>\n      <td>5</td>\n      <td>13</td>\n      <td>22</td>\n      <td>4</td>\n      <td>1</td>\n      <td>0</td>\n      <td>4</td>\n    </tr>\n    <tr>\n      <th>ESPANYOL</th>\n      <td>1</td>\n      <td>1</td>\n      <td>6</td>\n      <td>0</td>\n      <td>2</td>\n      <td>6</td>\n      <td>3</td>\n      <td>7</td>\n      <td>6</td>\n      <td>7</td>\n      <td>33</td>\n      <td>9</td>\n      <td>0</td>\n      <td>0</td>\n      <td>3</td>\n    </tr>\n    <tr>\n      <th>GETAFE</th>\n      <td>1</td>\n      <td>1</td>\n      <td>2</td>\n      <td>1</td>\n      <td>0</td>\n      <td>5</td>\n      <td>5</td>\n      <td>13</td>\n      <td>5</td>\n      <td>6</td>\n      <td>28</td>\n      <td>5</td>\n      <td>0</td>\n      <td>0</td>\n      <td>3</td>\n    </tr>\n    <tr>\n      <th>GIRONA</th>\n      <td>0</td>\n      <td>1</td>\n      <td>9</td>\n      <td>1</td>\n      <td>5</td>\n      <td>4</td>\n      <td>6</td>\n      <td>12</td>\n      <td>5</td>\n      <td>12</td>\n      <td>32</td>\n      <td>4</td>\n      <td>0</td>\n      <td>0</td>\n      <td>4</td>\n    </tr>\n    <tr>\n      <th>LAS PALMAS</th>\n      <td>1</td>\n      <td>1</td>\n      <td>4</td>\n      <td>0</td>\n      <td>1</td>\n      <td>6</td>\n      <td>2</td>\n      <td>17</td>\n      <td>4</td>\n      <td>9</td>\n      <td>29</td>\n      <td>7</td>\n      <td>0</td>\n      <td>0</td>\n      <td>4</td>\n    </tr>\n    <tr>\n      <th>LEGANÉS</th>\n      <td>0</td>\n      <td>1</td>\n      <td>6</td>\n      <td>0</td>\n      <td>3</td>\n      <td>5</td>\n      <td>8</td>\n      <td>11</td>\n      <td>10</td>\n      <td>9</td>\n      <td>37</td>\n      <td>5</td>\n      <td>0</td>\n      <td>0</td>\n      <td>3</td>\n    </tr>\n    <tr>\n      <th>LEVANTE</th>\n      <td>3</td>\n      <td>5</td>\n      <td>7</td>\n      <td>2</td>\n      <td>3</td>\n      <td>7</td>\n      <td>9</td>\n      <td>9</td>\n      <td>3</td>\n      <td>9</td>\n      <td>40</td>\n      <td>10</td>\n      <td>0</td>\n      <td>0</td>\n      <td>3</td>\n    </tr>\n    <tr>\n      <th>MÁLAGA</th>\n      <td>0</td>\n      <td>0</td>\n      <td>4</td>\n      <td>0</td>\n      <td>3</td>\n      <td>4</td>\n      <td>7</td>\n      <td>9</td>\n      <td>3</td>\n      <td>5</td>\n      <td>26</td>\n      <td>5</td>\n      <td>0</td>\n      <td>1</td>\n      <td>3</td>\n    </tr>\n    <tr>\n      <th>REAL BETIS</th>\n      <td>0</td>\n      <td>0</td>\n      <td>7</td>\n      <td>0</td>\n      <td>2</td>\n      <td>4</td>\n      <td>2</td>\n      <td>6</td>\n      <td>2</td>\n      <td>4</td>\n      <td>28</td>\n      <td>3</td>\n      <td>0</td>\n      <td>0</td>\n      <td>4</td>\n    </tr>\n    <tr>\n      <th>REAL MADRID</th>\n      <td>1</td>\n      <td>2</td>\n      <td>5</td>\n      <td>1</td>\n      <td>1</td>\n      <td>4</td>\n      <td>10</td>\n      <td>14</td>\n      <td>7</td>\n      <td>12</td>\n      <td>34</td>\n      <td>7</td>\n      <td>0</td>\n      <td>1</td>\n      <td>4</td>\n    </tr>\n    <tr>\n      <th>REAL SOCIEDAD</th>\n      <td>0</td>\n      <td>2</td>\n      <td>5</td>\n      <td>2</td>\n      <td>1</td>\n      <td>5</td>\n      <td>8</td>\n      <td>12</td>\n      <td>8</td>\n      <td>15</td>\n      <td>27</td>\n      <td>4</td>\n      <td>0</td>\n      <td>0</td>\n      <td>4</td>\n    </tr>\n    <tr>\n      <th>SEVILLA FC</th>\n      <td>1</td>\n      <td>3</td>\n      <td>4</td>\n      <td>1</td>\n      <td>1</td>\n      <td>6</td>\n      <td>9</td>\n      <td>13</td>\n      <td>7</td>\n      <td>8</td>\n      <td>23</td>\n      <td>2</td>\n      <td>0</td>\n      <td>0</td>\n      <td>4</td>\n    </tr>\n    <tr>\n      <th>VALENCIA</th>\n      <td>1</td>\n      <td>2</td>\n      <td>3</td>\n      <td>0</td>\n      <td>1</td>\n      <td>6</td>\n      <td>7</td>\n      <td>12</td>\n      <td>7</td>\n      <td>8</td>\n      <td>23</td>\n      <td>6</td>\n      <td>0</td>\n      <td>0</td>\n      <td>4</td>\n    </tr>\n    <tr>\n      <th>VILLARREAL</th>\n      <td>0</td>\n      <td>1</td>\n      <td>7</td>\n      <td>0</td>\n      <td>3</td>\n      <td>5</td>\n      <td>12</td>\n      <td>11</td>\n      <td>6</td>\n      <td>6</td>\n      <td>33</td>\n      <td>5</td>\n      <td>0</td>\n      <td>1</td>\n      <td>4</td>\n    </tr>\n  </tbody>\n</table>\n</div>"
     },
     "execution_count": 63,
     "metadata": {},
     "output_type": "execute_result"
    }
   ],
   "source": [
    "la_liga_2017_concat"
   ],
   "metadata": {
    "collapsed": false,
    "pycharm": {
     "name": "#%%\n"
    }
   }
  },
  {
   "cell_type": "code",
   "execution_count": 64,
   "outputs": [],
   "source": [
    "la_liga_2017_concat_max = la_liga_2017_concat.max()"
   ],
   "metadata": {
    "collapsed": false,
    "pycharm": {
     "name": "#%%\n"
    }
   }
  },
  {
   "cell_type": "code",
   "execution_count": 65,
   "outputs": [
    {
     "data": {
      "text/plain": "Points                  93\nGoals Scored            99\nGoals received          29\nGoals ht                39\nGoals received ht       13\nRating mean            145\nOn Target Shots        272\nOff Target Shots       179\nBlocked Shots          129\nCorners                215\nFouls                  383\nFirst Yellow Cards      67\nSecond Yellow Cards      1\nRed Cards                2\nPass Success mean       87\ndtype: int64"
     },
     "execution_count": 65,
     "metadata": {},
     "output_type": "execute_result"
    }
   ],
   "source": [
    "la_liga_2017_concat_max"
   ],
   "metadata": {
    "collapsed": false,
    "pycharm": {
     "name": "#%%\n"
    }
   }
  },
  {
   "cell_type": "markdown",
   "source": [
    "## Prepare Data 2018"
   ],
   "metadata": {
    "collapsed": false,
    "pycharm": {
     "name": "#%% md\n"
    }
   }
  },
  {
   "cell_type": "code",
   "execution_count": 66,
   "outputs": [
    {
     "name": "stderr",
     "output_type": "stream",
     "text": [
      "/var/folders/f0/pqy2clvx0nv38xm_npv8fklm0000gn/T/ipykernel_3415/3175580441.py:2: FutureWarning: Indexing with multiple keys (implicitly converted to a tuple of keys) will be deprecated, use a list instead.\n",
      "  la_liga_2018_home_gb = la_liga_2018.groupby([\"Home Team\"])[\"Home Team\", \"Home Team Goals Scored\", \"Away Team Goals Scored\", \"Home Team Goals ht\", \"Away Team Goals ht\", \"Home Team Result\", \"Home Team Rating\", \"Home Team Off Target Shots\", \"Home Team On Target Shots\", \"Home Team Total Shots\", \"Home Team Blocked Shots\", \"Home Team Corners\", \"Home Team Pass Success %\", \"Home Team Fouls\", \"Home Team Yellow Cards\", \"Home Team Second Yellow Cards\", \"Home Team Red Cards\"].sum()\n"
     ]
    }
   ],
   "source": [
    "#Groupby Home Team\n",
    "la_liga_2018_home_gb = la_liga_2018.groupby([\"Home Team\"])[\"Home Team\", \"Home Team Goals Scored\", \"Away Team Goals Scored\", \"Home Team Goals ht\", \"Away Team Goals ht\", \"Home Team Result\", \"Home Team Rating\", \"Home Team Off Target Shots\", \"Home Team On Target Shots\", \"Home Team Total Shots\", \"Home Team Blocked Shots\", \"Home Team Corners\", \"Home Team Pass Success %\", \"Home Team Fouls\", \"Home Team Yellow Cards\", \"Home Team Second Yellow Cards\", \"Home Team Red Cards\"].sum()"
   ],
   "metadata": {
    "collapsed": false,
    "pycharm": {
     "name": "#%%\n"
    }
   }
  },
  {
   "cell_type": "code",
   "execution_count": 67,
   "outputs": [
    {
     "name": "stderr",
     "output_type": "stream",
     "text": [
      "/var/folders/f0/pqy2clvx0nv38xm_npv8fklm0000gn/T/ipykernel_3415/4090521634.py:2: FutureWarning: Indexing with multiple keys (implicitly converted to a tuple of keys) will be deprecated, use a list instead.\n",
      "  la_liga_2018_away_gb = la_liga_2018.groupby([\"Away Team\"])[\"Away Team\", \"Home Team Goals Scored\",\"Away Team Goals Scored\",\"Home Team Goals ht\",\"Away Team Goals ht\",\"Away Team Result\",\"Away Team Rating\",\"Away Team Off Target Shots\",\"Away Team On Target Shots\",\"Away Team Total Shots\",\"Away Team Blocked Shots\",\"Away Team Corners\",\"Away Team Pass Success %\",\"Away Team Fouls\",\"Away Team Yellow Cards\",\"Away Team Second Yellow Cards\",\"Away Team Red Cards\"].sum()\n"
     ]
    }
   ],
   "source": [
    "#Groupby Away Team\n",
    "la_liga_2018_away_gb = la_liga_2018.groupby([\"Away Team\"])[\"Away Team\", \"Home Team Goals Scored\",\"Away Team Goals Scored\",\"Home Team Goals ht\",\"Away Team Goals ht\",\"Away Team Result\",\"Away Team Rating\",\"Away Team Off Target Shots\",\"Away Team On Target Shots\",\"Away Team Total Shots\",\"Away Team Blocked Shots\",\"Away Team Corners\",\"Away Team Pass Success %\",\"Away Team Fouls\",\"Away Team Yellow Cards\",\"Away Team Second Yellow Cards\",\"Away Team Red Cards\"].sum()"
   ],
   "metadata": {
    "collapsed": false,
    "pycharm": {
     "name": "#%%\n"
    }
   }
  },
  {
   "cell_type": "code",
   "execution_count": 68,
   "outputs": [],
   "source": [
    "#Reanme all columns to join the dataframes\n",
    "la_liga_2018_home_gb = la_liga_2018_home_gb.rename(columns={\"Home Team Goals Scored\":\"Home Goals Scored\", \"Away Team Goals Scored\": \"Home Goals received\", \"Home Team Goals ht\": \"Home Goals ht\", \"Away Team Goals ht\": \"Home Goals received ht\", \"Home Team Result\": \"Home Points\", \"Home Team Rating\": \"Home Rating\", \"Home Team Off Target Shots\": \"Home Off Target Shots\", \"Home Team On Target Shots\": \"Home On Target Shots\",\"Home Team Total Shots\":\"Home Total Shots\", \"Home Team Blocked Shots\": \"Home Blocked Shots\", \"Home Team Corners\": \"Home Corners\", \"Home Team Pass Success %\": \"Home Pass Success %\", \"Home Team Fouls\": \"Home Fouls\", \"Home Team Yellow Cards\": \"Home Yellow Cards\", \"Home Team Second Yellow Cards\": \"Home Second Yellow Cards\", \"Home Team Red Cards\": \"Home Red Cards\"})"
   ],
   "metadata": {
    "collapsed": false,
    "pycharm": {
     "name": "#%%\n"
    }
   }
  },
  {
   "cell_type": "code",
   "execution_count": 69,
   "outputs": [],
   "source": [
    "#Reanme all columns to join the dataframes\n",
    "la_liga_2018_away_gb = la_liga_2018_away_gb.rename(columns={\"Home Team Goals Scored\": \"Away Goals received\",\"Away Team Goals Scored\": \"Away Goals Scored\", \"Home Team Goals ht\": \"Away Goals received ht\",\"Away Team Goals ht\": \"Away Goals ht\",\"Away Team Result\": \"Away Points\",\"Away Team Rating\": \"Away Rating\",\"Away Team Off Target Shots\": \"Away Off Target Shots\",\"Away Team On Target Shots\": \"Away On Target Shots\",\"Away Team Total Shots\": \"Away Total Shots\", \"Away Team Blocked Shots\": \"Away Blocked Shots\",\"Away Team Corners\": \"Away Corners\",\"Away Team Pass Success %\": \"Away Pass Success %\",\"Away Team Fouls\": \"Away Fouls\",\"Away Team Yellow Cards\": \"Away Yellow Cards\",\"Away Team Second Yellow Cards\": \"Away Second Yellow Cards\",\"Away Team Red Cards\": \"Away Red Cards\"})"
   ],
   "metadata": {
    "collapsed": false,
    "pycharm": {
     "name": "#%%\n"
    }
   }
  },
  {
   "cell_type": "code",
   "execution_count": 70,
   "outputs": [],
   "source": [
    "#Concat the two dataframes for analyze the season\n",
    "la_liga_2018_concat = pd.concat([la_liga_2018_away_gb, la_liga_2018_home_gb],axis=1, join=\"inner\")"
   ],
   "metadata": {
    "collapsed": false,
    "pycharm": {
     "name": "#%%\n"
    }
   }
  },
  {
   "cell_type": "code",
   "execution_count": 71,
   "outputs": [
    {
     "data": {
      "text/plain": "0"
     },
     "execution_count": 71,
     "metadata": {},
     "output_type": "execute_result"
    }
   ],
   "source": [
    "for i in range(len(la_liga_2018_concat)):\n",
    "    la_liga_2018_concat[\"Points\"] = 0\n",
    "    la_liga_2018_concat[\"Goals Scored\"] = 0\n",
    "    la_liga_2018_concat[\"Goals received\"] = 0\n",
    "    la_liga_2018_concat[\"Goals ht\"] = 0\n",
    "    la_liga_2018_concat[\"Goals received ht\"] = 0\n",
    "    la_liga_2018_concat[\"Rating mean\"] = 0\n",
    "    la_liga_2018_concat[\"On Target Shots\"] = 0\n",
    "    la_liga_2018_concat[\"Off Target Shots\"] = 0\n",
    "    la_liga_2018_concat[\"Blocked Shots\"] = 0\n",
    "    la_liga_2018_concat[\"Corners\"] = 0\n",
    "    la_liga_2018_concat[\"Fouls\"] = 0\n",
    "    la_liga_2018_concat[\"First Yellow Cards\"] = 0\n",
    "    la_liga_2018_concat[\"Second Yellow Cards\"] = 0\n",
    "    la_liga_2018_concat[\"Yellow Cards\"] = 0\n",
    "    la_liga_2018_concat[\"Red Cards\"] = 0\n",
    "    la_liga_2018_concat[\"Pass Success mean\"] = 0\n",
    "\n",
    "\n",
    "la_liga_2018_concat[\"Home Points\"][0]"
   ],
   "metadata": {
    "collapsed": false,
    "pycharm": {
     "name": "#%%\n"
    }
   }
  },
  {
   "cell_type": "code",
   "execution_count": 72,
   "outputs": [
    {
     "name": "stderr",
     "output_type": "stream",
     "text": [
      "/var/folders/f0/pqy2clvx0nv38xm_npv8fklm0000gn/T/ipykernel_3415/828744249.py:2: SettingWithCopyWarning: \n",
      "A value is trying to be set on a copy of a slice from a DataFrame\n",
      "\n",
      "See the caveats in the documentation: https://pandas.pydata.org/pandas-docs/stable/user_guide/indexing.html#returning-a-view-versus-a-copy\n",
      "  la_liga_2018_concat[\"Points\"][i] = la_liga_2018_concat[\"Home Points\"][i] + la_liga_2018_concat[\"Away Points\"][i]\n",
      "/var/folders/f0/pqy2clvx0nv38xm_npv8fklm0000gn/T/ipykernel_3415/828744249.py:3: SettingWithCopyWarning: \n",
      "A value is trying to be set on a copy of a slice from a DataFrame\n",
      "\n",
      "See the caveats in the documentation: https://pandas.pydata.org/pandas-docs/stable/user_guide/indexing.html#returning-a-view-versus-a-copy\n",
      "  la_liga_2018_concat[\"Goals Scored\"][i] = la_liga_2018_concat[\"Home Goals Scored\"][i] + la_liga_2018_concat[\"Away Goals Scored\"][i]\n",
      "/var/folders/f0/pqy2clvx0nv38xm_npv8fklm0000gn/T/ipykernel_3415/828744249.py:4: SettingWithCopyWarning: \n",
      "A value is trying to be set on a copy of a slice from a DataFrame\n",
      "\n",
      "See the caveats in the documentation: https://pandas.pydata.org/pandas-docs/stable/user_guide/indexing.html#returning-a-view-versus-a-copy\n",
      "  la_liga_2018_concat[\"Goals received\"][i] = la_liga_2018_concat[\"Home Goals received\"][i] + la_liga_2018_concat[\"Away Goals received\"][i]\n",
      "/var/folders/f0/pqy2clvx0nv38xm_npv8fklm0000gn/T/ipykernel_3415/828744249.py:5: SettingWithCopyWarning: \n",
      "A value is trying to be set on a copy of a slice from a DataFrame\n",
      "\n",
      "See the caveats in the documentation: https://pandas.pydata.org/pandas-docs/stable/user_guide/indexing.html#returning-a-view-versus-a-copy\n",
      "  la_liga_2018_concat[\"Goals ht\"][i] = la_liga_2018_concat[\"Home Goals ht\"][i] + la_liga_2018_concat[\"Away Goals ht\"][i]\n",
      "/var/folders/f0/pqy2clvx0nv38xm_npv8fklm0000gn/T/ipykernel_3415/828744249.py:6: SettingWithCopyWarning: \n",
      "A value is trying to be set on a copy of a slice from a DataFrame\n",
      "\n",
      "See the caveats in the documentation: https://pandas.pydata.org/pandas-docs/stable/user_guide/indexing.html#returning-a-view-versus-a-copy\n",
      "  la_liga_2018_concat[\"Goals received ht\"][i] = la_liga_2018_concat[\"Home Goals received ht\"][i] + la_liga_2018_concat[\"Away Goals received ht\"][i]\n",
      "/var/folders/f0/pqy2clvx0nv38xm_npv8fklm0000gn/T/ipykernel_3415/828744249.py:7: SettingWithCopyWarning: \n",
      "A value is trying to be set on a copy of a slice from a DataFrame\n",
      "\n",
      "See the caveats in the documentation: https://pandas.pydata.org/pandas-docs/stable/user_guide/indexing.html#returning-a-view-versus-a-copy\n",
      "  la_liga_2018_concat[\"Rating mean\"][i] = la_liga_2018_concat[\"Home Rating\"][i] + la_liga_2018_concat[\"Away Rating\"][i] / 38\n",
      "/var/folders/f0/pqy2clvx0nv38xm_npv8fklm0000gn/T/ipykernel_3415/828744249.py:8: SettingWithCopyWarning: \n",
      "A value is trying to be set on a copy of a slice from a DataFrame\n",
      "\n",
      "See the caveats in the documentation: https://pandas.pydata.org/pandas-docs/stable/user_guide/indexing.html#returning-a-view-versus-a-copy\n",
      "  la_liga_2018_concat[\"On Target Shots\"][i] = la_liga_2018_concat[\"Home On Target Shots\"][i] + la_liga_2018_concat[\"Away On Target Shots\"][i]\n",
      "/var/folders/f0/pqy2clvx0nv38xm_npv8fklm0000gn/T/ipykernel_3415/828744249.py:9: SettingWithCopyWarning: \n",
      "A value is trying to be set on a copy of a slice from a DataFrame\n",
      "\n",
      "See the caveats in the documentation: https://pandas.pydata.org/pandas-docs/stable/user_guide/indexing.html#returning-a-view-versus-a-copy\n",
      "  la_liga_2018_concat[\"Off Target Shots\"][i] = la_liga_2018_concat[\"Home Off Target Shots\"][i] + la_liga_2018_concat[\"Away Off Target Shots\"][i]\n",
      "/var/folders/f0/pqy2clvx0nv38xm_npv8fklm0000gn/T/ipykernel_3415/828744249.py:10: SettingWithCopyWarning: \n",
      "A value is trying to be set on a copy of a slice from a DataFrame\n",
      "\n",
      "See the caveats in the documentation: https://pandas.pydata.org/pandas-docs/stable/user_guide/indexing.html#returning-a-view-versus-a-copy\n",
      "  la_liga_2018_concat[\"Blocked Shots\"][i] = la_liga_2018_concat[\"Home Blocked Shots\"][i] + la_liga_2018_concat[\"Away Blocked Shots\"][i]\n",
      "/var/folders/f0/pqy2clvx0nv38xm_npv8fklm0000gn/T/ipykernel_3415/828744249.py:11: SettingWithCopyWarning: \n",
      "A value is trying to be set on a copy of a slice from a DataFrame\n",
      "\n",
      "See the caveats in the documentation: https://pandas.pydata.org/pandas-docs/stable/user_guide/indexing.html#returning-a-view-versus-a-copy\n",
      "  la_liga_2018_concat[\"Corners\"][i] = la_liga_2018_concat[\"Home Corners\"][i] + la_liga_2018_concat[\"Away Corners\"][i]\n",
      "/var/folders/f0/pqy2clvx0nv38xm_npv8fklm0000gn/T/ipykernel_3415/828744249.py:12: SettingWithCopyWarning: \n",
      "A value is trying to be set on a copy of a slice from a DataFrame\n",
      "\n",
      "See the caveats in the documentation: https://pandas.pydata.org/pandas-docs/stable/user_guide/indexing.html#returning-a-view-versus-a-copy\n",
      "  la_liga_2018_concat[\"Fouls\"][i] = la_liga_2018_concat[\"Home Fouls\"][i] + la_liga_2018_concat[\"Away Fouls\"][i]\n",
      "/var/folders/f0/pqy2clvx0nv38xm_npv8fklm0000gn/T/ipykernel_3415/828744249.py:13: SettingWithCopyWarning: \n",
      "A value is trying to be set on a copy of a slice from a DataFrame\n",
      "\n",
      "See the caveats in the documentation: https://pandas.pydata.org/pandas-docs/stable/user_guide/indexing.html#returning-a-view-versus-a-copy\n",
      "  la_liga_2018_concat[\"First Yellow Cards\"][i] = la_liga_2018_concat[\"Home Yellow Cards\"][i] + la_liga_2018_concat[\"Away Yellow Cards\"][i]\n",
      "/var/folders/f0/pqy2clvx0nv38xm_npv8fklm0000gn/T/ipykernel_3415/828744249.py:14: SettingWithCopyWarning: \n",
      "A value is trying to be set on a copy of a slice from a DataFrame\n",
      "\n",
      "See the caveats in the documentation: https://pandas.pydata.org/pandas-docs/stable/user_guide/indexing.html#returning-a-view-versus-a-copy\n",
      "  la_liga_2018_concat[\"Second Yellow Cards\"][i] = la_liga_2018_concat[\"Home Second Yellow Cards\"][i] + la_liga_2018_concat[\"Away Second Yellow Cards\"][i]\n",
      "/var/folders/f0/pqy2clvx0nv38xm_npv8fklm0000gn/T/ipykernel_3415/828744249.py:15: SettingWithCopyWarning: \n",
      "A value is trying to be set on a copy of a slice from a DataFrame\n",
      "\n",
      "See the caveats in the documentation: https://pandas.pydata.org/pandas-docs/stable/user_guide/indexing.html#returning-a-view-versus-a-copy\n",
      "  la_liga_2018_concat[\"Yellow Cards\"][i] = la_liga_2018_concat[\"Home Yellow Cards\"][i] + la_liga_2018_concat[\"Away Yellow Cards\"][i] + la_liga_2018_concat[\"Home Second Yellow Cards\"][i] + la_liga_2018_concat[\"Away Second Yellow Cards\"][i]\n",
      "/var/folders/f0/pqy2clvx0nv38xm_npv8fklm0000gn/T/ipykernel_3415/828744249.py:16: SettingWithCopyWarning: \n",
      "A value is trying to be set on a copy of a slice from a DataFrame\n",
      "\n",
      "See the caveats in the documentation: https://pandas.pydata.org/pandas-docs/stable/user_guide/indexing.html#returning-a-view-versus-a-copy\n",
      "  la_liga_2018_concat[\"Red Cards\"][i] = la_liga_2018_concat[\"Home Red Cards\"][i] + la_liga_2018_concat[\"Away Red Cards\"][i]\n",
      "/var/folders/f0/pqy2clvx0nv38xm_npv8fklm0000gn/T/ipykernel_3415/828744249.py:17: SettingWithCopyWarning: \n",
      "A value is trying to be set on a copy of a slice from a DataFrame\n",
      "\n",
      "See the caveats in the documentation: https://pandas.pydata.org/pandas-docs/stable/user_guide/indexing.html#returning-a-view-versus-a-copy\n",
      "  la_liga_2018_concat[\"Pass Success mean\"][i] = (la_liga_2018_concat[\"Home Pass Success %\"][i] + la_liga_2018_concat[\"Away Pass Success %\"][i]) / 38\n"
     ]
    }
   ],
   "source": [
    "for i in range(len(la_liga_2018_concat)):\n",
    "    la_liga_2018_concat[\"Points\"][i] = la_liga_2018_concat[\"Home Points\"][i] + la_liga_2018_concat[\"Away Points\"][i]\n",
    "    la_liga_2018_concat[\"Goals Scored\"][i] = la_liga_2018_concat[\"Home Goals Scored\"][i] + la_liga_2018_concat[\"Away Goals Scored\"][i]\n",
    "    la_liga_2018_concat[\"Goals received\"][i] = la_liga_2018_concat[\"Home Goals received\"][i] + la_liga_2018_concat[\"Away Goals received\"][i]\n",
    "    la_liga_2018_concat[\"Goals ht\"][i] = la_liga_2018_concat[\"Home Goals ht\"][i] + la_liga_2018_concat[\"Away Goals ht\"][i]\n",
    "    la_liga_2018_concat[\"Goals received ht\"][i] = la_liga_2018_concat[\"Home Goals received ht\"][i] + la_liga_2018_concat[\"Away Goals received ht\"][i]\n",
    "    la_liga_2018_concat[\"Rating mean\"][i] = la_liga_2018_concat[\"Home Rating\"][i] + la_liga_2018_concat[\"Away Rating\"][i] / 38\n",
    "    la_liga_2018_concat[\"On Target Shots\"][i] = la_liga_2018_concat[\"Home On Target Shots\"][i] + la_liga_2018_concat[\"Away On Target Shots\"][i]\n",
    "    la_liga_2018_concat[\"Off Target Shots\"][i] = la_liga_2018_concat[\"Home Off Target Shots\"][i] + la_liga_2018_concat[\"Away Off Target Shots\"][i]\n",
    "    la_liga_2018_concat[\"Blocked Shots\"][i] = la_liga_2018_concat[\"Home Blocked Shots\"][i] + la_liga_2018_concat[\"Away Blocked Shots\"][i]\n",
    "    la_liga_2018_concat[\"Corners\"][i] = la_liga_2018_concat[\"Home Corners\"][i] + la_liga_2018_concat[\"Away Corners\"][i]\n",
    "    la_liga_2018_concat[\"Fouls\"][i] = la_liga_2018_concat[\"Home Fouls\"][i] + la_liga_2018_concat[\"Away Fouls\"][i]\n",
    "    la_liga_2018_concat[\"First Yellow Cards\"][i] = la_liga_2018_concat[\"Home Yellow Cards\"][i] + la_liga_2018_concat[\"Away Yellow Cards\"][i]\n",
    "    la_liga_2018_concat[\"Second Yellow Cards\"][i] = la_liga_2018_concat[\"Home Second Yellow Cards\"][i] + la_liga_2018_concat[\"Away Second Yellow Cards\"][i]\n",
    "    la_liga_2018_concat[\"Yellow Cards\"][i] = la_liga_2018_concat[\"Home Yellow Cards\"][i] + la_liga_2018_concat[\"Away Yellow Cards\"][i] + la_liga_2018_concat[\"Home Second Yellow Cards\"][i] + la_liga_2018_concat[\"Away Second Yellow Cards\"][i]\n",
    "    la_liga_2018_concat[\"Red Cards\"][i] = la_liga_2018_concat[\"Home Red Cards\"][i] + la_liga_2018_concat[\"Away Red Cards\"][i]\n",
    "    la_liga_2018_concat[\"Pass Success mean\"][i] = (la_liga_2018_concat[\"Home Pass Success %\"][i] + la_liga_2018_concat[\"Away Pass Success %\"][i]) / 38"
   ],
   "metadata": {
    "collapsed": false,
    "pycharm": {
     "name": "#%%\n"
    }
   }
  },
  {
   "cell_type": "code",
   "execution_count": 73,
   "outputs": [],
   "source": [
    "la_liga_2018_concat = la_liga_2018_concat.filter([\"Points\", \"Goals Scored\", \"Goals received\", \"Goals ht\", \"Goals received ht\", \"Rating mean\", \"On Target Shots\", \"Off Target Shots\", \"Blocked Shots\", \"Corners\", \"Fouls\", \"First Yellow Cards\", \"Second Yellow Cards\", \"Red Cards\", \"Pass Success mean\"])"
   ],
   "metadata": {
    "collapsed": false,
    "pycharm": {
     "name": "#%%\n"
    }
   }
  },
  {
   "cell_type": "code",
   "execution_count": 74,
   "outputs": [
    {
     "data": {
      "text/plain": "                 Points  Goals Scored  Goals received  Goals ht  \\\nALAVÉS                0             0               5         0   \nATHLETIC              2             1               1         1   \nATLETICO MADRID       1             1               3         0   \nBARCELONA            87            90              36        37   \nCELTA                 3             2               2         0   \nEIBAR                 1             2               5         2   \nESPANYOL              0             0               6         0   \nGETAFE                0             1               4         1   \nGIRONA                1             2               4         1   \nHUESCA                1             2               8         2   \nLEGANÉS               3             3               4         0   \nLEVANTE               0             0               6         0   \nRAYO VALLECANO        0             3               6         2   \nREAL BETIS            3             5               7         2   \nREAL MADRID           0             1               6         0   \nREAL SOCIEDAD         0             2               4         1   \nSEVILLA FC            0             4               8         2   \nVALENCIA              2             3               3         3   \nVALLADOLID            0             0               2         0   \nVILLARREAL            1             4               6         1   \n\n                 Goals received ht  Rating mean  On Target Shots  \\\nALAVÉS                           0            5                1   \nATHLETIC                         0            6                7   \nATLETICO MADRID                  0            6                3   \nBARCELONA                       18          141              253   \nCELTA                            2            7                7   \nEIBAR                            3            6               10   \nESPANYOL                         3            5                5   \nGETAFE                           3            5                2   \nGIRONA                           2            5               11   \nHUESCA                           3            6                4   \nLEGANÉS                          2            7                8   \nLEVANTE                          2            4                8   \nRAYO VALLECANO                   2            5                6   \nREAL BETIS                       2            5               11   \nREAL MADRID                      3            5                7   \nREAL SOCIEDAD                    1            6                7   \nSEVILLA FC                       3            5               10   \nVALENCIA                         2            6               11   \nVALLADOLID                       1            6                4   \nVILLARREAL                       3            6               11   \n\n                 Off Target Shots  Blocked Shots  Corners  Fouls  \\\nALAVÉS                          6              2        2     32   \nATHLETIC                        7              7        9     41   \nATLETICO MADRID                 6              3        3     31   \nBARCELONA                     199            108      205    410   \nCELTA                          11              7       17     26   \nEIBAR                          19              4        8     29   \nESPANYOL                       10              4       13     30   \nGETAFE                         14              5        7     36   \nGIRONA                          6              3        5     34   \nHUESCA                          7              2       10     30   \nLEGANÉS                         3              4        5     33   \nLEVANTE                        10              9       18     24   \nRAYO VALLECANO                  9              4        7     40   \nREAL BETIS                      7             10        8     21   \nREAL MADRID                    16              9       10     30   \nREAL SOCIEDAD                   7              3        3     30   \nSEVILLA FC                     11             11       10     31   \nVALENCIA                        9              4        6     16   \nVALLADOLID                      9              4       11     31   \nVILLARREAL                      9              8        6     27   \n\n                 First Yellow Cards  Second Yellow Cards  Red Cards  \\\nALAVÉS                            5                    0          0   \nATHLETIC                          6                    1          0   \nATLETICO MADRID                   9                    0          1   \nBARCELONA                        76                    1          1   \nCELTA                             2                    0          0   \nEIBAR                             5                    0          0   \nESPANYOL                          5                    0          0   \nGETAFE                            7                    0          0   \nGIRONA                            9                    1          0   \nHUESCA                            3                    0          0   \nLEGANÉS                           7                    0          0   \nLEVANTE                           5                    0          1   \nRAYO VALLECANO                    6                    0          0   \nREAL BETIS                        3                    0          0   \nREAL MADRID                       5                    0          0   \nREAL SOCIEDAD                     2                    0          0   \nSEVILLA FC                        7                    0          0   \nVALENCIA                          2                    0          0   \nVALLADOLID                        4                    0          0   \nVILLARREAL                        7                    1          0   \n\n                 Pass Success mean  \nALAVÉS                           3  \nATHLETIC                         3  \nATLETICO MADRID                  4  \nBARCELONA                       88  \nCELTA                            4  \nEIBAR                            4  \nESPANYOL                         4  \nGETAFE                           3  \nGIRONA                           4  \nHUESCA                           3  \nLEGANÉS                          3  \nLEVANTE                          4  \nRAYO VALLECANO                   4  \nREAL BETIS                       4  \nREAL MADRID                      4  \nREAL SOCIEDAD                    4  \nSEVILLA FC                       4  \nVALENCIA                         4  \nVALLADOLID                       4  \nVILLARREAL                       4  ",
      "text/html": "<div>\n<style scoped>\n    .dataframe tbody tr th:only-of-type {\n        vertical-align: middle;\n    }\n\n    .dataframe tbody tr th {\n        vertical-align: top;\n    }\n\n    .dataframe thead th {\n        text-align: right;\n    }\n</style>\n<table border=\"1\" class=\"dataframe\">\n  <thead>\n    <tr style=\"text-align: right;\">\n      <th></th>\n      <th>Points</th>\n      <th>Goals Scored</th>\n      <th>Goals received</th>\n      <th>Goals ht</th>\n      <th>Goals received ht</th>\n      <th>Rating mean</th>\n      <th>On Target Shots</th>\n      <th>Off Target Shots</th>\n      <th>Blocked Shots</th>\n      <th>Corners</th>\n      <th>Fouls</th>\n      <th>First Yellow Cards</th>\n      <th>Second Yellow Cards</th>\n      <th>Red Cards</th>\n      <th>Pass Success mean</th>\n    </tr>\n  </thead>\n  <tbody>\n    <tr>\n      <th>ALAVÉS</th>\n      <td>0</td>\n      <td>0</td>\n      <td>5</td>\n      <td>0</td>\n      <td>0</td>\n      <td>5</td>\n      <td>1</td>\n      <td>6</td>\n      <td>2</td>\n      <td>2</td>\n      <td>32</td>\n      <td>5</td>\n      <td>0</td>\n      <td>0</td>\n      <td>3</td>\n    </tr>\n    <tr>\n      <th>ATHLETIC</th>\n      <td>2</td>\n      <td>1</td>\n      <td>1</td>\n      <td>1</td>\n      <td>0</td>\n      <td>6</td>\n      <td>7</td>\n      <td>7</td>\n      <td>7</td>\n      <td>9</td>\n      <td>41</td>\n      <td>6</td>\n      <td>1</td>\n      <td>0</td>\n      <td>3</td>\n    </tr>\n    <tr>\n      <th>ATLETICO MADRID</th>\n      <td>1</td>\n      <td>1</td>\n      <td>3</td>\n      <td>0</td>\n      <td>0</td>\n      <td>6</td>\n      <td>3</td>\n      <td>6</td>\n      <td>3</td>\n      <td>3</td>\n      <td>31</td>\n      <td>9</td>\n      <td>0</td>\n      <td>1</td>\n      <td>4</td>\n    </tr>\n    <tr>\n      <th>BARCELONA</th>\n      <td>87</td>\n      <td>90</td>\n      <td>36</td>\n      <td>37</td>\n      <td>18</td>\n      <td>141</td>\n      <td>253</td>\n      <td>199</td>\n      <td>108</td>\n      <td>205</td>\n      <td>410</td>\n      <td>76</td>\n      <td>1</td>\n      <td>1</td>\n      <td>88</td>\n    </tr>\n    <tr>\n      <th>CELTA</th>\n      <td>3</td>\n      <td>2</td>\n      <td>2</td>\n      <td>0</td>\n      <td>2</td>\n      <td>7</td>\n      <td>7</td>\n      <td>11</td>\n      <td>7</td>\n      <td>17</td>\n      <td>26</td>\n      <td>2</td>\n      <td>0</td>\n      <td>0</td>\n      <td>4</td>\n    </tr>\n    <tr>\n      <th>EIBAR</th>\n      <td>1</td>\n      <td>2</td>\n      <td>5</td>\n      <td>2</td>\n      <td>3</td>\n      <td>6</td>\n      <td>10</td>\n      <td>19</td>\n      <td>4</td>\n      <td>8</td>\n      <td>29</td>\n      <td>5</td>\n      <td>0</td>\n      <td>0</td>\n      <td>4</td>\n    </tr>\n    <tr>\n      <th>ESPANYOL</th>\n      <td>0</td>\n      <td>0</td>\n      <td>6</td>\n      <td>0</td>\n      <td>3</td>\n      <td>5</td>\n      <td>5</td>\n      <td>10</td>\n      <td>4</td>\n      <td>13</td>\n      <td>30</td>\n      <td>5</td>\n      <td>0</td>\n      <td>0</td>\n      <td>4</td>\n    </tr>\n    <tr>\n      <th>GETAFE</th>\n      <td>0</td>\n      <td>1</td>\n      <td>4</td>\n      <td>1</td>\n      <td>3</td>\n      <td>5</td>\n      <td>2</td>\n      <td>14</td>\n      <td>5</td>\n      <td>7</td>\n      <td>36</td>\n      <td>7</td>\n      <td>0</td>\n      <td>0</td>\n      <td>3</td>\n    </tr>\n    <tr>\n      <th>GIRONA</th>\n      <td>1</td>\n      <td>2</td>\n      <td>4</td>\n      <td>1</td>\n      <td>2</td>\n      <td>5</td>\n      <td>11</td>\n      <td>6</td>\n      <td>3</td>\n      <td>5</td>\n      <td>34</td>\n      <td>9</td>\n      <td>1</td>\n      <td>0</td>\n      <td>4</td>\n    </tr>\n    <tr>\n      <th>HUESCA</th>\n      <td>1</td>\n      <td>2</td>\n      <td>8</td>\n      <td>2</td>\n      <td>3</td>\n      <td>6</td>\n      <td>4</td>\n      <td>7</td>\n      <td>2</td>\n      <td>10</td>\n      <td>30</td>\n      <td>3</td>\n      <td>0</td>\n      <td>0</td>\n      <td>3</td>\n    </tr>\n    <tr>\n      <th>LEGANÉS</th>\n      <td>3</td>\n      <td>3</td>\n      <td>4</td>\n      <td>0</td>\n      <td>2</td>\n      <td>7</td>\n      <td>8</td>\n      <td>3</td>\n      <td>4</td>\n      <td>5</td>\n      <td>33</td>\n      <td>7</td>\n      <td>0</td>\n      <td>0</td>\n      <td>3</td>\n    </tr>\n    <tr>\n      <th>LEVANTE</th>\n      <td>0</td>\n      <td>0</td>\n      <td>6</td>\n      <td>0</td>\n      <td>2</td>\n      <td>4</td>\n      <td>8</td>\n      <td>10</td>\n      <td>9</td>\n      <td>18</td>\n      <td>24</td>\n      <td>5</td>\n      <td>0</td>\n      <td>1</td>\n      <td>4</td>\n    </tr>\n    <tr>\n      <th>RAYO VALLECANO</th>\n      <td>0</td>\n      <td>3</td>\n      <td>6</td>\n      <td>2</td>\n      <td>2</td>\n      <td>5</td>\n      <td>6</td>\n      <td>9</td>\n      <td>4</td>\n      <td>7</td>\n      <td>40</td>\n      <td>6</td>\n      <td>0</td>\n      <td>0</td>\n      <td>4</td>\n    </tr>\n    <tr>\n      <th>REAL BETIS</th>\n      <td>3</td>\n      <td>5</td>\n      <td>7</td>\n      <td>2</td>\n      <td>2</td>\n      <td>5</td>\n      <td>11</td>\n      <td>7</td>\n      <td>10</td>\n      <td>8</td>\n      <td>21</td>\n      <td>3</td>\n      <td>0</td>\n      <td>0</td>\n      <td>4</td>\n    </tr>\n    <tr>\n      <th>REAL MADRID</th>\n      <td>0</td>\n      <td>1</td>\n      <td>6</td>\n      <td>0</td>\n      <td>3</td>\n      <td>5</td>\n      <td>7</td>\n      <td>16</td>\n      <td>9</td>\n      <td>10</td>\n      <td>30</td>\n      <td>5</td>\n      <td>0</td>\n      <td>0</td>\n      <td>4</td>\n    </tr>\n    <tr>\n      <th>REAL SOCIEDAD</th>\n      <td>0</td>\n      <td>2</td>\n      <td>4</td>\n      <td>1</td>\n      <td>1</td>\n      <td>6</td>\n      <td>7</td>\n      <td>7</td>\n      <td>3</td>\n      <td>3</td>\n      <td>30</td>\n      <td>2</td>\n      <td>0</td>\n      <td>0</td>\n      <td>4</td>\n    </tr>\n    <tr>\n      <th>SEVILLA FC</th>\n      <td>0</td>\n      <td>4</td>\n      <td>8</td>\n      <td>2</td>\n      <td>3</td>\n      <td>5</td>\n      <td>10</td>\n      <td>11</td>\n      <td>11</td>\n      <td>10</td>\n      <td>31</td>\n      <td>7</td>\n      <td>0</td>\n      <td>0</td>\n      <td>4</td>\n    </tr>\n    <tr>\n      <th>VALENCIA</th>\n      <td>2</td>\n      <td>3</td>\n      <td>3</td>\n      <td>3</td>\n      <td>2</td>\n      <td>6</td>\n      <td>11</td>\n      <td>9</td>\n      <td>4</td>\n      <td>6</td>\n      <td>16</td>\n      <td>2</td>\n      <td>0</td>\n      <td>0</td>\n      <td>4</td>\n    </tr>\n    <tr>\n      <th>VALLADOLID</th>\n      <td>0</td>\n      <td>0</td>\n      <td>2</td>\n      <td>0</td>\n      <td>1</td>\n      <td>6</td>\n      <td>4</td>\n      <td>9</td>\n      <td>4</td>\n      <td>11</td>\n      <td>31</td>\n      <td>4</td>\n      <td>0</td>\n      <td>0</td>\n      <td>4</td>\n    </tr>\n    <tr>\n      <th>VILLARREAL</th>\n      <td>1</td>\n      <td>4</td>\n      <td>6</td>\n      <td>1</td>\n      <td>3</td>\n      <td>6</td>\n      <td>11</td>\n      <td>9</td>\n      <td>8</td>\n      <td>6</td>\n      <td>27</td>\n      <td>7</td>\n      <td>1</td>\n      <td>0</td>\n      <td>4</td>\n    </tr>\n  </tbody>\n</table>\n</div>"
     },
     "execution_count": 74,
     "metadata": {},
     "output_type": "execute_result"
    }
   ],
   "source": [
    "la_liga_2018_concat"
   ],
   "metadata": {
    "collapsed": false,
    "pycharm": {
     "name": "#%%\n"
    }
   }
  },
  {
   "cell_type": "code",
   "execution_count": 75,
   "outputs": [],
   "source": [
    "la_liga_2018_concat_max = la_liga_2018_concat.max()"
   ],
   "metadata": {
    "collapsed": false,
    "pycharm": {
     "name": "#%%\n"
    }
   }
  },
  {
   "cell_type": "code",
   "execution_count": 76,
   "outputs": [
    {
     "data": {
      "text/plain": "Points                  87\nGoals Scored            90\nGoals received          36\nGoals ht                37\nGoals received ht       18\nRating mean            141\nOn Target Shots        253\nOff Target Shots       199\nBlocked Shots          108\nCorners                205\nFouls                  410\nFirst Yellow Cards      76\nSecond Yellow Cards      1\nRed Cards                1\nPass Success mean       88\ndtype: int64"
     },
     "execution_count": 76,
     "metadata": {},
     "output_type": "execute_result"
    }
   ],
   "source": [
    "la_liga_2018_concat_max"
   ],
   "metadata": {
    "collapsed": false,
    "pycharm": {
     "name": "#%%\n"
    }
   }
  },
  {
   "cell_type": "markdown",
   "source": [
    "## Prepare Data 2019"
   ],
   "metadata": {
    "collapsed": false,
    "pycharm": {
     "name": "#%% md\n"
    }
   }
  },
  {
   "cell_type": "code",
   "execution_count": 77,
   "outputs": [
    {
     "name": "stderr",
     "output_type": "stream",
     "text": [
      "/var/folders/f0/pqy2clvx0nv38xm_npv8fklm0000gn/T/ipykernel_3415/3765863621.py:2: FutureWarning: Indexing with multiple keys (implicitly converted to a tuple of keys) will be deprecated, use a list instead.\n",
      "  la_liga_2019_home_gb = la_liga_2019.groupby([\"Home Team\"])[\"Home Team\", \"Home Team Goals Scored\", \"Away Team Goals Scored\", \"Home Team Goals ht\", \"Away Team Goals ht\", \"Home Team Result\", \"Home Team Rating\", \"Home Team Off Target Shots\", \"Home Team On Target Shots\", \"Home Team Total Shots\", \"Home Team Blocked Shots\", \"Home Team Corners\", \"Home Team Pass Success %\", \"Home Team Fouls\", \"Home Team Yellow Cards\", \"Home Team Second Yellow Cards\", \"Home Team Red Cards\"].sum()\n"
     ]
    }
   ],
   "source": [
    "#Groupby Home Team\n",
    "la_liga_2019_home_gb = la_liga_2019.groupby([\"Home Team\"])[\"Home Team\", \"Home Team Goals Scored\", \"Away Team Goals Scored\", \"Home Team Goals ht\", \"Away Team Goals ht\", \"Home Team Result\", \"Home Team Rating\", \"Home Team Off Target Shots\", \"Home Team On Target Shots\", \"Home Team Total Shots\", \"Home Team Blocked Shots\", \"Home Team Corners\", \"Home Team Pass Success %\", \"Home Team Fouls\", \"Home Team Yellow Cards\", \"Home Team Second Yellow Cards\", \"Home Team Red Cards\"].sum()"
   ],
   "metadata": {
    "collapsed": false,
    "pycharm": {
     "name": "#%%\n"
    }
   }
  },
  {
   "cell_type": "code",
   "execution_count": 78,
   "outputs": [
    {
     "name": "stderr",
     "output_type": "stream",
     "text": [
      "/var/folders/f0/pqy2clvx0nv38xm_npv8fklm0000gn/T/ipykernel_3415/714118620.py:2: FutureWarning: Indexing with multiple keys (implicitly converted to a tuple of keys) will be deprecated, use a list instead.\n",
      "  la_liga_2019_away_gb = la_liga_2019.groupby([\"Away Team\"])[\"Away Team\", \"Home Team Goals Scored\",\"Away Team Goals Scored\",\"Home Team Goals ht\",\"Away Team Goals ht\",\"Away Team Result\",\"Away Team Rating\",\"Away Team Off Target Shots\",\"Away Team On Target Shots\",\"Away Team Total Shots\",\"Away Team Blocked Shots\",\"Away Team Corners\",\"Away Team Pass Success %\",\"Away Team Fouls\",\"Away Team Yellow Cards\",\"Away Team Second Yellow Cards\",\"Away Team Red Cards\"].sum()\n"
     ]
    }
   ],
   "source": [
    "#Groupby Away Team\n",
    "la_liga_2019_away_gb = la_liga_2019.groupby([\"Away Team\"])[\"Away Team\", \"Home Team Goals Scored\",\"Away Team Goals Scored\",\"Home Team Goals ht\",\"Away Team Goals ht\",\"Away Team Result\",\"Away Team Rating\",\"Away Team Off Target Shots\",\"Away Team On Target Shots\",\"Away Team Total Shots\",\"Away Team Blocked Shots\",\"Away Team Corners\",\"Away Team Pass Success %\",\"Away Team Fouls\",\"Away Team Yellow Cards\",\"Away Team Second Yellow Cards\",\"Away Team Red Cards\"].sum()"
   ],
   "metadata": {
    "collapsed": false,
    "pycharm": {
     "name": "#%%\n"
    }
   }
  },
  {
   "cell_type": "code",
   "execution_count": 79,
   "outputs": [],
   "source": [
    "#Reanme all columns to join the dataframes\n",
    "la_liga_2019_home_gb = la_liga_2019_home_gb.rename(columns={\"Home Team Goals Scored\":\"Home Goals Scored\", \"Away Team Goals Scored\": \"Home Goals received\", \"Home Team Goals ht\": \"Home Goals ht\", \"Away Team Goals ht\": \"Home Goals received ht\", \"Home Team Result\": \"Home Points\", \"Home Team Rating\": \"Home Rating\", \"Home Team Off Target Shots\": \"Home Off Target Shots\", \"Home Team On Target Shots\": \"Home On Target Shots\",\"Home Team Total Shots\":\"Home Total Shots\", \"Home Team Blocked Shots\": \"Home Blocked Shots\", \"Home Team Corners\": \"Home Corners\", \"Home Team Pass Success %\": \"Home Pass Success %\", \"Home Team Fouls\": \"Home Fouls\", \"Home Team Yellow Cards\": \"Home Yellow Cards\", \"Home Team Second Yellow Cards\": \"Home Second Yellow Cards\", \"Home Team Red Cards\": \"Home Red Cards\"})"
   ],
   "metadata": {
    "collapsed": false,
    "pycharm": {
     "name": "#%%\n"
    }
   }
  },
  {
   "cell_type": "code",
   "execution_count": 80,
   "outputs": [],
   "source": [
    "#Reanme all columns to join the dataframes\n",
    "la_liga_2019_away_gb = la_liga_2019_away_gb.rename(columns={\"Home Team Goals Scored\": \"Away Goals received\",\"Away Team Goals Scored\": \"Away Goals Scored\", \"Home Team Goals ht\": \"Away Goals received ht\",\"Away Team Goals ht\": \"Away Goals ht\",\"Away Team Result\": \"Away Points\",\"Away Team Rating\": \"Away Rating\",\"Away Team Off Target Shots\": \"Away Off Target Shots\",\"Away Team On Target Shots\": \"Away On Target Shots\",\"Away Team Total Shots\": \"Away Total Shots\", \"Away Team Blocked Shots\": \"Away Blocked Shots\",\"Away Team Corners\": \"Away Corners\",\"Away Team Pass Success %\": \"Away Pass Success %\",\"Away Team Fouls\": \"Away Fouls\",\"Away Team Yellow Cards\": \"Away Yellow Cards\",\"Away Team Second Yellow Cards\": \"Away Second Yellow Cards\",\"Away Team Red Cards\": \"Away Red Cards\"})"
   ],
   "metadata": {
    "collapsed": false,
    "pycharm": {
     "name": "#%%\n"
    }
   }
  },
  {
   "cell_type": "code",
   "execution_count": 81,
   "outputs": [],
   "source": [
    "#Concat the two dataframes for analyze the season\n",
    "la_liga_2019_concat = pd.concat([la_liga_2019_away_gb, la_liga_2019_home_gb],axis=1, join=\"inner\")"
   ],
   "metadata": {
    "collapsed": false,
    "pycharm": {
     "name": "#%%\n"
    }
   }
  },
  {
   "cell_type": "code",
   "execution_count": 82,
   "outputs": [
    {
     "data": {
      "text/plain": "0"
     },
     "execution_count": 82,
     "metadata": {},
     "output_type": "execute_result"
    }
   ],
   "source": [
    "for i in range(len(la_liga_2019_concat)):\n",
    "    la_liga_2019_concat[\"Points\"] = 0\n",
    "    la_liga_2019_concat[\"Goals Scored\"] = 0\n",
    "    la_liga_2019_concat[\"Goals received\"] = 0\n",
    "    la_liga_2019_concat[\"Goals ht\"] = 0\n",
    "    la_liga_2019_concat[\"Goals received ht\"] = 0\n",
    "    la_liga_2019_concat[\"Rating mean\"] = 0\n",
    "    la_liga_2019_concat[\"On Target Shots\"] = 0\n",
    "    la_liga_2019_concat[\"Off Target Shots\"] = 0\n",
    "    la_liga_2019_concat[\"Blocked Shots\"] = 0\n",
    "    la_liga_2019_concat[\"Corners\"] = 0\n",
    "    la_liga_2019_concat[\"Fouls\"] = 0\n",
    "    la_liga_2019_concat[\"First Yellow Cards\"] = 0\n",
    "    la_liga_2019_concat[\"Second Yellow Cards\"] = 0\n",
    "    la_liga_2019_concat[\"Yellow Cards\"] = 0\n",
    "    la_liga_2019_concat[\"Red Cards\"] = 0\n",
    "    la_liga_2019_concat[\"Pass Success mean\"] = 0\n",
    "\n",
    "\n",
    "la_liga_2019_concat[\"Home Points\"][0]"
   ],
   "metadata": {
    "collapsed": false,
    "pycharm": {
     "name": "#%%\n"
    }
   }
  },
  {
   "cell_type": "code",
   "execution_count": 83,
   "outputs": [
    {
     "name": "stderr",
     "output_type": "stream",
     "text": [
      "/var/folders/f0/pqy2clvx0nv38xm_npv8fklm0000gn/T/ipykernel_3415/2595922885.py:2: SettingWithCopyWarning: \n",
      "A value is trying to be set on a copy of a slice from a DataFrame\n",
      "\n",
      "See the caveats in the documentation: https://pandas.pydata.org/pandas-docs/stable/user_guide/indexing.html#returning-a-view-versus-a-copy\n",
      "  la_liga_2019_concat[\"Points\"][i] = la_liga_2019_concat[\"Home Points\"][i] + la_liga_2019_concat[\"Away Points\"][i]\n",
      "/var/folders/f0/pqy2clvx0nv38xm_npv8fklm0000gn/T/ipykernel_3415/2595922885.py:3: SettingWithCopyWarning: \n",
      "A value is trying to be set on a copy of a slice from a DataFrame\n",
      "\n",
      "See the caveats in the documentation: https://pandas.pydata.org/pandas-docs/stable/user_guide/indexing.html#returning-a-view-versus-a-copy\n",
      "  la_liga_2019_concat[\"Goals Scored\"][i] = la_liga_2019_concat[\"Home Goals Scored\"][i] + la_liga_2019_concat[\"Away Goals Scored\"][i]\n",
      "/var/folders/f0/pqy2clvx0nv38xm_npv8fklm0000gn/T/ipykernel_3415/2595922885.py:4: SettingWithCopyWarning: \n",
      "A value is trying to be set on a copy of a slice from a DataFrame\n",
      "\n",
      "See the caveats in the documentation: https://pandas.pydata.org/pandas-docs/stable/user_guide/indexing.html#returning-a-view-versus-a-copy\n",
      "  la_liga_2019_concat[\"Goals received\"][i] = la_liga_2019_concat[\"Home Goals received\"][i] + la_liga_2019_concat[\"Away Goals received\"][i]\n",
      "/var/folders/f0/pqy2clvx0nv38xm_npv8fklm0000gn/T/ipykernel_3415/2595922885.py:5: SettingWithCopyWarning: \n",
      "A value is trying to be set on a copy of a slice from a DataFrame\n",
      "\n",
      "See the caveats in the documentation: https://pandas.pydata.org/pandas-docs/stable/user_guide/indexing.html#returning-a-view-versus-a-copy\n",
      "  la_liga_2019_concat[\"Goals ht\"][i] = la_liga_2019_concat[\"Home Goals ht\"][i] + la_liga_2019_concat[\"Away Goals ht\"][i]\n",
      "/var/folders/f0/pqy2clvx0nv38xm_npv8fklm0000gn/T/ipykernel_3415/2595922885.py:6: SettingWithCopyWarning: \n",
      "A value is trying to be set on a copy of a slice from a DataFrame\n",
      "\n",
      "See the caveats in the documentation: https://pandas.pydata.org/pandas-docs/stable/user_guide/indexing.html#returning-a-view-versus-a-copy\n",
      "  la_liga_2019_concat[\"Goals received ht\"][i] = la_liga_2019_concat[\"Home Goals received ht\"][i] + la_liga_2019_concat[\"Away Goals received ht\"][i]\n",
      "/var/folders/f0/pqy2clvx0nv38xm_npv8fklm0000gn/T/ipykernel_3415/2595922885.py:7: SettingWithCopyWarning: \n",
      "A value is trying to be set on a copy of a slice from a DataFrame\n",
      "\n",
      "See the caveats in the documentation: https://pandas.pydata.org/pandas-docs/stable/user_guide/indexing.html#returning-a-view-versus-a-copy\n",
      "  la_liga_2019_concat[\"Rating mean\"][i] = la_liga_2019_concat[\"Home Rating\"][i] + la_liga_2019_concat[\"Away Rating\"][i] / 38\n",
      "/var/folders/f0/pqy2clvx0nv38xm_npv8fklm0000gn/T/ipykernel_3415/2595922885.py:8: SettingWithCopyWarning: \n",
      "A value is trying to be set on a copy of a slice from a DataFrame\n",
      "\n",
      "See the caveats in the documentation: https://pandas.pydata.org/pandas-docs/stable/user_guide/indexing.html#returning-a-view-versus-a-copy\n",
      "  la_liga_2019_concat[\"On Target Shots\"][i] = la_liga_2019_concat[\"Home On Target Shots\"][i] + la_liga_2019_concat[\"Away On Target Shots\"][i]\n",
      "/var/folders/f0/pqy2clvx0nv38xm_npv8fklm0000gn/T/ipykernel_3415/2595922885.py:9: SettingWithCopyWarning: \n",
      "A value is trying to be set on a copy of a slice from a DataFrame\n",
      "\n",
      "See the caveats in the documentation: https://pandas.pydata.org/pandas-docs/stable/user_guide/indexing.html#returning-a-view-versus-a-copy\n",
      "  la_liga_2019_concat[\"Off Target Shots\"][i] = la_liga_2019_concat[\"Home Off Target Shots\"][i] + la_liga_2019_concat[\"Away Off Target Shots\"][i]\n",
      "/var/folders/f0/pqy2clvx0nv38xm_npv8fklm0000gn/T/ipykernel_3415/2595922885.py:10: SettingWithCopyWarning: \n",
      "A value is trying to be set on a copy of a slice from a DataFrame\n",
      "\n",
      "See the caveats in the documentation: https://pandas.pydata.org/pandas-docs/stable/user_guide/indexing.html#returning-a-view-versus-a-copy\n",
      "  la_liga_2019_concat[\"Blocked Shots\"][i] = la_liga_2019_concat[\"Home Blocked Shots\"][i] + la_liga_2019_concat[\"Away Blocked Shots\"][i]\n",
      "/var/folders/f0/pqy2clvx0nv38xm_npv8fklm0000gn/T/ipykernel_3415/2595922885.py:11: SettingWithCopyWarning: \n",
      "A value is trying to be set on a copy of a slice from a DataFrame\n",
      "\n",
      "See the caveats in the documentation: https://pandas.pydata.org/pandas-docs/stable/user_guide/indexing.html#returning-a-view-versus-a-copy\n",
      "  la_liga_2019_concat[\"Corners\"][i] = la_liga_2019_concat[\"Home Corners\"][i] + la_liga_2019_concat[\"Away Corners\"][i]\n",
      "/var/folders/f0/pqy2clvx0nv38xm_npv8fklm0000gn/T/ipykernel_3415/2595922885.py:12: SettingWithCopyWarning: \n",
      "A value is trying to be set on a copy of a slice from a DataFrame\n",
      "\n",
      "See the caveats in the documentation: https://pandas.pydata.org/pandas-docs/stable/user_guide/indexing.html#returning-a-view-versus-a-copy\n",
      "  la_liga_2019_concat[\"Fouls\"][i] = la_liga_2019_concat[\"Home Fouls\"][i] + la_liga_2019_concat[\"Away Fouls\"][i]\n",
      "/var/folders/f0/pqy2clvx0nv38xm_npv8fklm0000gn/T/ipykernel_3415/2595922885.py:13: SettingWithCopyWarning: \n",
      "A value is trying to be set on a copy of a slice from a DataFrame\n",
      "\n",
      "See the caveats in the documentation: https://pandas.pydata.org/pandas-docs/stable/user_guide/indexing.html#returning-a-view-versus-a-copy\n",
      "  la_liga_2019_concat[\"First Yellow Cards\"][i] = la_liga_2019_concat[\"Home Yellow Cards\"][i] + la_liga_2019_concat[\"Away Yellow Cards\"][i]\n",
      "/var/folders/f0/pqy2clvx0nv38xm_npv8fklm0000gn/T/ipykernel_3415/2595922885.py:14: SettingWithCopyWarning: \n",
      "A value is trying to be set on a copy of a slice from a DataFrame\n",
      "\n",
      "See the caveats in the documentation: https://pandas.pydata.org/pandas-docs/stable/user_guide/indexing.html#returning-a-view-versus-a-copy\n",
      "  la_liga_2019_concat[\"Second Yellow Cards\"][i] = la_liga_2019_concat[\"Home Second Yellow Cards\"][i] + la_liga_2019_concat[\"Away Second Yellow Cards\"][i]\n",
      "/var/folders/f0/pqy2clvx0nv38xm_npv8fklm0000gn/T/ipykernel_3415/2595922885.py:15: SettingWithCopyWarning: \n",
      "A value is trying to be set on a copy of a slice from a DataFrame\n",
      "\n",
      "See the caveats in the documentation: https://pandas.pydata.org/pandas-docs/stable/user_guide/indexing.html#returning-a-view-versus-a-copy\n",
      "  la_liga_2019_concat[\"Yellow Cards\"][i] = la_liga_2019_concat[\"Home Yellow Cards\"][i] + la_liga_2019_concat[\"Away Yellow Cards\"][i] + la_liga_2019_concat[\"Home Second Yellow Cards\"][i] + la_liga_2019_concat[\"Away Second Yellow Cards\"][i]\n",
      "/var/folders/f0/pqy2clvx0nv38xm_npv8fklm0000gn/T/ipykernel_3415/2595922885.py:16: SettingWithCopyWarning: \n",
      "A value is trying to be set on a copy of a slice from a DataFrame\n",
      "\n",
      "See the caveats in the documentation: https://pandas.pydata.org/pandas-docs/stable/user_guide/indexing.html#returning-a-view-versus-a-copy\n",
      "  la_liga_2019_concat[\"Red Cards\"][i] = la_liga_2019_concat[\"Home Red Cards\"][i] + la_liga_2019_concat[\"Away Red Cards\"][i]\n",
      "/var/folders/f0/pqy2clvx0nv38xm_npv8fklm0000gn/T/ipykernel_3415/2595922885.py:17: SettingWithCopyWarning: \n",
      "A value is trying to be set on a copy of a slice from a DataFrame\n",
      "\n",
      "See the caveats in the documentation: https://pandas.pydata.org/pandas-docs/stable/user_guide/indexing.html#returning-a-view-versus-a-copy\n",
      "  la_liga_2019_concat[\"Pass Success mean\"][i] = (la_liga_2019_concat[\"Home Pass Success %\"][i] + la_liga_2019_concat[\"Away Pass Success %\"][i]) / 38\n"
     ]
    }
   ],
   "source": [
    "for i in range(len(la_liga_2019_concat)):\n",
    "    la_liga_2019_concat[\"Points\"][i] = la_liga_2019_concat[\"Home Points\"][i] + la_liga_2019_concat[\"Away Points\"][i]\n",
    "    la_liga_2019_concat[\"Goals Scored\"][i] = la_liga_2019_concat[\"Home Goals Scored\"][i] + la_liga_2019_concat[\"Away Goals Scored\"][i]\n",
    "    la_liga_2019_concat[\"Goals received\"][i] = la_liga_2019_concat[\"Home Goals received\"][i] + la_liga_2019_concat[\"Away Goals received\"][i]\n",
    "    la_liga_2019_concat[\"Goals ht\"][i] = la_liga_2019_concat[\"Home Goals ht\"][i] + la_liga_2019_concat[\"Away Goals ht\"][i]\n",
    "    la_liga_2019_concat[\"Goals received ht\"][i] = la_liga_2019_concat[\"Home Goals received ht\"][i] + la_liga_2019_concat[\"Away Goals received ht\"][i]\n",
    "    la_liga_2019_concat[\"Rating mean\"][i] = la_liga_2019_concat[\"Home Rating\"][i] + la_liga_2019_concat[\"Away Rating\"][i] / 38\n",
    "    la_liga_2019_concat[\"On Target Shots\"][i] = la_liga_2019_concat[\"Home On Target Shots\"][i] + la_liga_2019_concat[\"Away On Target Shots\"][i]\n",
    "    la_liga_2019_concat[\"Off Target Shots\"][i] = la_liga_2019_concat[\"Home Off Target Shots\"][i] + la_liga_2019_concat[\"Away Off Target Shots\"][i]\n",
    "    la_liga_2019_concat[\"Blocked Shots\"][i] = la_liga_2019_concat[\"Home Blocked Shots\"][i] + la_liga_2019_concat[\"Away Blocked Shots\"][i]\n",
    "    la_liga_2019_concat[\"Corners\"][i] = la_liga_2019_concat[\"Home Corners\"][i] + la_liga_2019_concat[\"Away Corners\"][i]\n",
    "    la_liga_2019_concat[\"Fouls\"][i] = la_liga_2019_concat[\"Home Fouls\"][i] + la_liga_2019_concat[\"Away Fouls\"][i]\n",
    "    la_liga_2019_concat[\"First Yellow Cards\"][i] = la_liga_2019_concat[\"Home Yellow Cards\"][i] + la_liga_2019_concat[\"Away Yellow Cards\"][i]\n",
    "    la_liga_2019_concat[\"Second Yellow Cards\"][i] = la_liga_2019_concat[\"Home Second Yellow Cards\"][i] + la_liga_2019_concat[\"Away Second Yellow Cards\"][i]\n",
    "    la_liga_2019_concat[\"Yellow Cards\"][i] = la_liga_2019_concat[\"Home Yellow Cards\"][i] + la_liga_2019_concat[\"Away Yellow Cards\"][i] + la_liga_2019_concat[\"Home Second Yellow Cards\"][i] + la_liga_2019_concat[\"Away Second Yellow Cards\"][i]\n",
    "    la_liga_2019_concat[\"Red Cards\"][i] = la_liga_2019_concat[\"Home Red Cards\"][i] + la_liga_2019_concat[\"Away Red Cards\"][i]\n",
    "    la_liga_2019_concat[\"Pass Success mean\"][i] = (la_liga_2019_concat[\"Home Pass Success %\"][i] + la_liga_2019_concat[\"Away Pass Success %\"][i]) / 38"
   ],
   "metadata": {
    "collapsed": false,
    "pycharm": {
     "name": "#%%\n"
    }
   }
  },
  {
   "cell_type": "code",
   "execution_count": 84,
   "outputs": [],
   "source": [
    "la_liga_2019_concat = la_liga_2019_concat.filter([\"Points\", \"Goals Scored\", \"Goals received\", \"Goals ht\", \"Goals received ht\", \"Rating mean\", \"On Target Shots\", \"Off Target Shots\", \"Blocked Shots\", \"Corners\", \"Fouls\", \"First Yellow Cards\", \"Second Yellow Cards\", \"Red Cards\", \"Pass Success mean\"])"
   ],
   "metadata": {
    "collapsed": false,
    "pycharm": {
     "name": "#%%\n"
    }
   }
  },
  {
   "cell_type": "code",
   "execution_count": 85,
   "outputs": [
    {
     "data": {
      "text/plain": "                 Points  Goals Scored  Goals received  Goals ht  \\\nALAVÉS                0             1               9         0   \nATHLETIC              3             1               1         0   \nATLETICO MADRID       1             2               3         1   \nBARCELONA            82            86              38        44   \nCELTA                 1             3               6         1   \nEIBAR                 0             0               8         0   \nESPANYOL              1             2               3         1   \nGETAFE                0             1               4         0   \nGRANADA               3             2               1         1   \nLEGANÉS               0             1               4         1   \nLEVANTE               3             4               3         0   \nMALLORCA              0             2               9         1   \nOSASUNA               4             4               3         2   \nREAL BETIS            0             4               8         3   \nREAL MADRID           4             2               0         0   \nREAL SOCIEDAD         1             2               3         1   \nSEVILLA FC            1             0               4         0   \nVALENCIA              3             4               5         1   \nVALLADOLID            0             1               6         1   \nVILLARREAL            0             2               6         2   \n\n                 Goals received ht  Rating mean  On Target Shots  \\\nALAVÉS                           5            4                3   \nATHLETIC                         0            7                5   \nATLETICO MADRID                  1            5                5   \nBARCELONA                       16          142              223   \nCELTA                            3            7               11   \nEIBAR                            4            5                5   \nESPANYOL                         0            6                5   \nGETAFE                           3            4                3   \nGRANADA                          0            7                5   \nLEGANÉS                          1            5                6   \nLEVANTE                          3            6                8   \nMALLORCA                         6            5                6   \nOSASUNA                          0            6               10   \nREAL BETIS                       3            5                6   \nREAL MADRID                      0            7                9   \nREAL SOCIEDAD                    1            6                6   \nSEVILLA FC                       3            6                8   \nVALENCIA                         2            7                9   \nVALLADOLID                       4            5                5   \nVILLARREAL                       5            4                7   \n\n                 Off Target Shots  Blocked Shots  Corners  Fouls  \\\nALAVÉS                          6              4        6     28   \nATHLETIC                       10              2        5     30   \nATLETICO MADRID                10             12       10     27   \nBARCELONA                     157            114      185    416   \nCELTA                           2              3        5     33   \nEIBAR                           8              4        7     35   \nESPANYOL                       10              4        9     29   \nGETAFE                          7              5        7     53   \nGRANADA                         8              1        4     39   \nLEGANÉS                         7              2        2     27   \nLEVANTE                         7              4        5     19   \nMALLORCA                       11              5       13     27   \nOSASUNA                        10              4        5     30   \nREAL BETIS                      1              4        0     33   \nREAL MADRID                    14              7       14     30   \nREAL SOCIEDAD                  15              7       12     17   \nSEVILLA FC                     11              5       12     29   \nVALENCIA                        6              2        7     24   \nVALLADOLID                     10              7        7     29   \nVILLARREAL                      8              6        7     24   \n\n                 First Yellow Cards  Second Yellow Cards  Red Cards  \\\nALAVÉS                            4                    0          0   \nATHLETIC                          2                    0          0   \nATLETICO MADRID                   9                    0          0   \nBARCELONA                        89                    3          3   \nCELTA                             4                    0          0   \nEIBAR                             7                    0          0   \nESPANYOL                          5                    0          1   \nGETAFE                            6                    0          0   \nGRANADA                           6                    1          0   \nLEGANÉS                           4                    0          0   \nLEVANTE                           1                    0          0   \nMALLORCA                          1                    0          0   \nOSASUNA                           4                    0          1   \nREAL BETIS                        5                    1          0   \nREAL MADRID                       7                    0          0   \nREAL SOCIEDAD                     3                    0          0   \nSEVILLA FC                        6                    0          0   \nVALENCIA                          5                    0          0   \nVALLADOLID                        5                    0          0   \nVILLARREAL                        3                    0          0   \n\n                 Pass Success mean  \nALAVÉS                           4  \nATHLETIC                         3  \nATLETICO MADRID                  4  \nBARCELONA                       88  \nCELTA                            4  \nEIBAR                            4  \nESPANYOL                         3  \nGETAFE                           3  \nGRANADA                          3  \nLEGANÉS                          3  \nLEVANTE                          4  \nMALLORCA                         4  \nOSASUNA                          3  \nREAL BETIS                       4  \nREAL MADRID                      4  \nREAL SOCIEDAD                    4  \nSEVILLA FC                       4  \nVALENCIA                         4  \nVALLADOLID                       4  \nVILLARREAL                       4  ",
      "text/html": "<div>\n<style scoped>\n    .dataframe tbody tr th:only-of-type {\n        vertical-align: middle;\n    }\n\n    .dataframe tbody tr th {\n        vertical-align: top;\n    }\n\n    .dataframe thead th {\n        text-align: right;\n    }\n</style>\n<table border=\"1\" class=\"dataframe\">\n  <thead>\n    <tr style=\"text-align: right;\">\n      <th></th>\n      <th>Points</th>\n      <th>Goals Scored</th>\n      <th>Goals received</th>\n      <th>Goals ht</th>\n      <th>Goals received ht</th>\n      <th>Rating mean</th>\n      <th>On Target Shots</th>\n      <th>Off Target Shots</th>\n      <th>Blocked Shots</th>\n      <th>Corners</th>\n      <th>Fouls</th>\n      <th>First Yellow Cards</th>\n      <th>Second Yellow Cards</th>\n      <th>Red Cards</th>\n      <th>Pass Success mean</th>\n    </tr>\n  </thead>\n  <tbody>\n    <tr>\n      <th>ALAVÉS</th>\n      <td>0</td>\n      <td>1</td>\n      <td>9</td>\n      <td>0</td>\n      <td>5</td>\n      <td>4</td>\n      <td>3</td>\n      <td>6</td>\n      <td>4</td>\n      <td>6</td>\n      <td>28</td>\n      <td>4</td>\n      <td>0</td>\n      <td>0</td>\n      <td>4</td>\n    </tr>\n    <tr>\n      <th>ATHLETIC</th>\n      <td>3</td>\n      <td>1</td>\n      <td>1</td>\n      <td>0</td>\n      <td>0</td>\n      <td>7</td>\n      <td>5</td>\n      <td>10</td>\n      <td>2</td>\n      <td>5</td>\n      <td>30</td>\n      <td>2</td>\n      <td>0</td>\n      <td>0</td>\n      <td>3</td>\n    </tr>\n    <tr>\n      <th>ATLETICO MADRID</th>\n      <td>1</td>\n      <td>2</td>\n      <td>3</td>\n      <td>1</td>\n      <td>1</td>\n      <td>5</td>\n      <td>5</td>\n      <td>10</td>\n      <td>12</td>\n      <td>10</td>\n      <td>27</td>\n      <td>9</td>\n      <td>0</td>\n      <td>0</td>\n      <td>4</td>\n    </tr>\n    <tr>\n      <th>BARCELONA</th>\n      <td>82</td>\n      <td>86</td>\n      <td>38</td>\n      <td>44</td>\n      <td>16</td>\n      <td>142</td>\n      <td>223</td>\n      <td>157</td>\n      <td>114</td>\n      <td>185</td>\n      <td>416</td>\n      <td>89</td>\n      <td>3</td>\n      <td>3</td>\n      <td>88</td>\n    </tr>\n    <tr>\n      <th>CELTA</th>\n      <td>1</td>\n      <td>3</td>\n      <td>6</td>\n      <td>1</td>\n      <td>3</td>\n      <td>7</td>\n      <td>11</td>\n      <td>2</td>\n      <td>3</td>\n      <td>5</td>\n      <td>33</td>\n      <td>4</td>\n      <td>0</td>\n      <td>0</td>\n      <td>4</td>\n    </tr>\n    <tr>\n      <th>EIBAR</th>\n      <td>0</td>\n      <td>0</td>\n      <td>8</td>\n      <td>0</td>\n      <td>4</td>\n      <td>5</td>\n      <td>5</td>\n      <td>8</td>\n      <td>4</td>\n      <td>7</td>\n      <td>35</td>\n      <td>7</td>\n      <td>0</td>\n      <td>0</td>\n      <td>4</td>\n    </tr>\n    <tr>\n      <th>ESPANYOL</th>\n      <td>1</td>\n      <td>2</td>\n      <td>3</td>\n      <td>1</td>\n      <td>0</td>\n      <td>6</td>\n      <td>5</td>\n      <td>10</td>\n      <td>4</td>\n      <td>9</td>\n      <td>29</td>\n      <td>5</td>\n      <td>0</td>\n      <td>1</td>\n      <td>3</td>\n    </tr>\n    <tr>\n      <th>GETAFE</th>\n      <td>0</td>\n      <td>1</td>\n      <td>4</td>\n      <td>0</td>\n      <td>3</td>\n      <td>4</td>\n      <td>3</td>\n      <td>7</td>\n      <td>5</td>\n      <td>7</td>\n      <td>53</td>\n      <td>6</td>\n      <td>0</td>\n      <td>0</td>\n      <td>3</td>\n    </tr>\n    <tr>\n      <th>GRANADA</th>\n      <td>3</td>\n      <td>2</td>\n      <td>1</td>\n      <td>1</td>\n      <td>0</td>\n      <td>7</td>\n      <td>5</td>\n      <td>8</td>\n      <td>1</td>\n      <td>4</td>\n      <td>39</td>\n      <td>6</td>\n      <td>1</td>\n      <td>0</td>\n      <td>3</td>\n    </tr>\n    <tr>\n      <th>LEGANÉS</th>\n      <td>0</td>\n      <td>1</td>\n      <td>4</td>\n      <td>1</td>\n      <td>1</td>\n      <td>5</td>\n      <td>6</td>\n      <td>7</td>\n      <td>2</td>\n      <td>2</td>\n      <td>27</td>\n      <td>4</td>\n      <td>0</td>\n      <td>0</td>\n      <td>3</td>\n    </tr>\n    <tr>\n      <th>LEVANTE</th>\n      <td>3</td>\n      <td>4</td>\n      <td>3</td>\n      <td>0</td>\n      <td>3</td>\n      <td>6</td>\n      <td>8</td>\n      <td>7</td>\n      <td>4</td>\n      <td>5</td>\n      <td>19</td>\n      <td>1</td>\n      <td>0</td>\n      <td>0</td>\n      <td>4</td>\n    </tr>\n    <tr>\n      <th>MALLORCA</th>\n      <td>0</td>\n      <td>2</td>\n      <td>9</td>\n      <td>1</td>\n      <td>6</td>\n      <td>5</td>\n      <td>6</td>\n      <td>11</td>\n      <td>5</td>\n      <td>13</td>\n      <td>27</td>\n      <td>1</td>\n      <td>0</td>\n      <td>0</td>\n      <td>4</td>\n    </tr>\n    <tr>\n      <th>OSASUNA</th>\n      <td>4</td>\n      <td>4</td>\n      <td>3</td>\n      <td>2</td>\n      <td>0</td>\n      <td>6</td>\n      <td>10</td>\n      <td>10</td>\n      <td>4</td>\n      <td>5</td>\n      <td>30</td>\n      <td>4</td>\n      <td>0</td>\n      <td>1</td>\n      <td>3</td>\n    </tr>\n    <tr>\n      <th>REAL BETIS</th>\n      <td>0</td>\n      <td>4</td>\n      <td>8</td>\n      <td>3</td>\n      <td>3</td>\n      <td>5</td>\n      <td>6</td>\n      <td>1</td>\n      <td>4</td>\n      <td>0</td>\n      <td>33</td>\n      <td>5</td>\n      <td>1</td>\n      <td>0</td>\n      <td>4</td>\n    </tr>\n    <tr>\n      <th>REAL MADRID</th>\n      <td>4</td>\n      <td>2</td>\n      <td>0</td>\n      <td>0</td>\n      <td>0</td>\n      <td>7</td>\n      <td>9</td>\n      <td>14</td>\n      <td>7</td>\n      <td>14</td>\n      <td>30</td>\n      <td>7</td>\n      <td>0</td>\n      <td>0</td>\n      <td>4</td>\n    </tr>\n    <tr>\n      <th>REAL SOCIEDAD</th>\n      <td>1</td>\n      <td>2</td>\n      <td>3</td>\n      <td>1</td>\n      <td>1</td>\n      <td>6</td>\n      <td>6</td>\n      <td>15</td>\n      <td>7</td>\n      <td>12</td>\n      <td>17</td>\n      <td>3</td>\n      <td>0</td>\n      <td>0</td>\n      <td>4</td>\n    </tr>\n    <tr>\n      <th>SEVILLA FC</th>\n      <td>1</td>\n      <td>0</td>\n      <td>4</td>\n      <td>0</td>\n      <td>3</td>\n      <td>6</td>\n      <td>8</td>\n      <td>11</td>\n      <td>5</td>\n      <td>12</td>\n      <td>29</td>\n      <td>6</td>\n      <td>0</td>\n      <td>0</td>\n      <td>4</td>\n    </tr>\n    <tr>\n      <th>VALENCIA</th>\n      <td>3</td>\n      <td>4</td>\n      <td>5</td>\n      <td>1</td>\n      <td>2</td>\n      <td>7</td>\n      <td>9</td>\n      <td>6</td>\n      <td>2</td>\n      <td>7</td>\n      <td>24</td>\n      <td>5</td>\n      <td>0</td>\n      <td>0</td>\n      <td>4</td>\n    </tr>\n    <tr>\n      <th>VALLADOLID</th>\n      <td>0</td>\n      <td>1</td>\n      <td>6</td>\n      <td>1</td>\n      <td>4</td>\n      <td>5</td>\n      <td>5</td>\n      <td>10</td>\n      <td>7</td>\n      <td>7</td>\n      <td>29</td>\n      <td>5</td>\n      <td>0</td>\n      <td>0</td>\n      <td>4</td>\n    </tr>\n    <tr>\n      <th>VILLARREAL</th>\n      <td>0</td>\n      <td>2</td>\n      <td>6</td>\n      <td>2</td>\n      <td>5</td>\n      <td>4</td>\n      <td>7</td>\n      <td>8</td>\n      <td>6</td>\n      <td>7</td>\n      <td>24</td>\n      <td>3</td>\n      <td>0</td>\n      <td>0</td>\n      <td>4</td>\n    </tr>\n  </tbody>\n</table>\n</div>"
     },
     "execution_count": 85,
     "metadata": {},
     "output_type": "execute_result"
    }
   ],
   "source": [
    "la_liga_2019_concat"
   ],
   "metadata": {
    "collapsed": false,
    "pycharm": {
     "name": "#%%\n"
    }
   }
  },
  {
   "cell_type": "code",
   "execution_count": 86,
   "outputs": [],
   "source": [
    "la_liga_2019_concat_max = la_liga_2019_concat.max()"
   ],
   "metadata": {
    "collapsed": false,
    "pycharm": {
     "name": "#%%\n"
    }
   }
  },
  {
   "cell_type": "code",
   "execution_count": 87,
   "outputs": [
    {
     "data": {
      "text/plain": "Points                  82\nGoals Scored            86\nGoals received          38\nGoals ht                44\nGoals received ht       16\nRating mean            142\nOn Target Shots        223\nOff Target Shots       157\nBlocked Shots          114\nCorners                185\nFouls                  416\nFirst Yellow Cards      89\nSecond Yellow Cards      3\nRed Cards                3\nPass Success mean       88\ndtype: int64"
     },
     "execution_count": 87,
     "metadata": {},
     "output_type": "execute_result"
    }
   ],
   "source": [
    "la_liga_2019_concat_max"
   ],
   "metadata": {
    "collapsed": false,
    "pycharm": {
     "name": "#%%\n"
    }
   }
  },
  {
   "cell_type": "markdown",
   "source": [
    "## Prepare Data 2020"
   ],
   "metadata": {
    "collapsed": false,
    "pycharm": {
     "name": "#%% md\n"
    }
   }
  },
  {
   "cell_type": "code",
   "execution_count": 88,
   "outputs": [
    {
     "name": "stderr",
     "output_type": "stream",
     "text": [
      "/var/folders/f0/pqy2clvx0nv38xm_npv8fklm0000gn/T/ipykernel_3415/136650334.py:2: FutureWarning: Indexing with multiple keys (implicitly converted to a tuple of keys) will be deprecated, use a list instead.\n",
      "  la_liga_2020_home_gb = la_liga_2020.groupby([\"Home Team\"])[\"Home Team\", \"Home Team Goals Scored\", \"Away Team Goals Scored\", \"Home Team Goals ht\", \"Away Team Goals ht\", \"Home Team Result\", \"Home Team Rating\", \"Home Team Off Target Shots\", \"Home Team On Target Shots\", \"Home Team Total Shots\", \"Home Team Blocked Shots\", \"Home Team Corners\", \"Home Team Pass Success %\", \"Home Team Fouls\", \"Home Team Yellow Cards\", \"Home Team Second Yellow Cards\", \"Home Team Red Cards\"].sum()\n"
     ]
    }
   ],
   "source": [
    "#Groupby Home Team\n",
    "la_liga_2020_home_gb = la_liga_2020.groupby([\"Home Team\"])[\"Home Team\", \"Home Team Goals Scored\", \"Away Team Goals Scored\", \"Home Team Goals ht\", \"Away Team Goals ht\", \"Home Team Result\", \"Home Team Rating\", \"Home Team Off Target Shots\", \"Home Team On Target Shots\", \"Home Team Total Shots\", \"Home Team Blocked Shots\", \"Home Team Corners\", \"Home Team Pass Success %\", \"Home Team Fouls\", \"Home Team Yellow Cards\", \"Home Team Second Yellow Cards\", \"Home Team Red Cards\"].sum()"
   ],
   "metadata": {
    "collapsed": false,
    "pycharm": {
     "name": "#%%\n"
    }
   }
  },
  {
   "cell_type": "code",
   "execution_count": 89,
   "outputs": [
    {
     "name": "stderr",
     "output_type": "stream",
     "text": [
      "/var/folders/f0/pqy2clvx0nv38xm_npv8fklm0000gn/T/ipykernel_3415/3896626727.py:2: FutureWarning: Indexing with multiple keys (implicitly converted to a tuple of keys) will be deprecated, use a list instead.\n",
      "  la_liga_2020_away_gb = la_liga_2020.groupby([\"Away Team\"])[\"Away Team\", \"Home Team Goals Scored\",\"Away Team Goals Scored\",\"Home Team Goals ht\",\"Away Team Goals ht\",\"Away Team Result\",\"Away Team Rating\",\"Away Team Off Target Shots\",\"Away Team On Target Shots\",\"Away Team Total Shots\",\"Away Team Blocked Shots\",\"Away Team Corners\",\"Away Team Pass Success %\",\"Away Team Fouls\",\"Away Team Yellow Cards\",\"Away Team Second Yellow Cards\",\"Away Team Red Cards\"].sum()\n"
     ]
    }
   ],
   "source": [
    "#Groupby Away Team\n",
    "la_liga_2020_away_gb = la_liga_2020.groupby([\"Away Team\"])[\"Away Team\", \"Home Team Goals Scored\",\"Away Team Goals Scored\",\"Home Team Goals ht\",\"Away Team Goals ht\",\"Away Team Result\",\"Away Team Rating\",\"Away Team Off Target Shots\",\"Away Team On Target Shots\",\"Away Team Total Shots\",\"Away Team Blocked Shots\",\"Away Team Corners\",\"Away Team Pass Success %\",\"Away Team Fouls\",\"Away Team Yellow Cards\",\"Away Team Second Yellow Cards\",\"Away Team Red Cards\"].sum()"
   ],
   "metadata": {
    "collapsed": false,
    "pycharm": {
     "name": "#%%\n"
    }
   }
  },
  {
   "cell_type": "code",
   "execution_count": 90,
   "outputs": [],
   "source": [
    "#Reanme all columns to join the dataframes\n",
    "la_liga_2020_home_gb = la_liga_2020_home_gb.rename(columns={\"Home Team Goals Scored\":\"Home Goals Scored\", \"Away Team Goals Scored\": \"Home Goals received\", \"Home Team Goals ht\": \"Home Goals ht\", \"Away Team Goals ht\": \"Home Goals received ht\", \"Home Team Result\": \"Home Points\", \"Home Team Rating\": \"Home Rating\", \"Home Team Off Target Shots\": \"Home Off Target Shots\", \"Home Team On Target Shots\": \"Home On Target Shots\",\"Home Team Total Shots\":\"Home Total Shots\", \"Home Team Blocked Shots\": \"Home Blocked Shots\", \"Home Team Corners\": \"Home Corners\", \"Home Team Pass Success %\": \"Home Pass Success %\", \"Home Team Fouls\": \"Home Fouls\", \"Home Team Yellow Cards\": \"Home Yellow Cards\", \"Home Team Second Yellow Cards\": \"Home Second Yellow Cards\", \"Home Team Red Cards\": \"Home Red Cards\"})"
   ],
   "metadata": {
    "collapsed": false,
    "pycharm": {
     "name": "#%%\n"
    }
   }
  },
  {
   "cell_type": "code",
   "execution_count": 91,
   "outputs": [],
   "source": [
    "#Reanme all columns to join the dataframes\n",
    "la_liga_2020_away_gb = la_liga_2020_away_gb.rename(columns={\"Home Team Goals Scored\": \"Away Goals received\",\"Away Team Goals Scored\": \"Away Goals Scored\", \"Home Team Goals ht\": \"Away Goals received ht\",\"Away Team Goals ht\": \"Away Goals ht\",\"Away Team Result\": \"Away Points\",\"Away Team Rating\": \"Away Rating\",\"Away Team Off Target Shots\": \"Away Off Target Shots\",\"Away Team On Target Shots\": \"Away On Target Shots\",\"Away Team Total Shots\": \"Away Total Shots\", \"Away Team Blocked Shots\": \"Away Blocked Shots\",\"Away Team Corners\": \"Away Corners\",\"Away Team Pass Success %\": \"Away Pass Success %\",\"Away Team Fouls\": \"Away Fouls\",\"Away Team Yellow Cards\": \"Away Yellow Cards\",\"Away Team Second Yellow Cards\": \"Away Second Yellow Cards\",\"Away Team Red Cards\": \"Away Red Cards\"})"
   ],
   "metadata": {
    "collapsed": false,
    "pycharm": {
     "name": "#%%\n"
    }
   }
  },
  {
   "cell_type": "code",
   "execution_count": 92,
   "outputs": [],
   "source": [
    "#Concat the two dataframes for analyze the season\n",
    "la_liga_2020_concat = pd.concat([la_liga_2020_away_gb, la_liga_2020_home_gb],axis=1, join=\"inner\")"
   ],
   "metadata": {
    "collapsed": false,
    "pycharm": {
     "name": "#%%\n"
    }
   }
  },
  {
   "cell_type": "code",
   "execution_count": 93,
   "outputs": [
    {
     "data": {
      "text/plain": "1"
     },
     "execution_count": 93,
     "metadata": {},
     "output_type": "execute_result"
    }
   ],
   "source": [
    "for i in range(len(la_liga_2020_concat)):\n",
    "    la_liga_2020_concat[\"Points\"] = 0\n",
    "    la_liga_2020_concat[\"Goals Scored\"] = 0\n",
    "    la_liga_2020_concat[\"Goals received\"] = 0\n",
    "    la_liga_2020_concat[\"Goals ht\"] = 0\n",
    "    la_liga_2020_concat[\"Goals received ht\"] = 0\n",
    "    la_liga_2020_concat[\"Rating mean\"] = 0\n",
    "    la_liga_2020_concat[\"On Target Shots\"] = 0\n",
    "    la_liga_2020_concat[\"Off Target Shots\"] = 0\n",
    "    la_liga_2020_concat[\"Blocked Shots\"] = 0\n",
    "    la_liga_2020_concat[\"Corners\"] = 0\n",
    "    la_liga_2020_concat[\"Fouls\"] = 0\n",
    "    la_liga_2020_concat[\"First Yellow Cards\"] = 0\n",
    "    la_liga_2020_concat[\"Second Yellow Cards\"] = 0\n",
    "    la_liga_2020_concat[\"Yellow Cards\"] = 0\n",
    "    la_liga_2020_concat[\"Red Cards\"] = 0\n",
    "    la_liga_2020_concat[\"Pass Success mean\"] = 0\n",
    "\n",
    "\n",
    "la_liga_2020_concat[\"Home Points\"][0]"
   ],
   "metadata": {
    "collapsed": false,
    "pycharm": {
     "name": "#%%\n"
    }
   }
  },
  {
   "cell_type": "code",
   "execution_count": 94,
   "outputs": [
    {
     "name": "stderr",
     "output_type": "stream",
     "text": [
      "/var/folders/f0/pqy2clvx0nv38xm_npv8fklm0000gn/T/ipykernel_3415/817009346.py:2: SettingWithCopyWarning: \n",
      "A value is trying to be set on a copy of a slice from a DataFrame\n",
      "\n",
      "See the caveats in the documentation: https://pandas.pydata.org/pandas-docs/stable/user_guide/indexing.html#returning-a-view-versus-a-copy\n",
      "  la_liga_2020_concat[\"Points\"][i] = la_liga_2020_concat[\"Home Points\"][i] + la_liga_2020_concat[\"Away Points\"][i]\n",
      "/var/folders/f0/pqy2clvx0nv38xm_npv8fklm0000gn/T/ipykernel_3415/817009346.py:3: SettingWithCopyWarning: \n",
      "A value is trying to be set on a copy of a slice from a DataFrame\n",
      "\n",
      "See the caveats in the documentation: https://pandas.pydata.org/pandas-docs/stable/user_guide/indexing.html#returning-a-view-versus-a-copy\n",
      "  la_liga_2020_concat[\"Goals Scored\"][i] = la_liga_2020_concat[\"Home Goals Scored\"][i] + la_liga_2020_concat[\"Away Goals Scored\"][i]\n",
      "/var/folders/f0/pqy2clvx0nv38xm_npv8fklm0000gn/T/ipykernel_3415/817009346.py:4: SettingWithCopyWarning: \n",
      "A value is trying to be set on a copy of a slice from a DataFrame\n",
      "\n",
      "See the caveats in the documentation: https://pandas.pydata.org/pandas-docs/stable/user_guide/indexing.html#returning-a-view-versus-a-copy\n",
      "  la_liga_2020_concat[\"Goals received\"][i] = la_liga_2020_concat[\"Home Goals received\"][i] + la_liga_2020_concat[\"Away Goals received\"][i]\n",
      "/var/folders/f0/pqy2clvx0nv38xm_npv8fklm0000gn/T/ipykernel_3415/817009346.py:5: SettingWithCopyWarning: \n",
      "A value is trying to be set on a copy of a slice from a DataFrame\n",
      "\n",
      "See the caveats in the documentation: https://pandas.pydata.org/pandas-docs/stable/user_guide/indexing.html#returning-a-view-versus-a-copy\n",
      "  la_liga_2020_concat[\"Goals ht\"][i] = la_liga_2020_concat[\"Home Goals ht\"][i] + la_liga_2020_concat[\"Away Goals ht\"][i]\n",
      "/var/folders/f0/pqy2clvx0nv38xm_npv8fklm0000gn/T/ipykernel_3415/817009346.py:6: SettingWithCopyWarning: \n",
      "A value is trying to be set on a copy of a slice from a DataFrame\n",
      "\n",
      "See the caveats in the documentation: https://pandas.pydata.org/pandas-docs/stable/user_guide/indexing.html#returning-a-view-versus-a-copy\n",
      "  la_liga_2020_concat[\"Goals received ht\"][i] = la_liga_2020_concat[\"Home Goals received ht\"][i] + la_liga_2020_concat[\"Away Goals received ht\"][i]\n",
      "/var/folders/f0/pqy2clvx0nv38xm_npv8fklm0000gn/T/ipykernel_3415/817009346.py:7: SettingWithCopyWarning: \n",
      "A value is trying to be set on a copy of a slice from a DataFrame\n",
      "\n",
      "See the caveats in the documentation: https://pandas.pydata.org/pandas-docs/stable/user_guide/indexing.html#returning-a-view-versus-a-copy\n",
      "  la_liga_2020_concat[\"Rating mean\"][i] = la_liga_2020_concat[\"Home Rating\"][i] + la_liga_2020_concat[\"Away Rating\"][i] / 38\n",
      "/var/folders/f0/pqy2clvx0nv38xm_npv8fklm0000gn/T/ipykernel_3415/817009346.py:8: SettingWithCopyWarning: \n",
      "A value is trying to be set on a copy of a slice from a DataFrame\n",
      "\n",
      "See the caveats in the documentation: https://pandas.pydata.org/pandas-docs/stable/user_guide/indexing.html#returning-a-view-versus-a-copy\n",
      "  la_liga_2020_concat[\"On Target Shots\"][i] = la_liga_2020_concat[\"Home On Target Shots\"][i] + la_liga_2020_concat[\"Away On Target Shots\"][i]\n",
      "/var/folders/f0/pqy2clvx0nv38xm_npv8fklm0000gn/T/ipykernel_3415/817009346.py:9: SettingWithCopyWarning: \n",
      "A value is trying to be set on a copy of a slice from a DataFrame\n",
      "\n",
      "See the caveats in the documentation: https://pandas.pydata.org/pandas-docs/stable/user_guide/indexing.html#returning-a-view-versus-a-copy\n",
      "  la_liga_2020_concat[\"Off Target Shots\"][i] = la_liga_2020_concat[\"Home Off Target Shots\"][i] + la_liga_2020_concat[\"Away Off Target Shots\"][i]\n",
      "/var/folders/f0/pqy2clvx0nv38xm_npv8fklm0000gn/T/ipykernel_3415/817009346.py:10: SettingWithCopyWarning: \n",
      "A value is trying to be set on a copy of a slice from a DataFrame\n",
      "\n",
      "See the caveats in the documentation: https://pandas.pydata.org/pandas-docs/stable/user_guide/indexing.html#returning-a-view-versus-a-copy\n",
      "  la_liga_2020_concat[\"Blocked Shots\"][i] = la_liga_2020_concat[\"Home Blocked Shots\"][i] + la_liga_2020_concat[\"Away Blocked Shots\"][i]\n",
      "/var/folders/f0/pqy2clvx0nv38xm_npv8fklm0000gn/T/ipykernel_3415/817009346.py:11: SettingWithCopyWarning: \n",
      "A value is trying to be set on a copy of a slice from a DataFrame\n",
      "\n",
      "See the caveats in the documentation: https://pandas.pydata.org/pandas-docs/stable/user_guide/indexing.html#returning-a-view-versus-a-copy\n",
      "  la_liga_2020_concat[\"Corners\"][i] = la_liga_2020_concat[\"Home Corners\"][i] + la_liga_2020_concat[\"Away Corners\"][i]\n",
      "/var/folders/f0/pqy2clvx0nv38xm_npv8fklm0000gn/T/ipykernel_3415/817009346.py:12: SettingWithCopyWarning: \n",
      "A value is trying to be set on a copy of a slice from a DataFrame\n",
      "\n",
      "See the caveats in the documentation: https://pandas.pydata.org/pandas-docs/stable/user_guide/indexing.html#returning-a-view-versus-a-copy\n",
      "  la_liga_2020_concat[\"Fouls\"][i] = la_liga_2020_concat[\"Home Fouls\"][i] + la_liga_2020_concat[\"Away Fouls\"][i]\n",
      "/var/folders/f0/pqy2clvx0nv38xm_npv8fklm0000gn/T/ipykernel_3415/817009346.py:13: SettingWithCopyWarning: \n",
      "A value is trying to be set on a copy of a slice from a DataFrame\n",
      "\n",
      "See the caveats in the documentation: https://pandas.pydata.org/pandas-docs/stable/user_guide/indexing.html#returning-a-view-versus-a-copy\n",
      "  la_liga_2020_concat[\"First Yellow Cards\"][i] = la_liga_2020_concat[\"Home Yellow Cards\"][i] + la_liga_2020_concat[\"Away Yellow Cards\"][i]\n",
      "/var/folders/f0/pqy2clvx0nv38xm_npv8fklm0000gn/T/ipykernel_3415/817009346.py:14: SettingWithCopyWarning: \n",
      "A value is trying to be set on a copy of a slice from a DataFrame\n",
      "\n",
      "See the caveats in the documentation: https://pandas.pydata.org/pandas-docs/stable/user_guide/indexing.html#returning-a-view-versus-a-copy\n",
      "  la_liga_2020_concat[\"Second Yellow Cards\"][i] = la_liga_2020_concat[\"Home Second Yellow Cards\"][i] + la_liga_2020_concat[\"Away Second Yellow Cards\"][i]\n",
      "/var/folders/f0/pqy2clvx0nv38xm_npv8fklm0000gn/T/ipykernel_3415/817009346.py:15: SettingWithCopyWarning: \n",
      "A value is trying to be set on a copy of a slice from a DataFrame\n",
      "\n",
      "See the caveats in the documentation: https://pandas.pydata.org/pandas-docs/stable/user_guide/indexing.html#returning-a-view-versus-a-copy\n",
      "  la_liga_2020_concat[\"Yellow Cards\"][i] = la_liga_2020_concat[\"Home Yellow Cards\"][i] + la_liga_2020_concat[\"Away Yellow Cards\"][i] + la_liga_2020_concat[\"Home Second Yellow Cards\"][i] + la_liga_2020_concat[\"Away Second Yellow Cards\"][i]\n",
      "/var/folders/f0/pqy2clvx0nv38xm_npv8fklm0000gn/T/ipykernel_3415/817009346.py:16: SettingWithCopyWarning: \n",
      "A value is trying to be set on a copy of a slice from a DataFrame\n",
      "\n",
      "See the caveats in the documentation: https://pandas.pydata.org/pandas-docs/stable/user_guide/indexing.html#returning-a-view-versus-a-copy\n",
      "  la_liga_2020_concat[\"Red Cards\"][i] = la_liga_2020_concat[\"Home Red Cards\"][i] + la_liga_2020_concat[\"Away Red Cards\"][i]\n",
      "/var/folders/f0/pqy2clvx0nv38xm_npv8fklm0000gn/T/ipykernel_3415/817009346.py:17: SettingWithCopyWarning: \n",
      "A value is trying to be set on a copy of a slice from a DataFrame\n",
      "\n",
      "See the caveats in the documentation: https://pandas.pydata.org/pandas-docs/stable/user_guide/indexing.html#returning-a-view-versus-a-copy\n",
      "  la_liga_2020_concat[\"Pass Success mean\"][i] = (la_liga_2020_concat[\"Home Pass Success %\"][i] + la_liga_2020_concat[\"Away Pass Success %\"][i]) / 38\n"
     ]
    }
   ],
   "source": [
    "for i in range(len(la_liga_2020_concat)):\n",
    "    la_liga_2020_concat[\"Points\"][i] = la_liga_2020_concat[\"Home Points\"][i] + la_liga_2020_concat[\"Away Points\"][i]\n",
    "    la_liga_2020_concat[\"Goals Scored\"][i] = la_liga_2020_concat[\"Home Goals Scored\"][i] + la_liga_2020_concat[\"Away Goals Scored\"][i]\n",
    "    la_liga_2020_concat[\"Goals received\"][i] = la_liga_2020_concat[\"Home Goals received\"][i] + la_liga_2020_concat[\"Away Goals received\"][i]\n",
    "    la_liga_2020_concat[\"Goals ht\"][i] = la_liga_2020_concat[\"Home Goals ht\"][i] + la_liga_2020_concat[\"Away Goals ht\"][i]\n",
    "    la_liga_2020_concat[\"Goals received ht\"][i] = la_liga_2020_concat[\"Home Goals received ht\"][i] + la_liga_2020_concat[\"Away Goals received ht\"][i]\n",
    "    la_liga_2020_concat[\"Rating mean\"][i] = la_liga_2020_concat[\"Home Rating\"][i] + la_liga_2020_concat[\"Away Rating\"][i] / 38\n",
    "    la_liga_2020_concat[\"On Target Shots\"][i] = la_liga_2020_concat[\"Home On Target Shots\"][i] + la_liga_2020_concat[\"Away On Target Shots\"][i]\n",
    "    la_liga_2020_concat[\"Off Target Shots\"][i] = la_liga_2020_concat[\"Home Off Target Shots\"][i] + la_liga_2020_concat[\"Away Off Target Shots\"][i]\n",
    "    la_liga_2020_concat[\"Blocked Shots\"][i] = la_liga_2020_concat[\"Home Blocked Shots\"][i] + la_liga_2020_concat[\"Away Blocked Shots\"][i]\n",
    "    la_liga_2020_concat[\"Corners\"][i] = la_liga_2020_concat[\"Home Corners\"][i] + la_liga_2020_concat[\"Away Corners\"][i]\n",
    "    la_liga_2020_concat[\"Fouls\"][i] = la_liga_2020_concat[\"Home Fouls\"][i] + la_liga_2020_concat[\"Away Fouls\"][i]\n",
    "    la_liga_2020_concat[\"First Yellow Cards\"][i] = la_liga_2020_concat[\"Home Yellow Cards\"][i] + la_liga_2020_concat[\"Away Yellow Cards\"][i]\n",
    "    la_liga_2020_concat[\"Second Yellow Cards\"][i] = la_liga_2020_concat[\"Home Second Yellow Cards\"][i] + la_liga_2020_concat[\"Away Second Yellow Cards\"][i]\n",
    "    la_liga_2020_concat[\"Yellow Cards\"][i] = la_liga_2020_concat[\"Home Yellow Cards\"][i] + la_liga_2020_concat[\"Away Yellow Cards\"][i] + la_liga_2020_concat[\"Home Second Yellow Cards\"][i] + la_liga_2020_concat[\"Away Second Yellow Cards\"][i]\n",
    "    la_liga_2020_concat[\"Red Cards\"][i] = la_liga_2020_concat[\"Home Red Cards\"][i] + la_liga_2020_concat[\"Away Red Cards\"][i]\n",
    "    la_liga_2020_concat[\"Pass Success mean\"][i] = (la_liga_2020_concat[\"Home Pass Success %\"][i] + la_liga_2020_concat[\"Away Pass Success %\"][i]) / 38"
   ],
   "metadata": {
    "collapsed": false,
    "pycharm": {
     "name": "#%%\n"
    }
   }
  },
  {
   "cell_type": "code",
   "execution_count": 95,
   "outputs": [],
   "source": [
    "la_liga_2020_concat = la_liga_2020_concat.filter([\"Points\", \"Goals Scored\", \"Goals received\", \"Goals ht\", \"Goals received ht\", \"Rating mean\", \"On Target Shots\", \"Off Target Shots\", \"Blocked Shots\", \"Corners\", \"Fouls\", \"First Yellow Cards\", \"Second Yellow Cards\", \"Red Cards\", \"Pass Success mean\"])"
   ],
   "metadata": {
    "collapsed": false,
    "pycharm": {
     "name": "#%%\n"
    }
   }
  },
  {
   "cell_type": "code",
   "execution_count": 96,
   "outputs": [
    {
     "data": {
      "text/plain": "                 Points  Goals Scored  Goals received  Goals ht  \\\nALAVÉS                1             2               6         1   \nATHLETIC              0             3               5         1   \nATLETICO MADRID       4             1               0         1   \nBARCELONA            79            85              38        41   \nCELTA                 3             2               4         1   \nCÁDIZ CF              4             3               2         1   \nEIBAR                 1             1               2         0   \nELCHE                 0             0               5         0   \nGETAFE                3             3               5         1   \nGRANADA               3             2               5         0   \nHUESCA                0             1               5         1   \nLEVANTE               1             3               4         0   \nOSASUNA               0             0               6         0   \nREAL BETIS            0             4               8         2   \nREAL MADRID           6             5               2         3   \nREAL SOCIEDAD         0             2               8         1   \nSEVILLA FC            1             1               3         1   \nVALENCIA              1             4               5         1   \nVALLADOLID            0             0               4         0   \nVILLARREAL            0             1               6         1   \n\n                 Goals received ht  Rating mean  On Target Shots  \\\nALAVÉS                           2            5                5   \nATHLETIC                         3            5                5   \nATLETICO MADRID                  0            6                8   \nBARCELONA                       16          135              242   \nCELTA                            2            5                7   \nCÁDIZ CF                         1            6                4   \nEIBAR                            0            5                6   \nELCHE                            1            5                3   \nGETAFE                           3            6                5   \nGRANADA                          4            4                6   \nHUESCA                           3            6                8   \nLEVANTE                          2            6                9   \nOSASUNA                          3            5                8   \nREAL BETIS                       1            5               11   \nREAL MADRID                      1            6               12   \nREAL SOCIEDAD                    4            4               10   \nSEVILLA FC                       2            5                3   \nVALENCIA                         1            5                8   \nVALLADOLID                       2            5                7   \nVILLARREAL                       6            5                5   \n\n                 Off Target Shots  Blocked Shots  Corners  Fouls  \\\nALAVÉS                          4              1        6     30   \nATHLETIC                        6              4        6     30   \nATLETICO MADRID                 6              6       15     38   \nBARCELONA                     206            134      217    357   \nCELTA                           2              5        4     36   \nCÁDIZ CF                        4              2        5     22   \nEIBAR                          10             10       13     26   \nELCHE                           7              0        3     23   \nGETAFE                          8              1        8     35   \nGRANADA                         4              3        5     38   \nHUESCA                          4              0        5     25   \nLEVANTE                         6              7       12     27   \nOSASUNA                         7              5        6     16   \nREAL BETIS                      5              4        8     31   \nREAL MADRID                    10              7       12     29   \nREAL SOCIEDAD                   4              8        4     25   \nSEVILLA FC                     12              2        8     38   \nVALENCIA                        8              5        5     26   \nVALLADOLID                     12              0        5     25   \nVILLARREAL                      7              3       10     26   \n\n                 First Yellow Cards  Second Yellow Cards  Red Cards  \\\nALAVÉS                            5                    1          0   \nATHLETIC                          5                    0          0   \nATLETICO MADRID                   7                    0          0   \nBARCELONA                        70                    2          0   \nCELTA                             7                    0          0   \nCÁDIZ CF                          2                    0          0   \nEIBAR                             2                    0          0   \nELCHE                             0                    0          0   \nGETAFE                            4                    0          0   \nGRANADA                           6                    0          1   \nHUESCA                            3                    0          0   \nLEVANTE                           3                    0          0   \nOSASUNA                           0                    0          0   \nREAL BETIS                        3                    0          1   \nREAL MADRID                       4                    1          0   \nREAL SOCIEDAD                     6                    0          0   \nSEVILLA FC                        6                    0          0   \nVALENCIA                          4                    0          0   \nVALLADOLID                        4                    0          1   \nVILLARREAL                        3                    0          1   \n\n                 Pass Success mean  \nALAVÉS                           3  \nATHLETIC                         4  \nATLETICO MADRID                  4  \nBARCELONA                       89  \nCELTA                            4  \nCÁDIZ CF                         3  \nEIBAR                            3  \nELCHE                            4  \nGETAFE                           3  \nGRANADA                          3  \nHUESCA                           4  \nLEVANTE                          4  \nOSASUNA                          4  \nREAL BETIS                       4  \nREAL MADRID                      4  \nREAL SOCIEDAD                    4  \nSEVILLA FC                       4  \nVALENCIA                         4  \nVALLADOLID                       4  \nVILLARREAL                       4  ",
      "text/html": "<div>\n<style scoped>\n    .dataframe tbody tr th:only-of-type {\n        vertical-align: middle;\n    }\n\n    .dataframe tbody tr th {\n        vertical-align: top;\n    }\n\n    .dataframe thead th {\n        text-align: right;\n    }\n</style>\n<table border=\"1\" class=\"dataframe\">\n  <thead>\n    <tr style=\"text-align: right;\">\n      <th></th>\n      <th>Points</th>\n      <th>Goals Scored</th>\n      <th>Goals received</th>\n      <th>Goals ht</th>\n      <th>Goals received ht</th>\n      <th>Rating mean</th>\n      <th>On Target Shots</th>\n      <th>Off Target Shots</th>\n      <th>Blocked Shots</th>\n      <th>Corners</th>\n      <th>Fouls</th>\n      <th>First Yellow Cards</th>\n      <th>Second Yellow Cards</th>\n      <th>Red Cards</th>\n      <th>Pass Success mean</th>\n    </tr>\n  </thead>\n  <tbody>\n    <tr>\n      <th>ALAVÉS</th>\n      <td>1</td>\n      <td>2</td>\n      <td>6</td>\n      <td>1</td>\n      <td>2</td>\n      <td>5</td>\n      <td>5</td>\n      <td>4</td>\n      <td>1</td>\n      <td>6</td>\n      <td>30</td>\n      <td>5</td>\n      <td>1</td>\n      <td>0</td>\n      <td>3</td>\n    </tr>\n    <tr>\n      <th>ATHLETIC</th>\n      <td>0</td>\n      <td>3</td>\n      <td>5</td>\n      <td>1</td>\n      <td>3</td>\n      <td>5</td>\n      <td>5</td>\n      <td>6</td>\n      <td>4</td>\n      <td>6</td>\n      <td>30</td>\n      <td>5</td>\n      <td>0</td>\n      <td>0</td>\n      <td>4</td>\n    </tr>\n    <tr>\n      <th>ATLETICO MADRID</th>\n      <td>4</td>\n      <td>1</td>\n      <td>0</td>\n      <td>1</td>\n      <td>0</td>\n      <td>6</td>\n      <td>8</td>\n      <td>6</td>\n      <td>6</td>\n      <td>15</td>\n      <td>38</td>\n      <td>7</td>\n      <td>0</td>\n      <td>0</td>\n      <td>4</td>\n    </tr>\n    <tr>\n      <th>BARCELONA</th>\n      <td>79</td>\n      <td>85</td>\n      <td>38</td>\n      <td>41</td>\n      <td>16</td>\n      <td>135</td>\n      <td>242</td>\n      <td>206</td>\n      <td>134</td>\n      <td>217</td>\n      <td>357</td>\n      <td>70</td>\n      <td>2</td>\n      <td>0</td>\n      <td>89</td>\n    </tr>\n    <tr>\n      <th>CELTA</th>\n      <td>3</td>\n      <td>2</td>\n      <td>4</td>\n      <td>1</td>\n      <td>2</td>\n      <td>5</td>\n      <td>7</td>\n      <td>2</td>\n      <td>5</td>\n      <td>4</td>\n      <td>36</td>\n      <td>7</td>\n      <td>0</td>\n      <td>0</td>\n      <td>4</td>\n    </tr>\n    <tr>\n      <th>CÁDIZ CF</th>\n      <td>4</td>\n      <td>3</td>\n      <td>2</td>\n      <td>1</td>\n      <td>1</td>\n      <td>6</td>\n      <td>4</td>\n      <td>4</td>\n      <td>2</td>\n      <td>5</td>\n      <td>22</td>\n      <td>2</td>\n      <td>0</td>\n      <td>0</td>\n      <td>3</td>\n    </tr>\n    <tr>\n      <th>EIBAR</th>\n      <td>1</td>\n      <td>1</td>\n      <td>2</td>\n      <td>0</td>\n      <td>0</td>\n      <td>5</td>\n      <td>6</td>\n      <td>10</td>\n      <td>10</td>\n      <td>13</td>\n      <td>26</td>\n      <td>2</td>\n      <td>0</td>\n      <td>0</td>\n      <td>3</td>\n    </tr>\n    <tr>\n      <th>ELCHE</th>\n      <td>0</td>\n      <td>0</td>\n      <td>5</td>\n      <td>0</td>\n      <td>1</td>\n      <td>5</td>\n      <td>3</td>\n      <td>7</td>\n      <td>0</td>\n      <td>3</td>\n      <td>23</td>\n      <td>0</td>\n      <td>0</td>\n      <td>0</td>\n      <td>4</td>\n    </tr>\n    <tr>\n      <th>GETAFE</th>\n      <td>3</td>\n      <td>3</td>\n      <td>5</td>\n      <td>1</td>\n      <td>3</td>\n      <td>6</td>\n      <td>5</td>\n      <td>8</td>\n      <td>1</td>\n      <td>8</td>\n      <td>35</td>\n      <td>4</td>\n      <td>0</td>\n      <td>0</td>\n      <td>3</td>\n    </tr>\n    <tr>\n      <th>GRANADA</th>\n      <td>3</td>\n      <td>2</td>\n      <td>5</td>\n      <td>0</td>\n      <td>4</td>\n      <td>4</td>\n      <td>6</td>\n      <td>4</td>\n      <td>3</td>\n      <td>5</td>\n      <td>38</td>\n      <td>6</td>\n      <td>0</td>\n      <td>1</td>\n      <td>3</td>\n    </tr>\n    <tr>\n      <th>HUESCA</th>\n      <td>0</td>\n      <td>1</td>\n      <td>5</td>\n      <td>1</td>\n      <td>3</td>\n      <td>6</td>\n      <td>8</td>\n      <td>4</td>\n      <td>0</td>\n      <td>5</td>\n      <td>25</td>\n      <td>3</td>\n      <td>0</td>\n      <td>0</td>\n      <td>4</td>\n    </tr>\n    <tr>\n      <th>LEVANTE</th>\n      <td>1</td>\n      <td>3</td>\n      <td>4</td>\n      <td>0</td>\n      <td>2</td>\n      <td>6</td>\n      <td>9</td>\n      <td>6</td>\n      <td>7</td>\n      <td>12</td>\n      <td>27</td>\n      <td>3</td>\n      <td>0</td>\n      <td>0</td>\n      <td>4</td>\n    </tr>\n    <tr>\n      <th>OSASUNA</th>\n      <td>0</td>\n      <td>0</td>\n      <td>6</td>\n      <td>0</td>\n      <td>3</td>\n      <td>5</td>\n      <td>8</td>\n      <td>7</td>\n      <td>5</td>\n      <td>6</td>\n      <td>16</td>\n      <td>0</td>\n      <td>0</td>\n      <td>0</td>\n      <td>4</td>\n    </tr>\n    <tr>\n      <th>REAL BETIS</th>\n      <td>0</td>\n      <td>4</td>\n      <td>8</td>\n      <td>2</td>\n      <td>1</td>\n      <td>5</td>\n      <td>11</td>\n      <td>5</td>\n      <td>4</td>\n      <td>8</td>\n      <td>31</td>\n      <td>3</td>\n      <td>0</td>\n      <td>1</td>\n      <td>4</td>\n    </tr>\n    <tr>\n      <th>REAL MADRID</th>\n      <td>6</td>\n      <td>5</td>\n      <td>2</td>\n      <td>3</td>\n      <td>1</td>\n      <td>6</td>\n      <td>12</td>\n      <td>10</td>\n      <td>7</td>\n      <td>12</td>\n      <td>29</td>\n      <td>4</td>\n      <td>1</td>\n      <td>0</td>\n      <td>4</td>\n    </tr>\n    <tr>\n      <th>REAL SOCIEDAD</th>\n      <td>0</td>\n      <td>2</td>\n      <td>8</td>\n      <td>1</td>\n      <td>4</td>\n      <td>4</td>\n      <td>10</td>\n      <td>4</td>\n      <td>8</td>\n      <td>4</td>\n      <td>25</td>\n      <td>6</td>\n      <td>0</td>\n      <td>0</td>\n      <td>4</td>\n    </tr>\n    <tr>\n      <th>SEVILLA FC</th>\n      <td>1</td>\n      <td>1</td>\n      <td>3</td>\n      <td>1</td>\n      <td>2</td>\n      <td>5</td>\n      <td>3</td>\n      <td>12</td>\n      <td>2</td>\n      <td>8</td>\n      <td>38</td>\n      <td>6</td>\n      <td>0</td>\n      <td>0</td>\n      <td>4</td>\n    </tr>\n    <tr>\n      <th>VALENCIA</th>\n      <td>1</td>\n      <td>4</td>\n      <td>5</td>\n      <td>1</td>\n      <td>1</td>\n      <td>5</td>\n      <td>8</td>\n      <td>8</td>\n      <td>5</td>\n      <td>5</td>\n      <td>26</td>\n      <td>4</td>\n      <td>0</td>\n      <td>0</td>\n      <td>4</td>\n    </tr>\n    <tr>\n      <th>VALLADOLID</th>\n      <td>0</td>\n      <td>0</td>\n      <td>4</td>\n      <td>0</td>\n      <td>2</td>\n      <td>5</td>\n      <td>7</td>\n      <td>12</td>\n      <td>0</td>\n      <td>5</td>\n      <td>25</td>\n      <td>4</td>\n      <td>0</td>\n      <td>1</td>\n      <td>4</td>\n    </tr>\n    <tr>\n      <th>VILLARREAL</th>\n      <td>0</td>\n      <td>1</td>\n      <td>6</td>\n      <td>1</td>\n      <td>6</td>\n      <td>5</td>\n      <td>5</td>\n      <td>7</td>\n      <td>3</td>\n      <td>10</td>\n      <td>26</td>\n      <td>3</td>\n      <td>0</td>\n      <td>1</td>\n      <td>4</td>\n    </tr>\n  </tbody>\n</table>\n</div>"
     },
     "execution_count": 96,
     "metadata": {},
     "output_type": "execute_result"
    }
   ],
   "source": [
    "la_liga_2020_concat"
   ],
   "metadata": {
    "collapsed": false,
    "pycharm": {
     "name": "#%%\n"
    }
   }
  },
  {
   "cell_type": "code",
   "execution_count": 97,
   "outputs": [],
   "source": [
    "la_liga_2020_concat_max = la_liga_2020_concat.max()"
   ],
   "metadata": {
    "collapsed": false,
    "pycharm": {
     "name": "#%%\n"
    }
   }
  },
  {
   "cell_type": "code",
   "execution_count": 98,
   "outputs": [
    {
     "data": {
      "text/plain": "Points                  79\nGoals Scored            85\nGoals received          38\nGoals ht                41\nGoals received ht       16\nRating mean            135\nOn Target Shots        242\nOff Target Shots       206\nBlocked Shots          134\nCorners                217\nFouls                  357\nFirst Yellow Cards      70\nSecond Yellow Cards      2\nRed Cards                1\nPass Success mean       89\ndtype: int64"
     },
     "execution_count": 98,
     "metadata": {},
     "output_type": "execute_result"
    }
   ],
   "source": [
    "la_liga_2020_concat_max"
   ],
   "metadata": {
    "collapsed": false,
    "pycharm": {
     "name": "#%%\n"
    }
   }
  },
  {
   "cell_type": "code",
   "execution_count": 99,
   "outputs": [],
   "source": [
    "#Enrique\n",
    "la_liga_enrique = la_liga_2014_concat_max.copy()\n",
    "la_liga_valverde = la_liga_2018_concat_max.copy()\n",
    "for i in range(len(la_liga_2014_concat_max)):\n",
    "    la_liga_enrique[i] = (la_liga_2014_concat_max[i]+la_liga_2015_concat_max[i]+la_liga_2016_concat_max[i]+la_liga_2017_concat_max[i])/4\n",
    "#Valverde\n",
    "for i in range(len(la_liga_2018_concat_max)):\n",
    "    la_liga_valverde[i] = (la_liga_2018_concat_max[i]+la_liga_2019_concat_max[i]+la_liga_2020_concat_max[i])/3"
   ],
   "metadata": {
    "collapsed": false,
    "pycharm": {
     "name": "#%%\n"
    }
   }
  },
  {
   "cell_type": "code",
   "execution_count": 100,
   "outputs": [
    {
     "name": "stdout",
     "output_type": "stream",
     "text": [
      "Points                  92\n",
      "Goals Scored           109\n",
      "Goals received          29\n",
      "Goals ht                41\n",
      "Goals received ht       12\n",
      "Rating mean            148\n",
      "On Target Shots        270\n",
      "Off Target Shots       220\n",
      "Blocked Shots          124\n",
      "Corners                228\n",
      "Fouls                  389\n",
      "First Yellow Cards      69\n",
      "Second Yellow Cards      1\n",
      "Red Cards                2\n",
      "Pass Success mean       86\n",
      "dtype: int64\n",
      "Points                  82\n",
      "Goals Scored            87\n",
      "Goals received          37\n",
      "Goals ht                40\n",
      "Goals received ht       16\n",
      "Rating mean            139\n",
      "On Target Shots        239\n",
      "Off Target Shots       187\n",
      "Blocked Shots          118\n",
      "Corners                202\n",
      "Fouls                  394\n",
      "First Yellow Cards      78\n",
      "Second Yellow Cards      2\n",
      "Red Cards                1\n",
      "Pass Success mean       88\n",
      "dtype: int64\n"
     ]
    }
   ],
   "source": [
    "print(la_liga_enrique)\n",
    "print(la_liga_valverde)"
   ],
   "metadata": {
    "collapsed": false,
    "pycharm": {
     "name": "#%%\n"
    }
   }
  },
  {
   "cell_type": "code",
   "execution_count": 101,
   "outputs": [
    {
     "data": {
      "text/plain": "<Figure size 432x288 with 1 Axes>",
      "image/png": "[encoded data removed]"
     },
     "metadata": {
      "needs_background": "light"
     },
     "output_type": "display_data"
    }
   ],
   "source": [
    "#Barchart\n",
    "x=[\"Points\", \"Goals scored\", \"Goals received\"]\n",
    "y_valverde = (la_liga_valverde[\"Points\"], la_liga_valverde[\"Goals Scored\"], la_liga_valverde[\"Goals received\"])\n",
    "y_enrique = (la_liga_enrique[\"Points\"], la_liga_enrique[\"Goals Scored\"], la_liga_enrique[\"Goals received\"])\n",
    "\n",
    "# create plot\n",
    "fig, ax = plt.subplots()\n",
    "index = np.arange(len(x))\n",
    "bar_width = 0.35\n",
    "opacity = 0.5\n",
    "\n",
    "plt.xticks(y_valverde, x)\n",
    "ax.bar(index+(bar_width/2),  y_enrique, bar_width, color=\"r\", label=\"Valverde\")\n",
    "ax.bar(index-(bar_width/2), y_valverde, bar_width, color=\"b\", label=\"Enrique\")\n",
    "\n",
    "ax.set_xticks(index)\n",
    "ax.set_xticklabels(x)\n",
    "\n",
    "plt.ylabel(\"Amount\")\n",
    "plt.xlabel(\"Trainer\")\n",
    "\n",
    "plt.legend()\n",
    "plt.tight_layout()\n",
    "plt.title(\"Compare Trainers with mean\")\n",
    "plt.show()"
   ],
   "metadata": {
    "collapsed": false,
    "pycharm": {
     "name": "#%%\n"
    }
   }
  },
  {
   "cell_type": "code",
   "execution_count": 102,
   "outputs": [
    {
     "data": {
      "text/plain": "<Figure size 432x288 with 1 Axes>",
      "image/png": "[encoded data removed]"
     },
     "metadata": {
      "needs_background": "light"
     },
     "output_type": "display_data"
    }
   ],
   "source": [
    "x=[\"Goals scored\", \"Goals received\"]\n",
    "y_valverde = (la_liga_valverde[\"Goals Scored\"], la_liga_valverde[\"Goals received\"])\n",
    "y_enrique = (la_liga_enrique[\"Goals Scored\"], la_liga_enrique[\"Goals received\"])\n",
    "\n",
    "# create plot\n",
    "fig, ax = plt.subplots()\n",
    "index = np.arange(len(x))\n",
    "bar_width = 0.35\n",
    "opacity = 0.5\n",
    "\n",
    "plt.xticks(y_valverde, x)\n",
    "ax.bar(x, y_enrique,  bottom=y_valverde, color=\"r\", label=\"Valverde\")\n",
    "ax.bar(x, y_valverde,  color=\"b\", label=\"Enrique\")\n",
    "\n",
    "ax.set_xticks(index)\n",
    "ax.set_xticklabels(x)\n",
    "\n",
    "plt.ylabel(\"Amount\")\n",
    "plt.xlabel(\"Trainer\")\n",
    "\n",
    "plt.legend()\n",
    "plt.tight_layout()\n",
    "plt.title(\"Compare Trainers with mean\")\n",
    "plt.show()"
   ],
   "metadata": {
    "collapsed": false,
    "pycharm": {
     "name": "#%%\n"
    }
   }
  },
  {
   "cell_type": "markdown",
   "source": [
    "## Wie hat sich die Anzahl der geschossenen Heim.- Auswärts Tore über die Jahre 2015-2020 verändert?"
   ],
   "metadata": {
    "collapsed": false,
    "pycharm": {
     "name": "#%% md\n"
    }
   }
  },
  {
   "cell_type": "code",
   "execution_count": 103,
   "outputs": [
    {
     "name": "stdout",
     "output_type": "stream",
     "text": [
      "      Home Team Goals Scored  Away Team Goals Scored\n",
      "year                                                \n",
      "2014                     584                     425\n",
      "2015                     615                     428\n",
      "2016                     632                     486\n",
      "2017                     588                     436\n",
      "2018                     552                     431\n",
      "2019                     546                     396\n",
      "2020                     520                     433\n"
     ]
    },
    {
     "name": "stderr",
     "output_type": "stream",
     "text": [
      "/var/folders/f0/pqy2clvx0nv38xm_npv8fklm0000gn/T/ipykernel_3415/3812898835.py:1: FutureWarning: Indexing with multiple keys (implicitly converted to a tuple of keys) will be deprecated, use a list instead.\n",
      "  la_liga_goals = la_liga.groupby([\"year\"])[\"Home Team Goals Scored\", \"Away Team Goals Scored\"].sum()\n"
     ]
    }
   ],
   "source": [
    "la_liga_goals = la_liga.groupby([\"year\"])[\"Home Team Goals Scored\", \"Away Team Goals Scored\"].sum()\n",
    "print(la_liga_goals)"
   ],
   "metadata": {
    "collapsed": false,
    "pycharm": {
     "name": "#%%\n"
    }
   }
  },
  {
   "cell_type": "code",
   "execution_count": 104,
   "outputs": [
    {
     "data": {
      "text/plain": "Text(0.5, 0, 'Year')"
     },
     "execution_count": 104,
     "metadata": {},
     "output_type": "execute_result"
    },
    {
     "data": {
      "text/plain": "<Figure size 432x288 with 1 Axes>",
      "image/png": "[encoded data removed]"
     },
     "metadata": {
      "needs_background": "light"
     },
     "output_type": "display_data"
    }
   ],
   "source": [
    "#Linechart\n",
    "x = range(2014,2021)\n",
    "y_home = la_liga_goals[\"Home Team Goals Scored\"]\n",
    "y_away = la_liga_goals[\"Away Team Goals Scored\"]\n",
    "plt.scatter(x,y_home, color=\"blue\")\n",
    "plt.scatter(x, y_away, color=\"blue\")\n",
    "plt.title(\"Amount of goals per season\")\n",
    "plt.ylabel(\"Amount of Goals\")\n",
    "plt.xlabel(\"Year\")"
   ],
   "metadata": {
    "collapsed": false,
    "pycharm": {
     "name": "#%%\n"
    }
   }
  },
  {
   "cell_type": "code",
   "execution_count": 105,
   "outputs": [
    {
     "data": {
      "text/plain": "Text(0.5, 0, 'Year')"
     },
     "execution_count": 105,
     "metadata": {},
     "output_type": "execute_result"
    },
    {
     "data": {
      "text/plain": "<Figure size 432x288 with 1 Axes>",
      "image/png": "[encoded data removed]"
     },
     "metadata": {
      "needs_background": "light"
     },
     "output_type": "display_data"
    }
   ],
   "source": [
    "#Linechart\n",
    "x = range(2014,2021)\n",
    "y_home = la_liga_goals[\"Home Team Goals Scored\"]\n",
    "y_away = la_liga_goals[\"Away Team Goals Scored\"]\n",
    "plt.plot(x,y_home, label=\"Home Goals\", marker='o')\n",
    "plt.plot(x, y_away,label=\"Away Goal\", marker='o')\n",
    "plt.legend()\n",
    "plt.title(\"Amount of goals per season\")\n",
    "plt.ylabel(\"Amount of Goals\")\n",
    "plt.xlabel(\"Year\")"
   ],
   "metadata": {
    "collapsed": false,
    "pycharm": {
     "name": "#%%\n"
    }
   }
  },
  {
   "cell_type": "code",
   "execution_count": 106,
   "outputs": [],
   "source": [
    "la_liga_goals[\"year\"] = [2014,2015,2016,2017,2018,2019,2020]"
   ],
   "metadata": {
    "collapsed": false,
    "pycharm": {
     "name": "#%%\n"
    }
   }
  },
  {
   "cell_type": "code",
   "execution_count": 107,
   "outputs": [],
   "source": [
    "la_liga_goals_melt = pd.melt(la_liga_goals, id_vars = \"year\")"
   ],
   "metadata": {
    "collapsed": false,
    "pycharm": {
     "name": "#%%\n"
    }
   }
  },
  {
   "cell_type": "code",
   "execution_count": 108,
   "outputs": [
    {
     "data": {
      "text/plain": "<Figure size 522.875x360 with 1 Axes>",
      "image/png": "[encoded data removed]"
     },
     "metadata": {
      "needs_background": "light"
     },
     "output_type": "display_data"
    }
   ],
   "source": [
    "sns.catplot(x=\"year\", y=\"value\", hue=\"variable\", data=la_liga_goals_melt, kind=\"bar\")\n",
    "plt.show()"
   ],
   "metadata": {
    "collapsed": false,
    "pycharm": {
     "name": "#%%\n"
    }
   }
  },
  {
   "cell_type": "code",
   "execution_count": 109,
   "outputs": [
    {
     "name": "stdout",
     "output_type": "stream",
     "text": [
      "{0: 214, 1: 259, 2: 166, 3: 72, 4: 25, 5: 15, 6: 6, 7: 1, 8: 1, 9: 0, 10: 1}\n"
     ]
    }
   ],
   "source": [
    "#Scatterplot\n",
    "dict_goals_2014 = {0: 0, 1: 0, 2: 0, 3:0, 4:0, 5:0, 6:0, 7:0, 8:0, 9:0, 10:0}\n",
    "dict_goals_2015 = {0: 0, 1: 0, 2: 0, 3:0, 4:0, 5:0, 6:0, 7:0, 8:0, 9:0, 10:0}\n",
    "dict_goals_2016 = {0: 0, 1: 0, 2: 0, 3:0, 4:0, 5:0, 6:0, 7:0, 8:0, 9:0, 10:0}\n",
    "dict_goals_2017 = {0: 0, 1: 0, 2: 0, 3:0, 4:0, 5:0, 6:0, 7:0, 8:0, 9:0, 10:0}\n",
    "dict_goals_2018 = {0: 0, 1: 0, 2: 0, 3:0, 4:0, 5:0, 6:0, 7:0, 8:0, 9:0, 10:0}\n",
    "dict_goals_2019 = {0: 0, 1: 0, 2: 0, 3:0, 4:0, 5:0, 6:0, 7:0, 8:0, 9:0, 10:0}\n",
    "dict_goals_2020 = {0: 0, 1: 0, 2: 0, 3:0, 4:0, 5:0, 6:0, 7:0, 8:0, 9:0, 10:0}\n",
    "\n",
    "\n",
    "for i in range(len(la_liga)):\n",
    "    if la_liga[\"year\"][i] == 2014:\n",
    "        if la_liga[\"Home Team Goals Scored\"][i] in dict_goals_2014:\n",
    "            dict_goals_2014[la_liga[\"Home Team Goals Scored\"][i]] += 1\n",
    "        else:\n",
    "            dict_goals_2014.update({la_liga[\"Home Team Goals Scored\"][i]:0})\n",
    "        if la_liga[\"Away Team Goals Scored\"][i] in dict_goals_2014:\n",
    "            dict_goals_2014[la_liga[\"Away Team Goals Scored\"][i]] += 1\n",
    "        else:\n",
    "            dict_goals_2014.update({la_liga[\"Away Team Goals Scored\"][i]:0})\n",
    "    if la_liga[\"year\"][i] == 2015:\n",
    "        if la_liga[\"Home Team Goals Scored\"][i] in dict_goals_2015:\n",
    "            dict_goals_2015[la_liga[\"Home Team Goals Scored\"][i]] += 1\n",
    "        else:\n",
    "            dict_goals_2015.update({la_liga[\"Home Team Goals Scored\"][i]:0})\n",
    "        if la_liga[\"Away Team Goals Scored\"][i] in dict_goals_2015:\n",
    "            dict_goals_2015[la_liga[\"Away Team Goals Scored\"][i]] += 1\n",
    "        else:\n",
    "            dict_goals_2015.update({la_liga[\"Away Team Goals Scored\"][i]:0})\n",
    "    if la_liga[\"year\"][i] == 2016:\n",
    "        if la_liga[\"Home Team Goals Scored\"][i] in dict_goals_2016:\n",
    "            dict_goals_2016[la_liga[\"Home Team Goals Scored\"][i]] += 1\n",
    "        else:\n",
    "            dict_goals_2016.update({la_liga[\"Home Team Goals Scored\"][i]:0})\n",
    "        if la_liga[\"Away Team Goals Scored\"][i] in dict_goals_2016:\n",
    "            dict_goals_2016[la_liga[\"Away Team Goals Scored\"][i]] += 1\n",
    "        else:\n",
    "            dict_goals_2016.update({la_liga[\"Away Team Goals Scored\"][i]:0})\n",
    "    if la_liga[\"year\"][i] == 2017:\n",
    "        if la_liga[\"Home Team Goals Scored\"][i] in dict_goals_2017:\n",
    "            dict_goals_2017[la_liga[\"Home Team Goals Scored\"][i]] += 1\n",
    "        else:\n",
    "            dict_goals_2017.update({la_liga[\"Home Team Goals Scored\"][i]:0})\n",
    "        if la_liga[\"Away Team Goals Scored\"][i] in dict_goals_2017:\n",
    "            dict_goals_2017[la_liga[\"Away Team Goals Scored\"][i]] += 1\n",
    "        else:\n",
    "            dict_goals_2017.update({la_liga[\"Away Team Goals Scored\"][i]:0})\n",
    "    if la_liga[\"year\"][i] == 2018:\n",
    "        if la_liga[\"Home Team Goals Scored\"][i] in dict_goals_2018:\n",
    "            dict_goals_2018[la_liga[\"Home Team Goals Scored\"][i]] += 1\n",
    "        else:\n",
    "            dict_goals_2018.update({la_liga[\"Home Team Goals Scored\"][i]:0})\n",
    "        if la_liga[\"Away Team Goals Scored\"][i] in dict_goals_2018:\n",
    "            dict_goals_2018[la_liga[\"Away Team Goals Scored\"][i]] += 1\n",
    "        else:\n",
    "            dict_goals_2018.update({la_liga[\"Away Team Goals Scored\"][i]:0})\n",
    "    if la_liga[\"year\"][i] == 2019:\n",
    "        if la_liga[\"Home Team Goals Scored\"][i] in dict_goals_2019:\n",
    "            dict_goals_2019[la_liga[\"Home Team Goals Scored\"][i]] += 1\n",
    "        else:\n",
    "            dict_goals_2019.update({la_liga[\"Home Team Goals Scored\"][i]:0})\n",
    "        if la_liga[\"Away Team Goals Scored\"][i] in dict_goals_2019:\n",
    "            dict_goals_2019[la_liga[\"Away Team Goals Scored\"][i]] += 1\n",
    "        else:\n",
    "            dict_goals_2019.update({la_liga[\"Away Team Goals Scored\"][i]:0})\n",
    "    if la_liga[\"year\"][i] == 2020:\n",
    "        if la_liga[\"Home Team Goals Scored\"][i] in dict_goals_2020:\n",
    "            dict_goals_2020[la_liga[\"Home Team Goals Scored\"][i]] += 1\n",
    "        else:\n",
    "            dict_goals_2020.update({la_liga[\"Home Team Goals Scored\"][i]:0})\n",
    "        if la_liga[\"Away Team Goals Scored\"][i] in dict_goals_2020:\n",
    "            dict_goals_2020[la_liga[\"Away Team Goals Scored\"][i]] += 1\n",
    "        else:\n",
    "            dict_goals_2020.update({la_liga[\"Away Team Goals Scored\"][i]:0})\n",
    "\n",
    "print(dict_goals_2015)"
   ],
   "metadata": {
    "collapsed": false,
    "pycharm": {
     "name": "#%%\n"
    }
   }
  },
  {
   "cell_type": "code",
   "execution_count": 110,
   "outputs": [],
   "source": [
    "goals = []\n",
    "i = 0\n",
    "while i <= 10:\n",
    "    for n in range(0,dict_goals_2014[i]):\n",
    "        goals.append(i)\n",
    "    for n in range(0,dict_goals_2015[i]):\n",
    "        goals.append(i)\n",
    "    for n in range(0,dict_goals_2016[i]):\n",
    "        goals.append(i)\n",
    "    for n in range(0,dict_goals_2017[i]):\n",
    "        goals.append(i)\n",
    "    for n in range(0,dict_goals_2018[i]):\n",
    "        goals.append(i)\n",
    "    for n in range(0,dict_goals_2019[i]):\n",
    "        goals.append(i)\n",
    "    for n in range(0,dict_goals_2020[i]):\n",
    "        goals.append(i)\n",
    "    i += 1"
   ],
   "metadata": {
    "collapsed": false,
    "pycharm": {
     "name": "#%%\n"
    }
   }
  },
  {
   "cell_type": "code",
   "execution_count": 111,
   "outputs": [
    {
     "data": {
      "text/plain": "<Figure size 432x288 with 1 Axes>",
      "image/png": "[encoded data removed]"
     },
     "metadata": {
      "needs_background": "light"
     },
     "output_type": "display_data"
    }
   ],
   "source": [
    "plt.hist(x=goals, density=True)\n",
    "plt.title(\"Probability of goals\")\n",
    "plt.xlabel(\"Goals\")\n",
    "plt.ylabel(\"Probability\")\n",
    "plt.show()"
   ],
   "metadata": {
    "collapsed": false,
    "pycharm": {
     "name": "#%%\n"
    }
   }
  },
  {
   "cell_type": "markdown",
   "source": [
    "# Haben die Teams im Jahr 2014 mehr Heim oder Auswärts Tore geschossen"
   ],
   "metadata": {
    "collapsed": false,
    "pycharm": {
     "name": "#%% md\n"
    }
   }
  },
  {
   "cell_type": "code",
   "execution_count": 112,
   "outputs": [],
   "source": [
    "Heimtore = 0\n",
    "Auswaertstore = 0\n",
    "\n",
    "for i in range(len(la_liga)):\n",
    "    Heimtore += la_liga[\"Home Team Goals Scored\"][i]\n",
    "    Auswaertstore += la_liga[\"Away Team Goals Scored\"][i]"
   ],
   "metadata": {
    "collapsed": false,
    "pycharm": {
     "name": "#%%\n"
    }
   }
  },
  {
   "cell_type": "code",
   "execution_count": 113,
   "outputs": [
    {
     "data": {
      "text/plain": "<Figure size 432x288 with 1 Axes>",
      "image/png": "[encoded data removed]"
     },
     "metadata": {},
     "output_type": "display_data"
    }
   ],
   "source": [
    "#Pichart\n",
    "plt.pie(x=[Heimtore, Auswaertstore], labels=[\"Heimtore\", \"Auswärtstore\"])\n",
    "plt.title(\"Gesamt Anzahl Tore aller Teams\")\n",
    "plt.legend()\n",
    "plt.show()"
   ],
   "metadata": {
    "collapsed": false,
    "pycharm": {
     "name": "#%%\n"
    }
   }
  },
  {
   "cell_type": "markdown",
   "source": [
    "# Scatterplot"
   ],
   "metadata": {
    "collapsed": false,
    "pycharm": {
     "name": "#%% md\n"
    }
   }
  },
  {
   "cell_type": "code",
   "execution_count": 114,
   "outputs": [],
   "source": [
    "la_liga_2014_only = la_liga[la_liga[\"year\"] == 2014]"
   ],
   "metadata": {
    "collapsed": false,
    "pycharm": {
     "name": "#%%\n"
    }
   }
  },
  {
   "cell_type": "code",
   "execution_count": 115,
   "outputs": [
    {
     "data": {
      "text/plain": "       Home Team        Away Team  Match Excitement  Home Team Rating  \\\n0         MÁLAGA         ATHLETIC               4.4               6.0   \n1     SEVILLA FC         VALENCIA               4.7               6.5   \n2        GRANADA        DEPORTIVO               4.6               7.2   \n3        ALMERÍA         ESPANYOL               5.6               6.9   \n4          EIBAR    REAL SOCIEDAD               3.7               6.5   \n..           ...              ...               ...               ...   \n375      GRANADA  ATLETICO MADRID               1.4               6.3   \n376        CELTA         ESPANYOL               7.9               6.7   \n377      ALMERÍA         VALENCIA               7.4               5.8   \n378        EIBAR          CÓRDOBA               5.0               7.2   \n379  REAL MADRID           GETAFE               9.7               8.4   \n\n     Away Team Rating  Home Team Possession %  Away Team Possession %  \\\n0                 5.7                      40                      60   \n1                 6.8                      47                      53   \n2                 5.9                      53                      47   \n3                 5.5                      56                      44   \n4                 5.9                      41                      59   \n..                ...                     ...                     ...   \n375               6.5                      51                      49   \n376               6.1                      51                      49   \n377               6.4                      52                      48   \n378               5.8                      40                      60   \n379               4.2                      54                      46   \n\n     Home Team Off Target Shots  Home Team On Target Shots  \\\n0                           5.0                        3.0   \n1                           4.0                        3.0   \n2                           6.0                        3.0   \n3                           7.0                        6.0   \n4                           5.0                        5.0   \n..                          ...                        ...   \n375                         2.0                        0.0   \n376                         2.0                        7.0   \n377                         5.0                        3.0   \n378                         4.0                        6.0   \n379                         5.0                       11.0   \n\n     Home Team Total Shots  ...  Away Team Yellow Cards  \\\n0                     12.0  ...                     3.0   \n1                     12.0  ...                     2.0   \n2                     10.0  ...                     3.0   \n3                     19.0  ...                     3.0   \n4                     12.0  ...                     1.0   \n..                     ...  ...                     ...   \n375                    2.0  ...                     0.0   \n376                   10.0  ...                     1.0   \n377                    9.0  ...                     5.0   \n378                   12.0  ...                     0.0   \n379                   18.0  ...                     3.0   \n\n     Away Team Second Yellow Cards  Away Team Red Cards  \\\n0                              0.0                  0.0   \n1                              0.0                  1.0   \n2                              0.0                  0.0   \n3                              1.0                  0.0   \n4                              0.0                  0.0   \n..                             ...                  ...   \n375                            0.0                  0.0   \n376                            0.0                  0.0   \n377                            1.0                  0.0   \n378                            0.0                  0.0   \n379                            0.0                  0.0   \n\n     Home Team Goals Scored  Away Team Goals Scored  year  Home Team Goals ht  \\\n0                         1                       0  2014                   1   \n1                         1                       1  2014                   1   \n2                         2                       1  2014                   0   \n3                         1                       1  2014                   0   \n4                         1                       0  2014                   1   \n..                      ...                     ...   ...                 ...   \n375                       0                       0  2014                   0   \n376                       3                       2  2014                   1   \n377                       2                       3  2014                   2   \n378                       3                       0  2014                   3   \n379                       7                       3  2014                   3   \n\n     Away Team Goals ht  Home Team Result  Away Team Result  \n0                     0                 3                 0  \n1                     0                 1                 1  \n2                     1                 3                 0  \n3                     0                 1                 1  \n4                     0                 3                 0  \n..                  ...               ...               ...  \n375                   0                 1                 1  \n376                   1                 3                 0  \n377                   2                 0                 3  \n378                   0                 3                 0  \n379                   3                 3                 0  \n\n[380 rows x 40 columns]",
      "text/html": "<div>\n<style scoped>\n    .dataframe tbody tr th:only-of-type {\n        vertical-align: middle;\n    }\n\n    .dataframe tbody tr th {\n        vertical-align: top;\n    }\n\n    .dataframe thead th {\n        text-align: right;\n    }\n</style>\n<table border=\"1\" class=\"dataframe\">\n  <thead>\n    <tr style=\"text-align: right;\">\n      <th></th>\n      <th>Home Team</th>\n      <th>Away Team</th>\n      <th>Match Excitement</th>\n      <th>Home Team Rating</th>\n      <th>Away Team Rating</th>\n      <th>Home Team Possession %</th>\n      <th>Away Team Possession %</th>\n      <th>Home Team Off Target Shots</th>\n      <th>Home Team On Target Shots</th>\n      <th>Home Team Total Shots</th>\n      <th>...</th>\n      <th>Away Team Yellow Cards</th>\n      <th>Away Team Second Yellow Cards</th>\n      <th>Away Team Red Cards</th>\n      <th>Home Team Goals Scored</th>\n      <th>Away Team Goals Scored</th>\n      <th>year</th>\n      <th>Home Team Goals ht</th>\n      <th>Away Team Goals ht</th>\n      <th>Home Team Result</th>\n      <th>Away Team Result</th>\n    </tr>\n  </thead>\n  <tbody>\n    <tr>\n      <th>0</th>\n      <td>MÁLAGA</td>\n      <td>ATHLETIC</td>\n      <td>4.4</td>\n      <td>6.0</td>\n      <td>5.7</td>\n      <td>40</td>\n      <td>60</td>\n      <td>5.0</td>\n      <td>3.0</td>\n      <td>12.0</td>\n      <td>...</td>\n      <td>3.0</td>\n      <td>0.0</td>\n      <td>0.0</td>\n      <td>1</td>\n      <td>0</td>\n      <td>2014</td>\n      <td>1</td>\n      <td>0</td>\n      <td>3</td>\n      <td>0</td>\n    </tr>\n    <tr>\n      <th>1</th>\n      <td>SEVILLA FC</td>\n      <td>VALENCIA</td>\n      <td>4.7</td>\n      <td>6.5</td>\n      <td>6.8</td>\n      <td>47</td>\n      <td>53</td>\n      <td>4.0</td>\n      <td>3.0</td>\n      <td>12.0</td>\n      <td>...</td>\n      <td>2.0</td>\n      <td>0.0</td>\n      <td>1.0</td>\n      <td>1</td>\n      <td>1</td>\n      <td>2014</td>\n      <td>1</td>\n      <td>0</td>\n      <td>1</td>\n      <td>1</td>\n    </tr>\n    <tr>\n      <th>2</th>\n      <td>GRANADA</td>\n      <td>DEPORTIVO</td>\n      <td>4.6</td>\n      <td>7.2</td>\n      <td>5.9</td>\n      <td>53</td>\n      <td>47</td>\n      <td>6.0</td>\n      <td>3.0</td>\n      <td>10.0</td>\n      <td>...</td>\n      <td>3.0</td>\n      <td>0.0</td>\n      <td>0.0</td>\n      <td>2</td>\n      <td>1</td>\n      <td>2014</td>\n      <td>0</td>\n      <td>1</td>\n      <td>3</td>\n      <td>0</td>\n    </tr>\n    <tr>\n      <th>3</th>\n      <td>ALMERÍA</td>\n      <td>ESPANYOL</td>\n      <td>5.6</td>\n      <td>6.9</td>\n      <td>5.5</td>\n      <td>56</td>\n      <td>44</td>\n      <td>7.0</td>\n      <td>6.0</td>\n      <td>19.0</td>\n      <td>...</td>\n      <td>3.0</td>\n      <td>1.0</td>\n      <td>0.0</td>\n      <td>1</td>\n      <td>1</td>\n      <td>2014</td>\n      <td>0</td>\n      <td>0</td>\n      <td>1</td>\n      <td>1</td>\n    </tr>\n    <tr>\n      <th>4</th>\n      <td>EIBAR</td>\n      <td>REAL SOCIEDAD</td>\n      <td>3.7</td>\n      <td>6.5</td>\n      <td>5.9</td>\n      <td>41</td>\n      <td>59</td>\n      <td>5.0</td>\n      <td>5.0</td>\n      <td>12.0</td>\n      <td>...</td>\n      <td>1.0</td>\n      <td>0.0</td>\n      <td>0.0</td>\n      <td>1</td>\n      <td>0</td>\n      <td>2014</td>\n      <td>1</td>\n      <td>0</td>\n      <td>3</td>\n      <td>0</td>\n    </tr>\n    <tr>\n      <th>...</th>\n      <td>...</td>\n      <td>...</td>\n      <td>...</td>\n      <td>...</td>\n      <td>...</td>\n      <td>...</td>\n      <td>...</td>\n      <td>...</td>\n      <td>...</td>\n      <td>...</td>\n      <td>...</td>\n      <td>...</td>\n      <td>...</td>\n      <td>...</td>\n      <td>...</td>\n      <td>...</td>\n      <td>...</td>\n      <td>...</td>\n      <td>...</td>\n      <td>...</td>\n      <td>...</td>\n    </tr>\n    <tr>\n      <th>375</th>\n      <td>GRANADA</td>\n      <td>ATLETICO MADRID</td>\n      <td>1.4</td>\n      <td>6.3</td>\n      <td>6.5</td>\n      <td>51</td>\n      <td>49</td>\n      <td>2.0</td>\n      <td>0.0</td>\n      <td>2.0</td>\n      <td>...</td>\n      <td>0.0</td>\n      <td>0.0</td>\n      <td>0.0</td>\n      <td>0</td>\n      <td>0</td>\n      <td>2014</td>\n      <td>0</td>\n      <td>0</td>\n      <td>1</td>\n      <td>1</td>\n    </tr>\n    <tr>\n      <th>376</th>\n      <td>CELTA</td>\n      <td>ESPANYOL</td>\n      <td>7.9</td>\n      <td>6.7</td>\n      <td>6.1</td>\n      <td>51</td>\n      <td>49</td>\n      <td>2.0</td>\n      <td>7.0</td>\n      <td>10.0</td>\n      <td>...</td>\n      <td>1.0</td>\n      <td>0.0</td>\n      <td>0.0</td>\n      <td>3</td>\n      <td>2</td>\n      <td>2014</td>\n      <td>1</td>\n      <td>1</td>\n      <td>3</td>\n      <td>0</td>\n    </tr>\n    <tr>\n      <th>377</th>\n      <td>ALMERÍA</td>\n      <td>VALENCIA</td>\n      <td>7.4</td>\n      <td>5.8</td>\n      <td>6.4</td>\n      <td>52</td>\n      <td>48</td>\n      <td>5.0</td>\n      <td>3.0</td>\n      <td>9.0</td>\n      <td>...</td>\n      <td>5.0</td>\n      <td>1.0</td>\n      <td>0.0</td>\n      <td>2</td>\n      <td>3</td>\n      <td>2014</td>\n      <td>2</td>\n      <td>2</td>\n      <td>0</td>\n      <td>3</td>\n    </tr>\n    <tr>\n      <th>378</th>\n      <td>EIBAR</td>\n      <td>CÓRDOBA</td>\n      <td>5.0</td>\n      <td>7.2</td>\n      <td>5.8</td>\n      <td>40</td>\n      <td>60</td>\n      <td>4.0</td>\n      <td>6.0</td>\n      <td>12.0</td>\n      <td>...</td>\n      <td>0.0</td>\n      <td>0.0</td>\n      <td>0.0</td>\n      <td>3</td>\n      <td>0</td>\n      <td>2014</td>\n      <td>3</td>\n      <td>0</td>\n      <td>3</td>\n      <td>0</td>\n    </tr>\n    <tr>\n      <th>379</th>\n      <td>REAL MADRID</td>\n      <td>GETAFE</td>\n      <td>9.7</td>\n      <td>8.4</td>\n      <td>4.2</td>\n      <td>54</td>\n      <td>46</td>\n      <td>5.0</td>\n      <td>11.0</td>\n      <td>18.0</td>\n      <td>...</td>\n      <td>3.0</td>\n      <td>0.0</td>\n      <td>0.0</td>\n      <td>7</td>\n      <td>3</td>\n      <td>2014</td>\n      <td>3</td>\n      <td>3</td>\n      <td>3</td>\n      <td>0</td>\n    </tr>\n  </tbody>\n</table>\n<p>380 rows × 40 columns</p>\n</div>"
     },
     "execution_count": 115,
     "metadata": {},
     "output_type": "execute_result"
    }
   ],
   "source": [
    "la_liga_2014_only"
   ],
   "metadata": {
    "collapsed": false,
    "pycharm": {
     "name": "#%%\n"
    }
   }
  },
  {
   "cell_type": "code",
   "execution_count": 116,
   "outputs": [],
   "source": [
    "y_home = [la_liga_2014_only[\"Home Team Rating\"]]\n",
    "y_away = [la_liga_2014_only[\"Away Team Rating\"]]\n",
    "x = [la_liga_2014_only[\"Match Excitement\"]]"
   ],
   "metadata": {
    "collapsed": false,
    "pycharm": {
     "name": "#%%\n"
    }
   }
  },
  {
   "cell_type": "code",
   "execution_count": 117,
   "outputs": [
    {
     "data": {
      "text/plain": "<Figure size 432x288 with 1 Axes>",
      "image/png": "[encoded data removed]"
     },
     "metadata": {
      "needs_background": "light"
     },
     "output_type": "display_data"
    }
   ],
   "source": [
    "plt.scatter(x,y_home, marker=\"o\", label=\"Home Team\", c=\"red\")\n",
    "plt.scatter(x,y_away, marker=\"^\", label=\"Away Team\", c=\"red\")\n",
    "plt.xlabel(\"Match Excitement\")\n",
    "plt.ylabel(\"Team Rating\")\n",
    "plt.title(\"Are Team ratings better when the match excitement is higher?\")\n",
    "plt.legend()\n",
    "plt.show()"
   ],
   "metadata": {
    "collapsed": false,
    "pycharm": {
     "name": "#%%\n"
    }
   }
  },
  {
   "cell_type": "code",
   "execution_count": 118,
   "outputs": [
    {
     "data": {
      "text/plain": "<Figure size 432x288 with 1 Axes>",
      "image/png": "[encoded data removed]"
     },
     "metadata": {
      "needs_background": "light"
     },
     "output_type": "display_data"
    }
   ],
   "source": [
    "plt.scatter(x,y_home, alpha=0.2, marker=\"o\", label=\"Home Team\", c=\"red\")\n",
    "plt.scatter(x,y_away, alpha=0.2, marker=\"^\", label=\"Away Team\", c=\"red\")\n",
    "plt.xlabel(\"Match Excitement\")\n",
    "plt.ylabel(\"Team Rating\")\n",
    "plt.title(\"Are Team ratings better when the match excitement is higher?\")\n",
    "plt.legend()\n",
    "plt.show()"
   ],
   "metadata": {
    "collapsed": false,
    "pycharm": {
     "name": "#%%\n"
    }
   }
  },
  {
   "cell_type": "code",
   "execution_count": 119,
   "outputs": [
    {
     "data": {
      "text/plain": "<Figure size 432x288 with 2 Axes>",
      "image/png": "[encoded data removed]"
     },
     "metadata": {
      "needs_background": "light"
     },
     "output_type": "display_data"
    }
   ],
   "source": [
    "plt.subplot(1,2,1)\n",
    "plt.scatter(x,y_home, marker=\"s\", alpha=0.2, label=\"Home Team\", c=\"blue\")\n",
    "plt.ylabel(\"Team Rating\")\n",
    "plt.title(\"Are Team ratings better when the match excitement is higher?\", x=1.05, y=1.1)\n",
    "plt.xlim(0,10)\n",
    "plt.ylim(0,10)\n",
    "\n",
    "\n",
    "plt.subplot(1,2,2)\n",
    "plt.scatter(x,y_away, marker=\"s\", alpha=0.2, label=\"Away Team\", c=\"red\")\n",
    "plt.xlabel(\"Match Excitement\", x=-0.1)\n",
    "plt.xlim(0,10)\n",
    "plt.ylim(0,10)\n",
    "\n",
    "plt.show()"
   ],
   "metadata": {
    "collapsed": false,
    "pycharm": {
     "name": "#%%\n"
    }
   }
  },
  {
   "cell_type": "code",
   "execution_count": 119,
   "outputs": [],
   "source": [
    "\n"
   ],
   "metadata": {
    "collapsed": false,
    "pycharm": {
     "name": "#%%\n"
    }
   }
  },
  {
   "cell_type": "code",
   "execution_count": 120,
   "outputs": [
    {
     "name": "stdout",
     "output_type": "stream",
     "text": [
      "[44.0, 47.0, 46.0, 56.0, 37.0, 51.0, 70.0, 47.0, 47.0, 21.0, 32.0, 53.0, 47.0, 42.0, 54.0, 57.0, 52.0, 70.0, 90.0, 50.0, 45.0, 43.0, 31.0, 55.0, 84.0, 74.0, 63.0, 43.0, 26.0, 28.0, 42.0, 89.0, 31.0, 75.0, 84.0, 83.0, 85.0, 62.0, 59.0, 51.0, 75.0, 51.0, 37.0, 45.0, 56.0, 22.0, 41.0, 30.0, 38.0, 45.0, 39.0, 46.0, 70.0, 53.0, 44.0, 20.0, 28.0, 39.0, 44.0, 21.0, 58.0, 64.0, 53.0, 85.0, 62.0, 70.0, 69.0, 65.0, 45.0, 72.0, 33.0, 65.0, 38.0, 60.0, 52.0, 46.0, 51.0, 40.0, 45.0, 72.0, 51.0, 28.0, 74.0, 58.0, 45.0, 38.0, 53.0, 26.0, 64.0, 39.0, 53.0, 65.0, 80.0, 54.0, 31.0, 26.0, 62.0, 58.0, 74.0, 78.0, 26.0, 61.0, 28.0, 76.0, 63.0, 24.0, 52.0, 47.0, 15.0, 54.0, 58.0, 56.0, 59.0, 57.0, 32.0, 38.0, 57.0, 74.0, 55.0, 35.0, 52.0, 63.0, 53.0, 79.0, 46.0, 38.0, 68.0, 40.0, 41.0, 33.0, 32.0, 36.0, 59.0, 36.0, 35.0, 59.0, 70.0, 46.0, 76.0, 40.0, 68.0, 26.0, 54.0, 28.0, 41.0, 65.0, 23.0, 35.0, 49.0, 34.0, 36.0, 65.0, 42.0, 28.0, 61.0, 53.0, 43.0, 56.0, 47.0, 64.0, 64.0, 41.0, 81.0, 31.0, 52.0, 66.0, 67.0, 63.0, 34.0, 36.0, 24.0, 60.0, 46.0, 40.0, 53.0, 45.0, 53.0, 48.0, 65.0, 37.0, 49.0, 36.0, 80.0, 57.0, 35.0, 61.0, 40.0, 54.0, 37.0, 37.0, 64.0, 66.0, 58.0, 37.0, 32.0, 75.0, 47.0, 53.0, 63.0, 59.0, 57.0, 70.0, 58.0, 30.0, 37.0, 49.0, 52.0, 88.0, 77.0, 44.0, 38.0, 57.0, 47.0, 53.0, 42.0, 53.0, 59.0, 61.0, 91.0, 45.0, 68.0, 55.0, 57.0, 30.0, 47.0, 34.0, 55.0, 45.0, 45.0, 35.0, 61.0, 36.0, 55.0, 45.0, 47.0, 100.0, 36.0, 36.0, 40.0, 67.0, 34.0, 62.0, 81.0, 40.0, 79.0, 39.0, 34.0, 27.0, 58.0, 45.0, 57.0, 96.0, 37.0, 32.0, 31.0, 78.0, 33.0, 62.0, 44.0, 64.0, 41.0, 28.0, 43.0, 70.0, 63.0, 35.0, 44.0, 52.0, 52.0, 38.0, 49.0, 45.0, 28.0, 43.0, 60.0, 23.0, 24.0, 50.0, 73.0, 66.0, 60.0, 43.0, 37.0, 58.0, 51.0, 84.0, 20.0, 48.0, 31.0, 38.0, 44.0, 67.0, 33.0, 65.0, 52.0, 53.0, 47.0, 50.0, 39.0, 47.0, 68.0, 71.0, 78.0, 65.0, 63.0, 42.0, 24.0, 76.0, 39.0, 54.0, 76.0, 57.0, 56.0, 61.0, 60.0, 45.0, 45.0, 46.0, 39.0, 28.0, 39.0, 50.0, 56.0, 30.0, 31.0, 49.0, 43.0, 49.0, 87.0, 54.0, 66.0, 29.0, 46.0, 51.0, 38.0, 57.0, 58.0, 32.0, 51.0, 55.0, 49.0, 70.0, 22.0, 80.0, 38.0, 50.0, 61.0, 62.0, 71.0, 76.0, 44.0, 49.0, 46.0, 98.0, 48.0, 76.0, 41.0, 54.0, 42.0, 48.0, 52.0, 39.0, 59.0, 41.0, 55.0, 67.0, 38.0, 83.0, 63.0, 64.0, 30.0, 78.0, 84.0, 56.0, 79.0, 14.0, 79.0, 74.0, 50.0, 97.0]\n",
      "[60.0, 65.0, 72.0, 69.0, 65.0, 80.0, 73.0, 56.0, 69.0, 69.0, 62.0, 69.0, 76.0, 73.0, 68.0, 57.0, 55.0, 65.0, 76.0, 63.0, 63.0, 77.0, 74.0, 58.0, 66.0, 57.0, 73.0, 74.0, 66.0, 54.0, 57.0, 40.0, 65.0, 66.0, 64.0, 52.0, 77.0, 45.0, 40.0, 50.0, 80.0, 69.0, 49.0, 60.0, 71.0, 69.0, 75.0, 52.0, 73.0, 75.0, 56.0, 60.0, 100.0, 83.0, 41.0, 59.0, 69.0, 56.0, 66.0, 72.0, 59.0, 71.0, 47.0, 61.0, 69.0, 65.0, 75.0, 50.0, 68.0, 88.0, 52.0, 37.0, 69.0, 87.0, 56.0, 81.0, 85.0, 46.0, 70.0, 58.0, 81.0, 60.0, 74.0, 74.0, 73.0, 59.0, 81.0, 66.0, 67.0, 54.0, 60.0, 48.0, 70.0, 65.0, 54.0, 67.0, 53.0, 64.0, 63.0, 56.0, 66.0, 53.0, 61.0, 78.0, 74.0, 70.0, 68.0, 63.0, 68.0, 70.0, 74.0, 69.0, 41.0, 91.0, 66.0, 63.0, 63.0, 57.0, 68.0, 68.0, 72.0, 58.0, 62.0, 56.0, 62.0, 73.0, 80.0, 55.0, 63.0, 58.0, 53.0, 50.0, 84.0, 59.0, 57.0, 88.0, 87.0, 67.0, 72.0, 63.0, 45.0, 65.0, 68.0, 68.0, 67.0, 63.0, 62.0, 57.0, 65.0, 64.0, 55.0, 87.0, 60.0, 53.0, 52.0, 72.0, 63.0, 50.0, 47.0, 67.0, 74.0, 70.0, 66.0, 73.0, 55.0, 50.0, 62.0, 58.0, 65.0, 78.0, 53.0, 75.0, 70.0, 65.0, 64.0, 57.0, 54.0, 59.0, 70.0, 55.0, 63.0, 55.0, 69.0, 68.0, 68.0, 51.0, 76.0, 48.0, 69.0, 66.0, 57.0, 33.0, 67.0, 66.0, 68.0, 72.0, 60.0, 81.0, 69.0, 67.0, 58.0, 82.0, 48.0, 69.0, 64.0, 56.0, 70.0, 66.0, 69.0, 71.0, 76.0, 87.0, 73.0, 76.0, 62.0, 63.0, 73.0, 53.0, 44.0, 67.0, 65.0, 67.0, 71.0, 64.0, 57.0, 70.0, 93.0, 77.0, 72.0, 52.0, 61.0, 58.0, 61.0, 77.0, 56.0, 65.0, 67.0, 70.0, 54.0, 61.0, 57.0, 49.0, 78.0, 47.0, 68.0, 73.0, 52.0, 64.0, 68.0, 59.0, 66.0, 56.0, 74.0, 65.0, 67.0, 82.0, 63.0, 81.0, 66.0, 54.0, 73.0, 57.0, 58.0, 75.0, 57.0, 59.0, 77.0, 75.0, 78.0, 60.0, 46.0, 73.0, 66.0, 58.0, 68.0, 67.0, 66.0, 56.0, 61.0, 71.0, 45.0, 72.0, 56.0, 47.0, 70.0, 93.0, 72.0, 67.0, 57.0, 58.0, 73.0, 57.0, 63.0, 86.0, 58.0, 59.0, 59.0, 61.0, 57.0, 57.0, 86.0, 66.0, 61.0, 83.0, 80.0, 62.0, 66.0, 55.0, 57.0, 75.0, 63.0, 69.0, 54.0, 67.0, 88.0, 76.0, 59.0, 63.0, 56.0, 70.0, 60.0, 52.0, 78.0, 58.0, 61.0, 60.0, 69.0, 72.0, 53.0, 84.0, 96.0, 62.0, 60.0, 75.0, 69.0, 48.0, 80.0, 61.0, 63.0, 57.0, 79.0, 28.0, 63.0, 56.0, 68.0, 56.0, 55.0, 76.0, 61.0, 65.0, 55.0, 72.0, 79.0, 64.0, 61.0, 65.0, 70.0, 53.0, 65.0, 71.0, 70.0, 57.0, 63.0, 68.0, 52.0, 49.0, 75.0, 56.0, 65.0, 54.0, 51.0, 63.0, 60.0, 82.0, 52.0, 63.0, 67.0, 58.0, 72.0, 84.0]\n"
     ]
    }
   ],
   "source": [
    "x_sns = []\n",
    "y_sns = []\n",
    "for i in range(len(x)):\n",
    "    x_sns = x[i] * 10\n",
    "    y_sns = y_home[i] * 10\n",
    "x_sns = list(x_sns)\n",
    "y_sns = list(y_sns)\n",
    "print(x_sns)\n",
    "print(y_sns)"
   ],
   "metadata": {
    "collapsed": false,
    "pycharm": {
     "name": "#%%\n"
    }
   }
  },
  {
   "cell_type": "code",
   "execution_count": 121,
   "outputs": [
    {
     "name": "stderr",
     "output_type": "stream",
     "text": [
      "/Users/janisfrolich/opt/anaconda3/lib/python3.9/site-packages/seaborn/_decorators.py:36: FutureWarning: Pass the following variable as a keyword arg: vmin. From version 0.12, the only valid positional argument will be `data`, and passing other arguments without an explicit keyword will result in an error or misinterpretation.\n",
      "  warnings.warn(\n"
     ]
    },
    {
     "ename": "IndexError",
     "evalue": "Inconsistent shape between the condition and the input (got (380, 1) and (380,))",
     "output_type": "error",
     "traceback": [
      "\u001B[0;31m---------------------------------------------------------------------------\u001B[0m",
      "\u001B[0;31mIndexError\u001B[0m                                Traceback (most recent call last)",
      "\u001B[0;32m/var/folders/f0/pqy2clvx0nv38xm_npv8fklm0000gn/T/ipykernel_3415/3519692945.py\u001B[0m in \u001B[0;36m<module>\u001B[0;34m\u001B[0m\n\u001B[0;32m----> 1\u001B[0;31m \u001B[0msns\u001B[0m\u001B[0;34m.\u001B[0m\u001B[0mheatmap\u001B[0m\u001B[0;34m(\u001B[0m\u001B[0mx_sns\u001B[0m\u001B[0;34m,\u001B[0m \u001B[0my_sns\u001B[0m\u001B[0;34m,\u001B[0m \u001B[0mcmap\u001B[0m\u001B[0;34m=\u001B[0m\u001B[0;34m\"plasma\"\u001B[0m\u001B[0;34m)\u001B[0m\u001B[0;34m\u001B[0m\u001B[0;34m\u001B[0m\u001B[0m\n\u001B[0m",
      "\u001B[0;32m~/opt/anaconda3/lib/python3.9/site-packages/seaborn/_decorators.py\u001B[0m in \u001B[0;36minner_f\u001B[0;34m(*args, **kwargs)\u001B[0m\n\u001B[1;32m     44\u001B[0m             )\n\u001B[1;32m     45\u001B[0m         \u001B[0mkwargs\u001B[0m\u001B[0;34m.\u001B[0m\u001B[0mupdate\u001B[0m\u001B[0;34m(\u001B[0m\u001B[0;34m{\u001B[0m\u001B[0mk\u001B[0m\u001B[0;34m:\u001B[0m \u001B[0marg\u001B[0m \u001B[0;32mfor\u001B[0m \u001B[0mk\u001B[0m\u001B[0;34m,\u001B[0m \u001B[0marg\u001B[0m \u001B[0;32min\u001B[0m \u001B[0mzip\u001B[0m\u001B[0;34m(\u001B[0m\u001B[0msig\u001B[0m\u001B[0;34m.\u001B[0m\u001B[0mparameters\u001B[0m\u001B[0;34m,\u001B[0m \u001B[0margs\u001B[0m\u001B[0;34m)\u001B[0m\u001B[0;34m}\u001B[0m\u001B[0;34m)\u001B[0m\u001B[0;34m\u001B[0m\u001B[0;34m\u001B[0m\u001B[0m\n\u001B[0;32m---> 46\u001B[0;31m         \u001B[0;32mreturn\u001B[0m \u001B[0mf\u001B[0m\u001B[0;34m(\u001B[0m\u001B[0;34m**\u001B[0m\u001B[0mkwargs\u001B[0m\u001B[0;34m)\u001B[0m\u001B[0;34m\u001B[0m\u001B[0;34m\u001B[0m\u001B[0m\n\u001B[0m\u001B[1;32m     47\u001B[0m     \u001B[0;32mreturn\u001B[0m \u001B[0minner_f\u001B[0m\u001B[0;34m\u001B[0m\u001B[0;34m\u001B[0m\u001B[0m\n\u001B[1;32m     48\u001B[0m \u001B[0;34m\u001B[0m\u001B[0m\n",
      "\u001B[0;32m~/opt/anaconda3/lib/python3.9/site-packages/seaborn/matrix.py\u001B[0m in \u001B[0;36mheatmap\u001B[0;34m(data, vmin, vmax, cmap, center, robust, annot, fmt, annot_kws, linewidths, linecolor, cbar, cbar_kws, cbar_ax, square, xticklabels, yticklabels, mask, ax, **kwargs)\u001B[0m\n\u001B[1;32m    538\u001B[0m     \"\"\"\n\u001B[1;32m    539\u001B[0m     \u001B[0;31m# Initialize the plotter object\u001B[0m\u001B[0;34m\u001B[0m\u001B[0;34m\u001B[0m\u001B[0m\n\u001B[0;32m--> 540\u001B[0;31m     plotter = _HeatMapper(data, vmin, vmax, cmap, center, robust, annot, fmt,\n\u001B[0m\u001B[1;32m    541\u001B[0m                           \u001B[0mannot_kws\u001B[0m\u001B[0;34m,\u001B[0m \u001B[0mcbar\u001B[0m\u001B[0;34m,\u001B[0m \u001B[0mcbar_kws\u001B[0m\u001B[0;34m,\u001B[0m \u001B[0mxticklabels\u001B[0m\u001B[0;34m,\u001B[0m\u001B[0;34m\u001B[0m\u001B[0;34m\u001B[0m\u001B[0m\n\u001B[1;32m    542\u001B[0m                           yticklabels, mask)\n",
      "\u001B[0;32m~/opt/anaconda3/lib/python3.9/site-packages/seaborn/matrix.py\u001B[0m in \u001B[0;36m__init__\u001B[0;34m(self, data, vmin, vmax, cmap, center, robust, annot, fmt, annot_kws, cbar, cbar_kws, xticklabels, yticklabels, mask)\u001B[0m\n\u001B[1;32m    109\u001B[0m         \u001B[0mmask\u001B[0m \u001B[0;34m=\u001B[0m \u001B[0m_matrix_mask\u001B[0m\u001B[0;34m(\u001B[0m\u001B[0mdata\u001B[0m\u001B[0;34m,\u001B[0m \u001B[0mmask\u001B[0m\u001B[0;34m)\u001B[0m\u001B[0;34m\u001B[0m\u001B[0;34m\u001B[0m\u001B[0m\n\u001B[1;32m    110\u001B[0m \u001B[0;34m\u001B[0m\u001B[0m\n\u001B[0;32m--> 111\u001B[0;31m         \u001B[0mplot_data\u001B[0m \u001B[0;34m=\u001B[0m \u001B[0mnp\u001B[0m\u001B[0;34m.\u001B[0m\u001B[0mma\u001B[0m\u001B[0;34m.\u001B[0m\u001B[0mmasked_where\u001B[0m\u001B[0;34m(\u001B[0m\u001B[0mnp\u001B[0m\u001B[0;34m.\u001B[0m\u001B[0masarray\u001B[0m\u001B[0;34m(\u001B[0m\u001B[0mmask\u001B[0m\u001B[0;34m)\u001B[0m\u001B[0;34m,\u001B[0m \u001B[0mplot_data\u001B[0m\u001B[0;34m)\u001B[0m\u001B[0;34m\u001B[0m\u001B[0;34m\u001B[0m\u001B[0m\n\u001B[0m\u001B[1;32m    112\u001B[0m \u001B[0;34m\u001B[0m\u001B[0m\n\u001B[1;32m    113\u001B[0m         \u001B[0;31m# Get good names for the rows and columns\u001B[0m\u001B[0;34m\u001B[0m\u001B[0;34m\u001B[0m\u001B[0m\n",
      "\u001B[0;32m~/opt/anaconda3/lib/python3.9/site-packages/numpy/ma/core.py\u001B[0m in \u001B[0;36mmasked_where\u001B[0;34m(condition, a, copy)\u001B[0m\n\u001B[1;32m   1927\u001B[0m     \u001B[0;34m(\u001B[0m\u001B[0mcshape\u001B[0m\u001B[0;34m,\u001B[0m \u001B[0mashape\u001B[0m\u001B[0;34m)\u001B[0m \u001B[0;34m=\u001B[0m \u001B[0;34m(\u001B[0m\u001B[0mcond\u001B[0m\u001B[0;34m.\u001B[0m\u001B[0mshape\u001B[0m\u001B[0;34m,\u001B[0m \u001B[0ma\u001B[0m\u001B[0;34m.\u001B[0m\u001B[0mshape\u001B[0m\u001B[0;34m)\u001B[0m\u001B[0;34m\u001B[0m\u001B[0;34m\u001B[0m\u001B[0m\n\u001B[1;32m   1928\u001B[0m     \u001B[0;32mif\u001B[0m \u001B[0mcshape\u001B[0m \u001B[0;32mand\u001B[0m \u001B[0mcshape\u001B[0m \u001B[0;34m!=\u001B[0m \u001B[0mashape\u001B[0m\u001B[0;34m:\u001B[0m\u001B[0;34m\u001B[0m\u001B[0;34m\u001B[0m\u001B[0m\n\u001B[0;32m-> 1929\u001B[0;31m         raise IndexError(\"Inconsistent shape between the condition and the input\"\n\u001B[0m\u001B[1;32m   1930\u001B[0m                          \" (got %s and %s)\" % (cshape, ashape))\n\u001B[1;32m   1931\u001B[0m     \u001B[0;32mif\u001B[0m \u001B[0mhasattr\u001B[0m\u001B[0;34m(\u001B[0m\u001B[0ma\u001B[0m\u001B[0;34m,\u001B[0m \u001B[0;34m'_mask'\u001B[0m\u001B[0;34m)\u001B[0m\u001B[0;34m:\u001B[0m\u001B[0;34m\u001B[0m\u001B[0;34m\u001B[0m\u001B[0m\n",
      "\u001B[0;31mIndexError\u001B[0m: Inconsistent shape between the condition and the input (got (380, 1) and (380,))"
     ]
    }
   ],
   "source": [
    "sns.heatmap(x_sns, y_sns, cmap=\"plasma\")"
   ],
   "metadata": {
    "collapsed": false,
    "pycharm": {
     "name": "#%%\n"
    }
   }
  },
  {
   "cell_type": "code",
   "execution_count": null,
   "outputs": [],
   "source": [],
   "metadata": {
    "collapsed": false,
    "pycharm": {
     "name": "#%%\n"
    }
   }
  }
 ],
 "metadata": {
  "kernelspec": {
   "display_name": "Python 3",
   "language": "python",
   "name": "python3"
  },
  "language_info": {
   "codemirror_mode": {
    "name": "ipython",
    "version": 2
   },
   "file_extension": ".py",
   "mimetype": "text/x-python",
   "name": "python",
   "nbconvert_exporter": "python",
   "pygments_lexer": "ipython2",
   "version": "2.7.6"
  }
 },
 "nbformat": 4,
 "nbformat_minor": 0
}